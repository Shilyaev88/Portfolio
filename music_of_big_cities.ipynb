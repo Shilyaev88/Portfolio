{
 "cells": [
  {
   "cell_type": "markdown",
   "metadata": {
    "deletable": false,
    "editable": false,
    "id": "E0vqbgi9ay0H"
   },
   "source": [
    "# Яндекс Музыка"
   ]
  },
  {
   "cell_type": "markdown",
   "metadata": {
    "deletable": false,
    "editable": false,
    "id": "VUC88oWjTJw2"
   },
   "source": [
    "Сравнение Москвы и Петербурга окружено мифами. Например:\n",
    " * Москва — мегаполис, подчинённый жёсткому ритму рабочей недели;\n",
    " * Петербург — культурная столица, со своими вкусами.\n",
    "\n",
    "На данных Яндекс Музыки вы сравните поведение пользователей двух столиц.\n",
    "\n",
    "**Цель исследования** — проверьте три гипотезы:\n",
    "1. Активность пользователей зависит от дня недели. Причём в Москве и Петербурге это проявляется по-разному.\n",
    "2. В понедельник утром в Москве преобладают одни жанры, а в Петербурге — другие. Так же и вечером пятницы преобладают разные жанры — в зависимости от города. \n",
    "3. Москва и Петербург предпочитают разные жанры музыки. В Москве чаще слушают поп-музыку, в Петербурге — русский рэп.\n",
    "\n",
    "**Ход исследования**\n",
    "\n",
    "Данные о поведении пользователей вы получите из файла `yandex_music_project.csv`. О качестве данных ничего не известно. Поэтому перед проверкой гипотез понадобится обзор данных. \n",
    "\n",
    "Вы проверите данные на ошибки и оцените их влияние на исследование. Затем, на этапе предобработки вы поищете возможность исправить самые критичные ошибки данных.\n",
    " \n",
    "Таким образом, исследование пройдёт в три этапа:\n",
    " 1. Обзор данных.\n",
    " 2. Предобработка данных.\n",
    " 3. Проверка гипотез.\n",
    "\n"
   ]
  },
  {
   "cell_type": "markdown",
   "metadata": {
    "deletable": false,
    "editable": false,
    "id": "Ml1hmfXC_Zcs"
   },
   "source": [
    "## Обзор данных\n",
    "\n",
    "Составьте первое представление о данных Яндекс Музыки.\n",
    "\n",
    "\n"
   ]
  },
  {
   "cell_type": "markdown",
   "metadata": {
    "deletable": false,
    "editable": false,
    "id": "57eAOGIz_Zcs",
    "tags": [
     "start_task"
    ]
   },
   "source": [
    "**Задание 1**\n",
    "\n",
    "Основной инструмент аналитика — `pandas`. Импортируйте эту библиотеку."
   ]
  },
  {
   "cell_type": "code",
   "execution_count": 1,
   "metadata": {
    "deletable": false,
    "id": "AXN7PHPN_Zcs"
   },
   "outputs": [],
   "source": [
    "import pandas as pd # импорт библиотеки pandas"
   ]
  },
  {
   "cell_type": "markdown",
   "metadata": {
    "deletable": false,
    "editable": false,
    "id": "SG23P8tt_Zcs",
    "tags": [
     "start_task"
    ]
   },
   "source": [
    "**Задание 2**\n",
    "\n",
    "Прочитайте файл `yandex_music_project.csv` из папки `/datasets` и сохраните его в переменной `df`:"
   ]
  },
  {
   "cell_type": "code",
   "execution_count": 2,
   "metadata": {
    "deletable": false,
    "id": "fFVu7vqh_Zct"
   },
   "outputs": [],
   "source": []
  },
  {
   "cell_type": "markdown",
   "metadata": {
    "deletable": false,
    "editable": false,
    "id": "rDoOMd3uTqnZ",
    "tags": [
     "start_task"
    ]
   },
   "source": [
    "**Задание 3**\n",
    "\n",
    "\n",
    "Выведите на экран первые десять строк таблицы:"
   ]
  },
  {
   "cell_type": "code",
   "execution_count": 3,
   "metadata": {
    "deletable": false,
    "id": "oWTVX3gW_Zct"
   },
   "outputs": [
    {
     "data": {
      "text/html": [
       "<div>\n",
       "<style scoped>\n",
       "    .dataframe tbody tr th:only-of-type {\n",
       "        vertical-align: middle;\n",
       "    }\n",
       "\n",
       "    .dataframe tbody tr th {\n",
       "        vertical-align: top;\n",
       "    }\n",
       "\n",
       "    .dataframe thead th {\n",
       "        text-align: right;\n",
       "    }\n",
       "</style>\n",
       "<table border=\"1\" class=\"dataframe\">\n",
       "  <thead>\n",
       "    <tr style=\"text-align: right;\">\n",
       "      <th></th>\n",
       "      <th>userID</th>\n",
       "      <th>Track</th>\n",
       "      <th>artist</th>\n",
       "      <th>genre</th>\n",
       "      <th>City</th>\n",
       "      <th>time</th>\n",
       "      <th>Day</th>\n",
       "    </tr>\n",
       "  </thead>\n",
       "  <tbody>\n",
       "    <tr>\n",
       "      <th>0</th>\n",
       "      <td>FFB692EC</td>\n",
       "      <td>Kamigata To Boots</td>\n",
       "      <td>The Mass Missile</td>\n",
       "      <td>rock</td>\n",
       "      <td>Saint-Petersburg</td>\n",
       "      <td>20:28:33</td>\n",
       "      <td>Wednesday</td>\n",
       "    </tr>\n",
       "    <tr>\n",
       "      <th>1</th>\n",
       "      <td>55204538</td>\n",
       "      <td>Delayed Because of Accident</td>\n",
       "      <td>Andreas Rönnberg</td>\n",
       "      <td>rock</td>\n",
       "      <td>Moscow</td>\n",
       "      <td>14:07:09</td>\n",
       "      <td>Friday</td>\n",
       "    </tr>\n",
       "    <tr>\n",
       "      <th>2</th>\n",
       "      <td>20EC38</td>\n",
       "      <td>Funiculì funiculà</td>\n",
       "      <td>Mario Lanza</td>\n",
       "      <td>pop</td>\n",
       "      <td>Saint-Petersburg</td>\n",
       "      <td>20:58:07</td>\n",
       "      <td>Wednesday</td>\n",
       "    </tr>\n",
       "    <tr>\n",
       "      <th>3</th>\n",
       "      <td>A3DD03C9</td>\n",
       "      <td>Dragons in the Sunset</td>\n",
       "      <td>Fire + Ice</td>\n",
       "      <td>folk</td>\n",
       "      <td>Saint-Petersburg</td>\n",
       "      <td>08:37:09</td>\n",
       "      <td>Monday</td>\n",
       "    </tr>\n",
       "    <tr>\n",
       "      <th>4</th>\n",
       "      <td>E2DC1FAE</td>\n",
       "      <td>Soul People</td>\n",
       "      <td>Space Echo</td>\n",
       "      <td>dance</td>\n",
       "      <td>Moscow</td>\n",
       "      <td>08:34:34</td>\n",
       "      <td>Monday</td>\n",
       "    </tr>\n",
       "    <tr>\n",
       "      <th>5</th>\n",
       "      <td>842029A1</td>\n",
       "      <td>Преданная</td>\n",
       "      <td>IMPERVTOR</td>\n",
       "      <td>rusrap</td>\n",
       "      <td>Saint-Petersburg</td>\n",
       "      <td>13:09:41</td>\n",
       "      <td>Friday</td>\n",
       "    </tr>\n",
       "    <tr>\n",
       "      <th>6</th>\n",
       "      <td>4CB90AA5</td>\n",
       "      <td>True</td>\n",
       "      <td>Roman Messer</td>\n",
       "      <td>dance</td>\n",
       "      <td>Moscow</td>\n",
       "      <td>13:00:07</td>\n",
       "      <td>Wednesday</td>\n",
       "    </tr>\n",
       "    <tr>\n",
       "      <th>7</th>\n",
       "      <td>F03E1C1F</td>\n",
       "      <td>Feeling This Way</td>\n",
       "      <td>Polina Griffith</td>\n",
       "      <td>dance</td>\n",
       "      <td>Moscow</td>\n",
       "      <td>20:47:49</td>\n",
       "      <td>Wednesday</td>\n",
       "    </tr>\n",
       "    <tr>\n",
       "      <th>8</th>\n",
       "      <td>8FA1D3BE</td>\n",
       "      <td>И вновь продолжается бой</td>\n",
       "      <td>NaN</td>\n",
       "      <td>ruspop</td>\n",
       "      <td>Moscow</td>\n",
       "      <td>09:17:40</td>\n",
       "      <td>Friday</td>\n",
       "    </tr>\n",
       "    <tr>\n",
       "      <th>9</th>\n",
       "      <td>E772D5C0</td>\n",
       "      <td>Pessimist</td>\n",
       "      <td>NaN</td>\n",
       "      <td>dance</td>\n",
       "      <td>Saint-Petersburg</td>\n",
       "      <td>21:20:49</td>\n",
       "      <td>Wednesday</td>\n",
       "    </tr>\n",
       "  </tbody>\n",
       "</table>\n",
       "</div>"
      ],
      "text/plain": [
       "     userID                        Track            artist   genre  \\\n",
       "0  FFB692EC            Kamigata To Boots  The Mass Missile    rock   \n",
       "1  55204538  Delayed Because of Accident  Andreas Rönnberg    rock   \n",
       "2    20EC38            Funiculì funiculà       Mario Lanza     pop   \n",
       "3  A3DD03C9        Dragons in the Sunset        Fire + Ice    folk   \n",
       "4  E2DC1FAE                  Soul People        Space Echo   dance   \n",
       "5  842029A1                    Преданная         IMPERVTOR  rusrap   \n",
       "6  4CB90AA5                         True      Roman Messer   dance   \n",
       "7  F03E1C1F             Feeling This Way   Polina Griffith   dance   \n",
       "8  8FA1D3BE     И вновь продолжается бой               NaN  ruspop   \n",
       "9  E772D5C0                    Pessimist               NaN   dance   \n",
       "\n",
       "             City        time        Day  \n",
       "0  Saint-Petersburg  20:28:33  Wednesday  \n",
       "1            Moscow  14:07:09     Friday  \n",
       "2  Saint-Petersburg  20:58:07  Wednesday  \n",
       "3  Saint-Petersburg  08:37:09     Monday  \n",
       "4            Moscow  08:34:34     Monday  \n",
       "5  Saint-Petersburg  13:09:41     Friday  \n",
       "6            Moscow  13:00:07  Wednesday  \n",
       "7            Moscow  20:47:49  Wednesday  \n",
       "8            Moscow  09:17:40     Friday  \n",
       "9  Saint-Petersburg  21:20:49  Wednesday  "
      ]
     },
     "execution_count": 3,
     "metadata": {},
     "output_type": "execute_result"
    }
   ],
   "source": [
    "df.head(10)# получение первых 10 строк таблицы df"
   ]
  },
  {
   "cell_type": "markdown",
   "metadata": {
    "deletable": false,
    "editable": false,
    "id": "EO73Kwic_Zct",
    "tags": [
     "start_task"
    ]
   },
   "source": [
    "**Задание 4**\n",
    "\n",
    "\n",
    "Одной командой получить общую информацию о таблице c помощью метода `info()`:"
   ]
  },
  {
   "cell_type": "code",
   "execution_count": 4,
   "metadata": {
    "deletable": false,
    "id": "DSf2kIb-_Zct"
   },
   "outputs": [
    {
     "name": "stdout",
     "output_type": "stream",
     "text": [
      "<class 'pandas.core.frame.DataFrame'>\n",
      "RangeIndex: 65079 entries, 0 to 65078\n",
      "Data columns (total 7 columns):\n",
      " #   Column    Non-Null Count  Dtype \n",
      "---  ------    --------------  ----- \n",
      " 0     userID  65079 non-null  object\n",
      " 1   Track     63848 non-null  object\n",
      " 2   artist    57876 non-null  object\n",
      " 3   genre     63881 non-null  object\n",
      " 4     City    65079 non-null  object\n",
      " 5   time      65079 non-null  object\n",
      " 6   Day       65079 non-null  object\n",
      "dtypes: object(7)\n",
      "memory usage: 3.5+ MB\n"
     ]
    }
   ],
   "source": [
    "df.info()# получение общей информации о данных в таблице df"
   ]
  },
  {
   "cell_type": "markdown",
   "metadata": {
    "deletable": false,
    "editable": false,
    "id": "TaQ2Iwbr_Zct"
   },
   "source": [
    "Итак, в таблице семь столбцов. Тип данных во всех столбцах — `object`.\n",
    "\n",
    "Согласно документации к данным:\n",
    "* `userID` — идентификатор пользователя;\n",
    "* `Track` — название трека;  \n",
    "* `artist` — имя исполнителя;\n",
    "* `genre` — название жанра;\n",
    "* `City` — город пользователя;\n",
    "* `time` — время начала прослушивания;\n",
    "* `Day` — день недели.\n",
    "\n",
    "Количество значений в столбцах различается. Значит, в данных есть пропущенные значения."
   ]
  },
  {
   "cell_type": "markdown",
   "metadata": {
    "deletable": false,
    "editable": false,
    "id": "rAfziTBDmf2h",
    "tags": [
     "start_task"
    ]
   },
   "source": [
    "**Задание 5**\n",
    "\n",
    "**Вопрос со свободной формой ответа**\n",
    "\n",
    "В названиях колонок видны нарушения стиля:\n",
    "* Строчные буквы сочетаются с прописными.\n",
    "* Встречаются пробелы.\n",
    "\n",
    "Какое третье нарушение?"
   ]
  },
  {
   "cell_type": "code",
   "execution_count": 5,
   "metadata": {
    "id": "jD8EXEIvmf2h"
   },
   "outputs": [],
   "source": [
    "#Пустые строки # Напишите ваш ответ здесь комментарием. Не удаляйте символ #. Не меняйте тип этой ячейки на Markdown."
   ]
  },
  {
   "cell_type": "markdown",
   "metadata": {
    "deletable": false,
    "editable": false,
    "id": "MCB6-dXG_Zct"
   },
   "source": [
    "**Выводы**\n",
    "\n",
    "В каждой строке таблицы — данные о прослушанном треке. Часть колонок описывает саму композицию: название, исполнителя и жанр. Остальные данные рассказывают о пользователе: из какого он города, когда он слушал музыку. \n",
    "\n",
    "Предварительно можно утверждать, что данных достаточно для проверки гипотез. Но встречаются пропуски в данных, а в названиях колонок — расхождения с хорошим стилем.\n",
    "\n",
    "Чтобы двигаться дальше, нужно устранить проблемы в данных."
   ]
  },
  {
   "cell_type": "markdown",
   "metadata": {
    "deletable": false,
    "editable": false,
    "id": "SjYF6Ub9_Zct"
   },
   "source": [
    "## Предобработка данных\n",
    "Исправьте стиль в заголовках столбцов, исключите пропуски. Затем проверьте данные на дубликаты."
   ]
  },
  {
   "cell_type": "markdown",
   "metadata": {
    "deletable": false,
    "editable": false,
    "id": "dIaKXr29_Zct",
    "tags": [
     "start_task"
    ]
   },
   "source": [
    "### Стиль заголовков\n",
    "\n",
    "**Задание 6**\n",
    "\n",
    "Выведите на экран названия столбцов:"
   ]
  },
  {
   "cell_type": "code",
   "execution_count": 6,
   "metadata": {
    "deletable": false,
    "id": "oKOTdF_Q_Zct"
   },
   "outputs": [
    {
     "data": {
      "text/plain": [
       "Index(['  userID', 'Track', 'artist', 'genre', '  City  ', 'time', 'Day'], dtype='object')"
      ]
     },
     "execution_count": 6,
     "metadata": {},
     "output_type": "execute_result"
    }
   ],
   "source": [
    "df.columns# перечень названий столбцов таблицы df"
   ]
  },
  {
   "cell_type": "markdown",
   "metadata": {
    "deletable": false,
    "editable": false,
    "id": "zj5534cv_Zct",
    "tags": [
     "start_task"
    ]
   },
   "source": [
    "**Задание 7**\n",
    "\n",
    "\n",
    "Приведите названия в соответствие с хорошим стилем:\n",
    "* несколько слов в названии запишите в «змеином_регистре»,\n",
    "* все символы сделайте строчными,\n",
    "* устраните пробелы.\n",
    "\n",
    "Для этого переименуйте колонки так:\n",
    "* `'  userID'` → `'user_id'`;\n",
    "* `'Track'` → `'track'`;\n",
    "* `'  City  '` → `'city'`;\n",
    "* `'Day'` → `'day'`."
   ]
  },
  {
   "cell_type": "code",
   "execution_count": 7,
   "metadata": {
    "deletable": false,
    "id": "ISlFqs5y_Zct"
   },
   "outputs": [],
   "source": [
    "df = df.rename(columns={'  userID' : 'user_id','Track' : 'track','  City  ' : 'city','Day' : 'day'})# переименование столбцов"
   ]
  },
  {
   "cell_type": "markdown",
   "metadata": {
    "deletable": false,
    "editable": false,
    "id": "1dqbh00J_Zct",
    "tags": [
     "start_task"
    ]
   },
   "source": [
    "**Задание 8**\n",
    "\n",
    "\n",
    "Проверьте результат. Для этого ещё раз выведите на экран названия столбцов:"
   ]
  },
  {
   "cell_type": "code",
   "execution_count": 8,
   "metadata": {
    "deletable": false,
    "id": "d4NOAmTW_Zct"
   },
   "outputs": [
    {
     "data": {
      "text/plain": [
       "Index(['user_id', 'track', 'artist', 'genre', 'city', 'time', 'day'], dtype='object')"
      ]
     },
     "execution_count": 8,
     "metadata": {},
     "output_type": "execute_result"
    }
   ],
   "source": [
    "df.columns# проверка результатов - перечень названий столбцов"
   ]
  },
  {
   "cell_type": "markdown",
   "metadata": {
    "deletable": false,
    "editable": false,
    "id": "5ISfbcfY_Zct",
    "tags": [
     "start_task"
    ]
   },
   "source": [
    "### Пропуски значений\n",
    "\n",
    "**Задание 9**\n",
    "\n",
    "Сначала посчитайте, сколько в таблице пропущенных значений. Для этого достаточно двух методов `pandas`:"
   ]
  },
  {
   "cell_type": "code",
   "execution_count": 9,
   "metadata": {
    "deletable": false,
    "id": "RskX29qr_Zct"
   },
   "outputs": [
    {
     "data": {
      "text/plain": [
       "user_id       0\n",
       "track      1231\n",
       "artist     7203\n",
       "genre      1198\n",
       "city          0\n",
       "time          0\n",
       "day           0\n",
       "dtype: int64"
      ]
     },
     "execution_count": 9,
     "metadata": {},
     "output_type": "execute_result"
    }
   ],
   "source": [
    "df.isna().sum()# подсчёт пропусков"
   ]
  },
  {
   "cell_type": "markdown",
   "metadata": {
    "deletable": false,
    "editable": false,
    "id": "qubhgnlO_Zct"
   },
   "source": [
    "Не все пропущенные значения влияют на исследование. Так в `track` и `artist` пропуски не важны для вашей работы. Достаточно заменить их явными обозначениями.\n",
    "\n",
    "Но пропуски в `genre` могут помешать сравнению музыкальных вкусов в Москве и Санкт-Петербурге. На практике было бы правильно установить причину пропусков и восстановить данные. Такой возможности нет в учебном проекте. Придётся:\n",
    "* заполнить и эти пропуски явными обозначениями;\n",
    "* оценить, насколько они повредят расчётам. "
   ]
  },
  {
   "cell_type": "markdown",
   "metadata": {
    "deletable": false,
    "editable": false,
    "id": "fSv2laPA_Zct",
    "tags": [
     "start_task"
    ]
   },
   "source": [
    "**Задание 10**\n",
    "\n",
    "Замените пропущенные значения в столбцах `track`, `artist` и `genre` на строку `'unknown'`. Для этого создайте список `columns_to_replace`, переберите его элементы циклом `for` и для каждого столбца выполните замену пропущенных значений:"
   ]
  },
  {
   "cell_type": "code",
   "execution_count": 10,
   "metadata": {
    "deletable": false,
    "id": "KplB5qWs_Zct"
   },
   "outputs": [],
   "source": [
    "columns_to_replace = ['track','artist','genre']\n",
    "for column in columns_to_replace:\n",
    "    df[column] = df[column].fillna('unknown')# перебор названий столбцов в цикле и замена пропущенных значений на 'unknown'"
   ]
  },
  {
   "cell_type": "markdown",
   "metadata": {
    "deletable": false,
    "editable": false,
    "id": "Ilsm-MZo_Zct",
    "tags": [
     "start_task"
    ]
   },
   "source": [
    "**Задание 11**\n",
    "\n",
    "Убедитесь, что в таблице не осталось пропусков. Для этого ещё раз посчитайте пропущенные значения."
   ]
  },
  {
   "cell_type": "code",
   "execution_count": 11,
   "metadata": {
    "deletable": false,
    "id": "Tq4nYRX4_Zct"
   },
   "outputs": [
    {
     "data": {
      "text/plain": [
       "user_id    0\n",
       "track      0\n",
       "artist     0\n",
       "genre      0\n",
       "city       0\n",
       "time       0\n",
       "day        0\n",
       "dtype: int64"
      ]
     },
     "execution_count": 11,
     "metadata": {},
     "output_type": "execute_result"
    }
   ],
   "source": [
    "df.isna().sum()# подсчёт пропусков"
   ]
  },
  {
   "cell_type": "markdown",
   "metadata": {
    "deletable": false,
    "editable": false,
    "id": "BWKRtBJ3_Zct",
    "tags": [
     "start_task"
    ]
   },
   "source": [
    "### Дубликаты\n",
    "\n",
    "**Задание 12**\n",
    "\n",
    "Посчитайте явные дубликаты в таблице одной командой:"
   ]
  },
  {
   "cell_type": "code",
   "execution_count": 12,
   "metadata": {
    "deletable": false,
    "id": "36eES_S0_Zct"
   },
   "outputs": [
    {
     "data": {
      "text/plain": [
       "3826"
      ]
     },
     "execution_count": 12,
     "metadata": {},
     "output_type": "execute_result"
    }
   ],
   "source": [
    "df.duplicated().sum()# подсчёт явных дубликатов"
   ]
  },
  {
   "cell_type": "markdown",
   "metadata": {
    "deletable": false,
    "editable": false,
    "id": "Ot25h6XR_Zct",
    "tags": [
     "start_task"
    ]
   },
   "source": [
    "**Задание 13**\n",
    "\n",
    "Вызовите специальный метод `pandas`, чтобы удалить явные дубликаты:"
   ]
  },
  {
   "cell_type": "code",
   "execution_count": 13,
   "metadata": {
    "deletable": false,
    "id": "exFHq6tt_Zct"
   },
   "outputs": [],
   "source": [
    "df = df.drop_duplicates()# удаление явных дубликатов"
   ]
  },
  {
   "cell_type": "markdown",
   "metadata": {
    "deletable": false,
    "editable": false,
    "id": "Im2YwBEG_Zct",
    "tags": [
     "start_task"
    ]
   },
   "source": [
    "**Задание 14**\n",
    "\n",
    "Ещё раз посчитайте явные дубликаты в таблице — убедитесь, что полностью от них избавились:"
   ]
  },
  {
   "cell_type": "code",
   "execution_count": 14,
   "metadata": {
    "deletable": false,
    "id": "-8PuNWQ0_Zct"
   },
   "outputs": [
    {
     "data": {
      "text/plain": [
       "0"
      ]
     },
     "execution_count": 14,
     "metadata": {},
     "output_type": "execute_result"
    }
   ],
   "source": [
    "df.duplicated().sum()# проверка на отсутствие дубликатов"
   ]
  },
  {
   "cell_type": "markdown",
   "metadata": {
    "deletable": false,
    "editable": false,
    "id": "QlFBsxAr_Zct"
   },
   "source": [
    "Теперь избавьтесь от неявных дубликатов в колонке `genre`. Например, название одного и того же жанра может быть записано немного по-разному. Такие ошибки тоже повлияют на результат исследования."
   ]
  },
  {
   "cell_type": "markdown",
   "metadata": {
    "deletable": false,
    "editable": false,
    "id": "eSjWwsOh_Zct",
    "tags": [
     "start_task"
    ]
   },
   "source": [
    "**Задание 15**\n",
    "\n",
    "Выведите на экран список уникальных названий жанров, отсортированный в алфавитном порядке. Для этого:\n",
    "1. извлеките нужный столбец датафрейма; \n",
    "2. примените к нему метод сортировки;\n",
    "3. для отсортированного столбца вызовите метод, который вернёт уникальные значения из столбца."
   ]
  },
  {
   "cell_type": "code",
   "execution_count": 15,
   "metadata": {
    "deletable": false,
    "id": "JIUcqzZN_Zct"
   },
   "outputs": [
    {
     "data": {
      "text/plain": [
       "array(['acid', 'acoustic', 'action', 'adult', 'africa', 'afrikaans',\n",
       "       'alternative', 'alternativepunk', 'ambient', 'americana',\n",
       "       'animated', 'anime', 'arabesk', 'arabic', 'arena',\n",
       "       'argentinetango', 'art', 'audiobook', 'author', 'avantgarde',\n",
       "       'axé', 'baile', 'balkan', 'beats', 'bigroom', 'black', 'bluegrass',\n",
       "       'blues', 'bollywood', 'bossa', 'brazilian', 'breakbeat', 'breaks',\n",
       "       'broadway', 'cantautori', 'cantopop', 'canzone', 'caribbean',\n",
       "       'caucasian', 'celtic', 'chamber', 'chanson', 'children', 'chill',\n",
       "       'chinese', 'choral', 'christian', 'christmas', 'classical',\n",
       "       'classicmetal', 'club', 'colombian', 'comedy', 'conjazz',\n",
       "       'contemporary', 'country', 'cuban', 'dance', 'dancehall',\n",
       "       'dancepop', 'dark', 'death', 'deep', 'deutschrock', 'deutschspr',\n",
       "       'dirty', 'disco', 'dnb', 'documentary', 'downbeat', 'downtempo',\n",
       "       'drum', 'dub', 'dubstep', 'eastern', 'easy', 'electronic',\n",
       "       'electropop', 'emo', 'entehno', 'epicmetal', 'estrada', 'ethnic',\n",
       "       'eurofolk', 'european', 'experimental', 'extrememetal', 'fado',\n",
       "       'fairytail', 'film', 'fitness', 'flamenco', 'folk', 'folklore',\n",
       "       'folkmetal', 'folkrock', 'folktronica', 'forró', 'frankreich',\n",
       "       'französisch', 'french', 'funk', 'future', 'gangsta', 'garage',\n",
       "       'german', 'ghazal', 'gitarre', 'glitch', 'gospel', 'gothic',\n",
       "       'grime', 'grunge', 'gypsy', 'handsup', \"hard'n'heavy\", 'hardcore',\n",
       "       'hardstyle', 'hardtechno', 'hip', 'hip-hop', 'hiphop',\n",
       "       'historisch', 'holiday', 'hop', 'horror', 'house', 'hymn', 'idm',\n",
       "       'independent', 'indian', 'indie', 'indipop', 'industrial',\n",
       "       'inspirational', 'instrumental', 'international', 'irish', 'jam',\n",
       "       'japanese', 'jazz', 'jewish', 'jpop', 'jungle', 'k-pop',\n",
       "       'karadeniz', 'karaoke', 'kayokyoku', 'korean', 'laiko', 'latin',\n",
       "       'latino', 'leftfield', 'local', 'lounge', 'loungeelectronic',\n",
       "       'lovers', 'malaysian', 'mandopop', 'marschmusik', 'meditative',\n",
       "       'mediterranean', 'melodic', 'metal', 'metalcore', 'mexican',\n",
       "       'middle', 'minimal', 'miscellaneous', 'modern', 'mood', 'mpb',\n",
       "       'muslim', 'native', 'neoklassik', 'neue', 'new', 'newage',\n",
       "       'newwave', 'nu', 'nujazz', 'numetal', 'oceania', 'old', 'opera',\n",
       "       'orchestral', 'other', 'piano', 'podcasts', 'pop', 'popdance',\n",
       "       'popelectronic', 'popeurodance', 'poprussian', 'post',\n",
       "       'posthardcore', 'postrock', 'power', 'progmetal', 'progressive',\n",
       "       'psychedelic', 'punjabi', 'punk', 'quebecois', 'ragga', 'ram',\n",
       "       'rancheras', 'rap', 'rave', 'reggae', 'reggaeton', 'regional',\n",
       "       'relax', 'religious', 'retro', 'rhythm', 'rnb', 'rnr', 'rock',\n",
       "       'rockabilly', 'rockalternative', 'rockindie', 'rockother',\n",
       "       'romance', 'roots', 'ruspop', 'rusrap', 'rusrock', 'russian',\n",
       "       'salsa', 'samba', 'scenic', 'schlager', 'self', 'sertanejo',\n",
       "       'shanson', 'shoegazing', 'showtunes', 'singer', 'ska', 'skarock',\n",
       "       'slow', 'smooth', 'soft', 'soul', 'soulful', 'sound', 'soundtrack',\n",
       "       'southern', 'specialty', 'speech', 'spiritual', 'sport',\n",
       "       'stonerrock', 'surf', 'swing', 'synthpop', 'synthrock',\n",
       "       'sängerportrait', 'tango', 'tanzorchester', 'taraftar', 'tatar',\n",
       "       'tech', 'techno', 'teen', 'thrash', 'top', 'traditional',\n",
       "       'tradjazz', 'trance', 'tribal', 'trip', 'triphop', 'tropical',\n",
       "       'türk', 'türkçe', 'ukrrock', 'unknown', 'urban', 'uzbek',\n",
       "       'variété', 'vi', 'videogame', 'vocal', 'western', 'world',\n",
       "       'worldbeat', 'ïîï', 'электроника'], dtype=object)"
      ]
     },
     "execution_count": 15,
     "metadata": {},
     "output_type": "execute_result"
    }
   ],
   "source": [
    "genre_sorted = df.sort_values(by='genre')\n",
    "genre_sorted['genre'].unique() \n",
    "\n",
    "# Просмотр уникальных названий жанров"
   ]
  },
  {
   "cell_type": "markdown",
   "metadata": {
    "deletable": false,
    "editable": false,
    "id": "qej-Qmuo_Zct",
    "tags": [
     "start_task"
    ]
   },
   "source": [
    "**Задание 16**\n",
    "\n",
    "Просмотрите список и найдите неявные дубликаты названия `hiphop`. Это могут быть названия с ошибками или альтернативные названия того же жанра.\n",
    "\n",
    "Вы увидите следующие неявные дубликаты:\n",
    "* *hip*,\n",
    "* *hop*,\n",
    "* *hip-hop*.\n",
    "\n",
    "Чтобы очистить от них таблицу используйте метод `replace()` с двумя аргументами: списком строк-дубликатов (включащий *hip*, *hop* и *hip-hop*) и строкой с правильным значением. Вам нужно исправить колонку `genre` в таблице `df`: заменить каждое значение из списка дубликатов на верное. Вместо `hip`, `hop` и `hip-hop` в таблице должно быть значение `hiphop`:"
   ]
  },
  {
   "cell_type": "code",
   "execution_count": 16,
   "metadata": {
    "deletable": false,
    "id": "ErNDkmns_Zct"
   },
   "outputs": [],
   "source": [
    "duplicates = ['hip', 'hop', 'hip-hop']\n",
    "name = 'hiphop'\n",
    "df['genre'] = df['genre'].replace(duplicates,name) # Устранение неявных дубликатов"
   ]
  },
  {
   "cell_type": "markdown",
   "metadata": {
    "deletable": false,
    "editable": false,
    "id": "zQKF16_RG15m",
    "tags": [
     "start_task"
    ]
   },
   "source": [
    "**Задание 17**\n",
    "\n",
    "Проверьте, что заменили неправильные названия:\n",
    "\n",
    "*   hip,\n",
    "*   hop,\n",
    "*   hip-hop.\n",
    "\n",
    "Выведите отсортированный список уникальных значений столбца `genre`:"
   ]
  },
  {
   "cell_type": "code",
   "execution_count": 17,
   "metadata": {
    "deletable": false,
    "id": "wvixALnFG15m"
   },
   "outputs": [
    {
     "data": {
      "text/plain": [
       "array(['acid', 'acoustic', 'action', 'adult', 'africa', 'afrikaans',\n",
       "       'alternative', 'alternativepunk', 'ambient', 'americana',\n",
       "       'animated', 'anime', 'arabesk', 'arabic', 'arena',\n",
       "       'argentinetango', 'art', 'audiobook', 'author', 'avantgarde',\n",
       "       'axé', 'baile', 'balkan', 'beats', 'bigroom', 'black', 'bluegrass',\n",
       "       'blues', 'bollywood', 'bossa', 'brazilian', 'breakbeat', 'breaks',\n",
       "       'broadway', 'cantautori', 'cantopop', 'canzone', 'caribbean',\n",
       "       'caucasian', 'celtic', 'chamber', 'chanson', 'children', 'chill',\n",
       "       'chinese', 'choral', 'christian', 'christmas', 'classical',\n",
       "       'classicmetal', 'club', 'colombian', 'comedy', 'conjazz',\n",
       "       'contemporary', 'country', 'cuban', 'dance', 'dancehall',\n",
       "       'dancepop', 'dark', 'death', 'deep', 'deutschrock', 'deutschspr',\n",
       "       'dirty', 'disco', 'dnb', 'documentary', 'downbeat', 'downtempo',\n",
       "       'drum', 'dub', 'dubstep', 'eastern', 'easy', 'electronic',\n",
       "       'electropop', 'emo', 'entehno', 'epicmetal', 'estrada', 'ethnic',\n",
       "       'eurofolk', 'european', 'experimental', 'extrememetal', 'fado',\n",
       "       'fairytail', 'film', 'fitness', 'flamenco', 'folk', 'folklore',\n",
       "       'folkmetal', 'folkrock', 'folktronica', 'forró', 'frankreich',\n",
       "       'französisch', 'french', 'funk', 'future', 'gangsta', 'garage',\n",
       "       'german', 'ghazal', 'gitarre', 'glitch', 'gospel', 'gothic',\n",
       "       'grime', 'grunge', 'gypsy', 'handsup', \"hard'n'heavy\", 'hardcore',\n",
       "       'hardstyle', 'hardtechno', 'hiphop', 'historisch', 'holiday',\n",
       "       'horror', 'house', 'hymn', 'idm', 'independent', 'indian', 'indie',\n",
       "       'indipop', 'industrial', 'inspirational', 'instrumental',\n",
       "       'international', 'irish', 'jam', 'japanese', 'jazz', 'jewish',\n",
       "       'jpop', 'jungle', 'k-pop', 'karadeniz', 'karaoke', 'kayokyoku',\n",
       "       'korean', 'laiko', 'latin', 'latino', 'leftfield', 'local',\n",
       "       'lounge', 'loungeelectronic', 'lovers', 'malaysian', 'mandopop',\n",
       "       'marschmusik', 'meditative', 'mediterranean', 'melodic', 'metal',\n",
       "       'metalcore', 'mexican', 'middle', 'minimal', 'miscellaneous',\n",
       "       'modern', 'mood', 'mpb', 'muslim', 'native', 'neoklassik', 'neue',\n",
       "       'new', 'newage', 'newwave', 'nu', 'nujazz', 'numetal', 'oceania',\n",
       "       'old', 'opera', 'orchestral', 'other', 'piano', 'podcasts', 'pop',\n",
       "       'popdance', 'popelectronic', 'popeurodance', 'poprussian', 'post',\n",
       "       'posthardcore', 'postrock', 'power', 'progmetal', 'progressive',\n",
       "       'psychedelic', 'punjabi', 'punk', 'quebecois', 'ragga', 'ram',\n",
       "       'rancheras', 'rap', 'rave', 'reggae', 'reggaeton', 'regional',\n",
       "       'relax', 'religious', 'retro', 'rhythm', 'rnb', 'rnr', 'rock',\n",
       "       'rockabilly', 'rockalternative', 'rockindie', 'rockother',\n",
       "       'romance', 'roots', 'ruspop', 'rusrap', 'rusrock', 'russian',\n",
       "       'salsa', 'samba', 'scenic', 'schlager', 'self', 'sertanejo',\n",
       "       'shanson', 'shoegazing', 'showtunes', 'singer', 'ska', 'skarock',\n",
       "       'slow', 'smooth', 'soft', 'soul', 'soulful', 'sound', 'soundtrack',\n",
       "       'southern', 'specialty', 'speech', 'spiritual', 'sport',\n",
       "       'stonerrock', 'surf', 'swing', 'synthpop', 'synthrock',\n",
       "       'sängerportrait', 'tango', 'tanzorchester', 'taraftar', 'tatar',\n",
       "       'tech', 'techno', 'teen', 'thrash', 'top', 'traditional',\n",
       "       'tradjazz', 'trance', 'tribal', 'trip', 'triphop', 'tropical',\n",
       "       'türk', 'türkçe', 'ukrrock', 'unknown', 'urban', 'uzbek',\n",
       "       'variété', 'vi', 'videogame', 'vocal', 'western', 'world',\n",
       "       'worldbeat', 'ïîï', 'электроника'], dtype=object)"
      ]
     },
     "execution_count": 17,
     "metadata": {},
     "output_type": "execute_result"
    }
   ],
   "source": [
    "genre_sorted = df.sort_values(by='genre')\n",
    "genre_sorted['genre'].unique() # Проверка на неявные дубликаты"
   ]
  },
  {
   "cell_type": "markdown",
   "metadata": {
    "deletable": false,
    "editable": false,
    "id": "jz6a9-7HQUDd"
   },
   "source": [
    "**Выводы**\n",
    "\n",
    "Предобработка обнаружила три проблемы в данных:\n",
    "\n",
    "- нарушения в стиле заголовков,\n",
    "- пропущенные значения,\n",
    "- дубликаты — явные и неявные.\n",
    "\n",
    "Вы исправили заголовки, чтобы упростить работу с таблицей. Без дубликатов исследование станет более точным.\n",
    "\n",
    "Пропущенные значения вы заменили на `'unknown'`. Ещё предстоит увидеть, не повредят ли исследованию пропуски в колонке `genre`.\n",
    "\n",
    "Теперь можно перейти к проверке гипотез. "
   ]
  },
  {
   "cell_type": "markdown",
   "metadata": {
    "deletable": false,
    "editable": false,
    "id": "WttZHXH0SqKk"
   },
   "source": [
    "## Проверка гипотез"
   ]
  },
  {
   "cell_type": "markdown",
   "metadata": {
    "deletable": false,
    "editable": false,
    "id": "Im936VVi_Zcu"
   },
   "source": [
    "### Сравнение поведения пользователей двух столиц"
   ]
  },
  {
   "cell_type": "markdown",
   "metadata": {
    "deletable": false,
    "editable": false,
    "id": "nwt_MuaL_Zcu"
   },
   "source": [
    "Первая гипотеза утверждает, что пользователи по-разному слушают музыку в Москве и Санкт-Петербурге. Проверьте это предположение по данным о трёх днях недели — понедельнике, среде и пятнице. Для этого:\n",
    "\n",
    "* Разделите пользователей Москвы и Санкт-Петербурга.\n",
    "* Сравните, сколько треков послушала каждая группа пользователей в понедельник, среду и пятницу.\n"
   ]
  },
  {
   "cell_type": "markdown",
   "metadata": {
    "deletable": false,
    "editable": false,
    "id": "8Dw_YMmT_Zcu",
    "tags": [
     "start_task"
    ]
   },
   "source": [
    "**Задание 18**\n",
    "\n",
    "Для тренировки сначала выполните каждый из расчётов по отдельности. \n",
    "\n",
    "Оцените активность пользователей в каждом городе. Сгруппируйте данные по городу и посчитайте прослушивания в каждой группе.\n",
    "\n"
   ]
  },
  {
   "cell_type": "code",
   "execution_count": 18,
   "metadata": {
    "deletable": false,
    "id": "0_Qs96oh_Zcu"
   },
   "outputs": [],
   "source": [
    "grouped_city = df.groupby('city')['track'].count()\n",
    "# Подсчёт прослушиваний в каждом городе"
   ]
  },
  {
   "cell_type": "markdown",
   "metadata": {
    "deletable": false,
    "editable": false,
    "id": "dzli3w8o_Zcu",
    "tags": [
     "start_task"
    ]
   },
   "source": [
    "В Москве прослушиваний больше, чем в Петербурге. Из этого не следует, что московские пользователи чаще слушают музыку. Просто самих пользователей в Москве больше.\n",
    "\n",
    "**Задание 19**\n",
    "\n",
    "Теперь сгруппируйте данные по дню недели и посчитайте прослушивания в понедельник, среду и пятницу. Учтите, что в данных есть информация о прослушиваниях только за эти дни.\n"
   ]
  },
  {
   "cell_type": "code",
   "execution_count": 19,
   "metadata": {
    "deletable": false,
    "id": "uZMKjiJz_Zcu"
   },
   "outputs": [
    {
     "data": {
      "text/plain": [
       "day\n",
       "Friday       21840\n",
       "Monday       21354\n",
       "Wednesday    18059\n",
       "Name: track, dtype: int64"
      ]
     },
     "execution_count": 19,
     "metadata": {},
     "output_type": "execute_result"
    }
   ],
   "source": [
    "grouped_day = df.groupby('day')['track'].count()\n",
    "grouped_day# Подсчёт прослушиваний в каждый из трёх дней"
   ]
  },
  {
   "cell_type": "markdown",
   "metadata": {
    "deletable": false,
    "editable": false,
    "id": "cC2tNrlL_Zcu"
   },
   "source": [
    "В среднем пользователи из двух городов менее активны по средам. Но картина может измениться, если рассмотреть каждый город в отдельности."
   ]
  },
  {
   "cell_type": "markdown",
   "metadata": {
    "deletable": false,
    "editable": false,
    "id": "POzs8bGa_Zcu",
    "tags": [
     "start_task"
    ]
   },
   "source": [
    "**Задание 20**\n",
    "\n",
    "\n",
    "Вы видели, как работает группировка по городу и по дням недели. Теперь напишите функцию, которая объединит два эти расчёта.\n",
    "\n",
    "Создайте функцию `number_tracks()`, которая посчитает прослушивания для заданного дня и города. Ей понадобятся два параметра:\n",
    "* день недели,\n",
    "* название города.\n",
    "\n",
    "В функции сохраните в переменную строки исходной таблицы, у которых значение:\n",
    "  * в колонке `day` равно параметру `day`,\n",
    "  * в колонке `city` равно параметру `city`.\n",
    "\n",
    "Для этого примените последовательную фильтрацию с логической индексацией (или сложные логические выражения в одну строку, если вы уже знакомы с ними).\n",
    "\n",
    "Затем посчитайте значения в столбце `user_id` получившейся таблицы. Результат сохраните в новую переменную. Верните эту переменную из функции."
   ]
  },
  {
   "cell_type": "code",
   "execution_count": 20,
   "metadata": {
    "deletable": false,
    "id": "Nz3GdQB1_Zcu"
   },
   "outputs": [],
   "source": [
    "def number_tracks(day,city):\n",
    "    track_list = df[df['day'] == day]\n",
    "    track_list = track_list[track_list['city'] == city]\n",
    "    track_list_count = track_list['user_id'].count()\n",
    "    return track_list_count# <создание функции number_tracks()>\n",
    "# Объявляется функция с двумя параметрами: day, city.\n",
    "# В переменной track_list сохраняются те строки таблицы df, для которых \n",
    "# значение в столбце 'day' равно параметру day и одновременно значение\n",
    "# в столбце 'city' равно параметру city (используйте последовательную фильтрацию\n",
    "# с помощью логической индексации или сложные логические выражения в одну строку, если вы уже знакомы с ними).\n",
    "# В переменной track_list_count сохраняется число значений столбца 'user_id',\n",
    "# рассчитанное методом count() для таблицы track_list.\n",
    "# Функция возвращает число - значение track_list_count.\n",
    "\n",
    "# Функция для подсчёта прослушиваний для конкретного города и дня.\n",
    "# С помощью последовательной фильтрации с логической индексацией она \n",
    "# сначала получит из исходной таблицы строки с нужным днём,\n",
    "# затем из результата отфильтрует строки с нужным городом,\n",
    "# методом count() посчитает количество значений в колонке user_id. \n",
    "# Это количество функция вернёт в качестве результата"
   ]
  },
  {
   "cell_type": "markdown",
   "metadata": {
    "deletable": false,
    "editable": false,
    "id": "ytf7xFrFJQ2r",
    "tags": [
     "start_task"
    ]
   },
   "source": [
    "**Задание 21**\n",
    "\n",
    "Вызовите `number_tracks()` шесть раз, меняя значение параметров — так, чтобы получить данные для каждого города в каждый из трёх дней."
   ]
  },
  {
   "cell_type": "code",
   "execution_count": 21,
   "metadata": {
    "deletable": false,
    "id": "rJcRATNQ_Zcu"
   },
   "outputs": [
    {
     "data": {
      "text/plain": [
       "15740"
      ]
     },
     "execution_count": 21,
     "metadata": {},
     "output_type": "execute_result"
    }
   ],
   "source": [
    "number_tracks('Monday','Moscow')# количество прослушиваний в Москве по понедельникам"
   ]
  },
  {
   "cell_type": "code",
   "execution_count": 22,
   "metadata": {
    "deletable": false,
    "id": "hq_ncZ5T_Zcu"
   },
   "outputs": [
    {
     "data": {
      "text/plain": [
       "5614"
      ]
     },
     "execution_count": 22,
     "metadata": {},
     "output_type": "execute_result"
    }
   ],
   "source": [
    "number_tracks('Monday','Saint-Petersburg')# количество прослушиваний в Санкт-Петербурге по понедельникам"
   ]
  },
  {
   "cell_type": "code",
   "execution_count": 23,
   "metadata": {
    "deletable": false,
    "id": "_NTy2VPU_Zcu"
   },
   "outputs": [
    {
     "data": {
      "text/plain": [
       "11056"
      ]
     },
     "execution_count": 23,
     "metadata": {},
     "output_type": "execute_result"
    }
   ],
   "source": [
    "number_tracks('Wednesday','Moscow')# количество прослушиваний в Москве по средам"
   ]
  },
  {
   "cell_type": "code",
   "execution_count": 24,
   "metadata": {
    "deletable": false,
    "id": "j2y3TAwo_Zcu"
   },
   "outputs": [
    {
     "data": {
      "text/plain": [
       "7003"
      ]
     },
     "execution_count": 24,
     "metadata": {},
     "output_type": "execute_result"
    }
   ],
   "source": [
    "number_tracks('Wednesday','Saint-Petersburg')# количество прослушиваний в Санкт-Петербурге по средам"
   ]
  },
  {
   "cell_type": "code",
   "execution_count": 25,
   "metadata": {
    "deletable": false,
    "id": "vYDw5u_K_Zcu"
   },
   "outputs": [
    {
     "data": {
      "text/plain": [
       "15945"
      ]
     },
     "execution_count": 25,
     "metadata": {},
     "output_type": "execute_result"
    }
   ],
   "source": [
    "number_tracks('Friday','Moscow')# количество прослушиваний в Москве по пятницам"
   ]
  },
  {
   "cell_type": "code",
   "execution_count": 26,
   "metadata": {
    "deletable": false,
    "id": "8_yzFtW3_Zcu"
   },
   "outputs": [
    {
     "data": {
      "text/plain": [
       "5895"
      ]
     },
     "execution_count": 26,
     "metadata": {},
     "output_type": "execute_result"
    }
   ],
   "source": [
    "number_tracks('Friday','Saint-Petersburg')# количество прослушиваний в Санкт-Петербурге по пятницам"
   ]
  },
  {
   "cell_type": "markdown",
   "metadata": {
    "deletable": false,
    "editable": false,
    "id": "7QXffbO-_Zcu",
    "tags": [
     "start_task"
    ]
   },
   "source": [
    "**Задание 22**\n",
    "\n",
    "Создайте c помощью конструктора `pd.DataFrame` таблицу, где\n",
    "* названия колонок — `['city', 'monday', 'wednesday', 'friday']`;\n",
    "* данные — результаты, которые вы получили с помощью `number_tracks`."
   ]
  },
  {
   "cell_type": "code",
   "execution_count": 27,
   "metadata": {
    "deletable": false,
    "id": "APAcLpOr_Zcu"
   },
   "outputs": [
    {
     "data": {
      "text/html": [
       "<div>\n",
       "<style scoped>\n",
       "    .dataframe tbody tr th:only-of-type {\n",
       "        vertical-align: middle;\n",
       "    }\n",
       "\n",
       "    .dataframe tbody tr th {\n",
       "        vertical-align: top;\n",
       "    }\n",
       "\n",
       "    .dataframe thead th {\n",
       "        text-align: right;\n",
       "    }\n",
       "</style>\n",
       "<table border=\"1\" class=\"dataframe\">\n",
       "  <thead>\n",
       "    <tr style=\"text-align: right;\">\n",
       "      <th></th>\n",
       "      <th>city</th>\n",
       "      <th>monday</th>\n",
       "      <th>wednesday</th>\n",
       "      <th>friday</th>\n",
       "    </tr>\n",
       "  </thead>\n",
       "  <tbody>\n",
       "    <tr>\n",
       "      <th>0</th>\n",
       "      <td>Moscow</td>\n",
       "      <td>15740</td>\n",
       "      <td>11056</td>\n",
       "      <td>15945</td>\n",
       "    </tr>\n",
       "    <tr>\n",
       "      <th>1</th>\n",
       "      <td>Saint-Petersburg</td>\n",
       "      <td>5614</td>\n",
       "      <td>7003</td>\n",
       "      <td>5895</td>\n",
       "    </tr>\n",
       "  </tbody>\n",
       "</table>\n",
       "</div>"
      ],
      "text/plain": [
       "               city  monday  wednesday  friday\n",
       "0            Moscow   15740      11056   15945\n",
       "1  Saint-Petersburg    5614       7003    5895"
      ]
     },
     "execution_count": 27,
     "metadata": {},
     "output_type": "execute_result"
    }
   ],
   "source": [
    "info = pd.DataFrame(data=[['Moscow',15740,11056, 15945], ['Saint-Petersburg',5614,7003, 5895]] , columns=['city', 'monday', 'wednesday','friday'])\n",
    "info# Таблица с результатами"
   ]
  },
  {
   "cell_type": "markdown",
   "metadata": {
    "deletable": false,
    "editable": false,
    "id": "-EgPIHYu_Zcu"
   },
   "source": [
    "**Выводы**\n",
    "\n",
    "Данные показывают разницу поведения пользователей:\n",
    "\n",
    "- В Москве пик прослушиваний приходится на понедельник и пятницу, а в среду заметен спад.\n",
    "- В Петербурге, наоборот, больше слушают музыку по средам. Активность в понедельник и пятницу здесь почти в равной мере уступает среде.\n",
    "\n",
    "Значит, данные говорят в пользу первой гипотезы."
   ]
  },
  {
   "cell_type": "markdown",
   "metadata": {
    "deletable": false,
    "editable": false,
    "id": "atZAxtq4_Zcu"
   },
   "source": [
    "### Музыка в начале и в конце недели"
   ]
  },
  {
   "cell_type": "markdown",
   "metadata": {
    "deletable": false,
    "editable": false,
    "id": "eXrQqXFH_Zcu"
   },
   "source": [
    "Согласно второй гипотезе, утром в понедельник в Москве преобладают одни жанры, а в Петербурге — другие. Так же и вечером пятницы преобладают разные жанры — в зависимости от города."
   ]
  },
  {
   "cell_type": "markdown",
   "metadata": {
    "deletable": false,
    "editable": false,
    "id": "S8UcW6Hw_Zcu",
    "tags": [
     "start_task"
    ]
   },
   "source": [
    "**Задание 23**\n",
    "\n",
    "Сохраните таблицы с данными в две переменные:\n",
    "* по Москве — в `moscow_general`;\n",
    "* по Санкт-Петербургу — в `spb_general`."
   ]
  },
  {
   "cell_type": "code",
   "execution_count": 28,
   "metadata": {
    "deletable": false,
    "id": "qeaFfM_P_Zcu"
   },
   "outputs": [],
   "source": [
    "moscow_general = df[df['city'] == 'Moscow']# получение таблицы moscow_general из тех строк таблицы df, \n",
    "# для которых значение в столбце 'city' равно 'Moscow'\n"
   ]
  },
  {
   "cell_type": "code",
   "execution_count": 29,
   "metadata": {
    "deletable": false,
    "id": "ORaVRKto_Zcu"
   },
   "outputs": [],
   "source": [
    "spb_general = df[df['city'] == 'Saint-Petersburg']# получение таблицы spb_general из тех строк таблицы df,\n",
    "# для которых значение в столбце 'city' равно 'Saint-Petersburg'\n"
   ]
  },
  {
   "cell_type": "markdown",
   "metadata": {
    "deletable": false,
    "editable": false,
    "id": "MEJV-CX2_Zcu",
    "tags": [
     "start_task"
    ]
   },
   "source": [
    "**Задание 24**\n",
    "\n",
    "Создайте функцию `genre_weekday()` с четырьмя параметрами:\n",
    "* таблица (датафрейм) с данными,\n",
    "* день недели,\n",
    "* начальная временная метка в формате 'hh:mm', \n",
    "* последняя временная метка в формате 'hh:mm'.\n",
    "\n",
    "Функция должна вернуть информацию о топ-10 жанров тех треков, которые прослушивали в указанный день, в промежутке между двумя отметками времени."
   ]
  },
  {
   "cell_type": "code",
   "execution_count": 30,
   "metadata": {
    "deletable": false,
    "id": "laJT9BYl_Zcu"
   },
   "outputs": [],
   "source": [
    "def genre_weekday(table, day, time1, time2):\n",
    "    # последовательная фильтрация\n",
    "    # оставляем в genre_df только те строки df, у которых день равен day\n",
    "    genre_df = table[table['day'] == day]# ваш код здесь\n",
    "    # оставляем в genre_df только те строки genre_df, у которых время меньше time2\n",
    "    genre_df = genre_df[genre_df['time'] < time2]# ваш код здесь\n",
    "    # оставляем в genre_df только те строки genre_df, у которых время больше time1\n",
    "    genre_df = genre_df[genre_df['time'] > time1]# ваш код здесь\n",
    "    # сгруппируем отфильтрованный датафрейм по столбцу с названиями жанров, возьмём столбец genre и посчитаем кол-во строк для каждого жанра методом count()\n",
    "    genre_df_grouped = genre_df.groupby('genre')['genre'].count()# ваш код здесь\n",
    "    # отсортируем результат по убыванию (чтобы в начале Series оказались самые популярные жанры)\n",
    "    genre_df_sorted = genre_df_grouped.sort_values(ascending=False)# ваш код здесь\n",
    "    # вернём Series с 10 самыми популярными жанрами в указанный отрезок времени заданного дня\n",
    "    return genre_df_sorted[:10]\n",
    "                     \n",
    "\n",
    "\n"
   ]
  },
  {
   "cell_type": "markdown",
   "metadata": {
    "deletable": false,
    "editable": false,
    "id": "la2s2_PF_Zcu",
    "tags": [
     "start_task"
    ]
   },
   "source": [
    "**Задание 25**\n",
    "\n",
    "\n",
    "Cравните результаты функции `genre_weekday()` для Москвы и Санкт-Петербурга в понедельник утром (с 7:00 до 11:00) и в пятницу вечером (с 17:00 до 23:00):"
   ]
  },
  {
   "cell_type": "code",
   "execution_count": 31,
   "metadata": {
    "deletable": false,
    "id": "yz7itPUQ_Zcu"
   },
   "outputs": [
    {
     "data": {
      "text/plain": [
       "genre\n",
       "pop            781\n",
       "dance          549\n",
       "electronic     480\n",
       "rock           474\n",
       "hiphop         286\n",
       "ruspop         186\n",
       "world          181\n",
       "rusrap         175\n",
       "alternative    164\n",
       "unknown        161\n",
       "Name: genre, dtype: int64"
      ]
     },
     "execution_count": 31,
     "metadata": {},
     "output_type": "execute_result"
    }
   ],
   "source": [
    "genre_weekday(moscow_general,'Monday','07:00','11:00')# вызов функции для утра понедельника в Москве (вместо df — таблица moscow_general)\n",
    "# объекты, хранящие время, являются строками и сравниваются как строки\n",
    "# пример вызова: genre_weekday(moscow_general, 'Monday', '07:00', '11:00')"
   ]
  },
  {
   "cell_type": "code",
   "execution_count": 32,
   "metadata": {
    "deletable": false,
    "id": "kwUcHPdy_Zcu"
   },
   "outputs": [
    {
     "data": {
      "text/plain": [
       "genre\n",
       "pop            218\n",
       "dance          182\n",
       "rock           162\n",
       "electronic     147\n",
       "hiphop          80\n",
       "ruspop          64\n",
       "alternative     58\n",
       "rusrap          55\n",
       "jazz            44\n",
       "classical       40\n",
       "Name: genre, dtype: int64"
      ]
     },
     "execution_count": 32,
     "metadata": {},
     "output_type": "execute_result"
    }
   ],
   "source": [
    "genre_weekday(spb_general,'Monday','07:00','11:00')# вызов функции для утра понедельника в Петербурге (вместо df — таблица spb_general)"
   ]
  },
  {
   "cell_type": "code",
   "execution_count": 33,
   "metadata": {
    "deletable": false,
    "id": "EzXVRE1o_Zcu"
   },
   "outputs": [
    {
     "data": {
      "text/plain": [
       "genre\n",
       "pop            713\n",
       "rock           517\n",
       "dance          495\n",
       "electronic     482\n",
       "hiphop         273\n",
       "world          208\n",
       "ruspop         170\n",
       "alternative    163\n",
       "classical      163\n",
       "rusrap         142\n",
       "Name: genre, dtype: int64"
      ]
     },
     "execution_count": 33,
     "metadata": {},
     "output_type": "execute_result"
    }
   ],
   "source": [
    "genre_weekday(moscow_general,'Friday','17:00','23:00')# вызов функции для вечера пятницы в Москве"
   ]
  },
  {
   "cell_type": "code",
   "execution_count": 34,
   "metadata": {
    "deletable": false,
    "id": "JZaEKu5v_Zcu"
   },
   "outputs": [
    {
     "data": {
      "text/plain": [
       "genre\n",
       "pop            256\n",
       "electronic     216\n",
       "rock           216\n",
       "dance          210\n",
       "hiphop          97\n",
       "alternative     63\n",
       "jazz            61\n",
       "classical       60\n",
       "rusrap          59\n",
       "world           54\n",
       "Name: genre, dtype: int64"
      ]
     },
     "execution_count": 34,
     "metadata": {},
     "output_type": "execute_result"
    }
   ],
   "source": [
    "genre_weekday(spb_general,'Friday','17:00','23:00')# вызов функции для вечера пятницы в Петербурге"
   ]
  },
  {
   "cell_type": "markdown",
   "metadata": {
    "deletable": false,
    "editable": false,
    "id": "wrCe4MNX_Zcu"
   },
   "source": [
    "**Выводы**\n",
    "\n",
    "Если сравнить топ-10 жанров в понедельник утром, можно сделать такие выводы:\n",
    "\n",
    "1. В Москве и Петербурге слушают похожую музыку. Единственное отличие — в московский рейтинг вошёл жанр “world”, а в петербургский — джаз и классика.\n",
    "\n",
    "2. В Москве пропущенных значений оказалось так много, что значение `'unknown'` заняло десятое место среди самых популярных жанров. Значит, пропущенные значения занимают существенную долю в данных и угрожают достоверности исследования.\n",
    "\n",
    "Вечер пятницы не меняет эту картину. Некоторые жанры поднимаются немного выше, другие спускаются, но в целом топ-10 остаётся тем же самым.\n",
    "\n",
    "Таким образом, вторая гипотеза подтвердилась лишь частично:\n",
    "* Пользователи слушают похожую музыку в начале недели и в конце.\n",
    "* Разница между Москвой и Петербургом не слишком выражена. В Москве чаще слушают русскую популярную музыку, в Петербурге — джаз.\n",
    "\n",
    "Однако пропуски в данных ставят под сомнение этот результат. В Москве их так много, что рейтинг топ-10 мог бы выглядеть иначе, если бы не утерянные  данные о жанрах."
   ]
  },
  {
   "cell_type": "markdown",
   "metadata": {
    "deletable": false,
    "editable": false,
    "id": "JolODAqr_Zcu"
   },
   "source": [
    "### Жанровые предпочтения в Москве и Петербурге\n",
    "\n",
    "Гипотеза: Петербург — столица рэпа, музыку этого жанра там слушают чаще, чем в Москве.  А Москва — город контрастов, в котором, тем не менее, преобладает поп-музыка."
   ]
  },
  {
   "cell_type": "markdown",
   "metadata": {
    "deletable": false,
    "editable": false,
    "id": "DlegSvaT_Zcu",
    "tags": [
     "start_task"
    ]
   },
   "source": [
    "**Задание 26**\n",
    "\n",
    "Сгруппируйте таблицу `moscow_general` по жанру и посчитайте прослушивания треков каждого жанра методом `count()`. Затем отсортируйте результат в порядке убывания и сохраните его в таблице `moscow_genres`."
   ]
  },
  {
   "cell_type": "code",
   "execution_count": 38,
   "metadata": {
    "deletable": false,
    "id": "r19lIPke_Zcu"
   },
   "outputs": [],
   "source": [
    "moscow_genres = moscow_general.groupby('genre')['genre'].count()# одной строкой: группировка таблицы moscow_general по столбцу 'genre', \n",
    "moscow_genres = moscow_genres.sort_values(ascending=False)# подсчёт числа значений 'genre' в этой группировке методом count(), \n",
    "# сортировка получившегося Series в порядке убывания и сохранение в moscow_genres"
   ]
  },
  {
   "cell_type": "markdown",
   "metadata": {
    "deletable": false,
    "editable": false,
    "id": "6kMuomxTiIr8",
    "tags": [
     "start_task"
    ]
   },
   "source": [
    "**Задание 27**\n",
    "\n",
    "Выведите на экран первые десять строк `moscow_genres`:"
   ]
  },
  {
   "cell_type": "code",
   "execution_count": 39,
   "metadata": {
    "deletable": false,
    "id": "WhCSooF8_Zcv"
   },
   "outputs": [
    {
     "data": {
      "text/plain": [
       "genre\n",
       "pop            5892\n",
       "dance          4435\n",
       "rock           3965\n",
       "electronic     3786\n",
       "hiphop         2096\n",
       "classical      1616\n",
       "world          1432\n",
       "alternative    1379\n",
       "ruspop         1372\n",
       "rusrap         1161\n",
       "Name: genre, dtype: int64"
      ]
     },
     "execution_count": 39,
     "metadata": {},
     "output_type": "execute_result"
    }
   ],
   "source": [
    "moscow_genres.head(10)# просмотр первых 10 строк moscow_genres"
   ]
  },
  {
   "cell_type": "markdown",
   "metadata": {
    "deletable": false,
    "editable": false,
    "id": "cnPG2vnN_Zcv",
    "tags": [
     "start_task"
    ]
   },
   "source": [
    "**Задание 28**\n",
    "\n",
    "\n",
    "Теперь повторите то же и для Петербурга.\n",
    "\n",
    "Сгруппируйте таблицу `spb_general` по жанру. Посчитайте прослушивания треков каждого жанра. Результат отсортируйте в порядке убывания и сохраните в таблице `spb_genres`:\n"
   ]
  },
  {
   "cell_type": "code",
   "execution_count": 40,
   "metadata": {
    "deletable": false,
    "id": "gluLIpE7_Zcv"
   },
   "outputs": [],
   "source": [
    "spb_genres = spb_general.groupby('genre')['genre'].count()\n",
    "spb_genres = spb_genres.sort_values(ascending=False)# одной строкой: группировка таблицы spb_general по столбцу 'genre', \n",
    "# подсчёт числа значений 'genre' в этой группировке методом count(), \n",
    "# сортировка получившегося Series в порядке убывания и сохранение в spb_genres"
   ]
  },
  {
   "cell_type": "markdown",
   "metadata": {
    "deletable": false,
    "editable": false,
    "id": "5Doha_ODgyQ8",
    "tags": [
     "start_task"
    ]
   },
   "source": [
    "**Задание 29**\n",
    "\n",
    "Выведите на экран первые десять строк `spb_genres`:"
   ]
  },
  {
   "cell_type": "code",
   "execution_count": 41,
   "metadata": {
    "deletable": false,
    "id": "uaGJHjVU_Zcv"
   },
   "outputs": [
    {
     "data": {
      "text/plain": [
       "genre\n",
       "pop            2431\n",
       "dance          1932\n",
       "rock           1879\n",
       "electronic     1736\n",
       "hiphop          960\n",
       "alternative     649\n",
       "classical       646\n",
       "rusrap          564\n",
       "ruspop          538\n",
       "world           515\n",
       "Name: genre, dtype: int64"
      ]
     },
     "execution_count": 41,
     "metadata": {},
     "output_type": "execute_result"
    }
   ],
   "source": [
    "spb_genres.head(10)# просмотр первых 10 строк spb_genres"
   ]
  },
  {
   "cell_type": "markdown",
   "metadata": {
    "deletable": false,
    "editable": false,
    "id": "RY51YJYu_Zcv"
   },
   "source": [
    "**Выводы**"
   ]
  },
  {
   "cell_type": "markdown",
   "metadata": {
    "deletable": false,
    "editable": false,
    "id": "nVhnJEm__Zcv"
   },
   "source": [
    "Гипотеза частично подтвердилась:\n",
    "* Поп-музыка — самый популярный жанр в Москве, как и предполагала гипотеза. Более того, в топ-10 жанров встречается близкий жанр — русская популярная музыка.\n",
    "* Вопреки ожиданиям, рэп одинаково популярен в Москве и Петербурге. \n"
   ]
  },
  {
   "cell_type": "markdown",
   "metadata": {
    "deletable": false,
    "editable": false,
    "id": "ykKQ0N65_Zcv"
   },
   "source": [
    "## Итоги исследования"
   ]
  },
  {
   "cell_type": "markdown",
   "metadata": {
    "deletable": false,
    "editable": false,
    "id": "tjUwbHb3_Zcv"
   },
   "source": [
    "Вы проверили три гипотезы и установили:\n",
    "\n",
    "1. День недели по-разному влияет на активность пользователей в Москве и Петербурге. \n",
    "\n",
    "Первая гипотеза полностью подтвердилась.\n",
    "\n",
    "2. Музыкальные предпочтения не сильно меняются в течение недели — будь то Москва или Петербург. Небольшие различия заметны в начале недели, по понедельникам:\n",
    "* в Москве слушают музыку жанра “world”,\n",
    "* в Петербурге — джаз и классику.\n",
    "\n",
    "Таким образом, вторая гипотеза подтвердилась лишь отчасти. Этот результат мог оказаться иным, если бы не пропуски в данных.\n",
    "\n",
    "3. Во вкусах пользователей Москвы и Петербурга больше общего чем различий. Вопреки ожиданиям, предпочтения жанров в Петербурге напоминают московские.\n",
    "\n",
    "Третья гипотеза не подтвердилась. Если различия в предпочтениях и существуют, на основной массе пользователей они незаметны.\n",
    "\n",
    "**На практике исследования содержат проверки статистических гипотез.**\n",
    "Из данных одного сервиса не всегда можно сделать вывод о всех жителях города.\n",
    "Проверки статистических гипотез покажут, насколько они достоверны, исходя из имеющихся данных. \n",
    "С методами проверок гипотез вы ещё познакомитесь в следующих темах."
   ]
  }
 ],
 "metadata": {
  "ExecuteTimeLog": [
   {
    "duration": 52,
    "start_time": "2022-12-21T18:07:45.060Z"
   },
   {
    "duration": 44,
    "start_time": "2022-12-21T18:08:16.004Z"
   },
   {
    "duration": 50,
    "start_time": "2022-12-21T18:13:53.009Z"
   },
   {
    "duration": 58,
    "start_time": "2022-12-21T18:18:43.580Z"
   },
   {
    "duration": 7,
    "start_time": "2022-12-21T18:18:55.166Z"
   },
   {
    "duration": 403,
    "start_time": "2022-12-21T18:19:02.403Z"
   },
   {
    "duration": 176,
    "start_time": "2022-12-21T18:19:07.160Z"
   },
   {
    "duration": 17,
    "start_time": "2022-12-21T18:19:53.687Z"
   },
   {
    "duration": 29,
    "start_time": "2022-12-21T18:20:40.451Z"
   },
   {
    "duration": 3,
    "start_time": "2022-12-21T18:23:20.978Z"
   },
   {
    "duration": 29,
    "start_time": "2022-12-21T18:24:11.105Z"
   },
   {
    "duration": 4,
    "start_time": "2022-12-21T18:24:19.515Z"
   },
   {
    "duration": 48,
    "start_time": "2022-12-21T18:42:13.617Z"
   },
   {
    "duration": 368,
    "start_time": "2022-12-21T18:42:48.202Z"
   },
   {
    "duration": 212,
    "start_time": "2022-12-21T18:42:50.851Z"
   },
   {
    "duration": 17,
    "start_time": "2022-12-21T18:42:53.600Z"
   },
   {
    "duration": 30,
    "start_time": "2022-12-21T18:42:57.704Z"
   },
   {
    "duration": 4,
    "start_time": "2022-12-21T18:43:08.389Z"
   },
   {
    "duration": 12,
    "start_time": "2022-12-21T18:43:12.271Z"
   },
   {
    "duration": 4,
    "start_time": "2022-12-21T18:43:52.571Z"
   },
   {
    "duration": 24,
    "start_time": "2022-12-21T18:45:40.090Z"
   },
   {
    "duration": 704,
    "start_time": "2022-12-21T18:59:08.545Z"
   },
   {
    "duration": 2,
    "start_time": "2022-12-21T19:00:20.844Z"
   },
   {
    "duration": 199,
    "start_time": "2022-12-21T19:00:20.848Z"
   },
   {
    "duration": 11,
    "start_time": "2022-12-21T19:00:21.049Z"
   },
   {
    "duration": 56,
    "start_time": "2022-12-21T19:00:21.062Z"
   },
   {
    "duration": 17,
    "start_time": "2022-12-21T19:00:21.120Z"
   },
   {
    "duration": 19,
    "start_time": "2022-12-21T19:00:21.139Z"
   },
   {
    "duration": 20,
    "start_time": "2022-12-21T19:00:21.160Z"
   },
   {
    "duration": 21,
    "start_time": "2022-12-21T19:00:21.182Z"
   },
   {
    "duration": 31,
    "start_time": "2022-12-21T19:00:21.207Z"
   },
   {
    "duration": 682,
    "start_time": "2022-12-21T19:00:21.240Z"
   },
   {
    "duration": 0,
    "start_time": "2022-12-21T19:00:21.929Z"
   },
   {
    "duration": 0,
    "start_time": "2022-12-21T19:00:21.930Z"
   },
   {
    "duration": 0,
    "start_time": "2022-12-21T19:00:21.932Z"
   },
   {
    "duration": 0,
    "start_time": "2022-12-21T19:00:21.933Z"
   },
   {
    "duration": 0,
    "start_time": "2022-12-21T19:00:21.935Z"
   },
   {
    "duration": 0,
    "start_time": "2022-12-21T19:00:21.936Z"
   },
   {
    "duration": 0,
    "start_time": "2022-12-21T19:00:21.938Z"
   },
   {
    "duration": 0,
    "start_time": "2022-12-21T19:00:21.939Z"
   },
   {
    "duration": 0,
    "start_time": "2022-12-21T19:00:21.941Z"
   },
   {
    "duration": 0,
    "start_time": "2022-12-21T19:00:21.943Z"
   },
   {
    "duration": 0,
    "start_time": "2022-12-21T19:00:21.944Z"
   },
   {
    "duration": 0,
    "start_time": "2022-12-21T19:00:21.946Z"
   },
   {
    "duration": 0,
    "start_time": "2022-12-21T19:00:21.947Z"
   },
   {
    "duration": 0,
    "start_time": "2022-12-21T19:00:21.948Z"
   },
   {
    "duration": 0,
    "start_time": "2022-12-21T19:00:21.949Z"
   },
   {
    "duration": 0,
    "start_time": "2022-12-21T19:00:21.950Z"
   },
   {
    "duration": 0,
    "start_time": "2022-12-21T19:00:21.952Z"
   },
   {
    "duration": 0,
    "start_time": "2022-12-21T19:00:21.953Z"
   },
   {
    "duration": 0,
    "start_time": "2022-12-21T19:00:21.954Z"
   },
   {
    "duration": 0,
    "start_time": "2022-12-21T19:00:21.955Z"
   },
   {
    "duration": 0,
    "start_time": "2022-12-21T19:00:21.956Z"
   },
   {
    "duration": 0,
    "start_time": "2022-12-21T19:00:21.958Z"
   },
   {
    "duration": 0,
    "start_time": "2022-12-21T19:00:21.959Z"
   },
   {
    "duration": 0,
    "start_time": "2022-12-21T19:00:21.961Z"
   },
   {
    "duration": 0,
    "start_time": "2022-12-21T19:00:21.962Z"
   },
   {
    "duration": 0,
    "start_time": "2022-12-21T19:00:21.964Z"
   },
   {
    "duration": 0,
    "start_time": "2022-12-21T19:00:21.965Z"
   },
   {
    "duration": 0,
    "start_time": "2022-12-21T19:00:21.977Z"
   },
   {
    "duration": 931,
    "start_time": "2022-12-21T19:03:33.437Z"
   },
   {
    "duration": 733,
    "start_time": "2022-12-21T19:04:26.925Z"
   },
   {
    "duration": 25,
    "start_time": "2022-12-21T19:05:23.696Z"
   },
   {
    "duration": 7,
    "start_time": "2022-12-21T19:05:41.452Z"
   },
   {
    "duration": 391,
    "start_time": "2022-12-21T19:06:59.706Z"
   },
   {
    "duration": 178,
    "start_time": "2022-12-21T19:07:00.099Z"
   },
   {
    "duration": 18,
    "start_time": "2022-12-21T19:07:00.279Z"
   },
   {
    "duration": 30,
    "start_time": "2022-12-21T19:07:00.299Z"
   },
   {
    "duration": 22,
    "start_time": "2022-12-21T19:07:00.331Z"
   },
   {
    "duration": 25,
    "start_time": "2022-12-21T19:07:00.354Z"
   },
   {
    "duration": 47,
    "start_time": "2022-12-21T19:07:00.381Z"
   },
   {
    "duration": 31,
    "start_time": "2022-12-21T19:07:00.430Z"
   },
   {
    "duration": 51,
    "start_time": "2022-12-21T19:07:00.462Z"
   },
   {
    "duration": 813,
    "start_time": "2022-12-21T19:07:00.516Z"
   },
   {
    "duration": 0,
    "start_time": "2022-12-21T19:07:01.331Z"
   },
   {
    "duration": 0,
    "start_time": "2022-12-21T19:07:01.333Z"
   },
   {
    "duration": 0,
    "start_time": "2022-12-21T19:07:01.334Z"
   },
   {
    "duration": 0,
    "start_time": "2022-12-21T19:07:01.335Z"
   },
   {
    "duration": 0,
    "start_time": "2022-12-21T19:07:01.336Z"
   },
   {
    "duration": 0,
    "start_time": "2022-12-21T19:07:01.337Z"
   },
   {
    "duration": 0,
    "start_time": "2022-12-21T19:07:01.338Z"
   },
   {
    "duration": 0,
    "start_time": "2022-12-21T19:07:01.339Z"
   },
   {
    "duration": 0,
    "start_time": "2022-12-21T19:07:01.340Z"
   },
   {
    "duration": 0,
    "start_time": "2022-12-21T19:07:01.341Z"
   },
   {
    "duration": 0,
    "start_time": "2022-12-21T19:07:01.342Z"
   },
   {
    "duration": 0,
    "start_time": "2022-12-21T19:07:01.343Z"
   },
   {
    "duration": 0,
    "start_time": "2022-12-21T19:07:01.344Z"
   },
   {
    "duration": 0,
    "start_time": "2022-12-21T19:07:01.344Z"
   },
   {
    "duration": 0,
    "start_time": "2022-12-21T19:07:01.345Z"
   },
   {
    "duration": 0,
    "start_time": "2022-12-21T19:07:01.346Z"
   },
   {
    "duration": 0,
    "start_time": "2022-12-21T19:07:01.347Z"
   },
   {
    "duration": 0,
    "start_time": "2022-12-21T19:07:01.348Z"
   },
   {
    "duration": 0,
    "start_time": "2022-12-21T19:07:01.349Z"
   },
   {
    "duration": 0,
    "start_time": "2022-12-21T19:07:01.350Z"
   },
   {
    "duration": 0,
    "start_time": "2022-12-21T19:07:01.351Z"
   },
   {
    "duration": 0,
    "start_time": "2022-12-21T19:07:01.352Z"
   },
   {
    "duration": 0,
    "start_time": "2022-12-21T19:07:01.353Z"
   },
   {
    "duration": 0,
    "start_time": "2022-12-21T19:07:01.354Z"
   },
   {
    "duration": 0,
    "start_time": "2022-12-21T19:07:01.354Z"
   },
   {
    "duration": 0,
    "start_time": "2022-12-21T19:07:01.355Z"
   },
   {
    "duration": 0,
    "start_time": "2022-12-21T19:07:01.356Z"
   },
   {
    "duration": 0,
    "start_time": "2022-12-21T19:07:01.357Z"
   },
   {
    "duration": 12,
    "start_time": "2022-12-21T19:10:25.887Z"
   },
   {
    "duration": 823,
    "start_time": "2022-12-21T19:12:25.751Z"
   },
   {
    "duration": 751,
    "start_time": "2022-12-21T19:13:12.721Z"
   },
   {
    "duration": 752,
    "start_time": "2022-12-21T19:17:31.198Z"
   },
   {
    "duration": 819,
    "start_time": "2022-12-21T19:18:35.059Z"
   },
   {
    "duration": 3,
    "start_time": "2022-12-21T19:28:49.022Z"
   },
   {
    "duration": 201,
    "start_time": "2022-12-21T19:28:49.026Z"
   },
   {
    "duration": 12,
    "start_time": "2022-12-21T19:28:49.229Z"
   },
   {
    "duration": 46,
    "start_time": "2022-12-21T19:28:49.243Z"
   },
   {
    "duration": 3,
    "start_time": "2022-12-21T19:28:49.292Z"
   },
   {
    "duration": 15,
    "start_time": "2022-12-21T19:28:49.297Z"
   },
   {
    "duration": 15,
    "start_time": "2022-12-21T19:28:49.314Z"
   },
   {
    "duration": 9,
    "start_time": "2022-12-21T19:28:49.330Z"
   },
   {
    "duration": 43,
    "start_time": "2022-12-21T19:28:49.341Z"
   },
   {
    "duration": 23,
    "start_time": "2022-12-21T19:28:49.385Z"
   },
   {
    "duration": 9,
    "start_time": "2022-12-21T19:28:49.409Z"
   },
   {
    "duration": 0,
    "start_time": "2022-12-21T19:28:49.420Z"
   },
   {
    "duration": 0,
    "start_time": "2022-12-21T19:28:49.422Z"
   },
   {
    "duration": 0,
    "start_time": "2022-12-21T19:28:49.423Z"
   },
   {
    "duration": 0,
    "start_time": "2022-12-21T19:28:49.424Z"
   },
   {
    "duration": 0,
    "start_time": "2022-12-21T19:28:49.425Z"
   },
   {
    "duration": 0,
    "start_time": "2022-12-21T19:28:49.426Z"
   },
   {
    "duration": 0,
    "start_time": "2022-12-21T19:28:49.427Z"
   },
   {
    "duration": 0,
    "start_time": "2022-12-21T19:28:49.428Z"
   },
   {
    "duration": 0,
    "start_time": "2022-12-21T19:28:49.429Z"
   },
   {
    "duration": 0,
    "start_time": "2022-12-21T19:28:49.430Z"
   },
   {
    "duration": 0,
    "start_time": "2022-12-21T19:28:49.432Z"
   },
   {
    "duration": 0,
    "start_time": "2022-12-21T19:28:49.433Z"
   },
   {
    "duration": 0,
    "start_time": "2022-12-21T19:28:49.434Z"
   },
   {
    "duration": 0,
    "start_time": "2022-12-21T19:28:49.435Z"
   },
   {
    "duration": 0,
    "start_time": "2022-12-21T19:28:49.436Z"
   },
   {
    "duration": 0,
    "start_time": "2022-12-21T19:28:49.437Z"
   },
   {
    "duration": 0,
    "start_time": "2022-12-21T19:28:49.438Z"
   },
   {
    "duration": 0,
    "start_time": "2022-12-21T19:28:49.476Z"
   },
   {
    "duration": 0,
    "start_time": "2022-12-21T19:28:49.478Z"
   },
   {
    "duration": 0,
    "start_time": "2022-12-21T19:28:49.479Z"
   },
   {
    "duration": 0,
    "start_time": "2022-12-21T19:28:49.480Z"
   },
   {
    "duration": 0,
    "start_time": "2022-12-21T19:28:49.481Z"
   },
   {
    "duration": 0,
    "start_time": "2022-12-21T19:28:49.482Z"
   },
   {
    "duration": 0,
    "start_time": "2022-12-21T19:28:49.483Z"
   },
   {
    "duration": 0,
    "start_time": "2022-12-21T19:28:49.484Z"
   },
   {
    "duration": 0,
    "start_time": "2022-12-21T19:28:49.486Z"
   },
   {
    "duration": 0,
    "start_time": "2022-12-21T19:28:49.487Z"
   },
   {
    "duration": 26,
    "start_time": "2022-12-21T19:30:39.999Z"
   },
   {
    "duration": 63,
    "start_time": "2022-12-21T19:31:37.533Z"
   },
   {
    "duration": 66,
    "start_time": "2022-12-21T19:32:13.887Z"
   },
   {
    "duration": 55,
    "start_time": "2022-12-21T19:32:48.109Z"
   },
   {
    "duration": 5,
    "start_time": "2022-12-21T19:37:59.758Z"
   },
   {
    "duration": 65,
    "start_time": "2022-12-21T19:43:46.526Z"
   },
   {
    "duration": 54,
    "start_time": "2022-12-21T19:45:04.188Z"
   },
   {
    "duration": 66,
    "start_time": "2022-12-21T19:45:54.854Z"
   },
   {
    "duration": 6,
    "start_time": "2022-12-21T19:54:40.952Z"
   },
   {
    "duration": 747,
    "start_time": "2022-12-21T19:54:57.279Z"
   },
   {
    "duration": 10,
    "start_time": "2022-12-21T19:56:06.535Z"
   },
   {
    "duration": 7,
    "start_time": "2022-12-21T19:56:48.104Z"
   },
   {
    "duration": 11,
    "start_time": "2022-12-21T19:57:48.403Z"
   },
   {
    "duration": 50,
    "start_time": "2022-12-21T19:59:13.910Z"
   },
   {
    "duration": 27,
    "start_time": "2022-12-21T20:04:31.575Z"
   },
   {
    "duration": 32,
    "start_time": "2022-12-21T20:04:46.704Z"
   },
   {
    "duration": 14,
    "start_time": "2022-12-21T20:06:13.618Z"
   },
   {
    "duration": 10,
    "start_time": "2022-12-21T20:08:43.398Z"
   },
   {
    "duration": 14,
    "start_time": "2022-12-21T20:08:54.130Z"
   },
   {
    "duration": 4,
    "start_time": "2022-12-21T20:19:37.718Z"
   },
   {
    "duration": 6,
    "start_time": "2022-12-21T20:22:16.680Z"
   },
   {
    "duration": 492,
    "start_time": "2022-12-21T20:22:25.412Z"
   },
   {
    "duration": 40,
    "start_time": "2022-12-21T20:22:50.379Z"
   },
   {
    "duration": 9,
    "start_time": "2022-12-21T20:22:57.955Z"
   },
   {
    "duration": 4,
    "start_time": "2022-12-21T20:25:22.172Z"
   },
   {
    "duration": 3,
    "start_time": "2022-12-21T20:27:30.772Z"
   },
   {
    "duration": 3,
    "start_time": "2022-12-21T20:28:29.934Z"
   },
   {
    "duration": 8,
    "start_time": "2022-12-21T20:34:22.515Z"
   },
   {
    "duration": 9,
    "start_time": "2022-12-21T20:34:55.956Z"
   },
   {
    "duration": 9,
    "start_time": "2022-12-21T20:36:53.140Z"
   },
   {
    "duration": 8,
    "start_time": "2022-12-21T20:36:55.828Z"
   },
   {
    "duration": 9,
    "start_time": "2022-12-21T20:36:58.475Z"
   },
   {
    "duration": 8,
    "start_time": "2022-12-21T20:37:01.087Z"
   },
   {
    "duration": 6,
    "start_time": "2022-12-21T20:40:30.716Z"
   },
   {
    "duration": 7,
    "start_time": "2022-12-21T20:42:13.279Z"
   },
   {
    "duration": 17,
    "start_time": "2022-12-21T20:42:21.732Z"
   },
   {
    "duration": 13,
    "start_time": "2022-12-21T20:55:11.490Z"
   },
   {
    "duration": 16,
    "start_time": "2022-12-21T20:55:20.583Z"
   },
   {
    "duration": 22,
    "start_time": "2022-12-21T20:55:21.495Z"
   },
   {
    "duration": 20,
    "start_time": "2022-12-21T20:55:23.377Z"
   },
   {
    "duration": 13,
    "start_time": "2022-12-21T20:55:24.237Z"
   },
   {
    "duration": 15,
    "start_time": "2022-12-21T20:55:25.093Z"
   },
   {
    "duration": 15,
    "start_time": "2022-12-21T20:56:19.777Z"
   },
   {
    "duration": 13,
    "start_time": "2022-12-21T20:56:22.332Z"
   },
   {
    "duration": 18,
    "start_time": "2022-12-21T20:56:24.694Z"
   },
   {
    "duration": 49,
    "start_time": "2022-12-26T12:37:36.453Z"
   },
   {
    "duration": 7,
    "start_time": "2022-12-26T12:42:34.862Z"
   },
   {
    "duration": 427,
    "start_time": "2022-12-26T12:44:09.472Z"
   },
   {
    "duration": 841,
    "start_time": "2022-12-26T12:44:09.901Z"
   },
   {
    "duration": 18,
    "start_time": "2022-12-26T12:44:10.744Z"
   },
   {
    "duration": 30,
    "start_time": "2022-12-26T12:44:10.764Z"
   },
   {
    "duration": 9,
    "start_time": "2022-12-26T12:44:10.796Z"
   },
   {
    "duration": 7,
    "start_time": "2022-12-26T12:44:10.806Z"
   },
   {
    "duration": 25,
    "start_time": "2022-12-26T12:44:10.815Z"
   },
   {
    "duration": 12,
    "start_time": "2022-12-26T12:44:10.842Z"
   },
   {
    "duration": 30,
    "start_time": "2022-12-26T12:44:10.856Z"
   },
   {
    "duration": 25,
    "start_time": "2022-12-26T12:44:10.889Z"
   },
   {
    "duration": 32,
    "start_time": "2022-12-26T12:44:10.916Z"
   },
   {
    "duration": 83,
    "start_time": "2022-12-26T12:44:10.950Z"
   },
   {
    "duration": 79,
    "start_time": "2022-12-26T12:44:11.035Z"
   },
   {
    "duration": 64,
    "start_time": "2022-12-26T12:44:11.116Z"
   },
   {
    "duration": 62,
    "start_time": "2022-12-26T12:44:11.182Z"
   },
   {
    "duration": 11,
    "start_time": "2022-12-26T12:44:11.246Z"
   },
   {
    "duration": 66,
    "start_time": "2022-12-26T12:44:11.258Z"
   },
   {
    "duration": 11,
    "start_time": "2022-12-26T12:44:11.326Z"
   },
   {
    "duration": 38,
    "start_time": "2022-12-26T12:44:11.338Z"
   },
   {
    "duration": 19,
    "start_time": "2022-12-26T12:44:11.377Z"
   },
   {
    "duration": 50,
    "start_time": "2022-12-26T12:44:11.397Z"
   },
   {
    "duration": 38,
    "start_time": "2022-12-26T12:44:11.448Z"
   },
   {
    "duration": 27,
    "start_time": "2022-12-26T12:44:11.487Z"
   },
   {
    "duration": 19,
    "start_time": "2022-12-26T12:44:11.516Z"
   },
   {
    "duration": 28,
    "start_time": "2022-12-26T12:44:11.537Z"
   },
   {
    "duration": 13,
    "start_time": "2022-12-26T12:44:11.567Z"
   },
   {
    "duration": 4,
    "start_time": "2022-12-26T12:44:11.582Z"
   },
   {
    "duration": 5,
    "start_time": "2022-12-26T12:44:11.589Z"
   },
   {
    "duration": 2,
    "start_time": "2022-12-26T12:44:11.605Z"
   },
   {
    "duration": 77,
    "start_time": "2022-12-26T12:44:11.609Z"
   },
   {
    "duration": 0,
    "start_time": "2022-12-26T12:44:11.688Z"
   },
   {
    "duration": 0,
    "start_time": "2022-12-26T12:44:11.690Z"
   },
   {
    "duration": 0,
    "start_time": "2022-12-26T12:44:11.692Z"
   },
   {
    "duration": 0,
    "start_time": "2022-12-26T12:44:11.693Z"
   },
   {
    "duration": 0,
    "start_time": "2022-12-26T12:44:11.695Z"
   },
   {
    "duration": 0,
    "start_time": "2022-12-26T12:44:11.696Z"
   },
   {
    "duration": 0,
    "start_time": "2022-12-26T12:44:11.698Z"
   },
   {
    "duration": 0,
    "start_time": "2022-12-26T12:44:11.699Z"
   },
   {
    "duration": 10,
    "start_time": "2022-12-26T12:44:40.310Z"
   },
   {
    "duration": 419,
    "start_time": "2022-12-26T12:47:50.674Z"
   },
   {
    "duration": 180,
    "start_time": "2022-12-26T12:47:51.094Z"
   },
   {
    "duration": 16,
    "start_time": "2022-12-26T12:47:51.276Z"
   },
   {
    "duration": 33,
    "start_time": "2022-12-26T12:47:51.294Z"
   },
   {
    "duration": 3,
    "start_time": "2022-12-26T12:47:51.329Z"
   },
   {
    "duration": 6,
    "start_time": "2022-12-26T12:47:51.334Z"
   },
   {
    "duration": 15,
    "start_time": "2022-12-26T12:47:51.342Z"
   },
   {
    "duration": 8,
    "start_time": "2022-12-26T12:47:51.359Z"
   },
   {
    "duration": 51,
    "start_time": "2022-12-26T12:47:51.369Z"
   },
   {
    "duration": 21,
    "start_time": "2022-12-26T12:47:51.424Z"
   },
   {
    "duration": 27,
    "start_time": "2022-12-26T12:47:51.447Z"
   },
   {
    "duration": 92,
    "start_time": "2022-12-26T12:47:51.476Z"
   },
   {
    "duration": 79,
    "start_time": "2022-12-26T12:47:51.569Z"
   },
   {
    "duration": 73,
    "start_time": "2022-12-26T12:47:51.650Z"
   },
   {
    "duration": 47,
    "start_time": "2022-12-26T12:47:51.725Z"
   },
   {
    "duration": 10,
    "start_time": "2022-12-26T12:47:51.774Z"
   },
   {
    "duration": 68,
    "start_time": "2022-12-26T12:47:51.785Z"
   },
   {
    "duration": 10,
    "start_time": "2022-12-26T12:47:51.855Z"
   },
   {
    "duration": 13,
    "start_time": "2022-12-26T12:47:51.866Z"
   },
   {
    "duration": 4,
    "start_time": "2022-12-26T12:47:51.881Z"
   },
   {
    "duration": 35,
    "start_time": "2022-12-26T12:47:51.886Z"
   },
   {
    "duration": 14,
    "start_time": "2022-12-26T12:47:51.923Z"
   },
   {
    "duration": 14,
    "start_time": "2022-12-26T12:47:51.939Z"
   },
   {
    "duration": 13,
    "start_time": "2022-12-26T12:47:51.954Z"
   },
   {
    "duration": 45,
    "start_time": "2022-12-26T12:47:51.968Z"
   },
   {
    "duration": 15,
    "start_time": "2022-12-26T12:47:52.015Z"
   },
   {
    "duration": 8,
    "start_time": "2022-12-26T12:47:52.032Z"
   },
   {
    "duration": 4,
    "start_time": "2022-12-26T12:47:52.043Z"
   },
   {
    "duration": 5,
    "start_time": "2022-12-26T12:47:52.048Z"
   },
   {
    "duration": 93,
    "start_time": "2022-12-26T12:47:52.055Z"
   },
   {
    "duration": 0,
    "start_time": "2022-12-26T12:47:52.150Z"
   },
   {
    "duration": 0,
    "start_time": "2022-12-26T12:47:52.151Z"
   },
   {
    "duration": 0,
    "start_time": "2022-12-26T12:47:52.152Z"
   },
   {
    "duration": 0,
    "start_time": "2022-12-26T12:47:52.153Z"
   },
   {
    "duration": 0,
    "start_time": "2022-12-26T12:47:52.155Z"
   },
   {
    "duration": 0,
    "start_time": "2022-12-26T12:47:52.156Z"
   },
   {
    "duration": 0,
    "start_time": "2022-12-26T12:47:52.157Z"
   },
   {
    "duration": 0,
    "start_time": "2022-12-26T12:47:52.158Z"
   },
   {
    "duration": 1017,
    "start_time": "2022-12-26T12:53:11.884Z"
   },
   {
    "duration": 86,
    "start_time": "2022-12-26T12:53:33.014Z"
   },
   {
    "duration": 16,
    "start_time": "2022-12-26T12:54:11.349Z"
   },
   {
    "duration": 12,
    "start_time": "2022-12-26T12:54:29.492Z"
   },
   {
    "duration": 349,
    "start_time": "2022-12-26T12:57:12.863Z"
   },
   {
    "duration": 166,
    "start_time": "2022-12-26T12:57:13.214Z"
   },
   {
    "duration": 24,
    "start_time": "2022-12-26T12:57:13.381Z"
   },
   {
    "duration": 53,
    "start_time": "2022-12-26T12:57:13.407Z"
   },
   {
    "duration": 27,
    "start_time": "2022-12-26T12:57:13.463Z"
   },
   {
    "duration": 24,
    "start_time": "2022-12-26T12:57:13.491Z"
   },
   {
    "duration": 25,
    "start_time": "2022-12-26T12:57:13.517Z"
   },
   {
    "duration": 29,
    "start_time": "2022-12-26T12:57:13.544Z"
   },
   {
    "duration": 42,
    "start_time": "2022-12-26T12:57:13.575Z"
   },
   {
    "duration": 33,
    "start_time": "2022-12-26T12:57:13.618Z"
   },
   {
    "duration": 41,
    "start_time": "2022-12-26T12:57:13.653Z"
   },
   {
    "duration": 83,
    "start_time": "2022-12-26T12:57:13.696Z"
   },
   {
    "duration": 70,
    "start_time": "2022-12-26T12:57:13.781Z"
   },
   {
    "duration": 72,
    "start_time": "2022-12-26T12:57:13.854Z"
   },
   {
    "duration": 50,
    "start_time": "2022-12-26T12:57:13.928Z"
   },
   {
    "duration": 29,
    "start_time": "2022-12-26T12:57:13.980Z"
   },
   {
    "duration": 70,
    "start_time": "2022-12-26T12:57:14.011Z"
   },
   {
    "duration": 18,
    "start_time": "2022-12-26T12:57:14.083Z"
   },
   {
    "duration": 36,
    "start_time": "2022-12-26T12:57:14.104Z"
   },
   {
    "duration": 22,
    "start_time": "2022-12-26T12:57:14.142Z"
   },
   {
    "duration": 41,
    "start_time": "2022-12-26T12:57:14.166Z"
   },
   {
    "duration": 18,
    "start_time": "2022-12-26T12:57:14.209Z"
   },
   {
    "duration": 33,
    "start_time": "2022-12-26T12:57:14.229Z"
   },
   {
    "duration": 27,
    "start_time": "2022-12-26T12:57:14.264Z"
   },
   {
    "duration": 24,
    "start_time": "2022-12-26T12:57:14.293Z"
   },
   {
    "duration": 22,
    "start_time": "2022-12-26T12:57:14.319Z"
   },
   {
    "duration": 15,
    "start_time": "2022-12-26T12:57:14.343Z"
   },
   {
    "duration": 42,
    "start_time": "2022-12-26T12:57:14.360Z"
   },
   {
    "duration": 39,
    "start_time": "2022-12-26T12:57:14.404Z"
   },
   {
    "duration": 86,
    "start_time": "2022-12-26T12:57:14.445Z"
   },
   {
    "duration": 0,
    "start_time": "2022-12-26T12:57:14.532Z"
   },
   {
    "duration": 0,
    "start_time": "2022-12-26T12:57:14.533Z"
   },
   {
    "duration": 0,
    "start_time": "2022-12-26T12:57:14.534Z"
   },
   {
    "duration": 0,
    "start_time": "2022-12-26T12:57:14.535Z"
   },
   {
    "duration": 0,
    "start_time": "2022-12-26T12:57:14.536Z"
   },
   {
    "duration": 0,
    "start_time": "2022-12-26T12:57:14.537Z"
   },
   {
    "duration": 0,
    "start_time": "2022-12-26T12:57:14.538Z"
   },
   {
    "duration": 0,
    "start_time": "2022-12-26T12:57:14.538Z"
   },
   {
    "duration": 409,
    "start_time": "2022-12-26T13:02:44.811Z"
   },
   {
    "duration": 167,
    "start_time": "2022-12-26T13:02:45.222Z"
   },
   {
    "duration": 20,
    "start_time": "2022-12-26T13:02:45.391Z"
   },
   {
    "duration": 30,
    "start_time": "2022-12-26T13:02:45.414Z"
   },
   {
    "duration": 2,
    "start_time": "2022-12-26T13:02:45.446Z"
   },
   {
    "duration": 6,
    "start_time": "2022-12-26T13:02:45.450Z"
   },
   {
    "duration": 13,
    "start_time": "2022-12-26T13:02:45.457Z"
   },
   {
    "duration": 11,
    "start_time": "2022-12-26T13:02:45.472Z"
   },
   {
    "duration": 43,
    "start_time": "2022-12-26T13:02:45.485Z"
   },
   {
    "duration": 21,
    "start_time": "2022-12-26T13:02:45.531Z"
   },
   {
    "duration": 26,
    "start_time": "2022-12-26T13:02:45.553Z"
   },
   {
    "duration": 73,
    "start_time": "2022-12-26T13:02:45.605Z"
   },
   {
    "duration": 85,
    "start_time": "2022-12-26T13:02:45.680Z"
   },
   {
    "duration": 76,
    "start_time": "2022-12-26T13:02:45.766Z"
   },
   {
    "duration": 49,
    "start_time": "2022-12-26T13:02:45.843Z"
   },
   {
    "duration": 19,
    "start_time": "2022-12-26T13:02:45.894Z"
   },
   {
    "duration": 53,
    "start_time": "2022-12-26T13:02:45.914Z"
   },
   {
    "duration": 12,
    "start_time": "2022-12-26T13:02:45.969Z"
   },
   {
    "duration": 34,
    "start_time": "2022-12-26T13:02:45.982Z"
   },
   {
    "duration": 4,
    "start_time": "2022-12-26T13:02:46.018Z"
   },
   {
    "duration": 23,
    "start_time": "2022-12-26T13:02:46.023Z"
   },
   {
    "duration": 16,
    "start_time": "2022-12-26T13:02:46.047Z"
   },
   {
    "duration": 40,
    "start_time": "2022-12-26T13:02:46.065Z"
   },
   {
    "duration": 16,
    "start_time": "2022-12-26T13:02:46.107Z"
   },
   {
    "duration": 17,
    "start_time": "2022-12-26T13:02:46.125Z"
   },
   {
    "duration": 18,
    "start_time": "2022-12-26T13:02:46.144Z"
   },
   {
    "duration": 10,
    "start_time": "2022-12-26T13:02:46.164Z"
   },
   {
    "duration": 11,
    "start_time": "2022-12-26T13:02:46.205Z"
   },
   {
    "duration": 9,
    "start_time": "2022-12-26T13:02:46.218Z"
   },
   {
    "duration": 74,
    "start_time": "2022-12-26T13:02:46.229Z"
   },
   {
    "duration": 0,
    "start_time": "2022-12-26T13:02:46.304Z"
   },
   {
    "duration": 0,
    "start_time": "2022-12-26T13:02:46.305Z"
   },
   {
    "duration": 0,
    "start_time": "2022-12-26T13:02:46.307Z"
   },
   {
    "duration": 0,
    "start_time": "2022-12-26T13:02:46.308Z"
   },
   {
    "duration": 0,
    "start_time": "2022-12-26T13:02:46.309Z"
   },
   {
    "duration": 0,
    "start_time": "2022-12-26T13:02:46.310Z"
   },
   {
    "duration": 0,
    "start_time": "2022-12-26T13:02:46.312Z"
   },
   {
    "duration": 0,
    "start_time": "2022-12-26T13:02:46.313Z"
   },
   {
    "duration": 20,
    "start_time": "2022-12-26T13:04:31.918Z"
   },
   {
    "duration": 10,
    "start_time": "2022-12-26T13:04:34.481Z"
   },
   {
    "duration": 5,
    "start_time": "2022-12-26T13:34:05.430Z"
   },
   {
    "duration": 5,
    "start_time": "2022-12-26T13:37:18.760Z"
   },
   {
    "duration": 4,
    "start_time": "2022-12-26T13:38:06.557Z"
   },
   {
    "duration": 4,
    "start_time": "2022-12-26T13:39:43.069Z"
   },
   {
    "duration": 5,
    "start_time": "2022-12-26T13:41:28.473Z"
   },
   {
    "duration": 4,
    "start_time": "2022-12-26T13:42:05.212Z"
   },
   {
    "duration": 5,
    "start_time": "2022-12-26T13:42:38.475Z"
   },
   {
    "duration": 5,
    "start_time": "2022-12-26T13:43:30.257Z"
   },
   {
    "duration": 5,
    "start_time": "2022-12-26T13:43:55.406Z"
   },
   {
    "duration": 6,
    "start_time": "2022-12-26T13:47:09.990Z"
   },
   {
    "duration": 380,
    "start_time": "2022-12-26T13:47:26.861Z"
   },
   {
    "duration": 262,
    "start_time": "2022-12-26T13:47:27.243Z"
   },
   {
    "duration": 26,
    "start_time": "2022-12-26T13:47:27.508Z"
   },
   {
    "duration": 42,
    "start_time": "2022-12-26T13:47:27.536Z"
   },
   {
    "duration": 24,
    "start_time": "2022-12-26T13:47:27.582Z"
   },
   {
    "duration": 8,
    "start_time": "2022-12-26T13:47:27.609Z"
   },
   {
    "duration": 20,
    "start_time": "2022-12-26T13:47:27.619Z"
   },
   {
    "duration": 13,
    "start_time": "2022-12-26T13:47:27.641Z"
   },
   {
    "duration": 37,
    "start_time": "2022-12-26T13:47:27.656Z"
   },
   {
    "duration": 24,
    "start_time": "2022-12-26T13:47:27.704Z"
   },
   {
    "duration": 26,
    "start_time": "2022-12-26T13:47:27.730Z"
   },
   {
    "duration": 92,
    "start_time": "2022-12-26T13:47:27.757Z"
   },
   {
    "duration": 81,
    "start_time": "2022-12-26T13:47:27.851Z"
   },
   {
    "duration": 73,
    "start_time": "2022-12-26T13:47:27.935Z"
   },
   {
    "duration": 54,
    "start_time": "2022-12-26T13:47:28.010Z"
   },
   {
    "duration": 15,
    "start_time": "2022-12-26T13:47:28.066Z"
   },
   {
    "duration": 80,
    "start_time": "2022-12-26T13:47:28.082Z"
   },
   {
    "duration": 13,
    "start_time": "2022-12-26T13:47:28.164Z"
   },
   {
    "duration": 36,
    "start_time": "2022-12-26T13:47:28.179Z"
   },
   {
    "duration": 4,
    "start_time": "2022-12-26T13:47:28.217Z"
   },
   {
    "duration": 40,
    "start_time": "2022-12-26T13:47:28.224Z"
   },
   {
    "duration": 22,
    "start_time": "2022-12-26T13:47:28.266Z"
   },
   {
    "duration": 32,
    "start_time": "2022-12-26T13:47:28.290Z"
   },
   {
    "duration": 18,
    "start_time": "2022-12-26T13:47:28.324Z"
   },
   {
    "duration": 20,
    "start_time": "2022-12-26T13:47:28.343Z"
   },
   {
    "duration": 50,
    "start_time": "2022-12-26T13:47:28.365Z"
   },
   {
    "duration": 10,
    "start_time": "2022-12-26T13:47:28.417Z"
   },
   {
    "duration": 16,
    "start_time": "2022-12-26T13:47:28.429Z"
   },
   {
    "duration": 11,
    "start_time": "2022-12-26T13:47:28.446Z"
   },
   {
    "duration": 7,
    "start_time": "2022-12-26T13:47:28.458Z"
   },
   {
    "duration": 13,
    "start_time": "2022-12-26T13:47:28.467Z"
   },
   {
    "duration": 9,
    "start_time": "2022-12-26T13:47:28.482Z"
   },
   {
    "duration": 3,
    "start_time": "2022-12-26T13:47:28.506Z"
   },
   {
    "duration": 7,
    "start_time": "2022-12-26T13:47:28.511Z"
   },
   {
    "duration": 7,
    "start_time": "2022-12-26T13:47:28.520Z"
   },
   {
    "duration": 9,
    "start_time": "2022-12-26T13:47:28.529Z"
   },
   {
    "duration": 6,
    "start_time": "2022-12-26T13:47:28.540Z"
   },
   {
    "duration": 14,
    "start_time": "2022-12-26T13:47:28.548Z"
   },
   {
    "duration": 5,
    "start_time": "2022-12-26T13:51:47.942Z"
   },
   {
    "duration": 4,
    "start_time": "2022-12-26T14:05:40.126Z"
   },
   {
    "duration": 5,
    "start_time": "2022-12-26T14:05:49.040Z"
   },
   {
    "duration": 5,
    "start_time": "2022-12-26T14:06:07.909Z"
   },
   {
    "duration": 5,
    "start_time": "2022-12-26T14:07:48.859Z"
   },
   {
    "duration": 5,
    "start_time": "2022-12-26T14:08:27.210Z"
   },
   {
    "duration": 7,
    "start_time": "2022-12-26T14:09:08.184Z"
   },
   {
    "duration": 5,
    "start_time": "2022-12-26T14:10:48.122Z"
   },
   {
    "duration": 5,
    "start_time": "2022-12-26T14:11:21.755Z"
   },
   {
    "duration": 4,
    "start_time": "2022-12-26T14:13:32.374Z"
   },
   {
    "duration": 4,
    "start_time": "2022-12-26T14:14:38.827Z"
   },
   {
    "duration": 4,
    "start_time": "2022-12-26T14:26:28.518Z"
   },
   {
    "duration": 5,
    "start_time": "2022-12-26T14:28:38.319Z"
   },
   {
    "duration": 18,
    "start_time": "2022-12-26T14:33:37.748Z"
   },
   {
    "duration": 14,
    "start_time": "2022-12-26T14:33:42.171Z"
   },
   {
    "duration": 10,
    "start_time": "2022-12-26T14:33:44.987Z"
   },
   {
    "duration": 9,
    "start_time": "2022-12-26T14:34:17.613Z"
   },
   {
    "duration": 31,
    "start_time": "2022-12-26T14:35:15.050Z"
   },
   {
    "duration": 15,
    "start_time": "2022-12-26T14:35:17.315Z"
   },
   {
    "duration": 64,
    "start_time": "2022-12-26T14:42:26.347Z"
   },
   {
    "duration": 8,
    "start_time": "2022-12-26T14:43:52.200Z"
   },
   {
    "duration": 396,
    "start_time": "2022-12-26T14:44:18.521Z"
   },
   {
    "duration": 189,
    "start_time": "2022-12-26T14:44:18.919Z"
   },
   {
    "duration": 18,
    "start_time": "2022-12-26T14:44:19.110Z"
   },
   {
    "duration": 53,
    "start_time": "2022-12-26T14:44:19.130Z"
   },
   {
    "duration": 19,
    "start_time": "2022-12-26T14:44:19.184Z"
   },
   {
    "duration": 23,
    "start_time": "2022-12-26T14:44:19.204Z"
   },
   {
    "duration": 21,
    "start_time": "2022-12-26T14:44:19.229Z"
   },
   {
    "duration": 20,
    "start_time": "2022-12-26T14:44:19.252Z"
   },
   {
    "duration": 38,
    "start_time": "2022-12-26T14:44:19.273Z"
   },
   {
    "duration": 38,
    "start_time": "2022-12-26T14:44:19.314Z"
   },
   {
    "duration": 33,
    "start_time": "2022-12-26T14:44:19.353Z"
   },
   {
    "duration": 78,
    "start_time": "2022-12-26T14:44:19.387Z"
   },
   {
    "duration": 74,
    "start_time": "2022-12-26T14:44:19.466Z"
   },
   {
    "duration": 68,
    "start_time": "2022-12-26T14:44:19.542Z"
   },
   {
    "duration": 47,
    "start_time": "2022-12-26T14:44:19.612Z"
   },
   {
    "duration": 26,
    "start_time": "2022-12-26T14:44:19.660Z"
   },
   {
    "duration": 62,
    "start_time": "2022-12-26T14:44:19.687Z"
   },
   {
    "duration": 11,
    "start_time": "2022-12-26T14:44:19.750Z"
   },
   {
    "duration": 36,
    "start_time": "2022-12-26T14:44:19.763Z"
   },
   {
    "duration": 8,
    "start_time": "2022-12-26T14:44:19.800Z"
   },
   {
    "duration": 49,
    "start_time": "2022-12-26T14:44:19.809Z"
   },
   {
    "duration": 16,
    "start_time": "2022-12-26T14:44:19.860Z"
   },
   {
    "duration": 49,
    "start_time": "2022-12-26T14:44:19.878Z"
   },
   {
    "duration": 25,
    "start_time": "2022-12-26T14:44:19.929Z"
   },
   {
    "duration": 18,
    "start_time": "2022-12-26T14:44:19.956Z"
   },
   {
    "duration": 21,
    "start_time": "2022-12-26T14:44:19.975Z"
   },
   {
    "duration": 19,
    "start_time": "2022-12-26T14:44:19.998Z"
   },
   {
    "duration": 35,
    "start_time": "2022-12-26T14:44:20.020Z"
   },
   {
    "duration": 31,
    "start_time": "2022-12-26T14:44:20.058Z"
   },
   {
    "duration": 15,
    "start_time": "2022-12-26T14:44:20.090Z"
   },
   {
    "duration": 60,
    "start_time": "2022-12-26T14:44:20.107Z"
   },
   {
    "duration": 19,
    "start_time": "2022-12-26T14:44:20.169Z"
   },
   {
    "duration": 23,
    "start_time": "2022-12-26T14:44:20.190Z"
   },
   {
    "duration": 14,
    "start_time": "2022-12-26T14:44:20.215Z"
   },
   {
    "duration": 79,
    "start_time": "2022-12-26T14:44:20.231Z"
   },
   {
    "duration": 0,
    "start_time": "2022-12-26T14:44:20.312Z"
   },
   {
    "duration": 0,
    "start_time": "2022-12-26T14:44:20.313Z"
   },
   {
    "duration": 0,
    "start_time": "2022-12-26T14:44:20.315Z"
   },
   {
    "duration": 15,
    "start_time": "2022-12-26T14:44:58.465Z"
   },
   {
    "duration": 8,
    "start_time": "2022-12-26T14:45:19.594Z"
   },
   {
    "duration": 9,
    "start_time": "2022-12-26T14:46:45.829Z"
   },
   {
    "duration": 5,
    "start_time": "2022-12-26T14:47:23.052Z"
   },
   {
    "duration": 6,
    "start_time": "2022-12-26T14:48:43.629Z"
   },
   {
    "duration": 5,
    "start_time": "2022-12-26T14:49:07.981Z"
   }
  ],
  "colab": {
   "collapsed_sections": [
    "E0vqbgi9ay0H",
    "VUC88oWjTJw2"
   ],
   "name": "automatization_template_upd4.ipynb",
   "provenance": []
  },
  "kernelspec": {
   "display_name": "Python 3 (ipykernel)",
   "language": "python",
   "name": "python3"
  },
  "language_info": {
   "codemirror_mode": {
    "name": "ipython",
    "version": 3
   },
   "file_extension": ".py",
   "mimetype": "text/x-python",
   "name": "python",
   "nbconvert_exporter": "python",
   "pygments_lexer": "ipython3",
   "version": "3.9.13"
  },
  "toc": {
   "base_numbering": 1,
   "nav_menu": {
    "height": "215px",
    "width": "403px"
   },
   "number_sections": true,
   "sideBar": true,
   "skip_h1_title": true,
   "title_cell": "Table of Contents",
   "title_sidebar": "Contents",
   "toc_cell": false,
   "toc_position": {
    "height": "calc(100% - 180px)",
    "left": "10px",
    "top": "150px",
    "width": "285.825px"
   },
   "toc_section_display": true,
   "toc_window_display": false
  }
 },
 "nbformat": 4,
 "nbformat_minor": 1
}
