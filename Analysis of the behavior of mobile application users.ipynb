{
 "cells": [
  {
   "cell_type": "markdown",
   "metadata": {},
   "source": [
    "# Описание проекта"
   ]
  },
  {
   "cell_type": "markdown",
   "metadata": {},
   "source": [
    "Вы работаете в стартапе, который продаёт продукты питания. Нужно разобраться, как ведут себя пользователи вашего мобильного приложения. \n",
    "\n",
    "Изучите воронку продаж. Узнайте, как пользователи доходят до покупки. Сколько пользователей доходит до покупки, а сколько — «застревает» на предыдущих шагах? На каких именно?\n",
    "\n",
    "После этого исследуйте результаты A/A/B-эксперимента. Дизайнеры захотели поменять шрифты во всём приложении, а менеджеры испугались, что пользователям будет непривычно. Договорились принять решение по результатам A/A/B-теста. Пользователей разбили на 3 группы: 2 контрольные со старыми шрифтами и одну экспериментальную — с новыми. Выясните, какой шрифт лучше.\n",
    "\n",
    "Создание двух групп A вместо одной имеет определённые преимущества. Если две контрольные группы окажутся равны, вы можете быть уверены в точности проведенного тестирования. Если же между значениями A и A будут существенные различия, это поможет обнаружить факторы, которые привели к искажению результатов. Сравнение контрольных групп также помогает понять, сколько времени и данных потребуется для дальнейших тестов.\n",
    "\n",
    "В случае общей аналитики и A/A/B-эксперимента работайте с одними и теми же данными. В реальных проектах всегда идут эксперименты. Аналитики исследуют качество работы приложения по общим данным, не учитывая принадлежность пользователей к экспериментам."
   ]
  },
  {
   "cell_type": "markdown",
   "metadata": {},
   "source": [
    "## Описание данных"
   ]
  },
  {
   "cell_type": "markdown",
   "metadata": {},
   "source": [
    "Каждая запись в логе — это действие пользователя, или событие. \n",
    "* EventName — название события;\n",
    "* DeviceIDHash — уникальный идентификатор пользователя;\n",
    "* EventTimestamp — время события;\n",
    "* ExpId — номер эксперимента: 246 и 247 — контрольные группы, а 248 — экспериментальная."
   ]
  },
  {
   "cell_type": "markdown",
   "metadata": {},
   "source": [
    "Инструкция по выполнению проекта\n",
    "* Шаг 1. Откройте файл с данными и изучите общую информацию\n",
    "Путь к файлу: /datasets/logs_exp.csv. \n",
    "\n",
    "* Шаг 2. Подготовьте данные\n",
    "Замените названия столбцов на удобные для вас;\n",
    "Проверьте пропуски и типы данных. Откорректируйте, если нужно;\n",
    "Добавьте столбец даты и времени, а также отдельный столбец дат;\n",
    "\n",
    "* Шаг 3. Изучите и проверьте данные\n",
    "Сколько всего событий в логе?\n",
    "Сколько всего пользователей в логе?\n",
    "Сколько в среднем событий приходится на пользователя?\n",
    "Данными за какой период вы располагаете? Найдите максимальную и минимальную дату. Постройте гистограмму по дате и времени. Можно ли быть уверенным, что у вас одинаково полные данные за весь период? Технически в логи новых дней по некоторым пользователям могут «доезжать» события из прошлого — это может «перекашивать данные». Определите, с какого момента данные полные и отбросьте более старые. Данными за какой период времени вы располагаете на самом деле?\n",
    "Много ли событий и пользователей вы потеряли, отбросив старые данные?\n",
    "Проверьте, что у вас есть пользователи из всех трёх экспериментальных групп.\n",
    "\n",
    "* Шаг 4. Изучите воронку событий\n",
    "Посмотрите, какие события есть в логах, как часто они встречаются. Отсортируйте события по частоте.\n",
    "Посчитайте, сколько пользователей совершали каждое из этих событий. Отсортируйте события по числу пользователей. Посчитайте долю пользователей, которые хоть раз совершали событие.\n",
    "Предположите, в каком порядке происходят события. Все ли они выстраиваются в последовательную цепочку? Их не нужно учитывать при расчёте воронки.\n",
    "По воронке событий посчитайте, какая доля пользователей проходит на следующий шаг воронки (от числа пользователей на предыдущем). То есть для последовательности событий A → B → C посчитайте отношение числа пользователей с событием B к количеству пользователей с событием A, а также отношение числа пользователей с событием C к количеству пользователей с событием B.\n",
    "На каком шаге теряете больше всего пользователей?\n",
    "Какая доля пользователей доходит от первого события до оплаты?\n",
    "\n",
    "* Шаг 5. Изучите результаты эксперимента\n",
    "Сколько пользователей в каждой экспериментальной группе?\n",
    "Есть 2 контрольные группы для А/А-эксперимента, чтобы проверить корректность всех механизмов и расчётов. Проверьте, находят ли статистические критерии разницу между выборками 246 и 247.\n",
    "Выберите самое популярное событие. Посчитайте число пользователей, совершивших это событие в каждой из контрольных групп. Посчитайте долю пользователей, совершивших это событие. Проверьте, будет ли отличие между группами статистически достоверным. Проделайте то же самое для всех других событий (удобно обернуть проверку в отдельную функцию). Можно ли сказать, что разбиение на группы работает корректно?\n",
    "Аналогично поступите с группой с изменённым шрифтом. Сравните результаты с каждой из контрольных групп в отдельности по каждому событию. Сравните результаты с объединённой контрольной группой. Какие выводы из эксперимента можно сделать?\n",
    "Какой уровень значимости вы выбрали при проверке статистических гипотез выше? Посчитайте, сколько проверок статистических гипотез вы сделали. При уровне значимости 0.1 каждый десятый раз можно получать ложный результат. Какой уровень значимости стоит применить? Если вы хотите изменить его, проделайте предыдущие пункты и проверьте свои выводы."
   ]
  },
  {
   "cell_type": "markdown",
   "metadata": {},
   "source": [
    "## Шаг 1"
   ]
  },
  {
   "cell_type": "code",
   "execution_count": 1,
   "metadata": {},
   "outputs": [],
   "source": [
    "import pandas as pd\n",
    "import datetime as dt\n",
    "import numpy as np\n",
    "import matplotlib.pyplot as plt\n",
    "from pandas.plotting import register_matplotlib_converters\n",
    "import warnings\n",
    "import scipy.stats as stats\n",
    "from scipy import stats as st\n",
    "import seaborn as sns\n",
    "import math as mth"
   ]
  },
  {
   "cell_type": "code",
   "execution_count": 2,
   "metadata": {},
   "outputs": [
    {
     "data": {
      "text/html": [
       "<div>\n",
       "<style scoped>\n",
       "    .dataframe tbody tr th:only-of-type {\n",
       "        vertical-align: middle;\n",
       "    }\n",
       "\n",
       "    .dataframe tbody tr th {\n",
       "        vertical-align: top;\n",
       "    }\n",
       "\n",
       "    .dataframe thead th {\n",
       "        text-align: right;\n",
       "    }\n",
       "</style>\n",
       "<table border=\"1\" class=\"dataframe\">\n",
       "  <thead>\n",
       "    <tr style=\"text-align: right;\">\n",
       "      <th></th>\n",
       "      <th>EventName</th>\n",
       "      <th>DeviceIDHash</th>\n",
       "      <th>EventTimestamp</th>\n",
       "      <th>ExpId</th>\n",
       "    </tr>\n",
       "  </thead>\n",
       "  <tbody>\n",
       "    <tr>\n",
       "      <th>0</th>\n",
       "      <td>MainScreenAppear</td>\n",
       "      <td>4575588528974610257</td>\n",
       "      <td>1564029816</td>\n",
       "      <td>246</td>\n",
       "    </tr>\n",
       "    <tr>\n",
       "      <th>1</th>\n",
       "      <td>MainScreenAppear</td>\n",
       "      <td>7416695313311560658</td>\n",
       "      <td>1564053102</td>\n",
       "      <td>246</td>\n",
       "    </tr>\n",
       "    <tr>\n",
       "      <th>2</th>\n",
       "      <td>PaymentScreenSuccessful</td>\n",
       "      <td>3518123091307005509</td>\n",
       "      <td>1564054127</td>\n",
       "      <td>248</td>\n",
       "    </tr>\n",
       "    <tr>\n",
       "      <th>3</th>\n",
       "      <td>CartScreenAppear</td>\n",
       "      <td>3518123091307005509</td>\n",
       "      <td>1564054127</td>\n",
       "      <td>248</td>\n",
       "    </tr>\n",
       "    <tr>\n",
       "      <th>4</th>\n",
       "      <td>PaymentScreenSuccessful</td>\n",
       "      <td>6217807653094995999</td>\n",
       "      <td>1564055322</td>\n",
       "      <td>248</td>\n",
       "    </tr>\n",
       "  </tbody>\n",
       "</table>\n",
       "</div>"
      ],
      "text/plain": [
       "                 EventName         DeviceIDHash  EventTimestamp  ExpId\n",
       "0         MainScreenAppear  4575588528974610257      1564029816    246\n",
       "1         MainScreenAppear  7416695313311560658      1564053102    246\n",
       "2  PaymentScreenSuccessful  3518123091307005509      1564054127    248\n",
       "3         CartScreenAppear  3518123091307005509      1564054127    248\n",
       "4  PaymentScreenSuccessful  6217807653094995999      1564055322    248"
      ]
     },
     "execution_count": 2,
     "metadata": {},
     "output_type": "execute_result"
    }
   ],
   "source": [
    "data = pd.read_csvd# загружаем файл\n",
    "data.head()"
   ]
  },
  {
   "cell_type": "code",
   "execution_count": 3,
   "metadata": {},
   "outputs": [
    {
     "data": {
      "text/plain": [
       "MainScreenAppear           119205\n",
       "OffersScreenAppear          46825\n",
       "CartScreenAppear            42731\n",
       "PaymentScreenSuccessful     34313\n",
       "Tutorial                     1052\n",
       "Name: EventName, dtype: int64"
      ]
     },
     "execution_count": 3,
     "metadata": {},
     "output_type": "execute_result"
    }
   ],
   "source": [
    "data['EventName'].value_counts() # всего 5 событий"
   ]
  },
  {
   "cell_type": "code",
   "execution_count": 4,
   "metadata": {},
   "outputs": [
    {
     "name": "stdout",
     "output_type": "stream",
     "text": [
      "<class 'pandas.core.frame.DataFrame'>\n",
      "RangeIndex: 244126 entries, 0 to 244125\n",
      "Data columns (total 4 columns):\n",
      " #   Column          Non-Null Count   Dtype \n",
      "---  ------          --------------   ----- \n",
      " 0   EventName       244126 non-null  object\n",
      " 1   DeviceIDHash    244126 non-null  int64 \n",
      " 2   EventTimestamp  244126 non-null  int64 \n",
      " 3   ExpId           244126 non-null  int64 \n",
      "dtypes: int64(3), object(1)\n",
      "memory usage: 7.5+ MB\n"
     ]
    }
   ],
   "source": [
    "data.info()"
   ]
  },
  {
   "cell_type": "code",
   "execution_count": 5,
   "metadata": {},
   "outputs": [
    {
     "data": {
      "text/html": [
       "<div>\n",
       "<style scoped>\n",
       "    .dataframe tbody tr th:only-of-type {\n",
       "        vertical-align: middle;\n",
       "    }\n",
       "\n",
       "    .dataframe tbody tr th {\n",
       "        vertical-align: top;\n",
       "    }\n",
       "\n",
       "    .dataframe thead th {\n",
       "        text-align: right;\n",
       "    }\n",
       "</style>\n",
       "<table border=\"1\" class=\"dataframe\">\n",
       "  <thead>\n",
       "    <tr style=\"text-align: right;\">\n",
       "      <th></th>\n",
       "      <th>DeviceIDHash</th>\n",
       "      <th>EventTimestamp</th>\n",
       "      <th>ExpId</th>\n",
       "    </tr>\n",
       "  </thead>\n",
       "  <tbody>\n",
       "    <tr>\n",
       "      <th>count</th>\n",
       "      <td>2.441260e+05</td>\n",
       "      <td>2.441260e+05</td>\n",
       "      <td>244126.000000</td>\n",
       "    </tr>\n",
       "    <tr>\n",
       "      <th>mean</th>\n",
       "      <td>4.627568e+18</td>\n",
       "      <td>1.564914e+09</td>\n",
       "      <td>247.022296</td>\n",
       "    </tr>\n",
       "    <tr>\n",
       "      <th>std</th>\n",
       "      <td>2.642425e+18</td>\n",
       "      <td>1.771343e+05</td>\n",
       "      <td>0.824434</td>\n",
       "    </tr>\n",
       "    <tr>\n",
       "      <th>min</th>\n",
       "      <td>6.888747e+15</td>\n",
       "      <td>1.564030e+09</td>\n",
       "      <td>246.000000</td>\n",
       "    </tr>\n",
       "    <tr>\n",
       "      <th>25%</th>\n",
       "      <td>2.372212e+18</td>\n",
       "      <td>1.564757e+09</td>\n",
       "      <td>246.000000</td>\n",
       "    </tr>\n",
       "    <tr>\n",
       "      <th>50%</th>\n",
       "      <td>4.623192e+18</td>\n",
       "      <td>1.564919e+09</td>\n",
       "      <td>247.000000</td>\n",
       "    </tr>\n",
       "    <tr>\n",
       "      <th>75%</th>\n",
       "      <td>6.932517e+18</td>\n",
       "      <td>1.565075e+09</td>\n",
       "      <td>248.000000</td>\n",
       "    </tr>\n",
       "    <tr>\n",
       "      <th>max</th>\n",
       "      <td>9.222603e+18</td>\n",
       "      <td>1.565213e+09</td>\n",
       "      <td>248.000000</td>\n",
       "    </tr>\n",
       "  </tbody>\n",
       "</table>\n",
       "</div>"
      ],
      "text/plain": [
       "       DeviceIDHash  EventTimestamp          ExpId\n",
       "count  2.441260e+05    2.441260e+05  244126.000000\n",
       "mean   4.627568e+18    1.564914e+09     247.022296\n",
       "std    2.642425e+18    1.771343e+05       0.824434\n",
       "min    6.888747e+15    1.564030e+09     246.000000\n",
       "25%    2.372212e+18    1.564757e+09     246.000000\n",
       "50%    4.623192e+18    1.564919e+09     247.000000\n",
       "75%    6.932517e+18    1.565075e+09     248.000000\n",
       "max    9.222603e+18    1.565213e+09     248.000000"
      ]
     },
     "execution_count": 5,
     "metadata": {},
     "output_type": "execute_result"
    }
   ],
   "source": [
    "data.describe()"
   ]
  },
  {
   "cell_type": "markdown",
   "metadata": {},
   "source": [
    "Пропусков нет,выбросов не видно."
   ]
  },
  {
   "cell_type": "markdown",
   "metadata": {},
   "source": [
    "## Шаг 2"
   ]
  },
  {
   "cell_type": "markdown",
   "metadata": {},
   "source": [
    "* Подготовьте данные \n",
    "* Замените названия столбцов на удобные для вас; \n",
    "* Проверьте пропуски и типы данных. Откорректируйте, если нужно; \n",
    "* Добавьте столбец даты и времени, а также отдельный столбец дат;"
   ]
  },
  {
   "cell_type": "code",
   "execution_count": 6,
   "metadata": {},
   "outputs": [
    {
     "data": {
      "text/html": [
       "<div>\n",
       "<style scoped>\n",
       "    .dataframe tbody tr th:only-of-type {\n",
       "        vertical-align: middle;\n",
       "    }\n",
       "\n",
       "    .dataframe tbody tr th {\n",
       "        vertical-align: top;\n",
       "    }\n",
       "\n",
       "    .dataframe thead th {\n",
       "        text-align: right;\n",
       "    }\n",
       "</style>\n",
       "<table border=\"1\" class=\"dataframe\">\n",
       "  <thead>\n",
       "    <tr style=\"text-align: right;\">\n",
       "      <th></th>\n",
       "      <th>event</th>\n",
       "      <th>user_id</th>\n",
       "      <th>time</th>\n",
       "      <th>group</th>\n",
       "    </tr>\n",
       "  </thead>\n",
       "  <tbody>\n",
       "    <tr>\n",
       "      <th>0</th>\n",
       "      <td>MainScreenAppear</td>\n",
       "      <td>4575588528974610257</td>\n",
       "      <td>1564029816</td>\n",
       "      <td>246</td>\n",
       "    </tr>\n",
       "    <tr>\n",
       "      <th>1</th>\n",
       "      <td>MainScreenAppear</td>\n",
       "      <td>7416695313311560658</td>\n",
       "      <td>1564053102</td>\n",
       "      <td>246</td>\n",
       "    </tr>\n",
       "    <tr>\n",
       "      <th>2</th>\n",
       "      <td>PaymentScreenSuccessful</td>\n",
       "      <td>3518123091307005509</td>\n",
       "      <td>1564054127</td>\n",
       "      <td>248</td>\n",
       "    </tr>\n",
       "    <tr>\n",
       "      <th>3</th>\n",
       "      <td>CartScreenAppear</td>\n",
       "      <td>3518123091307005509</td>\n",
       "      <td>1564054127</td>\n",
       "      <td>248</td>\n",
       "    </tr>\n",
       "    <tr>\n",
       "      <th>4</th>\n",
       "      <td>PaymentScreenSuccessful</td>\n",
       "      <td>6217807653094995999</td>\n",
       "      <td>1564055322</td>\n",
       "      <td>248</td>\n",
       "    </tr>\n",
       "  </tbody>\n",
       "</table>\n",
       "</div>"
      ],
      "text/plain": [
       "                     event              user_id        time  group\n",
       "0         MainScreenAppear  4575588528974610257  1564029816    246\n",
       "1         MainScreenAppear  7416695313311560658  1564053102    246\n",
       "2  PaymentScreenSuccessful  3518123091307005509  1564054127    248\n",
       "3         CartScreenAppear  3518123091307005509  1564054127    248\n",
       "4  PaymentScreenSuccessful  6217807653094995999  1564055322    248"
      ]
     },
     "execution_count": 6,
     "metadata": {},
     "output_type": "execute_result"
    }
   ],
   "source": [
    "# Переименуем столбцы:\n",
    "data = data.rename(columns={\"EventName\": \"event\", \"DeviceIDHash\": \"user_id\", \n",
    "                            \"EventTimestamp\": \"time\", \"ExpId\": \"group\"})\n",
    "data.head()"
   ]
  },
  {
   "cell_type": "code",
   "execution_count": 7,
   "metadata": {},
   "outputs": [
    {
     "data": {
      "text/plain": [
       "413"
      ]
     },
     "execution_count": 7,
     "metadata": {},
     "output_type": "execute_result"
    }
   ],
   "source": [
    "data.duplicated().sum()# смотрим количество дублей\n"
   ]
  },
  {
   "cell_type": "code",
   "execution_count": 8,
   "metadata": {},
   "outputs": [
    {
     "data": {
      "text/html": [
       "<div>\n",
       "<style scoped>\n",
       "    .dataframe tbody tr th:only-of-type {\n",
       "        vertical-align: middle;\n",
       "    }\n",
       "\n",
       "    .dataframe tbody tr th {\n",
       "        vertical-align: top;\n",
       "    }\n",
       "\n",
       "    .dataframe thead th {\n",
       "        text-align: right;\n",
       "    }\n",
       "</style>\n",
       "<table border=\"1\" class=\"dataframe\">\n",
       "  <thead>\n",
       "    <tr style=\"text-align: right;\">\n",
       "      <th></th>\n",
       "      <th>event</th>\n",
       "      <th>user_id</th>\n",
       "      <th>time</th>\n",
       "      <th>group</th>\n",
       "    </tr>\n",
       "  </thead>\n",
       "  <tbody>\n",
       "    <tr>\n",
       "      <th>104108</th>\n",
       "      <td>CartScreenAppear</td>\n",
       "      <td>34565258828294726</td>\n",
       "      <td>1564857221</td>\n",
       "      <td>248</td>\n",
       "    </tr>\n",
       "    <tr>\n",
       "      <th>17037</th>\n",
       "      <td>CartScreenAppear</td>\n",
       "      <td>197027893265565660</td>\n",
       "      <td>1564659614</td>\n",
       "      <td>246</td>\n",
       "    </tr>\n",
       "    <tr>\n",
       "      <th>23421</th>\n",
       "      <td>CartScreenAppear</td>\n",
       "      <td>197027893265565660</td>\n",
       "      <td>1564668928</td>\n",
       "      <td>246</td>\n",
       "    </tr>\n",
       "    <tr>\n",
       "      <th>34223</th>\n",
       "      <td>CartScreenAppear</td>\n",
       "      <td>197027893265565660</td>\n",
       "      <td>1564684544</td>\n",
       "      <td>246</td>\n",
       "    </tr>\n",
       "    <tr>\n",
       "      <th>112562</th>\n",
       "      <td>CartScreenAppear</td>\n",
       "      <td>197027893265565660</td>\n",
       "      <td>1564902904</td>\n",
       "      <td>246</td>\n",
       "    </tr>\n",
       "    <tr>\n",
       "      <th>...</th>\n",
       "      <td>...</td>\n",
       "      <td>...</td>\n",
       "      <td>...</td>\n",
       "      <td>...</td>\n",
       "    </tr>\n",
       "    <tr>\n",
       "      <th>154606</th>\n",
       "      <td>Tutorial</td>\n",
       "      <td>5767286434014984014</td>\n",
       "      <td>1565004351</td>\n",
       "      <td>246</td>\n",
       "    </tr>\n",
       "    <tr>\n",
       "      <th>154607</th>\n",
       "      <td>Tutorial</td>\n",
       "      <td>5767286434014984014</td>\n",
       "      <td>1565004351</td>\n",
       "      <td>246</td>\n",
       "    </tr>\n",
       "    <tr>\n",
       "      <th>154609</th>\n",
       "      <td>Tutorial</td>\n",
       "      <td>5767286434014984014</td>\n",
       "      <td>1565004352</td>\n",
       "      <td>246</td>\n",
       "    </tr>\n",
       "    <tr>\n",
       "      <th>154610</th>\n",
       "      <td>Tutorial</td>\n",
       "      <td>5767286434014984014</td>\n",
       "      <td>1565004352</td>\n",
       "      <td>246</td>\n",
       "    </tr>\n",
       "    <tr>\n",
       "      <th>154611</th>\n",
       "      <td>Tutorial</td>\n",
       "      <td>5767286434014984014</td>\n",
       "      <td>1565004352</td>\n",
       "      <td>246</td>\n",
       "    </tr>\n",
       "  </tbody>\n",
       "</table>\n",
       "<p>413 rows × 4 columns</p>\n",
       "</div>"
      ],
      "text/plain": [
       "                   event              user_id        time  group\n",
       "104108  CartScreenAppear    34565258828294726  1564857221    248\n",
       "17037   CartScreenAppear   197027893265565660  1564659614    246\n",
       "23421   CartScreenAppear   197027893265565660  1564668928    246\n",
       "34223   CartScreenAppear   197027893265565660  1564684544    246\n",
       "112562  CartScreenAppear   197027893265565660  1564902904    246\n",
       "...                  ...                  ...         ...    ...\n",
       "154606          Tutorial  5767286434014984014  1565004351    246\n",
       "154607          Tutorial  5767286434014984014  1565004351    246\n",
       "154609          Tutorial  5767286434014984014  1565004352    246\n",
       "154610          Tutorial  5767286434014984014  1565004352    246\n",
       "154611          Tutorial  5767286434014984014  1565004352    246\n",
       "\n",
       "[413 rows x 4 columns]"
      ]
     },
     "execution_count": 8,
     "metadata": {},
     "output_type": "execute_result"
    }
   ],
   "source": [
    "data[data.duplicated()].sort_values(by=['event','user_id','time','group']) # смотрим значения дублей,\n",
    "# судя по полному совпадению значений неверное копирование- удалим"
   ]
  },
  {
   "cell_type": "code",
   "execution_count": 9,
   "metadata": {},
   "outputs": [],
   "source": [
    "data = data.drop_duplicates() # удаляем дубликаты\n",
    "data = data.reset_index(drop=True) "
   ]
  },
  {
   "cell_type": "code",
   "execution_count": 10,
   "metadata": {},
   "outputs": [
    {
     "data": {
      "text/plain": [
       "0"
      ]
     },
     "execution_count": 10,
     "metadata": {},
     "output_type": "execute_result"
    }
   ],
   "source": [
    "data.duplicated().sum() # проверяем"
   ]
  },
  {
   "cell_type": "code",
   "execution_count": 11,
   "metadata": {},
   "outputs": [],
   "source": [
    "data['datetime'] = pd.to_datetime(data['time'], unit='s') # добавляем столбец с датой и временем\n",
    "data['date'] = data['datetime'].dt.date # добавляем столбец с датой"
   ]
  },
  {
   "cell_type": "code",
   "execution_count": 12,
   "metadata": {},
   "outputs": [
    {
     "name": "stdout",
     "output_type": "stream",
     "text": [
      "<class 'pandas.core.frame.DataFrame'>\n",
      "RangeIndex: 243713 entries, 0 to 243712\n",
      "Data columns (total 6 columns):\n",
      " #   Column    Non-Null Count   Dtype         \n",
      "---  ------    --------------   -----         \n",
      " 0   event     243713 non-null  object        \n",
      " 1   user_id   243713 non-null  int64         \n",
      " 2   time      243713 non-null  int64         \n",
      " 3   group     243713 non-null  int64         \n",
      " 4   datetime  243713 non-null  datetime64[ns]\n",
      " 5   date      243713 non-null  object        \n",
      "dtypes: datetime64[ns](1), int64(3), object(2)\n",
      "memory usage: 11.2+ MB\n"
     ]
    }
   ],
   "source": [
    "data.info() # проверяем"
   ]
  },
  {
   "cell_type": "code",
   "execution_count": 13,
   "metadata": {},
   "outputs": [],
   "source": [
    "data['date'] = data['date'].astype('datetime64') # меняем тип данных date"
   ]
  },
  {
   "cell_type": "code",
   "execution_count": 14,
   "metadata": {
    "scrolled": false
   },
   "outputs": [
    {
     "data": {
      "text/html": [
       "<div>\n",
       "<style scoped>\n",
       "    .dataframe tbody tr th:only-of-type {\n",
       "        vertical-align: middle;\n",
       "    }\n",
       "\n",
       "    .dataframe tbody tr th {\n",
       "        vertical-align: top;\n",
       "    }\n",
       "\n",
       "    .dataframe thead th {\n",
       "        text-align: right;\n",
       "    }\n",
       "</style>\n",
       "<table border=\"1\" class=\"dataframe\">\n",
       "  <thead>\n",
       "    <tr style=\"text-align: right;\">\n",
       "      <th></th>\n",
       "      <th>event</th>\n",
       "      <th>user_id</th>\n",
       "      <th>time</th>\n",
       "      <th>group</th>\n",
       "      <th>datetime</th>\n",
       "      <th>date</th>\n",
       "    </tr>\n",
       "  </thead>\n",
       "  <tbody>\n",
       "    <tr>\n",
       "      <th>0</th>\n",
       "      <td>MainScreenAppear</td>\n",
       "      <td>4575588528974610257</td>\n",
       "      <td>1564029816</td>\n",
       "      <td>246</td>\n",
       "      <td>2019-07-25 04:43:36</td>\n",
       "      <td>2019-07-25</td>\n",
       "    </tr>\n",
       "    <tr>\n",
       "      <th>1</th>\n",
       "      <td>MainScreenAppear</td>\n",
       "      <td>7416695313311560658</td>\n",
       "      <td>1564053102</td>\n",
       "      <td>246</td>\n",
       "      <td>2019-07-25 11:11:42</td>\n",
       "      <td>2019-07-25</td>\n",
       "    </tr>\n",
       "    <tr>\n",
       "      <th>2</th>\n",
       "      <td>PaymentScreenSuccessful</td>\n",
       "      <td>3518123091307005509</td>\n",
       "      <td>1564054127</td>\n",
       "      <td>248</td>\n",
       "      <td>2019-07-25 11:28:47</td>\n",
       "      <td>2019-07-25</td>\n",
       "    </tr>\n",
       "    <tr>\n",
       "      <th>3</th>\n",
       "      <td>CartScreenAppear</td>\n",
       "      <td>3518123091307005509</td>\n",
       "      <td>1564054127</td>\n",
       "      <td>248</td>\n",
       "      <td>2019-07-25 11:28:47</td>\n",
       "      <td>2019-07-25</td>\n",
       "    </tr>\n",
       "    <tr>\n",
       "      <th>4</th>\n",
       "      <td>PaymentScreenSuccessful</td>\n",
       "      <td>6217807653094995999</td>\n",
       "      <td>1564055322</td>\n",
       "      <td>248</td>\n",
       "      <td>2019-07-25 11:48:42</td>\n",
       "      <td>2019-07-25</td>\n",
       "    </tr>\n",
       "  </tbody>\n",
       "</table>\n",
       "</div>"
      ],
      "text/plain": [
       "                     event              user_id        time  group  \\\n",
       "0         MainScreenAppear  4575588528974610257  1564029816    246   \n",
       "1         MainScreenAppear  7416695313311560658  1564053102    246   \n",
       "2  PaymentScreenSuccessful  3518123091307005509  1564054127    248   \n",
       "3         CartScreenAppear  3518123091307005509  1564054127    248   \n",
       "4  PaymentScreenSuccessful  6217807653094995999  1564055322    248   \n",
       "\n",
       "             datetime       date  \n",
       "0 2019-07-25 04:43:36 2019-07-25  \n",
       "1 2019-07-25 11:11:42 2019-07-25  \n",
       "2 2019-07-25 11:28:47 2019-07-25  \n",
       "3 2019-07-25 11:28:47 2019-07-25  \n",
       "4 2019-07-25 11:48:42 2019-07-25  "
      ]
     },
     "execution_count": 14,
     "metadata": {},
     "output_type": "execute_result"
    }
   ],
   "source": [
    "data.head(5)"
   ]
  },
  {
   "cell_type": "code",
   "execution_count": 15,
   "metadata": {},
   "outputs": [
    {
     "data": {
      "text/html": [
       "<div>\n",
       "<style scoped>\n",
       "    .dataframe tbody tr th:only-of-type {\n",
       "        vertical-align: middle;\n",
       "    }\n",
       "\n",
       "    .dataframe tbody tr th {\n",
       "        vertical-align: top;\n",
       "    }\n",
       "\n",
       "    .dataframe thead th {\n",
       "        text-align: right;\n",
       "    }\n",
       "</style>\n",
       "<table border=\"1\" class=\"dataframe\">\n",
       "  <thead>\n",
       "    <tr style=\"text-align: right;\">\n",
       "      <th></th>\n",
       "      <th>user_id</th>\n",
       "      <th>group</th>\n",
       "    </tr>\n",
       "  </thead>\n",
       "  <tbody>\n",
       "  </tbody>\n",
       "</table>\n",
       "</div>"
      ],
      "text/plain": [
       "Empty DataFrame\n",
       "Columns: [user_id, group]\n",
       "Index: []"
      ]
     },
     "execution_count": 15,
     "metadata": {},
     "output_type": "execute_result"
    }
   ],
   "source": [
    "users_all_group = data.groupby('user_id').agg( # проверяем есть ли одинаковые пользователи в разных группах\n",
    "    {'group': 'nunique'}).query('group > 1').reset_index()\n",
    "users_all_group"
   ]
  },
  {
   "cell_type": "markdown",
   "metadata": {},
   "source": [
    "Результат:\n",
    "* Пропусков нет\n",
    "* Дубли удалили\n",
    "* Нужные столбцы добавили\n",
    "* Поменяли тип данных для дальнейшей работы\n",
    "* Проверили наличие одних юзеров в разных группах,таких нет"
   ]
  },
  {
   "cell_type": "markdown",
   "metadata": {},
   "source": [
    "## Шаг 3"
   ]
  },
  {
   "cell_type": "markdown",
   "metadata": {},
   "source": [
    "Изучите и проверьте данные \n",
    "* Сколько всего событий в логе? \n",
    "* Сколько всего пользователей в логе? \n",
    "* Сколько в среднем событий приходится на пользователя? \n",
    "* Данными за какой период вы располагаете? \n",
    "* Найдите максимальную и минимальную дату. \n",
    "* Постройте гистограмму по дате и времени.  \n",
    "* Определите, с какого момента данные полные и отбросьте более старые. \n",
    "* Данными за какой период времени вы располагаете на самом деле? \n",
    "* Много ли событий и пользователей вы потеряли, отбросив старые данные? \n",
    "* Проверьте, что у вас есть пользователи из всех трёх экспериментальных групп."
   ]
  },
  {
   "cell_type": "markdown",
   "metadata": {},
   "source": [
    "### Сколько всего событий в логе?\n",
    "### Сколько всего пользователей в логе?\n",
    "### Сколько в среднем событий приходится на пользователя?"
   ]
  },
  {
   "cell_type": "code",
   "execution_count": 16,
   "metadata": {},
   "outputs": [
    {
     "name": "stdout",
     "output_type": "stream",
     "text": [
      "Всего событий:  243713\n",
      "Всего пользователей:  7551\n",
      "Среднее количество событий на пользователя:  32.27559263673685\n"
     ]
    }
   ],
   "source": [
    "events = len(data['event']) # всего событий\n",
    "users = data['user_id'].nunique() # всего уникальных пользователей\n",
    "\n",
    "\n",
    "print('Всего событий: ',len(data['event']))\n",
    "print('Всего пользователей: ',data['user_id'].nunique())\n",
    "print(\"Среднее количество событий на пользователя: \", (events / users))"
   ]
  },
  {
   "cell_type": "markdown",
   "metadata": {},
   "source": [
    "### Данными за какой период вы располагаете?\n",
    "### Найдите максимальную и минимальную дату.\n",
    "### Постройте гистограмму по дате и времени.\n",
    "### Можно ли быть уверенным, что у вас одинаково полные данные за весь период?\n",
    "\n",
    "### Определите, с какого момента данные полные и отбросьте более старые.\n",
    "### Данными за какой период времени вы располагаете на самом деле?"
   ]
  },
  {
   "cell_type": "code",
   "execution_count": 17,
   "metadata": {
    "scrolled": false
   },
   "outputs": [
    {
     "name": "stderr",
     "output_type": "stream",
     "text": [
      "/tmp/ipykernel_703/1795728277.py:1: FutureWarning: Treating datetime data as categorical rather than numeric in `.describe` is deprecated and will be removed in a future version of pandas. Specify `datetime_is_numeric=True` to silence this warning and adopt the future behavior now.\n",
      "  data['date'].describe() # смотрим даты, минимальную и максимальную даты\n"
     ]
    },
    {
     "data": {
      "text/plain": [
       "count                  243713\n",
       "unique                     14\n",
       "top       2019-08-01 00:00:00\n",
       "freq                    36141\n",
       "first     2019-07-25 00:00:00\n",
       "last      2019-08-07 00:00:00\n",
       "Name: date, dtype: object"
      ]
     },
     "execution_count": 17,
     "metadata": {},
     "output_type": "execute_result"
    }
   ],
   "source": [
    "data['date'].describe() # смотрим даты, минимальную и максимальную даты"
   ]
  },
  {
   "cell_type": "markdown",
   "metadata": {},
   "source": [
    "Минимальная дата логов 25.07.2019,максимальная 07.08.2019"
   ]
  },
  {
   "cell_type": "code",
   "execution_count": 18,
   "metadata": {
    "scrolled": false
   },
   "outputs": [
    {
     "data": {
      "image/png": "[encoded data removed]",
      "text/plain": [
       "<Figure size 1080x360 with 1 Axes>"
      ]
     },
     "metadata": {
      "needs_background": "light"
     },
     "output_type": "display_data"
    }
   ],
   "source": [
    "plt.figure(figsize=(15,5))\n",
    "plt.hist(data['date'], bins=14) \n",
    "plt.xlabel('Даты')\n",
    "plt.ylabel('Количество логов')\n",
    "plt.title('Количество логов по датам'); # строим гистограмму по датам"
   ]
  },
  {
   "cell_type": "code",
   "execution_count": 19,
   "metadata": {},
   "outputs": [
    {
     "data": {
      "image/png": "[encoded data removed]",
      "text/plain": [
       "<Figure size 1080x360 with 1 Axes>"
      ]
     },
     "metadata": {
      "needs_background": "light"
     },
     "output_type": "display_data"
    }
   ],
   "source": [
    "plt.figure(figsize=(15,5))\n",
    "plt.hist(data['datetime'].dt.hour, bins=24) \n",
    "plt.xlabel('Часы')\n",
    "plt.ylabel('Количество логов')\n",
    "plt.title('Количество логов по часам');"
   ]
  },
  {
   "cell_type": "markdown",
   "metadata": {},
   "source": [
    "По датам видим очень маленькое количество логов за июль.\n",
    "По времени видим,что основное количество действия пользователи проводят в рабочее время."
   ]
  },
  {
   "cell_type": "code",
   "execution_count": 20,
   "metadata": {},
   "outputs": [
    {
     "data": {
      "text/plain": [
       "2019-08-01    36141\n",
       "2019-08-05    36058\n",
       "2019-08-06    35788\n",
       "2019-08-02    35554\n",
       "2019-08-03    33282\n",
       "2019-08-04    32968\n",
       "2019-08-07    31096\n",
       "Name: date, dtype: int64"
      ]
     },
     "execution_count": 20,
     "metadata": {},
     "output_type": "execute_result"
    }
   ],
   "source": [
    "data = data[data['date'] >= '2019-08-01'].reset_index(drop=True)# перезаписываем переменную с обновленными датами\n",
    "data['date'].value_counts() # проверяем"
   ]
  },
  {
   "cell_type": "markdown",
   "metadata": {},
   "source": [
    "Полные данные у нас с 01.08.2019 по 07.08.2019,июльские даты мы отбросили."
   ]
  },
  {
   "cell_type": "code",
   "execution_count": 21,
   "metadata": {
    "scrolled": false
   },
   "outputs": [
    {
     "name": "stdout",
     "output_type": "stream",
     "text": [
      "Отфильтрованные пользователи:  17\n",
      "Доля отфильтрованных пользователей: 0.22513574361011784\n",
      "Отфильтрованные события:  2826\n",
      "Доля отфильтрованных пользователей: 1.159560630741897\n"
     ]
    }
   ],
   "source": [
    "new_users = data['user_id'].nunique()\n",
    "print('Отфильтрованные пользователи: ',users-new_users)\n",
    "print('Доля отфильтрованных пользователей:',(users-new_users) / users* 100)\n",
    "\n",
    "new_events = data['event'].count()\n",
    "print('Отфильтрованные события: ',events-new_events)\n",
    "print('Доля отфильтрованных пользователей:',(events-new_events) / events* 100)"
   ]
  },
  {
   "cell_type": "markdown",
   "metadata": {},
   "source": [
    "Количество логов в июле несущественно,чуть более 1 % от общего количества,а пользователей 0.2 %.Можно отбросить."
   ]
  },
  {
   "cell_type": "markdown",
   "metadata": {},
   "source": [
    "### Проверьте, что у вас есть пользователи из всех трёх экспериментальных групп."
   ]
  },
  {
   "cell_type": "code",
   "execution_count": 22,
   "metadata": {},
   "outputs": [
    {
     "data": {
      "text/plain": [
       "248    84563\n",
       "246    79302\n",
       "247    77022\n",
       "Name: group, dtype: int64"
      ]
     },
     "execution_count": 22,
     "metadata": {},
     "output_type": "execute_result"
    }
   ],
   "source": [
    "data['group'].value_counts()"
   ]
  },
  {
   "cell_type": "markdown",
   "metadata": {},
   "source": [
    "Все группы на месте.\n",
    "Группы почти идеинтичны по количеству."
   ]
  },
  {
   "cell_type": "markdown",
   "metadata": {},
   "source": [
    "## Шаг 4"
   ]
  },
  {
   "cell_type": "markdown",
   "metadata": {},
   "source": [
    "* Изучите воронку событий Посмотрите, какие события есть в логах, как часто они встречаются. \n",
    "Отсортируйте события по частоте. \n",
    "* Посчитайте, сколько пользователей совершали каждое из этих событий. \n",
    " Отсортируйте события по числу пользователей. Посчитайте долю пользователей, которые хоть раз совершали событие. \n",
    "* Предположите, в каком порядке происходят события. Все ли они выстраиваются в последовательную цепочку? Их не нужно учитывать при расчёте воронки. \n",
    "* По воронке событий посчитайте, какая доля пользователей проходит на следующий шаг воронки (от числа пользователей на предыдущем). То есть для последовательности событий A → B → C посчитайте отношение числа пользователей с событием B к количеству пользователей с событием A, а также отношение числа пользователей с событием C к количеству пользователей с событием B. \n",
    "* На каком шаге теряете больше всего пользователей? Какая доля пользователей доходит от первого события до оплаты?"
   ]
  },
  {
   "cell_type": "markdown",
   "metadata": {},
   "source": [
    "### Изучите воронку событий Посмотрите, какие события есть в логах, как часто они встречаются. Отсортируйте события по частоте."
   ]
  },
  {
   "cell_type": "code",
   "execution_count": 23,
   "metadata": {},
   "outputs": [
    {
     "data": {
      "text/plain": [
       "MainScreenAppear           117328\n",
       "OffersScreenAppear          46333\n",
       "CartScreenAppear            42303\n",
       "PaymentScreenSuccessful     33918\n",
       "Tutorial                     1005\n",
       "Name: event, dtype: int64"
      ]
     },
     "execution_count": 23,
     "metadata": {},
     "output_type": "execute_result"
    }
   ],
   "source": [
    "data['event'].value_counts() # смотрим какие события есть в логах"
   ]
  },
  {
   "cell_type": "code",
   "execution_count": 24,
   "metadata": {},
   "outputs": [
    {
     "data": {
      "image/png": "[encoded data removed]",
      "text/plain": [
       "<Figure size 432x288 with 1 Axes>"
      ]
     },
     "metadata": {},
     "output_type": "display_data"
    }
   ],
   "source": [
    "fig, ax = plt.subplots()# построим визуализацию\n",
    "x = [117328,46333,42303,33918,1005]\n",
    "ax.pie(x,labels = data['event'].value_counts().index,autopct='%.2f%%',startangle=280,radius=2)\n",
    "ax.set_title('Частота событий в логах') \n",
    "plt.show();"
   ]
  },
  {
   "cell_type": "markdown",
   "metadata": {},
   "source": [
    "* MainScreenAppear (Главный экран) посмотрели 117328 раз ( 48 % из общего числа событий)\n",
    "* OffersScreenAppear (Продающий экран) посмотрели 46333 раз (19%)\n",
    "* CartScreenAppear (Корзина) посмотрели 42303 раз (17%)\n",
    "* PaymentScreenSuccessful (Завершение оплаты) увидели 33918 раз (14%)\n",
    "* Tutorial (Урок) просмотрели 1005 раз (менее 1 %)"
   ]
  },
  {
   "cell_type": "markdown",
   "metadata": {},
   "source": [
    "### Отсортируйте события по числу пользователей. Посчитайте долю пользователей, которые хоть раз совершали событие."
   ]
  },
  {
   "cell_type": "code",
   "execution_count": 25,
   "metadata": {},
   "outputs": [
    {
     "data": {
      "text/html": [
       "<div>\n",
       "<style scoped>\n",
       "    .dataframe tbody tr th:only-of-type {\n",
       "        vertical-align: middle;\n",
       "    }\n",
       "\n",
       "    .dataframe tbody tr th {\n",
       "        vertical-align: top;\n",
       "    }\n",
       "\n",
       "    .dataframe thead th {\n",
       "        text-align: right;\n",
       "    }\n",
       "</style>\n",
       "<table border=\"1\" class=\"dataframe\">\n",
       "  <thead>\n",
       "    <tr style=\"text-align: right;\">\n",
       "      <th></th>\n",
       "      <th>event</th>\n",
       "      <th>cnt_events</th>\n",
       "      <th>users</th>\n",
       "      <th>users_one_time</th>\n",
       "    </tr>\n",
       "  </thead>\n",
       "  <tbody>\n",
       "    <tr>\n",
       "      <th>0</th>\n",
       "      <td>MainScreenAppear</td>\n",
       "      <td>117328</td>\n",
       "      <td>7419</td>\n",
       "      <td>98.473586</td>\n",
       "    </tr>\n",
       "    <tr>\n",
       "      <th>1</th>\n",
       "      <td>OffersScreenAppear</td>\n",
       "      <td>46333</td>\n",
       "      <td>4593</td>\n",
       "      <td>60.963632</td>\n",
       "    </tr>\n",
       "    <tr>\n",
       "      <th>2</th>\n",
       "      <td>CartScreenAppear</td>\n",
       "      <td>42303</td>\n",
       "      <td>3734</td>\n",
       "      <td>49.561986</td>\n",
       "    </tr>\n",
       "    <tr>\n",
       "      <th>3</th>\n",
       "      <td>PaymentScreenSuccessful</td>\n",
       "      <td>33918</td>\n",
       "      <td>3539</td>\n",
       "      <td>46.973719</td>\n",
       "    </tr>\n",
       "    <tr>\n",
       "      <th>4</th>\n",
       "      <td>Tutorial</td>\n",
       "      <td>1005</td>\n",
       "      <td>840</td>\n",
       "      <td>11.149456</td>\n",
       "    </tr>\n",
       "  </tbody>\n",
       "</table>\n",
       "</div>"
      ],
      "text/plain": [
       "                     event  cnt_events  users  users_one_time\n",
       "0         MainScreenAppear      117328   7419       98.473586\n",
       "1       OffersScreenAppear       46333   4593       60.963632\n",
       "2         CartScreenAppear       42303   3734       49.561986\n",
       "3  PaymentScreenSuccessful       33918   3539       46.973719\n",
       "4                 Tutorial        1005    840       11.149456"
      ]
     },
     "execution_count": 25,
     "metadata": {},
     "output_type": "execute_result"
    }
   ],
   "source": [
    "ev_users = data.groupby('event').agg({'event':'count', 'user_id':'nunique'}).sort_values(by='user_id', ascending=False)\n",
    "ev_users.columns = ['cnt_events', 'users']\n",
    "ev_users = ev_users.reset_index()\n",
    "ev_users['users_one_time'] = (ev_users['users'] / new_users * 100) # добавим к нашей таблице столбец с долей пользователей,\n",
    "# которые совершили хотя бы одно событие\n",
    "ev_users"
   ]
  },
  {
   "cell_type": "code",
   "execution_count": 26,
   "metadata": {},
   "outputs": [
    {
     "data": {
      "image/png": "[encoded data removed]",
      "text/plain": [
       "<Figure size 1080x432 with 1 Axes>"
      ]
     },
     "metadata": {
      "needs_background": "light"
     },
     "output_type": "display_data"
    }
   ],
   "source": [
    "plt.figure(figsize=(15,6)) # визуализируем События по числу пользователей\n",
    "sns.barplot(y='users', x='event', data=ev_users);\n",
    "plt.xlabel('События в логах')\n",
    "plt.ylabel('Пользователи')\n",
    "plt.title('События по числу пользователей')\n",
    "plt.show();"
   ]
  },
  {
   "cell_type": "code",
   "execution_count": 27,
   "metadata": {},
   "outputs": [
    {
     "data": {
      "image/png": "[encoded data removed]",
      "text/plain": [
       "<Figure size 1080x432 with 1 Axes>"
      ]
     },
     "metadata": {
      "needs_background": "light"
     },
     "output_type": "display_data"
    }
   ],
   "source": [
    "plt.figure(figsize=(15,6)) # визуализируем по Доле пользователей хотя бы с одним действием\n",
    "sns.barplot(y='users_one_time', x='event', data=ev_users);\n",
    "plt.xlabel('События в логах')\n",
    "plt.ylabel('Пользователи,%')\n",
    "plt.title('Доля пользователей хотя бы с одним действием')\n",
    "plt.show();"
   ]
  },
  {
   "cell_type": "markdown",
   "metadata": {},
   "source": [
    "* MainScreenAppear (Главный экран) посмотрели 7419 пользователей ( 98 % из общего числа пользователей хотя бы раз)\n",
    "* OffersScreenAppear (Продающий экран) посмотрели 4593 пользователей ( 60 % из общего числа пользователей хотя бы раз)\n",
    "* CartScreenAppear (Корзина) посмотрели 3734 пользователей ( 49 % из общего числа пользователей хотя бы раз)\n",
    "* PaymentScreenSuccessful (Завершение оплаты) посмотрели 3539 пользователей ( 46 % из общего числа пользователей хотя бы раз)\n",
    "* Tutorial (Урок) посмотрели 840 пользователей ( 11 % из общего числа пользователей хотя бы раз)\n"
   ]
  },
  {
   "cell_type": "markdown",
   "metadata": {},
   "source": [
    "### Предположите, в каком порядке происходят события. Все ли они выстраиваются в последовательную цепочку? Их не нужно учитывать при расчёте воронки."
   ]
  },
  {
   "cell_type": "markdown",
   "metadata": {},
   "source": [
    "На графиках выше видно,что количество пользователей доходя до следующего этапа падает,что логично.\n",
    "\n",
    "Порядок следующий:\n",
    "MainScreenAppear (Главный экран)---OffersScreenAppear (Продающий экран)---CartScreenAppear (Корзина)---PaymentScreenSuccessful (Завершение оплаты)\n",
    "\n",
    "Tutorial (Урок) не совсем входит в обязательную цепочку событий пользователя,возможно также может быть просмотрен в любой момент,что мешает логике прохождения последовательного прохождения по этапам.\n",
    "Считаю,что данное событие возможно исключить."
   ]
  },
  {
   "cell_type": "markdown",
   "metadata": {},
   "source": [
    "### По воронке событий посчитайте, какая доля пользователей проходит на следующий шаг воронки (от числа пользователей на предыдущем). То есть для последовательности событий A → B → C посчитайте отношение числа пользователей с событием B к количеству пользователей с событием A, а также отношение числа пользователей с событием C к количеству пользователей с событием B."
   ]
  },
  {
   "cell_type": "code",
   "execution_count": 28,
   "metadata": {
    "scrolled": true
   },
   "outputs": [
    {
     "name": "stderr",
     "output_type": "stream",
     "text": [
      "/tmp/ipykernel_703/789448692.py:2: SettingWithCopyWarning: \n",
      "A value is trying to be set on a copy of a slice from a DataFrame.\n",
      "Try using .loc[row_indexer,col_indexer] = value instead\n",
      "\n",
      "See the caveats in the documentation: https://pandas.pydata.org/pandas-docs/stable/user_guide/indexing.html#returning-a-view-versus-a-copy\n",
      "  ev_users['values_previous %'] = round(ev_users['users'] /\n"
     ]
    },
    {
     "data": {
      "text/html": [
       "<div>\n",
       "<style scoped>\n",
       "    .dataframe tbody tr th:only-of-type {\n",
       "        vertical-align: middle;\n",
       "    }\n",
       "\n",
       "    .dataframe tbody tr th {\n",
       "        vertical-align: top;\n",
       "    }\n",
       "\n",
       "    .dataframe thead th {\n",
       "        text-align: right;\n",
       "    }\n",
       "</style>\n",
       "<table border=\"1\" class=\"dataframe\">\n",
       "  <thead>\n",
       "    <tr style=\"text-align: right;\">\n",
       "      <th></th>\n",
       "      <th>event</th>\n",
       "      <th>cnt_events</th>\n",
       "      <th>users</th>\n",
       "      <th>users_one_time</th>\n",
       "      <th>values_previous %</th>\n",
       "    </tr>\n",
       "  </thead>\n",
       "  <tbody>\n",
       "    <tr>\n",
       "      <th>0</th>\n",
       "      <td>MainScreenAppear</td>\n",
       "      <td>117328</td>\n",
       "      <td>7419</td>\n",
       "      <td>98.473586</td>\n",
       "      <td>100.0</td>\n",
       "    </tr>\n",
       "    <tr>\n",
       "      <th>1</th>\n",
       "      <td>OffersScreenAppear</td>\n",
       "      <td>46333</td>\n",
       "      <td>4593</td>\n",
       "      <td>60.963632</td>\n",
       "      <td>61.9</td>\n",
       "    </tr>\n",
       "    <tr>\n",
       "      <th>2</th>\n",
       "      <td>CartScreenAppear</td>\n",
       "      <td>42303</td>\n",
       "      <td>3734</td>\n",
       "      <td>49.561986</td>\n",
       "      <td>81.3</td>\n",
       "    </tr>\n",
       "    <tr>\n",
       "      <th>3</th>\n",
       "      <td>PaymentScreenSuccessful</td>\n",
       "      <td>33918</td>\n",
       "      <td>3539</td>\n",
       "      <td>46.973719</td>\n",
       "      <td>94.8</td>\n",
       "    </tr>\n",
       "  </tbody>\n",
       "</table>\n",
       "</div>"
      ],
      "text/plain": [
       "                     event  cnt_events  users  users_one_time  \\\n",
       "0         MainScreenAppear      117328   7419       98.473586   \n",
       "1       OffersScreenAppear       46333   4593       60.963632   \n",
       "2         CartScreenAppear       42303   3734       49.561986   \n",
       "3  PaymentScreenSuccessful       33918   3539       46.973719   \n",
       "\n",
       "   values_previous %  \n",
       "0              100.0  \n",
       "1               61.9  \n",
       "2               81.3  \n",
       "3               94.8  "
      ]
     },
     "execution_count": 28,
     "metadata": {},
     "output_type": "execute_result"
    }
   ],
   "source": [
    "ev_users = ev_users[ev_users['event'] != 'Tutorial'] # уберем из нашей таблицы события Tutorial\n",
    "ev_users['values_previous %'] = round(ev_users['users'] / \n",
    "                                     ev_users['users']\n",
    "                                     .shift(periods=1, fill_value=ev_users['users'][0]) * 100,1)\n",
    "                                     \n",
    "\n",
    "ev_users"
   ]
  },
  {
   "cell_type": "markdown",
   "metadata": {},
   "source": [
    "* 62 % пользователей переходят с этапа MainScreenAppear (Главный экран) на OffersScreenAppear (Продающий экран)\n",
    "* 81 % пользователей переходят с этапа OffersScreenAppear (Продающий экран) на CartScreenAppear (Корзина) \n",
    "* 95 % пользователей переходят с этапа CartScreenAppear (Корзина) на PaymentScreenSuccessful (Завершение оплаты)"
   ]
  },
  {
   "cell_type": "markdown",
   "metadata": {},
   "source": [
    "### На каком шаге теряете больше всего пользователей? Какая доля пользователей доходит от первого события до оплаты?\n"
   ]
  },
  {
   "cell_type": "markdown",
   "metadata": {},
   "source": [
    "По таблице выше видим,что наибольшее число пользвателей теряется на переходе от MainScreenAppear (Главный экран) на OffersScreenAppear (Продающий экран).\n"
   ]
  },
  {
   "cell_type": "code",
   "execution_count": 29,
   "metadata": {},
   "outputs": [
    {
     "name": "stderr",
     "output_type": "stream",
     "text": [
      "/tmp/ipykernel_703/1550062662.py:1: SettingWithCopyWarning: \n",
      "A value is trying to be set on a copy of a slice from a DataFrame.\n",
      "Try using .loc[row_indexer,col_indexer] = value instead\n",
      "\n",
      "See the caveats in the documentation: https://pandas.pydata.org/pandas-docs/stable/user_guide/indexing.html#returning-a-view-versus-a-copy\n",
      "  ev_users['values_all_steps %'] = round(ev_users['users'] / ev_users['users'].iloc[0] * 100,1)\n"
     ]
    },
    {
     "data": {
      "text/html": [
       "<div>\n",
       "<style scoped>\n",
       "    .dataframe tbody tr th:only-of-type {\n",
       "        vertical-align: middle;\n",
       "    }\n",
       "\n",
       "    .dataframe tbody tr th {\n",
       "        vertical-align: top;\n",
       "    }\n",
       "\n",
       "    .dataframe thead th {\n",
       "        text-align: right;\n",
       "    }\n",
       "</style>\n",
       "<table border=\"1\" class=\"dataframe\">\n",
       "  <thead>\n",
       "    <tr style=\"text-align: right;\">\n",
       "      <th></th>\n",
       "      <th>event</th>\n",
       "      <th>cnt_events</th>\n",
       "      <th>users</th>\n",
       "      <th>users_one_time</th>\n",
       "      <th>values_previous %</th>\n",
       "      <th>values_all_steps %</th>\n",
       "    </tr>\n",
       "  </thead>\n",
       "  <tbody>\n",
       "    <tr>\n",
       "      <th>0</th>\n",
       "      <td>MainScreenAppear</td>\n",
       "      <td>117328</td>\n",
       "      <td>7419</td>\n",
       "      <td>98.473586</td>\n",
       "      <td>100.0</td>\n",
       "      <td>100.0</td>\n",
       "    </tr>\n",
       "    <tr>\n",
       "      <th>1</th>\n",
       "      <td>OffersScreenAppear</td>\n",
       "      <td>46333</td>\n",
       "      <td>4593</td>\n",
       "      <td>60.963632</td>\n",
       "      <td>61.9</td>\n",
       "      <td>61.9</td>\n",
       "    </tr>\n",
       "    <tr>\n",
       "      <th>2</th>\n",
       "      <td>CartScreenAppear</td>\n",
       "      <td>42303</td>\n",
       "      <td>3734</td>\n",
       "      <td>49.561986</td>\n",
       "      <td>81.3</td>\n",
       "      <td>50.3</td>\n",
       "    </tr>\n",
       "    <tr>\n",
       "      <th>3</th>\n",
       "      <td>PaymentScreenSuccessful</td>\n",
       "      <td>33918</td>\n",
       "      <td>3539</td>\n",
       "      <td>46.973719</td>\n",
       "      <td>94.8</td>\n",
       "      <td>47.7</td>\n",
       "    </tr>\n",
       "  </tbody>\n",
       "</table>\n",
       "</div>"
      ],
      "text/plain": [
       "                     event  cnt_events  users  users_one_time  \\\n",
       "0         MainScreenAppear      117328   7419       98.473586   \n",
       "1       OffersScreenAppear       46333   4593       60.963632   \n",
       "2         CartScreenAppear       42303   3734       49.561986   \n",
       "3  PaymentScreenSuccessful       33918   3539       46.973719   \n",
       "\n",
       "   values_previous %  values_all_steps %  \n",
       "0              100.0               100.0  \n",
       "1               61.9                61.9  \n",
       "2               81.3                50.3  \n",
       "3               94.8                47.7  "
      ]
     },
     "execution_count": 29,
     "metadata": {},
     "output_type": "execute_result"
    }
   ],
   "source": [
    "ev_users['values_all_steps %'] = round(ev_users['users'] / ev_users['users'].iloc[0] * 100,1)\n",
    "# ev_users = ev_users.reset_index()\n",
    "ev_users\n"
   ]
  },
  {
   "cell_type": "markdown",
   "metadata": {},
   "source": [
    "Видим,что 47 % пользователей доходят до оплаты с первого этапа.Что неплохо."
   ]
  },
  {
   "cell_type": "markdown",
   "metadata": {},
   "source": [
    "## Шаг 5"
   ]
  },
  {
   "cell_type": "markdown",
   "metadata": {},
   "source": [
    "Изучите результаты эксперимента: \n",
    "\n",
    "* Сколько пользователей в каждой экспериментальной группе? \n",
    "Есть 2 контрольные группы для А/А-эксперимента, чтобы проверить корректность всех механизмов и расчётов.\n",
    "\n",
    "* Проверьте, находят ли статистические критерии разницу между выборками 246 и 247. Выберите самое популярное событие. \n",
    "\n",
    "* Посчитайте число пользователей, совершивших это событие в каждой из контрольных групп. \n",
    "\n",
    "* Посчитайте долю пользователей, совершивших это событие. \n",
    "\n",
    "* Проверьте, будет ли отличие между группами статистически достоверным. Проделайте то же самое для всех других событий (удобно обернуть проверку в отдельную функцию). \n",
    "\n",
    "* Можно ли сказать, что разбиение на группы работает корректно? Аналогично поступите с группой с изменённым шрифтом. Сравните результаты с каждой из контрольных групп в отдельности по каждому событию. \n",
    "\n",
    "* Сравните результаты с объединённой контрольной группой. \n",
    "\n",
    "* Какие выводы из эксперимента можно сделать? Какой уровень значимости вы выбрали при проверке статистических гипотез выше? Посчитайте, сколько проверок статистических гипотез вы сделали. При уровне значимости 0.1 каждый десятый раз можно получать ложный результат. Какой уровень значимости стоит применить? Если вы хотите изменить его, проделайте предыдущие пункты и проверьте свои выводы."
   ]
  },
  {
   "cell_type": "markdown",
   "metadata": {},
   "source": [
    "### Сколько пользователей в каждой экспериментальной группе? Есть 2 контрольные группы для А/А-эксперимента, чтобы проверить корректность всех механизмов и расчётов.\n",
    "\n",
    "* Проверьте, находят ли статистические критерии разницу между выборками 246 и 247. Выберите самое популярное событие.\n",
    "\n",
    "* Посчитайте число пользователей, совершивших это событие в каждой из контрольных групп.\n",
    "\n",
    "* Посчитайте долю пользователей, совершивших это событие.\n",
    "\n",
    "* Проверьте, будет ли отличие между группами статистически достоверным. Проделайте то же самое для всех других событий (удобно обернуть проверку в отдельную функцию).\n",
    "\n",
    "* Можно ли сказать, что разбиение на группы работает корректно? Аналогично поступите с группой с изменённым шрифтом. Сравните результаты с каждой из контрольных групп в отдельности по каждому событию.\n",
    "\n",
    "* Сравните результаты с объединённой контрольной группой."
   ]
  },
  {
   "cell_type": "code",
   "execution_count": 30,
   "metadata": {
    "scrolled": false
   },
   "outputs": [
    {
     "data": {
      "text/html": [
       "<div>\n",
       "<style scoped>\n",
       "    .dataframe tbody tr th:only-of-type {\n",
       "        vertical-align: middle;\n",
       "    }\n",
       "\n",
       "    .dataframe tbody tr th {\n",
       "        vertical-align: top;\n",
       "    }\n",
       "\n",
       "    .dataframe thead th {\n",
       "        text-align: right;\n",
       "    }\n",
       "</style>\n",
       "<table border=\"1\" class=\"dataframe\">\n",
       "  <thead>\n",
       "    <tr style=\"text-align: right;\">\n",
       "      <th></th>\n",
       "      <th>event</th>\n",
       "      <th>user_id</th>\n",
       "      <th>time</th>\n",
       "      <th>group</th>\n",
       "      <th>datetime</th>\n",
       "      <th>date</th>\n",
       "    </tr>\n",
       "  </thead>\n",
       "  <tbody>\n",
       "    <tr>\n",
       "      <th>0</th>\n",
       "      <td>Tutorial</td>\n",
       "      <td>3737462046622621720</td>\n",
       "      <td>1564618048</td>\n",
       "      <td>246</td>\n",
       "      <td>2019-08-01 00:07:28</td>\n",
       "      <td>2019-08-01</td>\n",
       "    </tr>\n",
       "    <tr>\n",
       "      <th>1</th>\n",
       "      <td>MainScreenAppear</td>\n",
       "      <td>3737462046622621720</td>\n",
       "      <td>1564618080</td>\n",
       "      <td>246</td>\n",
       "      <td>2019-08-01 00:08:00</td>\n",
       "      <td>2019-08-01</td>\n",
       "    </tr>\n",
       "    <tr>\n",
       "      <th>2</th>\n",
       "      <td>MainScreenAppear</td>\n",
       "      <td>3737462046622621720</td>\n",
       "      <td>1564618135</td>\n",
       "      <td>246</td>\n",
       "      <td>2019-08-01 00:08:55</td>\n",
       "      <td>2019-08-01</td>\n",
       "    </tr>\n",
       "    <tr>\n",
       "      <th>3</th>\n",
       "      <td>OffersScreenAppear</td>\n",
       "      <td>3737462046622621720</td>\n",
       "      <td>1564618138</td>\n",
       "      <td>246</td>\n",
       "      <td>2019-08-01 00:08:58</td>\n",
       "      <td>2019-08-01</td>\n",
       "    </tr>\n",
       "    <tr>\n",
       "      <th>4</th>\n",
       "      <td>MainScreenAppear</td>\n",
       "      <td>1433840883824088890</td>\n",
       "      <td>1564618139</td>\n",
       "      <td>247</td>\n",
       "      <td>2019-08-01 00:08:59</td>\n",
       "      <td>2019-08-01</td>\n",
       "    </tr>\n",
       "  </tbody>\n",
       "</table>\n",
       "</div>"
      ],
      "text/plain": [
       "                event              user_id        time  group  \\\n",
       "0            Tutorial  3737462046622621720  1564618048    246   \n",
       "1    MainScreenAppear  3737462046622621720  1564618080    246   \n",
       "2    MainScreenAppear  3737462046622621720  1564618135    246   \n",
       "3  OffersScreenAppear  3737462046622621720  1564618138    246   \n",
       "4    MainScreenAppear  1433840883824088890  1564618139    247   \n",
       "\n",
       "             datetime       date  \n",
       "0 2019-08-01 00:07:28 2019-08-01  \n",
       "1 2019-08-01 00:08:00 2019-08-01  \n",
       "2 2019-08-01 00:08:55 2019-08-01  \n",
       "3 2019-08-01 00:08:58 2019-08-01  \n",
       "4 2019-08-01 00:08:59 2019-08-01  "
      ]
     },
     "execution_count": 30,
     "metadata": {},
     "output_type": "execute_result"
    }
   ],
   "source": [
    "data.head()"
   ]
  },
  {
   "cell_type": "code",
   "execution_count": 31,
   "metadata": {},
   "outputs": [
    {
     "data": {
      "text/plain": [
       "group\n",
       "246    2484\n",
       "247    2513\n",
       "248    2537\n",
       "Name: user_id, dtype: int64"
      ]
     },
     "execution_count": 31,
     "metadata": {},
     "output_type": "execute_result"
    }
   ],
   "source": [
    "gr_users = data.groupby('group')['user_id'].nunique() # смотрим сколько уникальных пользователей в каждой группе\n",
    "gr_users"
   ]
  },
  {
   "cell_type": "code",
   "execution_count": 32,
   "metadata": {
    "scrolled": false
   },
   "outputs": [
    {
     "data": {
      "text/html": [
       "<div>\n",
       "<style scoped>\n",
       "    .dataframe tbody tr th:only-of-type {\n",
       "        vertical-align: middle;\n",
       "    }\n",
       "\n",
       "    .dataframe tbody tr th {\n",
       "        vertical-align: top;\n",
       "    }\n",
       "\n",
       "    .dataframe thead th {\n",
       "        text-align: right;\n",
       "    }\n",
       "</style>\n",
       "<table border=\"1\" class=\"dataframe\">\n",
       "  <thead>\n",
       "    <tr style=\"text-align: right;\">\n",
       "      <th>group</th>\n",
       "      <th>event</th>\n",
       "      <th>246</th>\n",
       "      <th>247</th>\n",
       "      <th>248</th>\n",
       "    </tr>\n",
       "  </thead>\n",
       "  <tbody>\n",
       "    <tr>\n",
       "      <th>0</th>\n",
       "      <td>MainScreenAppear</td>\n",
       "      <td>2450</td>\n",
       "      <td>2476</td>\n",
       "      <td>2493</td>\n",
       "    </tr>\n",
       "    <tr>\n",
       "      <th>1</th>\n",
       "      <td>OffersScreenAppear</td>\n",
       "      <td>1542</td>\n",
       "      <td>1520</td>\n",
       "      <td>1531</td>\n",
       "    </tr>\n",
       "    <tr>\n",
       "      <th>2</th>\n",
       "      <td>CartScreenAppear</td>\n",
       "      <td>1266</td>\n",
       "      <td>1238</td>\n",
       "      <td>1230</td>\n",
       "    </tr>\n",
       "    <tr>\n",
       "      <th>3</th>\n",
       "      <td>PaymentScreenSuccessful</td>\n",
       "      <td>1200</td>\n",
       "      <td>1158</td>\n",
       "      <td>1181</td>\n",
       "    </tr>\n",
       "  </tbody>\n",
       "</table>\n",
       "</div>"
      ],
      "text/plain": [
       "group                    event   246   247   248\n",
       "0             MainScreenAppear  2450  2476  2493\n",
       "1           OffersScreenAppear  1542  1520  1531\n",
       "2             CartScreenAppear  1266  1238  1230\n",
       "3      PaymentScreenSuccessful  1200  1158  1181"
      ]
     },
     "execution_count": 32,
     "metadata": {},
     "output_type": "execute_result"
    }
   ],
   "source": [
    "group_test = data[data['event']!='Tutorial'].pivot_table( # составим таблицу по группам для анализа теста\n",
    "    index='event', \n",
    "    columns='group',\n",
    "    values='user_id',\n",
    "    aggfunc='nunique').sort_values(by=246, ascending=False)\n",
    "group_test = group_test.reset_index()\n",
    "group_test"
   ]
  },
  {
   "cell_type": "code",
   "execution_count": 33,
   "metadata": {
    "scrolled": false
   },
   "outputs": [
    {
     "data": {
      "text/html": [
       "<div>\n",
       "<style scoped>\n",
       "    .dataframe tbody tr th:only-of-type {\n",
       "        vertical-align: middle;\n",
       "    }\n",
       "\n",
       "    .dataframe tbody tr th {\n",
       "        vertical-align: top;\n",
       "    }\n",
       "\n",
       "    .dataframe thead th {\n",
       "        text-align: right;\n",
       "    }\n",
       "</style>\n",
       "<table border=\"1\" class=\"dataframe\">\n",
       "  <thead>\n",
       "    <tr style=\"text-align: right;\">\n",
       "      <th>group</th>\n",
       "      <th>event</th>\n",
       "      <th>246</th>\n",
       "      <th>247</th>\n",
       "      <th>248</th>\n",
       "      <th>AA</th>\n",
       "      <th>all</th>\n",
       "      <th>share_246</th>\n",
       "      <th>share_247</th>\n",
       "      <th>share_248</th>\n",
       "      <th>share_246_247</th>\n",
       "    </tr>\n",
       "  </thead>\n",
       "  <tbody>\n",
       "    <tr>\n",
       "      <th>0</th>\n",
       "      <td>MainScreenAppear</td>\n",
       "      <td>2450</td>\n",
       "      <td>2476</td>\n",
       "      <td>2493</td>\n",
       "      <td>4926</td>\n",
       "      <td>7419</td>\n",
       "      <td>98.6</td>\n",
       "      <td>98.5</td>\n",
       "      <td>98.3</td>\n",
       "      <td>98.6</td>\n",
       "    </tr>\n",
       "    <tr>\n",
       "      <th>1</th>\n",
       "      <td>OffersScreenAppear</td>\n",
       "      <td>1542</td>\n",
       "      <td>1520</td>\n",
       "      <td>1531</td>\n",
       "      <td>3062</td>\n",
       "      <td>4593</td>\n",
       "      <td>62.1</td>\n",
       "      <td>60.5</td>\n",
       "      <td>60.3</td>\n",
       "      <td>61.3</td>\n",
       "    </tr>\n",
       "    <tr>\n",
       "      <th>2</th>\n",
       "      <td>CartScreenAppear</td>\n",
       "      <td>1266</td>\n",
       "      <td>1238</td>\n",
       "      <td>1230</td>\n",
       "      <td>2504</td>\n",
       "      <td>3734</td>\n",
       "      <td>51.0</td>\n",
       "      <td>49.3</td>\n",
       "      <td>48.5</td>\n",
       "      <td>50.1</td>\n",
       "    </tr>\n",
       "    <tr>\n",
       "      <th>3</th>\n",
       "      <td>PaymentScreenSuccessful</td>\n",
       "      <td>1200</td>\n",
       "      <td>1158</td>\n",
       "      <td>1181</td>\n",
       "      <td>2358</td>\n",
       "      <td>3539</td>\n",
       "      <td>48.3</td>\n",
       "      <td>46.1</td>\n",
       "      <td>46.6</td>\n",
       "      <td>47.2</td>\n",
       "    </tr>\n",
       "  </tbody>\n",
       "</table>\n",
       "</div>"
      ],
      "text/plain": [
       "group                    event   246   247   248    AA   all  share_246  \\\n",
       "0             MainScreenAppear  2450  2476  2493  4926  7419       98.6   \n",
       "1           OffersScreenAppear  1542  1520  1531  3062  4593       62.1   \n",
       "2             CartScreenAppear  1266  1238  1230  2504  3734       51.0   \n",
       "3      PaymentScreenSuccessful  1200  1158  1181  2358  3539       48.3   \n",
       "\n",
       "group  share_247  share_248  share_246_247  \n",
       "0           98.5       98.3           98.6  \n",
       "1           60.5       60.3           61.3  \n",
       "2           49.3       48.5           50.1  \n",
       "3           46.1       46.6           47.2  "
      ]
     },
     "execution_count": 33,
     "metadata": {},
     "output_type": "execute_result"
    }
   ],
   "source": [
    "group_test['AA'] = group_test[246] + group_test[247] # рассчитаем доли по группам по каждому событию\n",
    "group_test['all'] = group_test['AA'] + group_test[248] # все пользователи совершившие событие\n",
    "\n",
    "group_test['share_246'] = (group_test[246] / gr_users[246] * 100).round(1)\n",
    "group_test['share_247'] = (group_test[247] / gr_users[247] * 100).round(1)\n",
    "group_test['share_248'] = (group_test[248] / gr_users[248] * 100).round(1)\n",
    "group_test['share_246_247'] = ((group_test[246] + group_test[247]) / \\\n",
    "                                  (gr_users[246] + gr_users[247]) * 100).round(1)\n",
    "group_test"
   ]
  },
  {
   "cell_type": "markdown",
   "metadata": {},
   "source": [
    "* Как видим из таблицы выше- самое популярное событие MainScreenAppear (Главный экран).\n",
    "246-2450(98.6%) пользователей,247-2476(98.5%) пользователей,248-2493(98.3%) пользователя.\n",
    "\n",
    "* Разбиение на группы работает корректно,доли пользователей совершивших то или иное событие почти не различаются по группам\n",
    " "
   ]
  },
  {
   "cell_type": "markdown",
   "metadata": {},
   "source": [
    "### Какие выводы из эксперимента можно сделать? Какой уровень значимости вы выбрали при проверке статистических гипотез выше? Посчитайте, сколько проверок статистических гипотез вы сделали. При уровне значимости 0.1 каждый десятый раз можно получать ложный результат. Какой уровень значимости стоит применить? Если вы хотите изменить его, проделайте предыдущие пункты и проверьте свои выводы."
   ]
  },
  {
   "cell_type": "code",
   "execution_count": 34,
   "metadata": {},
   "outputs": [],
   "source": [
    "# возьмем функцию из курса  \n",
    "# подготовим ее для  проверки гипотезы на равенство долей\n",
    "def z_test(test_group1, test_group2, alpha_value, n):\n",
    "    for i in group_test.index:\n",
    "        alpha = alpha_value / n # поправка бонферрони\n",
    "        # пропорция успехов в первой группе\n",
    "        p1 = group_test[test_group1][i] / gr_users[test_group1]\n",
    "        # пропорция успехов во второй группе:\n",
    "        p2 = group_test[test_group2][i] / gr_users[test_group2]\n",
    "        # пропорция успехов в комбинированном датасете:\n",
    "        p_combined = ((group_test[test_group1][i] + group_test[test_group2][i]) / \n",
    "                      (gr_users[test_group1] + gr_users[test_group2]))\n",
    "        # разница пропорций в датасетах\n",
    "        difference = p1 - p2\n",
    "        # считаем статистику в ст.отклонениях стандартного нормального распределения\n",
    "        z_value = difference / mth.sqrt(p_combined * (1 - p_combined) * \n",
    "                                        (1/gr_users[test_group1] + 1/gr_users[test_group2]))\n",
    "        # задаем стандартное нормальное распределение (среднее 0, ст.отклонение 1)\n",
    "        distr = st.norm(0, 1) \n",
    "        p_value = (1 - distr.cdf(abs(z_value))) * 2\n",
    "        print('{} p-значение: {}'.format(group_test['event'][i], p_value))\n",
    "        if (p_value < alpha):\n",
    "            print(\"Отвергаем нулевую гипотезу: между долями есть значимая разница\")\n",
    "        else:\n",
    "            print(\"Не получилось отвергнуть нулевую гипотезу, нет оснований считать доли разными\")\n",
    "        print('')\n"
   ]
  },
  {
   "cell_type": "markdown",
   "metadata": {},
   "source": [
    "### Test 246-247"
   ]
  },
  {
   "cell_type": "markdown",
   "metadata": {},
   "source": [
    "Выдвинем гипотезы:\n",
    "* H0: различий в ĸонверсии в покупку между группами 246 и 247 нет,\n",
    "* H1: между группами 246 и 247 есть значимая разница в ĸонверсии в покупку"
   ]
  },
  {
   "cell_type": "code",
   "execution_count": 35,
   "metadata": {},
   "outputs": [
    {
     "name": "stdout",
     "output_type": "stream",
     "text": [
      "MainScreenAppear p-значение: 0.7570597232046099\n",
      "Не получилось отвергнуть нулевую гипотезу, нет оснований считать доли разными\n",
      "\n",
      "OffersScreenAppear p-значение: 0.2480954578522181\n",
      "Не получилось отвергнуть нулевую гипотезу, нет оснований считать доли разными\n",
      "\n",
      "CartScreenAppear p-значение: 0.22883372237997213\n",
      "Не получилось отвергнуть нулевую гипотезу, нет оснований считать доли разными\n",
      "\n",
      "PaymentScreenSuccessful p-значение: 0.11456679313141849\n",
      "Не получилось отвергнуть нулевую гипотезу, нет оснований считать доли разными\n",
      "\n"
     ]
    }
   ],
   "source": [
    "z_test(246, 247, 0.05,2) # критический уровень стат.значимости установим 0.05"
   ]
  },
  {
   "cell_type": "markdown",
   "metadata": {},
   "source": [
    "Вывод:\n",
    "* Результаты не поменялись при смене уровня стат.значимости.\n",
    "* Нет оснований для отвержения нулевой гипотезы и считать различия в группах стат.значимыми\n",
    "* группы можем считать одинаковыми и сравнить с 248 экспериментальной группой по работе с другим шрифтом\n",
    "* различий конверсии в покупку между группами не выявлено"
   ]
  },
  {
   "cell_type": "markdown",
   "metadata": {},
   "source": [
    "### Test 246-248"
   ]
  },
  {
   "cell_type": "markdown",
   "metadata": {},
   "source": [
    "Выдвинем гипотезы:\n",
    "\n",
    "* H0: различий в ĸонверсии в покупку между группами 246 и 248 нет,\n",
    "* H1: между группами 246 и 248 есть значимая разница в ĸонверсии в покупку"
   ]
  },
  {
   "cell_type": "code",
   "execution_count": 36,
   "metadata": {
    "scrolled": true
   },
   "outputs": [
    {
     "name": "stdout",
     "output_type": "stream",
     "text": [
      "MainScreenAppear p-значение: 0.2949721933554552\n",
      "Не получилось отвергнуть нулевую гипотезу, нет оснований считать доли разными\n",
      "\n",
      "OffersScreenAppear p-значение: 0.20836205402738917\n",
      "Не получилось отвергнуть нулевую гипотезу, нет оснований считать доли разными\n",
      "\n",
      "CartScreenAppear p-значение: 0.07842923237520116\n",
      "Не получилось отвергнуть нулевую гипотезу, нет оснований считать доли разными\n",
      "\n",
      "PaymentScreenSuccessful p-значение: 0.2122553275697796\n",
      "Не получилось отвергнуть нулевую гипотезу, нет оснований считать доли разными\n",
      "\n"
     ]
    }
   ],
   "source": [
    "z_test(246, 248, 0.05,2)"
   ]
  },
  {
   "cell_type": "markdown",
   "metadata": {},
   "source": [
    "Вывод:\n",
    "* Результаты не поменялись при смене уровня стат.значимости.\n",
    "* Нет оснований для отвержения нулевой гипотезы и считать различия в группах стат.значимыми\n",
    "* группы можем считать одинаковыми "
   ]
  },
  {
   "cell_type": "markdown",
   "metadata": {},
   "source": [
    "### Test 247-248"
   ]
  },
  {
   "cell_type": "markdown",
   "metadata": {},
   "source": [
    "Выдвинем гипотезы:\n",
    "* H0: различий в ĸонверсии в покупку между группами 247 и 248 нет,\n",
    "* H1: между группами 247 и 248 есть значимая разница в ĸонверсии в покупку"
   ]
  },
  {
   "cell_type": "code",
   "execution_count": 37,
   "metadata": {
    "scrolled": true
   },
   "outputs": [
    {
     "name": "stdout",
     "output_type": "stream",
     "text": [
      "MainScreenAppear p-значение: 0.4587053616621515\n",
      "Не получилось отвергнуть нулевую гипотезу, нет оснований считать доли разными\n",
      "\n",
      "OffersScreenAppear p-значение: 0.9197817830592261\n",
      "Не получилось отвергнуть нулевую гипотезу, нет оснований считать доли разными\n",
      "\n",
      "CartScreenAppear p-значение: 0.5786197879539783\n",
      "Не получилось отвергнуть нулевую гипотезу, нет оснований считать доли разными\n",
      "\n",
      "PaymentScreenSuccessful p-значение: 0.7373415053803964\n",
      "Не получилось отвергнуть нулевую гипотезу, нет оснований считать доли разными\n",
      "\n"
     ]
    }
   ],
   "source": [
    "z_test(247, 248, 0.05,2)"
   ]
  },
  {
   "cell_type": "markdown",
   "metadata": {},
   "source": [
    "Вывод:\n",
    "* Результаты не поменялись при смене уровня стат.значимости.\n",
    "* Нет оснований для отвержения нулевой гипотезы и считать различия в группах стат.значимыми\n",
    "* группы можем считать одинаковыми \n",
    "* провели"
   ]
  },
  {
   "cell_type": "markdown",
   "metadata": {},
   "source": [
    "## Вывод"
   ]
  },
  {
   "cell_type": "markdown",
   "metadata": {},
   "source": [
    "* Мы провели 12 проверок статистических гипотез по уровню стат.значимости 0.05.\n",
    "Ни в одном из тестов не смогли отвергнуть нулевую гипотезу,что означает отсутствие изменений в пользовании нашим приложением и введение нового шрифта не скажется на монетизации приложения.\n",
    "\n",
    "* Мы выяснили,что группы 246 и 247 идеинтичны по поведению,и дают основание полагать в верности наших тестов.\n",
    "\n",
    "*  Самое популярное событие MainScreenAppear (Главный экран). 246-2450(98.6%) пользователей,247-2476(98.5%) пользователей,248-2493(98.3%) пользователя.\n",
    "\n",
    "* Наибольшее число пользвателей теряется на переходе от MainScreenAppear (Главный экран) на OffersScreenAppear (Продающий экран), порядка 32%.\n",
    "\n",
    "### Резюме для менеджеров:\n",
    "После проведения тестов,результат показал об отсутствии изменения поведения пользователей после введения нового шрифта.\n",
    "Ни в одном из тестов не смогли отвергнуть нулевую гипотезу о наличии различий между контрольными и экспериментальной группой.\n",
    "Шрифт можно вводить в эксплуатацию в нашем приложении без страха потерять пользователей приложения и уменьшения покупок в нем.\n"
   ]
  }
 ],
 "metadata": {
  "ExecuteTimeLog": [
   {
    "duration": 1384,
    "start_time": "2023-04-25T14:25:37.514Z"
   },
   {
    "duration": 1653,
    "start_time": "2023-04-25T14:26:53.013Z"
   },
   {
    "duration": 367,
    "start_time": "2023-04-25T14:27:25.714Z"
   },
   {
    "duration": 343,
    "start_time": "2023-04-25T14:27:58.744Z"
   },
   {
    "duration": 363,
    "start_time": "2023-04-25T14:28:40.313Z"
   },
   {
    "duration": 166,
    "start_time": "2023-04-25T14:34:39.196Z"
   },
   {
    "duration": 21,
    "start_time": "2023-04-25T14:36:50.584Z"
   },
   {
    "duration": 108,
    "start_time": "2023-04-25T14:41:21.794Z"
   },
   {
    "duration": 40,
    "start_time": "2023-04-25T14:41:43.719Z"
   },
   {
    "duration": 5,
    "start_time": "2023-04-25T14:55:17.528Z"
   },
   {
    "duration": 12,
    "start_time": "2023-04-25T14:55:28.209Z"
   },
   {
    "duration": 62,
    "start_time": "2023-04-25T14:57:06.003Z"
   },
   {
    "duration": 156,
    "start_time": "2023-04-25T14:59:50.501Z"
   },
   {
    "duration": 124,
    "start_time": "2023-04-25T15:03:34.518Z"
   },
   {
    "duration": 53,
    "start_time": "2023-04-25T15:07:09.650Z"
   },
   {
    "duration": 68,
    "start_time": "2023-04-25T15:08:01.658Z"
   },
   {
    "duration": 49,
    "start_time": "2023-04-25T15:08:04.008Z"
   },
   {
    "duration": 47,
    "start_time": "2023-04-25T15:09:02.604Z"
   },
   {
    "duration": 49,
    "start_time": "2023-04-25T15:09:09.510Z"
   },
   {
    "duration": 71,
    "start_time": "2023-04-25T15:10:08.624Z"
   },
   {
    "duration": 80,
    "start_time": "2023-04-25T15:15:55.895Z"
   },
   {
    "duration": 61,
    "start_time": "2023-04-25T15:16:05.611Z"
   },
   {
    "duration": 850,
    "start_time": "2023-04-25T15:23:02.430Z"
   },
   {
    "duration": 1204,
    "start_time": "2023-04-25T15:23:14.283Z"
   },
   {
    "duration": 179,
    "start_time": "2023-04-25T15:23:15.489Z"
   },
   {
    "duration": 23,
    "start_time": "2023-04-25T15:23:15.670Z"
   },
   {
    "duration": 32,
    "start_time": "2023-04-25T15:23:15.695Z"
   },
   {
    "duration": 87,
    "start_time": "2023-04-25T15:23:15.729Z"
   },
   {
    "duration": 14,
    "start_time": "2023-04-25T15:23:15.817Z"
   },
   {
    "duration": 84,
    "start_time": "2023-04-25T15:23:15.833Z"
   },
   {
    "duration": 82,
    "start_time": "2023-04-25T15:23:15.919Z"
   },
   {
    "duration": 73,
    "start_time": "2023-04-25T15:23:16.003Z"
   },
   {
    "duration": 77,
    "start_time": "2023-04-25T15:23:16.078Z"
   },
   {
    "duration": 842,
    "start_time": "2023-04-25T15:23:49.311Z"
   },
   {
    "duration": 1183,
    "start_time": "2023-04-25T15:23:57.704Z"
   },
   {
    "duration": 178,
    "start_time": "2023-04-25T15:23:58.890Z"
   },
   {
    "duration": 22,
    "start_time": "2023-04-25T15:23:59.070Z"
   },
   {
    "duration": 29,
    "start_time": "2023-04-25T15:23:59.094Z"
   },
   {
    "duration": 65,
    "start_time": "2023-04-25T15:23:59.125Z"
   },
   {
    "duration": 16,
    "start_time": "2023-04-25T15:23:59.192Z"
   },
   {
    "duration": 89,
    "start_time": "2023-04-25T15:23:59.209Z"
   },
   {
    "duration": 71,
    "start_time": "2023-04-25T15:23:59.300Z"
   },
   {
    "duration": 84,
    "start_time": "2023-04-25T15:23:59.373Z"
   },
   {
    "duration": 73,
    "start_time": "2023-04-25T15:23:59.459Z"
   },
   {
    "duration": 8,
    "start_time": "2023-04-25T15:34:43.984Z"
   },
   {
    "duration": 103,
    "start_time": "2023-04-25T15:37:37.250Z"
   },
   {
    "duration": 76,
    "start_time": "2023-04-25T15:37:42.175Z"
   },
   {
    "duration": 29,
    "start_time": "2023-04-25T15:37:57.688Z"
   },
   {
    "duration": 10,
    "start_time": "2023-04-25T15:40:12.412Z"
   },
   {
    "duration": 54,
    "start_time": "2023-04-25T15:40:22.284Z"
   },
   {
    "duration": 10,
    "start_time": "2023-04-25T15:40:45.447Z"
   },
   {
    "duration": 56,
    "start_time": "2023-04-28T06:23:33.894Z"
   },
   {
    "duration": 1508,
    "start_time": "2023-04-28T06:23:40.291Z"
   },
   {
    "duration": 537,
    "start_time": "2023-04-28T06:23:41.802Z"
   },
   {
    "duration": 47,
    "start_time": "2023-04-28T06:23:42.342Z"
   },
   {
    "duration": 44,
    "start_time": "2023-04-28T06:23:42.392Z"
   },
   {
    "duration": 66,
    "start_time": "2023-04-28T06:23:42.439Z"
   },
   {
    "duration": 33,
    "start_time": "2023-04-28T06:23:42.507Z"
   },
   {
    "duration": 104,
    "start_time": "2023-04-28T06:23:42.544Z"
   },
   {
    "duration": 92,
    "start_time": "2023-04-28T06:23:42.650Z"
   },
   {
    "duration": 105,
    "start_time": "2023-04-28T06:23:42.744Z"
   },
   {
    "duration": 69,
    "start_time": "2023-04-28T06:23:42.851Z"
   },
   {
    "duration": 84,
    "start_time": "2023-04-28T06:23:42.935Z"
   },
   {
    "duration": 39,
    "start_time": "2023-04-28T06:23:43.033Z"
   },
   {
    "duration": 84,
    "start_time": "2023-04-28T06:23:43.075Z"
   },
   {
    "duration": 12,
    "start_time": "2023-04-28T06:23:43.162Z"
   },
   {
    "duration": 156,
    "start_time": "2023-04-28T06:23:43.177Z"
   },
   {
    "duration": 18,
    "start_time": "2023-04-28T06:27:43.610Z"
   },
   {
    "duration": 17,
    "start_time": "2023-04-28T06:33:41.867Z"
   },
   {
    "duration": 5,
    "start_time": "2023-04-28T06:34:14.360Z"
   },
   {
    "duration": 12,
    "start_time": "2023-04-28T06:34:17.863Z"
   },
   {
    "duration": 6,
    "start_time": "2023-04-28T06:36:10.270Z"
   },
   {
    "duration": 289,
    "start_time": "2023-04-28T06:36:16.520Z"
   },
   {
    "duration": 233,
    "start_time": "2023-04-28T06:37:02.250Z"
   },
   {
    "duration": 331,
    "start_time": "2023-04-28T06:37:11.961Z"
   },
   {
    "duration": 263,
    "start_time": "2023-04-28T06:37:19.859Z"
   },
   {
    "duration": 344,
    "start_time": "2023-04-28T06:37:47.746Z"
   },
   {
    "duration": 227,
    "start_time": "2023-04-28T06:42:10.922Z"
   },
   {
    "duration": 231,
    "start_time": "2023-04-28T06:42:20.618Z"
   },
   {
    "duration": 1796,
    "start_time": "2023-04-28T06:59:56.908Z"
   },
   {
    "duration": 2396,
    "start_time": "2023-04-28T07:00:14.018Z"
   },
   {
    "duration": 13,
    "start_time": "2023-04-28T07:00:49.572Z"
   },
   {
    "duration": 13,
    "start_time": "2023-04-28T07:00:57.774Z"
   },
   {
    "duration": 16,
    "start_time": "2023-04-28T07:01:23.655Z"
   },
   {
    "duration": 11,
    "start_time": "2023-04-28T07:02:22.963Z"
   },
   {
    "duration": 8,
    "start_time": "2023-04-28T07:05:15.185Z"
   },
   {
    "duration": 7,
    "start_time": "2023-04-28T07:06:04.872Z"
   },
   {
    "duration": 17,
    "start_time": "2023-04-28T07:08:29.153Z"
   },
   {
    "duration": 19,
    "start_time": "2023-04-28T07:11:21.873Z"
   },
   {
    "duration": 25,
    "start_time": "2023-04-28T07:13:14.001Z"
   },
   {
    "duration": 21,
    "start_time": "2023-04-28T07:13:45.757Z"
   },
   {
    "duration": 261,
    "start_time": "2023-04-28T07:16:18.471Z"
   },
   {
    "duration": 1358,
    "start_time": "2023-04-28T07:16:30.618Z"
   },
   {
    "duration": 220,
    "start_time": "2023-04-28T07:16:31.979Z"
   },
   {
    "duration": 44,
    "start_time": "2023-04-28T07:16:32.200Z"
   },
   {
    "duration": 26,
    "start_time": "2023-04-28T07:16:32.257Z"
   },
   {
    "duration": 52,
    "start_time": "2023-04-28T07:16:32.285Z"
   },
   {
    "duration": 42,
    "start_time": "2023-04-28T07:16:32.339Z"
   },
   {
    "duration": 104,
    "start_time": "2023-04-28T07:16:32.383Z"
   },
   {
    "duration": 97,
    "start_time": "2023-04-28T07:16:32.490Z"
   },
   {
    "duration": 91,
    "start_time": "2023-04-28T07:16:32.589Z"
   },
   {
    "duration": 80,
    "start_time": "2023-04-28T07:16:32.682Z"
   },
   {
    "duration": 130,
    "start_time": "2023-04-28T07:16:32.767Z"
   },
   {
    "duration": 45,
    "start_time": "2023-04-28T07:16:32.899Z"
   },
   {
    "duration": 86,
    "start_time": "2023-04-28T07:16:32.946Z"
   },
   {
    "duration": 47,
    "start_time": "2023-04-28T07:16:33.038Z"
   },
   {
    "duration": 37,
    "start_time": "2023-04-28T07:16:33.087Z"
   },
   {
    "duration": 67,
    "start_time": "2023-04-28T07:16:33.126Z"
   },
   {
    "duration": 413,
    "start_time": "2023-04-28T07:16:33.195Z"
   },
   {
    "duration": 264,
    "start_time": "2023-04-28T07:16:33.611Z"
   },
   {
    "duration": 27,
    "start_time": "2023-04-28T07:16:33.878Z"
   },
   {
    "duration": 25,
    "start_time": "2023-04-28T07:16:33.907Z"
   },
   {
    "duration": 37,
    "start_time": "2023-04-28T07:21:04.754Z"
   },
   {
    "duration": 8,
    "start_time": "2023-04-28T07:37:06.286Z"
   },
   {
    "duration": 1555,
    "start_time": "2023-04-28T07:37:17.618Z"
   },
   {
    "duration": 235,
    "start_time": "2023-04-28T07:37:19.178Z"
   },
   {
    "duration": 35,
    "start_time": "2023-04-28T07:37:19.414Z"
   },
   {
    "duration": 80,
    "start_time": "2023-04-28T07:37:19.452Z"
   },
   {
    "duration": 125,
    "start_time": "2023-04-28T07:37:19.540Z"
   },
   {
    "duration": 20,
    "start_time": "2023-04-28T07:37:19.671Z"
   },
   {
    "duration": 120,
    "start_time": "2023-04-28T07:37:19.693Z"
   },
   {
    "duration": 180,
    "start_time": "2023-04-28T07:37:19.816Z"
   },
   {
    "duration": 107,
    "start_time": "2023-04-28T07:37:19.998Z"
   },
   {
    "duration": 84,
    "start_time": "2023-04-28T07:37:20.109Z"
   },
   {
    "duration": 123,
    "start_time": "2023-04-28T07:37:20.197Z"
   },
   {
    "duration": 59,
    "start_time": "2023-04-28T07:37:20.321Z"
   },
   {
    "duration": 123,
    "start_time": "2023-04-28T07:37:20.385Z"
   },
   {
    "duration": 23,
    "start_time": "2023-04-28T07:37:20.510Z"
   },
   {
    "duration": 76,
    "start_time": "2023-04-28T07:37:20.538Z"
   },
   {
    "duration": 85,
    "start_time": "2023-04-28T07:37:20.616Z"
   },
   {
    "duration": 513,
    "start_time": "2023-04-28T07:37:20.703Z"
   },
   {
    "duration": 262,
    "start_time": "2023-04-28T07:37:21.219Z"
   },
   {
    "duration": 18,
    "start_time": "2023-04-28T07:37:21.488Z"
   },
   {
    "duration": 114,
    "start_time": "2023-04-28T07:37:21.509Z"
   },
   {
    "duration": 1254,
    "start_time": "2023-04-28T07:37:48.308Z"
   },
   {
    "duration": 212,
    "start_time": "2023-04-28T07:37:49.568Z"
   },
   {
    "duration": 26,
    "start_time": "2023-04-28T07:37:49.782Z"
   },
   {
    "duration": 55,
    "start_time": "2023-04-28T07:37:49.810Z"
   },
   {
    "duration": 82,
    "start_time": "2023-04-28T07:37:49.868Z"
   },
   {
    "duration": 34,
    "start_time": "2023-04-28T07:37:49.961Z"
   },
   {
    "duration": 111,
    "start_time": "2023-04-28T07:37:49.997Z"
   },
   {
    "duration": 93,
    "start_time": "2023-04-28T07:37:50.110Z"
   },
   {
    "duration": 94,
    "start_time": "2023-04-28T07:37:50.205Z"
   },
   {
    "duration": 88,
    "start_time": "2023-04-28T07:37:50.301Z"
   },
   {
    "duration": 102,
    "start_time": "2023-04-28T07:37:50.391Z"
   },
   {
    "duration": 54,
    "start_time": "2023-04-28T07:37:50.494Z"
   },
   {
    "duration": 61,
    "start_time": "2023-04-28T07:37:50.554Z"
   },
   {
    "duration": 11,
    "start_time": "2023-04-28T07:37:50.618Z"
   },
   {
    "duration": 30,
    "start_time": "2023-04-28T07:37:50.639Z"
   },
   {
    "duration": 19,
    "start_time": "2023-04-28T07:37:50.671Z"
   },
   {
    "duration": 389,
    "start_time": "2023-04-28T07:37:50.691Z"
   },
   {
    "duration": 232,
    "start_time": "2023-04-28T07:37:51.083Z"
   },
   {
    "duration": 27,
    "start_time": "2023-04-28T07:37:51.317Z"
   },
   {
    "duration": 29,
    "start_time": "2023-04-28T07:37:51.360Z"
   },
   {
    "duration": 121,
    "start_time": "2023-04-28T07:41:58.566Z"
   },
   {
    "duration": 8,
    "start_time": "2023-04-28T07:43:25.856Z"
   },
   {
    "duration": 1326,
    "start_time": "2023-04-28T07:43:31.553Z"
   },
   {
    "duration": 212,
    "start_time": "2023-04-28T07:43:32.881Z"
   },
   {
    "duration": 29,
    "start_time": "2023-04-28T07:43:33.095Z"
   },
   {
    "duration": 32,
    "start_time": "2023-04-28T07:43:33.145Z"
   },
   {
    "duration": 78,
    "start_time": "2023-04-28T07:43:33.179Z"
   },
   {
    "duration": 15,
    "start_time": "2023-04-28T07:43:33.259Z"
   },
   {
    "duration": 93,
    "start_time": "2023-04-28T07:43:33.276Z"
   },
   {
    "duration": 86,
    "start_time": "2023-04-28T07:43:33.371Z"
   },
   {
    "duration": 101,
    "start_time": "2023-04-28T07:43:33.459Z"
   },
   {
    "duration": 115,
    "start_time": "2023-04-28T07:43:33.562Z"
   },
   {
    "duration": 107,
    "start_time": "2023-04-28T07:43:33.679Z"
   },
   {
    "duration": 51,
    "start_time": "2023-04-28T07:43:33.789Z"
   },
   {
    "duration": 69,
    "start_time": "2023-04-28T07:43:33.843Z"
   },
   {
    "duration": 35,
    "start_time": "2023-04-28T07:43:33.916Z"
   },
   {
    "duration": 23,
    "start_time": "2023-04-28T07:43:33.953Z"
   },
   {
    "duration": 18,
    "start_time": "2023-04-28T07:43:33.978Z"
   },
   {
    "duration": 418,
    "start_time": "2023-04-28T07:43:33.997Z"
   },
   {
    "duration": 241,
    "start_time": "2023-04-28T07:43:34.417Z"
   },
   {
    "duration": 13,
    "start_time": "2023-04-28T07:43:34.661Z"
   },
   {
    "duration": 34,
    "start_time": "2023-04-28T07:43:34.676Z"
   },
   {
    "duration": 9,
    "start_time": "2023-04-28T07:46:59.128Z"
   },
   {
    "duration": 1272,
    "start_time": "2023-04-28T07:47:06.282Z"
   },
   {
    "duration": 197,
    "start_time": "2023-04-28T07:47:07.557Z"
   },
   {
    "duration": 27,
    "start_time": "2023-04-28T07:47:07.756Z"
   },
   {
    "duration": 43,
    "start_time": "2023-04-28T07:47:07.785Z"
   },
   {
    "duration": 65,
    "start_time": "2023-04-28T07:47:07.831Z"
   },
   {
    "duration": 12,
    "start_time": "2023-04-28T07:47:07.897Z"
   },
   {
    "duration": 92,
    "start_time": "2023-04-28T07:47:07.911Z"
   },
   {
    "duration": 106,
    "start_time": "2023-04-28T07:47:08.008Z"
   },
   {
    "duration": 90,
    "start_time": "2023-04-28T07:47:08.116Z"
   },
   {
    "duration": 78,
    "start_time": "2023-04-28T07:47:08.208Z"
   },
   {
    "duration": 110,
    "start_time": "2023-04-28T07:47:08.288Z"
   },
   {
    "duration": 45,
    "start_time": "2023-04-28T07:47:08.400Z"
   },
   {
    "duration": 59,
    "start_time": "2023-04-28T07:47:08.448Z"
   },
   {
    "duration": 30,
    "start_time": "2023-04-28T07:47:08.509Z"
   },
   {
    "duration": 41,
    "start_time": "2023-04-28T07:47:08.542Z"
   },
   {
    "duration": 42,
    "start_time": "2023-04-28T07:47:08.585Z"
   },
   {
    "duration": 360,
    "start_time": "2023-04-28T07:47:08.629Z"
   },
   {
    "duration": 211,
    "start_time": "2023-04-28T07:47:08.991Z"
   },
   {
    "duration": 12,
    "start_time": "2023-04-28T07:47:09.204Z"
   },
   {
    "duration": 46,
    "start_time": "2023-04-28T07:47:09.218Z"
   },
   {
    "duration": 1312,
    "start_time": "2023-04-28T07:48:18.349Z"
   },
   {
    "duration": 198,
    "start_time": "2023-04-28T07:48:19.663Z"
   },
   {
    "duration": 27,
    "start_time": "2023-04-28T07:48:19.863Z"
   },
   {
    "duration": 27,
    "start_time": "2023-04-28T07:48:19.892Z"
   },
   {
    "duration": 61,
    "start_time": "2023-04-28T07:48:19.935Z"
   },
   {
    "duration": 39,
    "start_time": "2023-04-28T07:48:19.998Z"
   },
   {
    "duration": 84,
    "start_time": "2023-04-28T07:48:20.040Z"
   },
   {
    "duration": 89,
    "start_time": "2023-04-28T07:48:20.126Z"
   },
   {
    "duration": 76,
    "start_time": "2023-04-28T07:48:20.233Z"
   },
   {
    "duration": 79,
    "start_time": "2023-04-28T07:48:20.311Z"
   },
   {
    "duration": 95,
    "start_time": "2023-04-28T07:48:20.391Z"
   },
   {
    "duration": 34,
    "start_time": "2023-04-28T07:48:20.489Z"
   },
   {
    "duration": 56,
    "start_time": "2023-04-28T07:48:20.535Z"
   },
   {
    "duration": 13,
    "start_time": "2023-04-28T07:48:20.594Z"
   },
   {
    "duration": 37,
    "start_time": "2023-04-28T07:48:20.609Z"
   },
   {
    "duration": 16,
    "start_time": "2023-04-28T07:48:20.649Z"
   },
   {
    "duration": 372,
    "start_time": "2023-04-28T07:48:20.667Z"
   },
   {
    "duration": 235,
    "start_time": "2023-04-28T07:48:21.041Z"
   },
   {
    "duration": 15,
    "start_time": "2023-04-28T07:48:21.278Z"
   },
   {
    "duration": 54,
    "start_time": "2023-04-28T07:48:21.295Z"
   },
   {
    "duration": 8,
    "start_time": "2023-04-28T08:01:05.776Z"
   },
   {
    "duration": 1210,
    "start_time": "2023-04-28T08:01:12.217Z"
   },
   {
    "duration": 183,
    "start_time": "2023-04-28T08:01:13.430Z"
   },
   {
    "duration": 31,
    "start_time": "2023-04-28T08:01:13.615Z"
   },
   {
    "duration": 30,
    "start_time": "2023-04-28T08:01:13.649Z"
   },
   {
    "duration": 62,
    "start_time": "2023-04-28T08:01:13.683Z"
   },
   {
    "duration": 13,
    "start_time": "2023-04-28T08:01:13.748Z"
   },
   {
    "duration": 85,
    "start_time": "2023-04-28T08:01:13.763Z"
   },
   {
    "duration": 93,
    "start_time": "2023-04-28T08:01:13.850Z"
   },
   {
    "duration": 98,
    "start_time": "2023-04-28T08:01:13.946Z"
   },
   {
    "duration": 80,
    "start_time": "2023-04-28T08:01:14.046Z"
   },
   {
    "duration": 92,
    "start_time": "2023-04-28T08:01:14.128Z"
   },
   {
    "duration": 47,
    "start_time": "2023-04-28T08:01:14.222Z"
   },
   {
    "duration": 72,
    "start_time": "2023-04-28T08:01:14.271Z"
   },
   {
    "duration": 19,
    "start_time": "2023-04-28T08:01:14.347Z"
   },
   {
    "duration": 21,
    "start_time": "2023-04-28T08:01:14.368Z"
   },
   {
    "duration": 13,
    "start_time": "2023-04-28T08:01:14.391Z"
   },
   {
    "duration": 332,
    "start_time": "2023-04-28T08:01:14.405Z"
   },
   {
    "duration": 207,
    "start_time": "2023-04-28T08:01:14.739Z"
   },
   {
    "duration": 11,
    "start_time": "2023-04-28T08:01:14.949Z"
   },
   {
    "duration": 45,
    "start_time": "2023-04-28T08:01:14.962Z"
   },
   {
    "duration": 1349,
    "start_time": "2023-04-28T08:06:39.415Z"
   },
   {
    "duration": 201,
    "start_time": "2023-04-28T08:06:40.767Z"
   },
   {
    "duration": 28,
    "start_time": "2023-04-28T08:06:40.969Z"
   },
   {
    "duration": 40,
    "start_time": "2023-04-28T08:06:40.999Z"
   },
   {
    "duration": 60,
    "start_time": "2023-04-28T08:06:41.042Z"
   },
   {
    "duration": 36,
    "start_time": "2023-04-28T08:06:41.104Z"
   },
   {
    "duration": 94,
    "start_time": "2023-04-28T08:06:41.143Z"
   },
   {
    "duration": 95,
    "start_time": "2023-04-28T08:06:41.239Z"
   },
   {
    "duration": 106,
    "start_time": "2023-04-28T08:06:41.337Z"
   },
   {
    "duration": 72,
    "start_time": "2023-04-28T08:06:41.445Z"
   },
   {
    "duration": 114,
    "start_time": "2023-04-28T08:06:41.519Z"
   },
   {
    "duration": 37,
    "start_time": "2023-04-28T08:06:41.636Z"
   },
   {
    "duration": 78,
    "start_time": "2023-04-28T08:06:41.675Z"
   },
   {
    "duration": 10,
    "start_time": "2023-04-28T08:06:41.757Z"
   },
   {
    "duration": 16,
    "start_time": "2023-04-28T08:06:41.770Z"
   },
   {
    "duration": 16,
    "start_time": "2023-04-28T08:06:41.789Z"
   },
   {
    "duration": 381,
    "start_time": "2023-04-28T08:06:41.835Z"
   },
   {
    "duration": 239,
    "start_time": "2023-04-28T08:06:42.217Z"
   },
   {
    "duration": 13,
    "start_time": "2023-04-28T08:06:42.458Z"
   },
   {
    "duration": 35,
    "start_time": "2023-04-28T08:06:42.473Z"
   },
   {
    "duration": 8,
    "start_time": "2023-04-28T08:09:51.975Z"
   },
   {
    "duration": 1331,
    "start_time": "2023-04-28T08:11:33.919Z"
   },
   {
    "duration": 182,
    "start_time": "2023-04-28T08:11:35.254Z"
   },
   {
    "duration": 25,
    "start_time": "2023-04-28T08:11:35.439Z"
   },
   {
    "duration": 45,
    "start_time": "2023-04-28T08:11:35.466Z"
   },
   {
    "duration": 68,
    "start_time": "2023-04-28T08:11:35.514Z"
   },
   {
    "duration": 17,
    "start_time": "2023-04-28T08:11:35.584Z"
   },
   {
    "duration": 92,
    "start_time": "2023-04-28T08:11:35.603Z"
   },
   {
    "duration": 89,
    "start_time": "2023-04-28T08:11:35.697Z"
   },
   {
    "duration": 85,
    "start_time": "2023-04-28T08:11:35.788Z"
   },
   {
    "duration": 78,
    "start_time": "2023-04-28T08:11:35.875Z"
   },
   {
    "duration": 105,
    "start_time": "2023-04-28T08:11:35.955Z"
   },
   {
    "duration": 31,
    "start_time": "2023-04-28T08:11:36.061Z"
   },
   {
    "duration": 61,
    "start_time": "2023-04-28T08:11:36.093Z"
   },
   {
    "duration": 11,
    "start_time": "2023-04-28T08:11:36.157Z"
   },
   {
    "duration": 14,
    "start_time": "2023-04-28T08:11:36.170Z"
   },
   {
    "duration": 12,
    "start_time": "2023-04-28T08:11:36.186Z"
   },
   {
    "duration": 366,
    "start_time": "2023-04-28T08:11:36.200Z"
   },
   {
    "duration": 221,
    "start_time": "2023-04-28T08:11:36.568Z"
   },
   {
    "duration": 14,
    "start_time": "2023-04-28T08:11:36.791Z"
   },
   {
    "duration": 54,
    "start_time": "2023-04-28T08:11:36.807Z"
   },
   {
    "duration": 3,
    "start_time": "2023-04-28T08:11:36.863Z"
   },
   {
    "duration": 12,
    "start_time": "2023-04-28T08:20:16.640Z"
   },
   {
    "duration": 7,
    "start_time": "2023-04-28T08:22:18.794Z"
   },
   {
    "duration": 8,
    "start_time": "2023-04-28T08:24:11.619Z"
   },
   {
    "duration": 11,
    "start_time": "2023-04-28T08:25:24.481Z"
   },
   {
    "duration": 21,
    "start_time": "2023-04-28T08:27:23.687Z"
   },
   {
    "duration": 49,
    "start_time": "2023-04-28T19:17:51.232Z"
   },
   {
    "duration": 1402,
    "start_time": "2023-04-28T19:17:57.573Z"
   },
   {
    "duration": 1095,
    "start_time": "2023-04-28T19:17:58.977Z"
   },
   {
    "duration": 40,
    "start_time": "2023-04-28T19:18:00.074Z"
   },
   {
    "duration": 23,
    "start_time": "2023-04-28T19:18:00.117Z"
   },
   {
    "duration": 58,
    "start_time": "2023-04-28T19:18:00.142Z"
   },
   {
    "duration": 12,
    "start_time": "2023-04-28T19:18:00.204Z"
   },
   {
    "duration": 94,
    "start_time": "2023-04-28T19:18:00.218Z"
   },
   {
    "duration": 86,
    "start_time": "2023-04-28T19:18:00.314Z"
   },
   {
    "duration": 74,
    "start_time": "2023-04-28T19:18:00.402Z"
   },
   {
    "duration": 62,
    "start_time": "2023-04-28T19:18:00.491Z"
   },
   {
    "duration": 87,
    "start_time": "2023-04-28T19:18:00.555Z"
   },
   {
    "duration": 45,
    "start_time": "2023-04-28T19:18:00.644Z"
   },
   {
    "duration": 88,
    "start_time": "2023-04-28T19:18:00.690Z"
   },
   {
    "duration": 43,
    "start_time": "2023-04-28T19:18:00.780Z"
   },
   {
    "duration": 55,
    "start_time": "2023-04-28T19:18:00.826Z"
   },
   {
    "duration": 33,
    "start_time": "2023-04-28T19:18:00.883Z"
   },
   {
    "duration": 342,
    "start_time": "2023-04-28T19:18:00.918Z"
   },
   {
    "duration": 203,
    "start_time": "2023-04-28T19:18:01.262Z"
   },
   {
    "duration": 43,
    "start_time": "2023-04-28T19:18:01.467Z"
   },
   {
    "duration": 18,
    "start_time": "2023-04-28T19:18:01.512Z"
   },
   {
    "duration": 121,
    "start_time": "2023-04-28T19:18:01.532Z"
   },
   {
    "duration": 11,
    "start_time": "2023-04-28T19:18:32.217Z"
   },
   {
    "duration": 33,
    "start_time": "2023-04-28T19:23:05.583Z"
   },
   {
    "duration": 37,
    "start_time": "2023-04-28T19:24:19.879Z"
   },
   {
    "duration": 1974,
    "start_time": "2023-04-28T19:27:00.469Z"
   },
   {
    "duration": 1791,
    "start_time": "2023-04-28T19:27:29.217Z"
   },
   {
    "duration": 1081,
    "start_time": "2023-04-28T19:29:39.335Z"
   },
   {
    "duration": 198,
    "start_time": "2023-04-28T19:29:40.419Z"
   },
   {
    "duration": 26,
    "start_time": "2023-04-28T19:29:40.619Z"
   },
   {
    "duration": 49,
    "start_time": "2023-04-28T19:29:40.646Z"
   },
   {
    "duration": 44,
    "start_time": "2023-04-28T19:29:40.703Z"
   },
   {
    "duration": 10,
    "start_time": "2023-04-28T19:29:40.749Z"
   },
   {
    "duration": 88,
    "start_time": "2023-04-28T19:29:40.761Z"
   },
   {
    "duration": 78,
    "start_time": "2023-04-28T19:29:40.851Z"
   },
   {
    "duration": 75,
    "start_time": "2023-04-28T19:29:40.931Z"
   },
   {
    "duration": 58,
    "start_time": "2023-04-28T19:29:41.008Z"
   },
   {
    "duration": 96,
    "start_time": "2023-04-28T19:29:41.067Z"
   },
   {
    "duration": 50,
    "start_time": "2023-04-28T19:29:41.164Z"
   },
   {
    "duration": 49,
    "start_time": "2023-04-28T19:29:41.216Z"
   },
   {
    "duration": 35,
    "start_time": "2023-04-28T19:29:41.268Z"
   },
   {
    "duration": 13,
    "start_time": "2023-04-28T19:29:41.305Z"
   },
   {
    "duration": 15,
    "start_time": "2023-04-28T19:29:41.320Z"
   },
   {
    "duration": 329,
    "start_time": "2023-04-28T19:29:41.337Z"
   },
   {
    "duration": 197,
    "start_time": "2023-04-28T19:29:41.668Z"
   },
   {
    "duration": 42,
    "start_time": "2023-04-28T19:29:41.867Z"
   },
   {
    "duration": 17,
    "start_time": "2023-04-28T19:29:41.911Z"
   },
   {
    "duration": 6,
    "start_time": "2023-04-28T19:29:41.930Z"
   },
   {
    "duration": 24,
    "start_time": "2023-04-28T19:29:41.937Z"
   },
   {
    "duration": 1932,
    "start_time": "2023-04-28T19:29:41.963Z"
   },
   {
    "duration": 160,
    "start_time": "2023-04-28T19:33:01.053Z"
   },
   {
    "duration": 33,
    "start_time": "2023-04-28T19:33:17.571Z"
   },
   {
    "duration": 114,
    "start_time": "2023-04-28T19:33:20.806Z"
   },
   {
    "duration": 43,
    "start_time": "2023-04-28T19:33:51.606Z"
   },
   {
    "duration": 110,
    "start_time": "2023-04-28T19:34:43.566Z"
   },
   {
    "duration": 76,
    "start_time": "2023-04-28T19:35:01.584Z"
   },
   {
    "duration": 106,
    "start_time": "2023-04-28T19:35:49.405Z"
   },
   {
    "duration": 123,
    "start_time": "2023-04-28T19:36:12.021Z"
   },
   {
    "duration": 148,
    "start_time": "2023-04-28T19:39:22.722Z"
   },
   {
    "duration": 118,
    "start_time": "2023-04-28T19:39:42.412Z"
   },
   {
    "duration": 120,
    "start_time": "2023-04-28T19:40:01.511Z"
   },
   {
    "duration": 133,
    "start_time": "2023-04-28T19:42:33.112Z"
   },
   {
    "duration": 130,
    "start_time": "2023-04-28T19:43:31.516Z"
   },
   {
    "duration": 148,
    "start_time": "2023-04-28T19:46:29.176Z"
   },
   {
    "duration": 168,
    "start_time": "2023-04-28T19:47:13.772Z"
   },
   {
    "duration": 152,
    "start_time": "2023-04-28T19:47:31.437Z"
   },
   {
    "duration": 137,
    "start_time": "2023-04-28T19:48:53.062Z"
   },
   {
    "duration": 127,
    "start_time": "2023-04-28T19:52:24.843Z"
   },
   {
    "duration": 14,
    "start_time": "2023-04-28T20:04:19.186Z"
   },
   {
    "duration": 13,
    "start_time": "2023-04-28T20:04:49.959Z"
   },
   {
    "duration": 72,
    "start_time": "2023-04-28T20:05:12.511Z"
   },
   {
    "duration": 66,
    "start_time": "2023-04-28T20:05:21.002Z"
   },
   {
    "duration": 765,
    "start_time": "2023-04-28T20:05:55.989Z"
   },
   {
    "duration": 66,
    "start_time": "2023-04-28T20:06:04.610Z"
   },
   {
    "duration": 65,
    "start_time": "2023-04-28T20:08:35.194Z"
   },
   {
    "duration": 268,
    "start_time": "2023-04-28T20:14:05.861Z"
   },
   {
    "duration": 12,
    "start_time": "2023-04-28T20:16:53.789Z"
   },
   {
    "duration": 1121,
    "start_time": "2023-04-28T20:17:38.808Z"
   },
   {
    "duration": 172,
    "start_time": "2023-04-28T20:17:39.931Z"
   },
   {
    "duration": 24,
    "start_time": "2023-04-28T20:17:40.105Z"
   },
   {
    "duration": 28,
    "start_time": "2023-04-28T20:17:40.130Z"
   },
   {
    "duration": 65,
    "start_time": "2023-04-28T20:17:40.160Z"
   },
   {
    "duration": 14,
    "start_time": "2023-04-28T20:17:40.227Z"
   },
   {
    "duration": 95,
    "start_time": "2023-04-28T20:17:40.243Z"
   },
   {
    "duration": 89,
    "start_time": "2023-04-28T20:17:40.340Z"
   },
   {
    "duration": 90,
    "start_time": "2023-04-28T20:17:40.431Z"
   },
   {
    "duration": 64,
    "start_time": "2023-04-28T20:17:40.522Z"
   },
   {
    "duration": 85,
    "start_time": "2023-04-28T20:17:40.588Z"
   },
   {
    "duration": 29,
    "start_time": "2023-04-28T20:17:40.684Z"
   },
   {
    "duration": 65,
    "start_time": "2023-04-28T20:17:40.714Z"
   },
   {
    "duration": 8,
    "start_time": "2023-04-28T20:17:40.782Z"
   },
   {
    "duration": 14,
    "start_time": "2023-04-28T20:17:40.792Z"
   },
   {
    "duration": 12,
    "start_time": "2023-04-28T20:17:40.808Z"
   },
   {
    "duration": 303,
    "start_time": "2023-04-28T20:17:40.822Z"
   },
   {
    "duration": 180,
    "start_time": "2023-04-28T20:17:41.127Z"
   },
   {
    "duration": 30,
    "start_time": "2023-04-28T20:17:41.309Z"
   },
   {
    "duration": 45,
    "start_time": "2023-04-28T20:17:41.341Z"
   },
   {
    "duration": 9,
    "start_time": "2023-04-28T20:17:41.388Z"
   },
   {
    "duration": 23,
    "start_time": "2023-04-28T20:17:41.399Z"
   },
   {
    "duration": 227,
    "start_time": "2023-04-28T20:17:41.425Z"
   },
   {
    "duration": 0,
    "start_time": "2023-04-28T20:17:41.654Z"
   },
   {
    "duration": 0,
    "start_time": "2023-04-28T20:17:41.655Z"
   },
   {
    "duration": 12,
    "start_time": "2023-04-28T20:18:09.401Z"
   },
   {
    "duration": 66,
    "start_time": "2023-04-28T20:18:37.168Z"
   },
   {
    "duration": 18,
    "start_time": "2023-04-28T20:18:40.364Z"
   },
   {
    "duration": 168,
    "start_time": "2023-04-28T20:19:00.709Z"
   },
   {
    "duration": 24,
    "start_time": "2023-04-28T20:19:18.962Z"
   },
   {
    "duration": 19,
    "start_time": "2023-04-28T20:25:22.053Z"
   },
   {
    "duration": 251,
    "start_time": "2023-04-28T20:26:47.112Z"
   },
   {
    "duration": 63,
    "start_time": "2023-04-28T20:28:18.827Z"
   },
   {
    "duration": 393,
    "start_time": "2023-04-28T20:28:23.217Z"
   },
   {
    "duration": 152,
    "start_time": "2023-04-28T20:28:46.979Z"
   },
   {
    "duration": 163,
    "start_time": "2023-04-28T20:29:02.327Z"
   },
   {
    "duration": 152,
    "start_time": "2023-04-28T20:30:25.181Z"
   },
   {
    "duration": 154,
    "start_time": "2023-04-28T20:32:35.310Z"
   },
   {
    "duration": 1090,
    "start_time": "2023-04-28T20:40:42.732Z"
   },
   {
    "duration": 191,
    "start_time": "2023-04-28T20:40:43.824Z"
   },
   {
    "duration": 37,
    "start_time": "2023-04-28T20:40:44.017Z"
   },
   {
    "duration": 44,
    "start_time": "2023-04-28T20:40:44.056Z"
   },
   {
    "duration": 49,
    "start_time": "2023-04-28T20:40:44.104Z"
   },
   {
    "duration": 31,
    "start_time": "2023-04-28T20:40:44.155Z"
   },
   {
    "duration": 67,
    "start_time": "2023-04-28T20:40:44.187Z"
   },
   {
    "duration": 85,
    "start_time": "2023-04-28T20:40:44.255Z"
   },
   {
    "duration": 74,
    "start_time": "2023-04-28T20:40:44.342Z"
   },
   {
    "duration": 73,
    "start_time": "2023-04-28T20:40:44.418Z"
   },
   {
    "duration": 72,
    "start_time": "2023-04-28T20:40:44.493Z"
   },
   {
    "duration": 39,
    "start_time": "2023-04-28T20:40:44.566Z"
   },
   {
    "duration": 50,
    "start_time": "2023-04-28T20:40:44.606Z"
   },
   {
    "duration": 27,
    "start_time": "2023-04-28T20:40:44.659Z"
   },
   {
    "duration": 15,
    "start_time": "2023-04-28T20:40:44.688Z"
   },
   {
    "duration": 18,
    "start_time": "2023-04-28T20:40:44.706Z"
   },
   {
    "duration": 320,
    "start_time": "2023-04-28T20:40:44.726Z"
   },
   {
    "duration": 177,
    "start_time": "2023-04-28T20:40:45.048Z"
   },
   {
    "duration": 30,
    "start_time": "2023-04-28T20:40:45.227Z"
   },
   {
    "duration": 31,
    "start_time": "2023-04-28T20:40:45.259Z"
   },
   {
    "duration": 7,
    "start_time": "2023-04-28T20:40:45.292Z"
   },
   {
    "duration": 25,
    "start_time": "2023-04-28T20:40:45.301Z"
   },
   {
    "duration": 228,
    "start_time": "2023-04-28T20:40:45.328Z"
   },
   {
    "duration": 0,
    "start_time": "2023-04-28T20:40:45.558Z"
   },
   {
    "duration": 0,
    "start_time": "2023-04-28T20:40:45.559Z"
   },
   {
    "duration": 0,
    "start_time": "2023-04-28T20:40:45.561Z"
   },
   {
    "duration": 138,
    "start_time": "2023-04-28T20:41:06.284Z"
   },
   {
    "duration": 127,
    "start_time": "2023-04-28T20:42:05.777Z"
   },
   {
    "duration": 1195,
    "start_time": "2023-04-28T20:42:29.632Z"
   },
   {
    "duration": 181,
    "start_time": "2023-04-28T20:42:30.829Z"
   },
   {
    "duration": 26,
    "start_time": "2023-04-28T20:42:31.012Z"
   },
   {
    "duration": 49,
    "start_time": "2023-04-28T20:42:31.040Z"
   },
   {
    "duration": 77,
    "start_time": "2023-04-28T20:42:31.092Z"
   },
   {
    "duration": 14,
    "start_time": "2023-04-28T20:42:31.171Z"
   },
   {
    "duration": 92,
    "start_time": "2023-04-28T20:42:31.186Z"
   },
   {
    "duration": 77,
    "start_time": "2023-04-28T20:42:31.280Z"
   },
   {
    "duration": 98,
    "start_time": "2023-04-28T20:42:31.360Z"
   },
   {
    "duration": 72,
    "start_time": "2023-04-28T20:42:31.460Z"
   },
   {
    "duration": 80,
    "start_time": "2023-04-28T20:42:31.534Z"
   },
   {
    "duration": 30,
    "start_time": "2023-04-28T20:42:31.616Z"
   },
   {
    "duration": 64,
    "start_time": "2023-04-28T20:42:31.647Z"
   },
   {
    "duration": 28,
    "start_time": "2023-04-28T20:42:31.714Z"
   },
   {
    "duration": 23,
    "start_time": "2023-04-28T20:42:31.743Z"
   },
   {
    "duration": 57,
    "start_time": "2023-04-28T20:42:31.768Z"
   },
   {
    "duration": 307,
    "start_time": "2023-04-28T20:42:31.826Z"
   },
   {
    "duration": 195,
    "start_time": "2023-04-28T20:42:32.136Z"
   },
   {
    "duration": 31,
    "start_time": "2023-04-28T20:42:32.332Z"
   },
   {
    "duration": 33,
    "start_time": "2023-04-28T20:42:32.364Z"
   },
   {
    "duration": 6,
    "start_time": "2023-04-28T20:42:32.399Z"
   },
   {
    "duration": 30,
    "start_time": "2023-04-28T20:42:32.407Z"
   },
   {
    "duration": 154,
    "start_time": "2023-04-28T20:42:32.450Z"
   },
   {
    "duration": 80,
    "start_time": "2023-04-28T20:42:32.606Z"
   },
   {
    "duration": 172,
    "start_time": "2023-04-28T20:42:32.688Z"
   },
   {
    "duration": 163,
    "start_time": "2023-04-28T20:42:32.862Z"
   },
   {
    "duration": 1119,
    "start_time": "2023-04-28T21:14:41.478Z"
   },
   {
    "duration": 168,
    "start_time": "2023-04-28T21:14:42.599Z"
   },
   {
    "duration": 24,
    "start_time": "2023-04-28T21:14:42.768Z"
   },
   {
    "duration": 21,
    "start_time": "2023-04-28T21:14:42.793Z"
   },
   {
    "duration": 46,
    "start_time": "2023-04-28T21:14:42.815Z"
   },
   {
    "duration": 31,
    "start_time": "2023-04-28T21:14:42.862Z"
   },
   {
    "duration": 62,
    "start_time": "2023-04-28T21:14:42.894Z"
   },
   {
    "duration": 87,
    "start_time": "2023-04-28T21:14:42.957Z"
   },
   {
    "duration": 72,
    "start_time": "2023-04-28T21:14:43.046Z"
   },
   {
    "duration": 68,
    "start_time": "2023-04-28T21:14:43.120Z"
   },
   {
    "duration": 72,
    "start_time": "2023-04-28T21:14:43.189Z"
   },
   {
    "duration": 38,
    "start_time": "2023-04-28T21:14:43.262Z"
   },
   {
    "duration": 47,
    "start_time": "2023-04-28T21:14:43.302Z"
   },
   {
    "duration": 9,
    "start_time": "2023-04-28T21:14:43.352Z"
   },
   {
    "duration": 32,
    "start_time": "2023-04-28T21:14:43.362Z"
   },
   {
    "duration": 11,
    "start_time": "2023-04-28T21:14:43.396Z"
   },
   {
    "duration": 296,
    "start_time": "2023-04-28T21:14:43.408Z"
   },
   {
    "duration": 172,
    "start_time": "2023-04-28T21:14:43.705Z"
   },
   {
    "duration": 33,
    "start_time": "2023-04-28T21:14:43.879Z"
   },
   {
    "duration": 16,
    "start_time": "2023-04-28T21:14:43.914Z"
   },
   {
    "duration": 7,
    "start_time": "2023-04-28T21:14:43.932Z"
   },
   {
    "duration": 54,
    "start_time": "2023-04-28T21:14:43.941Z"
   },
   {
    "duration": 165,
    "start_time": "2023-04-28T21:14:43.997Z"
   },
   {
    "duration": 76,
    "start_time": "2023-04-28T21:14:44.163Z"
   },
   {
    "duration": 164,
    "start_time": "2023-04-28T21:14:44.240Z"
   },
   {
    "duration": 161,
    "start_time": "2023-04-28T21:14:44.406Z"
   },
   {
    "duration": 8,
    "start_time": "2023-04-28T21:14:44.568Z"
   },
   {
    "duration": 106,
    "start_time": "2023-04-28T21:29:00.544Z"
   },
   {
    "duration": 10,
    "start_time": "2023-04-28T21:29:07.626Z"
   },
   {
    "duration": 10,
    "start_time": "2023-04-28T21:29:17.621Z"
   },
   {
    "duration": 58,
    "start_time": "2023-05-02T17:54:27.645Z"
   },
   {
    "duration": 1382,
    "start_time": "2023-05-02T17:54:35.595Z"
   },
   {
    "duration": 537,
    "start_time": "2023-05-02T17:54:36.980Z"
   },
   {
    "duration": 22,
    "start_time": "2023-05-02T17:54:37.519Z"
   },
   {
    "duration": 50,
    "start_time": "2023-05-02T17:54:37.543Z"
   },
   {
    "duration": 76,
    "start_time": "2023-05-02T17:54:37.597Z"
   },
   {
    "duration": 13,
    "start_time": "2023-05-02T17:54:37.675Z"
   },
   {
    "duration": 110,
    "start_time": "2023-05-02T17:54:37.690Z"
   },
   {
    "duration": 63,
    "start_time": "2023-05-02T17:54:37.803Z"
   },
   {
    "duration": 82,
    "start_time": "2023-05-02T17:54:37.868Z"
   },
   {
    "duration": 64,
    "start_time": "2023-05-02T17:54:37.953Z"
   },
   {
    "duration": 93,
    "start_time": "2023-05-02T17:54:38.020Z"
   },
   {
    "duration": 27,
    "start_time": "2023-05-02T17:54:38.115Z"
   },
   {
    "duration": 88,
    "start_time": "2023-05-02T17:54:38.143Z"
   },
   {
    "duration": 8,
    "start_time": "2023-05-02T17:54:38.233Z"
   },
   {
    "duration": 80,
    "start_time": "2023-05-02T17:54:38.242Z"
   },
   {
    "duration": 69,
    "start_time": "2023-05-02T17:54:38.324Z"
   },
   {
    "duration": 324,
    "start_time": "2023-05-02T17:54:38.395Z"
   },
   {
    "duration": 187,
    "start_time": "2023-05-02T17:54:38.721Z"
   },
   {
    "duration": 28,
    "start_time": "2023-05-02T17:54:38.910Z"
   },
   {
    "duration": 19,
    "start_time": "2023-05-02T17:54:38.939Z"
   },
   {
    "duration": 29,
    "start_time": "2023-05-02T17:54:38.959Z"
   },
   {
    "duration": 32,
    "start_time": "2023-05-02T17:54:38.989Z"
   },
   {
    "duration": 148,
    "start_time": "2023-05-02T17:54:39.022Z"
   },
   {
    "duration": 86,
    "start_time": "2023-05-02T17:54:39.172Z"
   },
   {
    "duration": 186,
    "start_time": "2023-05-02T17:54:39.259Z"
   },
   {
    "duration": 181,
    "start_time": "2023-05-02T17:54:39.446Z"
   },
   {
    "duration": 12,
    "start_time": "2023-05-02T17:54:39.628Z"
   },
   {
    "duration": 26,
    "start_time": "2023-05-02T17:54:39.643Z"
   },
   {
    "duration": 13,
    "start_time": "2023-05-02T17:55:04.939Z"
   },
   {
    "duration": 1260,
    "start_time": "2023-05-02T17:55:28.268Z"
   },
   {
    "duration": 184,
    "start_time": "2023-05-02T17:55:29.531Z"
   },
   {
    "duration": 26,
    "start_time": "2023-05-02T17:55:29.717Z"
   },
   {
    "duration": 38,
    "start_time": "2023-05-02T17:55:29.746Z"
   },
   {
    "duration": 74,
    "start_time": "2023-05-02T17:55:29.794Z"
   },
   {
    "duration": 35,
    "start_time": "2023-05-02T17:55:29.870Z"
   },
   {
    "duration": 63,
    "start_time": "2023-05-02T17:55:29.907Z"
   },
   {
    "duration": 98,
    "start_time": "2023-05-02T17:55:29.971Z"
   },
   {
    "duration": 84,
    "start_time": "2023-05-02T17:55:30.072Z"
   },
   {
    "duration": 74,
    "start_time": "2023-05-02T17:55:30.157Z"
   },
   {
    "duration": 93,
    "start_time": "2023-05-02T17:55:30.233Z"
   },
   {
    "duration": 28,
    "start_time": "2023-05-02T17:55:30.328Z"
   },
   {
    "duration": 69,
    "start_time": "2023-05-02T17:55:30.358Z"
   },
   {
    "duration": 14,
    "start_time": "2023-05-02T17:55:30.430Z"
   },
   {
    "duration": 24,
    "start_time": "2023-05-02T17:55:30.445Z"
   },
   {
    "duration": 27,
    "start_time": "2023-05-02T17:55:30.470Z"
   },
   {
    "duration": 361,
    "start_time": "2023-05-02T17:55:30.499Z"
   },
   {
    "duration": 196,
    "start_time": "2023-05-02T17:55:30.862Z"
   },
   {
    "duration": 45,
    "start_time": "2023-05-02T17:55:31.059Z"
   },
   {
    "duration": 18,
    "start_time": "2023-05-02T17:55:31.106Z"
   },
   {
    "duration": 17,
    "start_time": "2023-05-02T17:55:31.125Z"
   },
   {
    "duration": 48,
    "start_time": "2023-05-02T17:55:31.143Z"
   },
   {
    "duration": 137,
    "start_time": "2023-05-02T17:55:31.196Z"
   },
   {
    "duration": 84,
    "start_time": "2023-05-02T17:55:31.335Z"
   },
   {
    "duration": 194,
    "start_time": "2023-05-02T17:55:31.421Z"
   },
   {
    "duration": 182,
    "start_time": "2023-05-02T17:55:31.617Z"
   },
   {
    "duration": 12,
    "start_time": "2023-05-02T17:55:31.801Z"
   },
   {
    "duration": 29,
    "start_time": "2023-05-02T17:55:31.814Z"
   },
   {
    "duration": 86,
    "start_time": "2023-05-02T17:57:45.524Z"
   },
   {
    "duration": 7,
    "start_time": "2023-05-02T17:58:10.999Z"
   },
   {
    "duration": 20,
    "start_time": "2023-05-02T18:01:14.981Z"
   },
   {
    "duration": 122,
    "start_time": "2023-05-02T18:03:38.497Z"
   },
   {
    "duration": 4,
    "start_time": "2023-05-02T18:05:46.804Z"
   },
   {
    "duration": 4,
    "start_time": "2023-05-02T18:05:59.648Z"
   },
   {
    "duration": 122,
    "start_time": "2023-05-02T18:18:57.226Z"
   },
   {
    "duration": 174,
    "start_time": "2023-05-02T18:19:35.943Z"
   },
   {
    "duration": 10,
    "start_time": "2023-05-02T18:20:23.857Z"
   },
   {
    "duration": 11,
    "start_time": "2023-05-02T18:23:00.998Z"
   },
   {
    "duration": 12,
    "start_time": "2023-05-02T18:23:26.356Z"
   },
   {
    "duration": 1235,
    "start_time": "2023-05-02T18:23:34.795Z"
   },
   {
    "duration": 192,
    "start_time": "2023-05-02T18:23:36.032Z"
   },
   {
    "duration": 23,
    "start_time": "2023-05-02T18:23:36.226Z"
   },
   {
    "duration": 22,
    "start_time": "2023-05-02T18:23:36.250Z"
   },
   {
    "duration": 70,
    "start_time": "2023-05-02T18:23:36.273Z"
   },
   {
    "duration": 15,
    "start_time": "2023-05-02T18:23:36.344Z"
   },
   {
    "duration": 80,
    "start_time": "2023-05-02T18:23:36.361Z"
   },
   {
    "duration": 85,
    "start_time": "2023-05-02T18:23:36.443Z"
   },
   {
    "duration": 86,
    "start_time": "2023-05-02T18:23:36.530Z"
   },
   {
    "duration": 57,
    "start_time": "2023-05-02T18:23:36.619Z"
   },
   {
    "duration": 83,
    "start_time": "2023-05-02T18:23:36.678Z"
   },
   {
    "duration": 44,
    "start_time": "2023-05-02T18:23:36.762Z"
   },
   {
    "duration": 54,
    "start_time": "2023-05-02T18:23:36.808Z"
   },
   {
    "duration": 10,
    "start_time": "2023-05-02T18:23:36.863Z"
   },
   {
    "duration": 44,
    "start_time": "2023-05-02T18:23:36.874Z"
   },
   {
    "duration": 13,
    "start_time": "2023-05-02T18:23:36.920Z"
   },
   {
    "duration": 321,
    "start_time": "2023-05-02T18:23:36.935Z"
   },
   {
    "duration": 212,
    "start_time": "2023-05-02T18:23:37.258Z"
   },
   {
    "duration": 37,
    "start_time": "2023-05-02T18:23:37.472Z"
   },
   {
    "duration": 17,
    "start_time": "2023-05-02T18:23:37.510Z"
   },
   {
    "duration": 6,
    "start_time": "2023-05-02T18:23:37.529Z"
   },
   {
    "duration": 58,
    "start_time": "2023-05-02T18:23:37.536Z"
   },
   {
    "duration": 124,
    "start_time": "2023-05-02T18:23:37.597Z"
   },
   {
    "duration": 73,
    "start_time": "2023-05-02T18:23:37.723Z"
   },
   {
    "duration": 167,
    "start_time": "2023-05-02T18:23:37.798Z"
   },
   {
    "duration": 181,
    "start_time": "2023-05-02T18:23:37.967Z"
   },
   {
    "duration": 10,
    "start_time": "2023-05-02T18:23:38.150Z"
   },
   {
    "duration": 28,
    "start_time": "2023-05-02T18:23:38.163Z"
   },
   {
    "duration": 12,
    "start_time": "2023-05-02T18:24:17.574Z"
   },
   {
    "duration": 19,
    "start_time": "2023-05-02T18:24:26.281Z"
   },
   {
    "duration": 1158,
    "start_time": "2023-05-02T18:24:50.712Z"
   },
   {
    "duration": 187,
    "start_time": "2023-05-02T18:24:51.872Z"
   },
   {
    "duration": 25,
    "start_time": "2023-05-02T18:24:52.061Z"
   },
   {
    "duration": 36,
    "start_time": "2023-05-02T18:24:52.087Z"
   },
   {
    "duration": 46,
    "start_time": "2023-05-02T18:24:52.125Z"
   },
   {
    "duration": 20,
    "start_time": "2023-05-02T18:24:52.173Z"
   },
   {
    "duration": 72,
    "start_time": "2023-05-02T18:24:52.195Z"
   },
   {
    "duration": 75,
    "start_time": "2023-05-02T18:24:52.287Z"
   },
   {
    "duration": 78,
    "start_time": "2023-05-02T18:24:52.364Z"
   },
   {
    "duration": 67,
    "start_time": "2023-05-02T18:24:52.445Z"
   },
   {
    "duration": 91,
    "start_time": "2023-05-02T18:24:52.514Z"
   },
   {
    "duration": 28,
    "start_time": "2023-05-02T18:24:52.607Z"
   },
   {
    "duration": 66,
    "start_time": "2023-05-02T18:24:52.637Z"
   },
   {
    "duration": 30,
    "start_time": "2023-05-02T18:24:52.705Z"
   },
   {
    "duration": 21,
    "start_time": "2023-05-02T18:24:52.736Z"
   },
   {
    "duration": 10,
    "start_time": "2023-05-02T18:24:52.759Z"
   },
   {
    "duration": 327,
    "start_time": "2023-05-02T18:24:52.771Z"
   },
   {
    "duration": 190,
    "start_time": "2023-05-02T18:24:53.100Z"
   },
   {
    "duration": 33,
    "start_time": "2023-05-02T18:24:53.297Z"
   },
   {
    "duration": 20,
    "start_time": "2023-05-02T18:24:53.332Z"
   },
   {
    "duration": 19,
    "start_time": "2023-05-02T18:24:53.354Z"
   },
   {
    "duration": 58,
    "start_time": "2023-05-02T18:24:53.375Z"
   },
   {
    "duration": 134,
    "start_time": "2023-05-02T18:24:53.435Z"
   },
   {
    "duration": 77,
    "start_time": "2023-05-02T18:24:53.571Z"
   },
   {
    "duration": 184,
    "start_time": "2023-05-02T18:24:53.650Z"
   },
   {
    "duration": 172,
    "start_time": "2023-05-02T18:24:53.835Z"
   },
   {
    "duration": 13,
    "start_time": "2023-05-02T18:24:54.009Z"
   },
   {
    "duration": 39,
    "start_time": "2023-05-02T18:24:54.026Z"
   },
   {
    "duration": 11,
    "start_time": "2023-05-02T18:25:24.115Z"
   },
   {
    "duration": 10,
    "start_time": "2023-05-02T18:25:31.499Z"
   },
   {
    "duration": 15,
    "start_time": "2023-05-02T18:33:24.181Z"
   },
   {
    "duration": 119,
    "start_time": "2023-05-02T18:38:54.495Z"
   },
   {
    "duration": 1069,
    "start_time": "2023-05-02T18:39:35.107Z"
   },
   {
    "duration": 162,
    "start_time": "2023-05-02T18:39:36.178Z"
   },
   {
    "duration": 21,
    "start_time": "2023-05-02T18:39:36.342Z"
   },
   {
    "duration": 33,
    "start_time": "2023-05-02T18:39:36.365Z"
   },
   {
    "duration": 47,
    "start_time": "2023-05-02T18:39:36.399Z"
   },
   {
    "duration": 11,
    "start_time": "2023-05-02T18:39:36.447Z"
   },
   {
    "duration": 78,
    "start_time": "2023-05-02T18:39:36.460Z"
   },
   {
    "duration": 83,
    "start_time": "2023-05-02T18:39:36.539Z"
   },
   {
    "duration": 68,
    "start_time": "2023-05-02T18:39:36.624Z"
   },
   {
    "duration": 52,
    "start_time": "2023-05-02T18:39:36.694Z"
   },
   {
    "duration": 80,
    "start_time": "2023-05-02T18:39:36.748Z"
   },
   {
    "duration": 27,
    "start_time": "2023-05-02T18:39:36.829Z"
   },
   {
    "duration": 60,
    "start_time": "2023-05-02T18:39:36.857Z"
   },
   {
    "duration": 18,
    "start_time": "2023-05-02T18:39:36.918Z"
   },
   {
    "duration": 37,
    "start_time": "2023-05-02T18:39:36.937Z"
   },
   {
    "duration": 32,
    "start_time": "2023-05-02T18:39:36.977Z"
   },
   {
    "duration": 331,
    "start_time": "2023-05-02T18:39:37.011Z"
   },
   {
    "duration": 181,
    "start_time": "2023-05-02T18:39:37.343Z"
   },
   {
    "duration": 26,
    "start_time": "2023-05-02T18:39:37.525Z"
   },
   {
    "duration": 16,
    "start_time": "2023-05-02T18:39:37.552Z"
   },
   {
    "duration": 6,
    "start_time": "2023-05-02T18:39:37.583Z"
   },
   {
    "duration": 26,
    "start_time": "2023-05-02T18:39:37.590Z"
   },
   {
    "duration": 127,
    "start_time": "2023-05-02T18:39:37.618Z"
   },
   {
    "duration": 68,
    "start_time": "2023-05-02T18:39:37.746Z"
   },
   {
    "duration": 158,
    "start_time": "2023-05-02T18:39:37.816Z"
   },
   {
    "duration": 156,
    "start_time": "2023-05-02T18:39:37.976Z"
   },
   {
    "duration": 128,
    "start_time": "2023-05-02T18:39:38.133Z"
   },
   {
    "duration": 0,
    "start_time": "2023-05-02T18:39:38.263Z"
   },
   {
    "duration": 10,
    "start_time": "2023-05-02T18:53:43.645Z"
   },
   {
    "duration": 39,
    "start_time": "2023-05-02T18:54:35.683Z"
   },
   {
    "duration": 12,
    "start_time": "2023-05-02T19:00:10.425Z"
   },
   {
    "duration": 1194,
    "start_time": "2023-05-02T19:00:18.208Z"
   },
   {
    "duration": 179,
    "start_time": "2023-05-02T19:00:19.404Z"
   },
   {
    "duration": 26,
    "start_time": "2023-05-02T19:00:19.584Z"
   },
   {
    "duration": 42,
    "start_time": "2023-05-02T19:00:19.612Z"
   },
   {
    "duration": 61,
    "start_time": "2023-05-02T19:00:19.656Z"
   },
   {
    "duration": 16,
    "start_time": "2023-05-02T19:00:19.719Z"
   },
   {
    "duration": 105,
    "start_time": "2023-05-02T19:00:19.738Z"
   },
   {
    "duration": 89,
    "start_time": "2023-05-02T19:00:19.846Z"
   },
   {
    "duration": 79,
    "start_time": "2023-05-02T19:00:19.937Z"
   },
   {
    "duration": 79,
    "start_time": "2023-05-02T19:00:20.019Z"
   },
   {
    "duration": 103,
    "start_time": "2023-05-02T19:00:20.099Z"
   },
   {
    "duration": 48,
    "start_time": "2023-05-02T19:00:20.204Z"
   },
   {
    "duration": 50,
    "start_time": "2023-05-02T19:00:20.254Z"
   },
   {
    "duration": 28,
    "start_time": "2023-05-02T19:00:20.306Z"
   },
   {
    "duration": 18,
    "start_time": "2023-05-02T19:00:20.335Z"
   },
   {
    "duration": 37,
    "start_time": "2023-05-02T19:00:20.355Z"
   },
   {
    "duration": 369,
    "start_time": "2023-05-02T19:00:20.394Z"
   },
   {
    "duration": 201,
    "start_time": "2023-05-02T19:00:20.766Z"
   },
   {
    "duration": 48,
    "start_time": "2023-05-02T19:00:20.970Z"
   },
   {
    "duration": 19,
    "start_time": "2023-05-02T19:00:21.022Z"
   },
   {
    "duration": 7,
    "start_time": "2023-05-02T19:00:21.042Z"
   },
   {
    "duration": 46,
    "start_time": "2023-05-02T19:00:21.050Z"
   },
   {
    "duration": 132,
    "start_time": "2023-05-02T19:00:21.098Z"
   },
   {
    "duration": 114,
    "start_time": "2023-05-02T19:00:21.232Z"
   },
   {
    "duration": 182,
    "start_time": "2023-05-02T19:00:21.348Z"
   },
   {
    "duration": 177,
    "start_time": "2023-05-02T19:00:21.532Z"
   },
   {
    "duration": 115,
    "start_time": "2023-05-02T19:00:21.711Z"
   },
   {
    "duration": 0,
    "start_time": "2023-05-02T19:00:21.828Z"
   },
   {
    "duration": 16,
    "start_time": "2023-05-02T19:01:28.726Z"
   },
   {
    "duration": 1189,
    "start_time": "2023-05-02T19:01:48.973Z"
   },
   {
    "duration": 169,
    "start_time": "2023-05-02T19:01:50.165Z"
   },
   {
    "duration": 22,
    "start_time": "2023-05-02T19:01:50.336Z"
   },
   {
    "duration": 40,
    "start_time": "2023-05-02T19:01:50.361Z"
   },
   {
    "duration": 67,
    "start_time": "2023-05-02T19:01:50.403Z"
   },
   {
    "duration": 13,
    "start_time": "2023-05-02T19:01:50.472Z"
   },
   {
    "duration": 84,
    "start_time": "2023-05-02T19:01:50.487Z"
   },
   {
    "duration": 84,
    "start_time": "2023-05-02T19:01:50.573Z"
   },
   {
    "duration": 85,
    "start_time": "2023-05-02T19:01:50.658Z"
   },
   {
    "duration": 67,
    "start_time": "2023-05-02T19:01:50.746Z"
   },
   {
    "duration": 85,
    "start_time": "2023-05-02T19:01:50.815Z"
   },
   {
    "duration": 29,
    "start_time": "2023-05-02T19:01:50.902Z"
   },
   {
    "duration": 66,
    "start_time": "2023-05-02T19:01:50.933Z"
   },
   {
    "duration": 30,
    "start_time": "2023-05-02T19:01:51.001Z"
   },
   {
    "duration": 45,
    "start_time": "2023-05-02T19:01:51.033Z"
   },
   {
    "duration": 58,
    "start_time": "2023-05-02T19:01:51.080Z"
   },
   {
    "duration": 335,
    "start_time": "2023-05-02T19:01:51.139Z"
   },
   {
    "duration": 178,
    "start_time": "2023-05-02T19:01:51.483Z"
   },
   {
    "duration": 36,
    "start_time": "2023-05-02T19:01:51.663Z"
   },
   {
    "duration": 17,
    "start_time": "2023-05-02T19:01:51.701Z"
   },
   {
    "duration": 32,
    "start_time": "2023-05-02T19:01:51.719Z"
   },
   {
    "duration": 46,
    "start_time": "2023-05-02T19:01:51.752Z"
   },
   {
    "duration": 147,
    "start_time": "2023-05-02T19:01:51.800Z"
   },
   {
    "duration": 76,
    "start_time": "2023-05-02T19:01:51.949Z"
   },
   {
    "duration": 172,
    "start_time": "2023-05-02T19:01:52.027Z"
   },
   {
    "duration": 202,
    "start_time": "2023-05-02T19:01:52.201Z"
   },
   {
    "duration": 13,
    "start_time": "2023-05-02T19:01:52.404Z"
   },
   {
    "duration": 59,
    "start_time": "2023-05-02T19:01:52.419Z"
   },
   {
    "duration": 10,
    "start_time": "2023-05-02T19:12:37.183Z"
   },
   {
    "duration": 39,
    "start_time": "2023-05-02T19:13:07.709Z"
   },
   {
    "duration": 34,
    "start_time": "2023-05-02T19:14:02.454Z"
   },
   {
    "duration": 52,
    "start_time": "2023-05-02T19:15:01.026Z"
   },
   {
    "duration": 134,
    "start_time": "2023-05-02T19:58:30.211Z"
   },
   {
    "duration": 38,
    "start_time": "2023-05-02T19:58:43.816Z"
   },
   {
    "duration": 108,
    "start_time": "2023-05-02T20:03:55.220Z"
   },
   {
    "duration": 1081,
    "start_time": "2023-05-02T20:05:15.238Z"
   },
   {
    "duration": 189,
    "start_time": "2023-05-02T20:05:16.321Z"
   },
   {
    "duration": 23,
    "start_time": "2023-05-02T20:05:16.511Z"
   },
   {
    "duration": 30,
    "start_time": "2023-05-02T20:05:16.536Z"
   },
   {
    "duration": 58,
    "start_time": "2023-05-02T20:05:16.569Z"
   },
   {
    "duration": 13,
    "start_time": "2023-05-02T20:05:16.629Z"
   },
   {
    "duration": 87,
    "start_time": "2023-05-02T20:05:16.644Z"
   },
   {
    "duration": 79,
    "start_time": "2023-05-02T20:05:16.732Z"
   },
   {
    "duration": 73,
    "start_time": "2023-05-02T20:05:16.813Z"
   },
   {
    "duration": 58,
    "start_time": "2023-05-02T20:05:16.888Z"
   },
   {
    "duration": 103,
    "start_time": "2023-05-02T20:05:16.948Z"
   },
   {
    "duration": 37,
    "start_time": "2023-05-02T20:05:17.053Z"
   },
   {
    "duration": 78,
    "start_time": "2023-05-02T20:05:17.092Z"
   },
   {
    "duration": 29,
    "start_time": "2023-05-02T20:05:17.173Z"
   },
   {
    "duration": 70,
    "start_time": "2023-05-02T20:05:17.203Z"
   },
   {
    "duration": 42,
    "start_time": "2023-05-02T20:05:17.275Z"
   },
   {
    "duration": 327,
    "start_time": "2023-05-02T20:05:17.319Z"
   },
   {
    "duration": 189,
    "start_time": "2023-05-02T20:05:17.648Z"
   },
   {
    "duration": 29,
    "start_time": "2023-05-02T20:05:17.839Z"
   },
   {
    "duration": 30,
    "start_time": "2023-05-02T20:05:17.870Z"
   },
   {
    "duration": 6,
    "start_time": "2023-05-02T20:05:17.902Z"
   },
   {
    "duration": 70,
    "start_time": "2023-05-02T20:05:17.910Z"
   },
   {
    "duration": 146,
    "start_time": "2023-05-02T20:05:17.982Z"
   },
   {
    "duration": 74,
    "start_time": "2023-05-02T20:05:18.130Z"
   },
   {
    "duration": 179,
    "start_time": "2023-05-02T20:05:18.206Z"
   },
   {
    "duration": 166,
    "start_time": "2023-05-02T20:05:18.387Z"
   },
   {
    "duration": 12,
    "start_time": "2023-05-02T20:05:18.555Z"
   },
   {
    "duration": 34,
    "start_time": "2023-05-02T20:05:18.569Z"
   },
   {
    "duration": 38,
    "start_time": "2023-05-02T20:05:18.605Z"
   },
   {
    "duration": 47,
    "start_time": "2023-05-02T20:05:18.646Z"
   },
   {
    "duration": 220,
    "start_time": "2023-05-02T20:05:18.695Z"
   },
   {
    "duration": 11,
    "start_time": "2023-05-02T20:10:02.585Z"
   },
   {
    "duration": 87,
    "start_time": "2023-05-02T20:10:16.490Z"
   },
   {
    "duration": 92,
    "start_time": "2023-05-02T20:10:24.625Z"
   },
   {
    "duration": 2526,
    "start_time": "2023-05-02T20:10:51.442Z"
   },
   {
    "duration": 1204,
    "start_time": "2023-05-02T20:13:59.742Z"
   },
   {
    "duration": 198,
    "start_time": "2023-05-02T20:14:00.947Z"
   },
   {
    "duration": 24,
    "start_time": "2023-05-02T20:14:01.147Z"
   },
   {
    "duration": 60,
    "start_time": "2023-05-02T20:14:01.172Z"
   },
   {
    "duration": 94,
    "start_time": "2023-05-02T20:14:01.235Z"
   },
   {
    "duration": 14,
    "start_time": "2023-05-02T20:14:01.331Z"
   },
   {
    "duration": 107,
    "start_time": "2023-05-02T20:14:01.346Z"
   },
   {
    "duration": 93,
    "start_time": "2023-05-02T20:14:01.454Z"
   },
   {
    "duration": 88,
    "start_time": "2023-05-02T20:14:01.549Z"
   },
   {
    "duration": 69,
    "start_time": "2023-05-02T20:14:01.638Z"
   },
   {
    "duration": 93,
    "start_time": "2023-05-02T20:14:01.709Z"
   },
   {
    "duration": 27,
    "start_time": "2023-05-02T20:14:01.804Z"
   },
   {
    "duration": 76,
    "start_time": "2023-05-02T20:14:01.833Z"
   },
   {
    "duration": 18,
    "start_time": "2023-05-02T20:14:01.912Z"
   },
   {
    "duration": 36,
    "start_time": "2023-05-02T20:14:01.932Z"
   },
   {
    "duration": 41,
    "start_time": "2023-05-02T20:14:01.970Z"
   },
   {
    "duration": 322,
    "start_time": "2023-05-02T20:14:02.013Z"
   },
   {
    "duration": 189,
    "start_time": "2023-05-02T20:14:02.337Z"
   },
   {
    "duration": 29,
    "start_time": "2023-05-02T20:14:02.528Z"
   },
   {
    "duration": 33,
    "start_time": "2023-05-02T20:14:02.558Z"
   },
   {
    "duration": 9,
    "start_time": "2023-05-02T20:14:02.593Z"
   },
   {
    "duration": 31,
    "start_time": "2023-05-02T20:14:02.604Z"
   },
   {
    "duration": 150,
    "start_time": "2023-05-02T20:14:02.636Z"
   },
   {
    "duration": 69,
    "start_time": "2023-05-02T20:14:02.788Z"
   },
   {
    "duration": 187,
    "start_time": "2023-05-02T20:14:02.859Z"
   },
   {
    "duration": 173,
    "start_time": "2023-05-02T20:14:03.047Z"
   },
   {
    "duration": 11,
    "start_time": "2023-05-02T20:14:03.222Z"
   },
   {
    "duration": 24,
    "start_time": "2023-05-02T20:14:03.235Z"
   },
   {
    "duration": 11,
    "start_time": "2023-05-02T20:14:03.260Z"
   },
   {
    "duration": 51,
    "start_time": "2023-05-02T20:14:03.273Z"
   },
   {
    "duration": 125,
    "start_time": "2023-05-02T20:14:03.326Z"
   },
   {
    "duration": 1521,
    "start_time": "2023-05-02T20:14:03.453Z"
   },
   {
    "duration": 95,
    "start_time": "2023-05-02T20:14:18.290Z"
   },
   {
    "duration": 1299,
    "start_time": "2023-05-02T20:14:28.961Z"
   },
   {
    "duration": 11,
    "start_time": "2023-05-02T20:18:19.247Z"
   },
   {
    "duration": 1245,
    "start_time": "2023-05-02T20:18:36.554Z"
   },
   {
    "duration": 9,
    "start_time": "2023-05-02T20:19:10.407Z"
   },
   {
    "duration": 1162,
    "start_time": "2023-05-02T20:20:36.423Z"
   },
   {
    "duration": 1177,
    "start_time": "2023-05-02T20:24:38.468Z"
   },
   {
    "duration": 3,
    "start_time": "2023-05-02T20:29:03.485Z"
   },
   {
    "duration": 1207,
    "start_time": "2023-05-02T20:31:10.501Z"
   },
   {
    "duration": 182,
    "start_time": "2023-05-02T20:31:11.710Z"
   },
   {
    "duration": 29,
    "start_time": "2023-05-02T20:31:11.894Z"
   },
   {
    "duration": 48,
    "start_time": "2023-05-02T20:31:11.926Z"
   },
   {
    "duration": 86,
    "start_time": "2023-05-02T20:31:11.975Z"
   },
   {
    "duration": 14,
    "start_time": "2023-05-02T20:31:12.063Z"
   },
   {
    "duration": 79,
    "start_time": "2023-05-02T20:31:12.079Z"
   },
   {
    "duration": 71,
    "start_time": "2023-05-02T20:31:12.160Z"
   },
   {
    "duration": 79,
    "start_time": "2023-05-02T20:31:12.233Z"
   },
   {
    "duration": 58,
    "start_time": "2023-05-02T20:31:12.316Z"
   },
   {
    "duration": 72,
    "start_time": "2023-05-02T20:31:12.383Z"
   },
   {
    "duration": 43,
    "start_time": "2023-05-02T20:31:12.457Z"
   },
   {
    "duration": 52,
    "start_time": "2023-05-02T20:31:12.502Z"
   },
   {
    "duration": 9,
    "start_time": "2023-05-02T20:31:12.555Z"
   },
   {
    "duration": 14,
    "start_time": "2023-05-02T20:31:12.583Z"
   },
   {
    "duration": 14,
    "start_time": "2023-05-02T20:31:12.599Z"
   },
   {
    "duration": 306,
    "start_time": "2023-05-02T20:31:12.615Z"
   },
   {
    "duration": 185,
    "start_time": "2023-05-02T20:31:12.923Z"
   },
   {
    "duration": 30,
    "start_time": "2023-05-02T20:31:13.111Z"
   },
   {
    "duration": 17,
    "start_time": "2023-05-02T20:31:13.143Z"
   },
   {
    "duration": 27,
    "start_time": "2023-05-02T20:31:13.161Z"
   },
   {
    "duration": 52,
    "start_time": "2023-05-02T20:31:13.190Z"
   },
   {
    "duration": 158,
    "start_time": "2023-05-02T20:31:13.244Z"
   },
   {
    "duration": 80,
    "start_time": "2023-05-02T20:31:13.404Z"
   },
   {
    "duration": 173,
    "start_time": "2023-05-02T20:31:13.486Z"
   },
   {
    "duration": 170,
    "start_time": "2023-05-02T20:31:13.662Z"
   },
   {
    "duration": 13,
    "start_time": "2023-05-02T20:31:13.834Z"
   },
   {
    "duration": 34,
    "start_time": "2023-05-02T20:31:13.852Z"
   },
   {
    "duration": 21,
    "start_time": "2023-05-02T20:31:13.888Z"
   },
   {
    "duration": 41,
    "start_time": "2023-05-02T20:31:13.911Z"
   },
   {
    "duration": 120,
    "start_time": "2023-05-02T20:31:13.954Z"
   },
   {
    "duration": 8,
    "start_time": "2023-05-02T20:31:14.076Z"
   },
   {
    "duration": 1620,
    "start_time": "2023-05-02T20:31:14.086Z"
   },
   {
    "duration": 8,
    "start_time": "2023-05-02T20:31:40.354Z"
   },
   {
    "duration": 9,
    "start_time": "2023-05-02T20:31:50.261Z"
   },
   {
    "duration": 1040,
    "start_time": "2023-05-02T20:35:31.534Z"
   },
   {
    "duration": 163,
    "start_time": "2023-05-02T20:35:32.576Z"
   },
   {
    "duration": 22,
    "start_time": "2023-05-02T20:35:32.741Z"
   },
   {
    "duration": 57,
    "start_time": "2023-05-02T20:35:32.765Z"
   },
   {
    "duration": 66,
    "start_time": "2023-05-02T20:35:32.824Z"
   },
   {
    "duration": 14,
    "start_time": "2023-05-02T20:35:32.892Z"
   },
   {
    "duration": 78,
    "start_time": "2023-05-02T20:35:32.907Z"
   },
   {
    "duration": 68,
    "start_time": "2023-05-02T20:35:32.988Z"
   },
   {
    "duration": 78,
    "start_time": "2023-05-02T20:35:33.057Z"
   },
   {
    "duration": 59,
    "start_time": "2023-05-02T20:35:33.137Z"
   },
   {
    "duration": 71,
    "start_time": "2023-05-02T20:35:33.197Z"
   },
   {
    "duration": 37,
    "start_time": "2023-05-02T20:35:33.269Z"
   },
   {
    "duration": 60,
    "start_time": "2023-05-02T20:35:33.308Z"
   },
   {
    "duration": 33,
    "start_time": "2023-05-02T20:35:33.370Z"
   },
   {
    "duration": 49,
    "start_time": "2023-05-02T20:35:33.405Z"
   },
   {
    "duration": 17,
    "start_time": "2023-05-02T20:35:33.456Z"
   },
   {
    "duration": 335,
    "start_time": "2023-05-02T20:35:33.475Z"
   },
   {
    "duration": 201,
    "start_time": "2023-05-02T20:35:33.812Z"
   },
   {
    "duration": 34,
    "start_time": "2023-05-02T20:35:34.015Z"
   },
   {
    "duration": 36,
    "start_time": "2023-05-02T20:35:34.051Z"
   },
   {
    "duration": 27,
    "start_time": "2023-05-02T20:35:34.088Z"
   },
   {
    "duration": 55,
    "start_time": "2023-05-02T20:35:34.117Z"
   },
   {
    "duration": 133,
    "start_time": "2023-05-02T20:35:34.174Z"
   },
   {
    "duration": 75,
    "start_time": "2023-05-02T20:35:34.309Z"
   },
   {
    "duration": 164,
    "start_time": "2023-05-02T20:35:34.386Z"
   },
   {
    "duration": 171,
    "start_time": "2023-05-02T20:35:34.552Z"
   },
   {
    "duration": 11,
    "start_time": "2023-05-02T20:35:34.725Z"
   },
   {
    "duration": 38,
    "start_time": "2023-05-02T20:35:34.738Z"
   },
   {
    "duration": 23,
    "start_time": "2023-05-02T20:35:34.778Z"
   },
   {
    "duration": 47,
    "start_time": "2023-05-02T20:35:34.802Z"
   },
   {
    "duration": 129,
    "start_time": "2023-05-02T20:35:34.851Z"
   },
   {
    "duration": 11,
    "start_time": "2023-05-02T20:35:34.982Z"
   },
   {
    "duration": 99,
    "start_time": "2023-05-02T20:37:29.966Z"
   },
   {
    "duration": 138,
    "start_time": "2023-05-02T20:38:46.162Z"
   },
   {
    "duration": 69,
    "start_time": "2023-05-02T20:44:12.948Z"
   },
   {
    "duration": 77,
    "start_time": "2023-05-02T20:44:28.657Z"
   },
   {
    "duration": 103,
    "start_time": "2023-05-02T20:46:22.323Z"
   },
   {
    "duration": 99,
    "start_time": "2023-05-02T20:48:51.229Z"
   },
   {
    "duration": 98,
    "start_time": "2023-05-02T20:49:13.608Z"
   },
   {
    "duration": 102,
    "start_time": "2023-05-02T20:51:50.382Z"
   },
   {
    "duration": 10,
    "start_time": "2023-05-02T20:56:51.328Z"
   },
   {
    "duration": 945,
    "start_time": "2023-05-02T20:56:59.190Z"
   },
   {
    "duration": 108,
    "start_time": "2023-05-02T20:57:34.547Z"
   },
   {
    "duration": 1854,
    "start_time": "2023-05-02T21:01:08.903Z"
   },
   {
    "duration": 9,
    "start_time": "2023-05-02T21:01:19.071Z"
   },
   {
    "duration": 25,
    "start_time": "2023-05-02T21:01:30.959Z"
   },
   {
    "duration": 15,
    "start_time": "2023-05-02T21:01:40.132Z"
   },
   {
    "duration": 4,
    "start_time": "2023-05-02T21:01:58.121Z"
   },
   {
    "duration": 13,
    "start_time": "2023-05-02T21:02:12.287Z"
   },
   {
    "duration": 1190,
    "start_time": "2023-05-02T21:05:18.583Z"
   },
   {
    "duration": 10,
    "start_time": "2023-05-02T21:05:47.639Z"
   },
   {
    "duration": 11,
    "start_time": "2023-05-02T21:05:58.017Z"
   },
   {
    "duration": 10,
    "start_time": "2023-05-02T21:06:56.209Z"
   },
   {
    "duration": 12,
    "start_time": "2023-05-02T21:07:05.289Z"
   },
   {
    "duration": 1666,
    "start_time": "2023-05-02T21:08:19.416Z"
   },
   {
    "duration": 2141,
    "start_time": "2023-05-02T21:08:33.091Z"
   },
   {
    "duration": 34,
    "start_time": "2023-05-02T21:13:19.385Z"
   },
   {
    "duration": 1160,
    "start_time": "2023-05-02T21:13:38.689Z"
   },
   {
    "duration": 177,
    "start_time": "2023-05-02T21:13:39.852Z"
   },
   {
    "duration": 29,
    "start_time": "2023-05-02T21:13:40.034Z"
   },
   {
    "duration": 26,
    "start_time": "2023-05-02T21:13:40.085Z"
   },
   {
    "duration": 63,
    "start_time": "2023-05-02T21:13:40.112Z"
   },
   {
    "duration": 20,
    "start_time": "2023-05-02T21:13:40.176Z"
   },
   {
    "duration": 89,
    "start_time": "2023-05-02T21:13:40.198Z"
   },
   {
    "duration": 76,
    "start_time": "2023-05-02T21:13:40.288Z"
   },
   {
    "duration": 86,
    "start_time": "2023-05-02T21:13:40.365Z"
   },
   {
    "duration": 65,
    "start_time": "2023-05-02T21:13:40.453Z"
   },
   {
    "duration": 88,
    "start_time": "2023-05-02T21:13:40.520Z"
   },
   {
    "duration": 42,
    "start_time": "2023-05-02T21:13:40.610Z"
   },
   {
    "duration": 55,
    "start_time": "2023-05-02T21:13:40.656Z"
   },
   {
    "duration": 25,
    "start_time": "2023-05-02T21:13:40.713Z"
   },
   {
    "duration": 24,
    "start_time": "2023-05-02T21:13:40.741Z"
   },
   {
    "duration": 27,
    "start_time": "2023-05-02T21:13:40.768Z"
   },
   {
    "duration": 321,
    "start_time": "2023-05-02T21:13:40.796Z"
   },
   {
    "duration": 187,
    "start_time": "2023-05-02T21:13:41.119Z"
   },
   {
    "duration": 29,
    "start_time": "2023-05-02T21:13:41.308Z"
   },
   {
    "duration": 18,
    "start_time": "2023-05-02T21:13:41.339Z"
   },
   {
    "duration": 26,
    "start_time": "2023-05-02T21:13:41.359Z"
   },
   {
    "duration": 40,
    "start_time": "2023-05-02T21:13:41.387Z"
   },
   {
    "duration": 125,
    "start_time": "2023-05-02T21:13:41.428Z"
   },
   {
    "duration": 69,
    "start_time": "2023-05-02T21:13:41.555Z"
   },
   {
    "duration": 168,
    "start_time": "2023-05-02T21:13:41.625Z"
   },
   {
    "duration": 161,
    "start_time": "2023-05-02T21:13:41.795Z"
   },
   {
    "duration": 13,
    "start_time": "2023-05-02T21:13:41.958Z"
   },
   {
    "duration": 22,
    "start_time": "2023-05-02T21:13:41.973Z"
   },
   {
    "duration": 34,
    "start_time": "2023-05-02T21:13:41.996Z"
   },
   {
    "duration": 37,
    "start_time": "2023-05-02T21:13:42.031Z"
   },
   {
    "duration": 120,
    "start_time": "2023-05-02T21:13:42.070Z"
   },
   {
    "duration": 1445,
    "start_time": "2023-05-02T21:13:42.192Z"
   },
   {
    "duration": 12,
    "start_time": "2023-05-02T21:13:59.174Z"
   },
   {
    "duration": 19,
    "start_time": "2023-05-02T21:15:54.802Z"
   },
   {
    "duration": 17,
    "start_time": "2023-05-02T21:17:25.749Z"
   },
   {
    "duration": 1408,
    "start_time": "2023-05-03T18:39:12.595Z"
   },
   {
    "duration": 709,
    "start_time": "2023-05-03T18:39:14.006Z"
   },
   {
    "duration": 23,
    "start_time": "2023-05-03T18:39:14.717Z"
   },
   {
    "duration": 29,
    "start_time": "2023-05-03T18:39:14.742Z"
   },
   {
    "duration": 54,
    "start_time": "2023-05-03T18:39:14.773Z"
   },
   {
    "duration": 15,
    "start_time": "2023-05-03T18:39:14.829Z"
   },
   {
    "duration": 91,
    "start_time": "2023-05-03T18:39:14.845Z"
   },
   {
    "duration": 84,
    "start_time": "2023-05-03T18:39:14.938Z"
   },
   {
    "duration": 82,
    "start_time": "2023-05-03T18:39:15.024Z"
   },
   {
    "duration": 62,
    "start_time": "2023-05-03T18:39:15.109Z"
   },
   {
    "duration": 85,
    "start_time": "2023-05-03T18:39:15.173Z"
   },
   {
    "duration": 40,
    "start_time": "2023-05-03T18:39:15.260Z"
   },
   {
    "duration": 56,
    "start_time": "2023-05-03T18:39:15.302Z"
   },
   {
    "duration": 10,
    "start_time": "2023-05-03T18:39:15.360Z"
   },
   {
    "duration": 17,
    "start_time": "2023-05-03T18:39:15.388Z"
   },
   {
    "duration": 16,
    "start_time": "2023-05-03T18:39:15.407Z"
   },
   {
    "duration": 366,
    "start_time": "2023-05-03T18:39:15.426Z"
   },
   {
    "duration": 216,
    "start_time": "2023-05-03T18:39:15.794Z"
   },
   {
    "duration": 30,
    "start_time": "2023-05-03T18:39:16.011Z"
   },
   {
    "duration": 17,
    "start_time": "2023-05-03T18:39:16.043Z"
   },
   {
    "duration": 33,
    "start_time": "2023-05-03T18:39:16.062Z"
   },
   {
    "duration": 23,
    "start_time": "2023-05-03T18:39:16.097Z"
   },
   {
    "duration": 153,
    "start_time": "2023-05-03T18:39:16.122Z"
   },
   {
    "duration": 76,
    "start_time": "2023-05-03T18:39:16.277Z"
   },
   {
    "duration": 190,
    "start_time": "2023-05-03T18:39:16.355Z"
   },
   {
    "duration": 174,
    "start_time": "2023-05-03T18:39:16.548Z"
   },
   {
    "duration": 14,
    "start_time": "2023-05-03T18:39:16.724Z"
   },
   {
    "duration": 25,
    "start_time": "2023-05-03T18:39:16.742Z"
   },
   {
    "duration": 24,
    "start_time": "2023-05-03T18:39:16.770Z"
   },
   {
    "duration": 35,
    "start_time": "2023-05-03T18:39:16.796Z"
   },
   {
    "duration": 123,
    "start_time": "2023-05-03T18:39:16.833Z"
   },
   {
    "duration": 20,
    "start_time": "2023-05-03T18:39:16.958Z"
   },
   {
    "duration": 51,
    "start_time": "2023-05-03T19:19:25.800Z"
   },
   {
    "duration": 112,
    "start_time": "2023-05-03T19:19:44.226Z"
   },
   {
    "duration": 11,
    "start_time": "2023-05-03T19:20:05.090Z"
   },
   {
    "duration": 1222,
    "start_time": "2023-05-03T19:20:16.508Z"
   },
   {
    "duration": 164,
    "start_time": "2023-05-03T19:20:17.732Z"
   },
   {
    "duration": 27,
    "start_time": "2023-05-03T19:20:17.898Z"
   },
   {
    "duration": 26,
    "start_time": "2023-05-03T19:20:17.927Z"
   },
   {
    "duration": 74,
    "start_time": "2023-05-03T19:20:17.955Z"
   },
   {
    "duration": 15,
    "start_time": "2023-05-03T19:20:18.030Z"
   },
   {
    "duration": 87,
    "start_time": "2023-05-03T19:20:18.047Z"
   },
   {
    "duration": 88,
    "start_time": "2023-05-03T19:20:18.135Z"
   },
   {
    "duration": 77,
    "start_time": "2023-05-03T19:20:18.225Z"
   },
   {
    "duration": 58,
    "start_time": "2023-05-03T19:20:18.305Z"
   },
   {
    "duration": 92,
    "start_time": "2023-05-03T19:20:18.364Z"
   },
   {
    "duration": 37,
    "start_time": "2023-05-03T19:20:18.458Z"
   },
   {
    "duration": 53,
    "start_time": "2023-05-03T19:20:18.497Z"
   },
   {
    "duration": 11,
    "start_time": "2023-05-03T19:20:18.552Z"
   },
   {
    "duration": 13,
    "start_time": "2023-05-03T19:20:18.588Z"
   },
   {
    "duration": 24,
    "start_time": "2023-05-03T19:20:18.603Z"
   },
   {
    "duration": 340,
    "start_time": "2023-05-03T19:20:18.629Z"
   },
   {
    "duration": 207,
    "start_time": "2023-05-03T19:20:18.971Z"
   },
   {
    "duration": 32,
    "start_time": "2023-05-03T19:20:19.179Z"
   },
   {
    "duration": 17,
    "start_time": "2023-05-03T19:20:19.213Z"
   },
   {
    "duration": 8,
    "start_time": "2023-05-03T19:20:19.233Z"
   },
   {
    "duration": 55,
    "start_time": "2023-05-03T19:20:19.242Z"
   },
   {
    "duration": 136,
    "start_time": "2023-05-03T19:20:19.299Z"
   },
   {
    "duration": 83,
    "start_time": "2023-05-03T19:20:19.436Z"
   },
   {
    "duration": 187,
    "start_time": "2023-05-03T19:20:19.521Z"
   },
   {
    "duration": 188,
    "start_time": "2023-05-03T19:20:19.711Z"
   },
   {
    "duration": 15,
    "start_time": "2023-05-03T19:20:19.901Z"
   },
   {
    "duration": 16,
    "start_time": "2023-05-03T19:20:19.919Z"
   },
   {
    "duration": 14,
    "start_time": "2023-05-03T19:20:19.938Z"
   },
   {
    "duration": 64,
    "start_time": "2023-05-03T19:20:19.954Z"
   },
   {
    "duration": 127,
    "start_time": "2023-05-03T19:20:20.019Z"
   },
   {
    "duration": 20,
    "start_time": "2023-05-03T19:20:20.148Z"
   },
   {
    "duration": 124,
    "start_time": "2023-05-03T19:20:20.170Z"
   },
   {
    "duration": 0,
    "start_time": "2023-05-03T19:20:20.296Z"
   },
   {
    "duration": 12,
    "start_time": "2023-05-03T19:22:35.357Z"
   },
   {
    "duration": 5,
    "start_time": "2023-05-03T19:23:12.002Z"
   },
   {
    "duration": 16,
    "start_time": "2023-05-03T19:30:39.715Z"
   },
   {
    "duration": 32,
    "start_time": "2023-05-03T19:31:31.972Z"
   },
   {
    "duration": 18,
    "start_time": "2023-05-03T19:33:07.554Z"
   },
   {
    "duration": 770,
    "start_time": "2023-05-03T19:35:46.454Z"
   },
   {
    "duration": 60,
    "start_time": "2023-05-03T19:36:13.344Z"
   },
   {
    "duration": 20,
    "start_time": "2023-05-03T19:36:37.089Z"
   },
   {
    "duration": 3,
    "start_time": "2023-05-03T19:37:28.107Z"
   },
   {
    "duration": 1213,
    "start_time": "2023-05-03T19:37:33.225Z"
   },
   {
    "duration": 174,
    "start_time": "2023-05-03T19:37:34.440Z"
   },
   {
    "duration": 23,
    "start_time": "2023-05-03T19:37:34.616Z"
   },
   {
    "duration": 39,
    "start_time": "2023-05-03T19:37:34.641Z"
   },
   {
    "duration": 55,
    "start_time": "2023-05-03T19:37:34.682Z"
   },
   {
    "duration": 14,
    "start_time": "2023-05-03T19:37:34.739Z"
   },
   {
    "duration": 82,
    "start_time": "2023-05-03T19:37:34.755Z"
   },
   {
    "duration": 83,
    "start_time": "2023-05-03T19:37:34.839Z"
   },
   {
    "duration": 85,
    "start_time": "2023-05-03T19:37:34.923Z"
   },
   {
    "duration": 63,
    "start_time": "2023-05-03T19:37:35.010Z"
   },
   {
    "duration": 90,
    "start_time": "2023-05-03T19:37:35.075Z"
   },
   {
    "duration": 53,
    "start_time": "2023-05-03T19:37:35.167Z"
   },
   {
    "duration": 51,
    "start_time": "2023-05-03T19:37:35.222Z"
   },
   {
    "duration": 27,
    "start_time": "2023-05-03T19:37:35.276Z"
   },
   {
    "duration": 12,
    "start_time": "2023-05-03T19:37:35.305Z"
   },
   {
    "duration": 20,
    "start_time": "2023-05-03T19:37:35.319Z"
   },
   {
    "duration": 343,
    "start_time": "2023-05-03T19:37:35.340Z"
   },
   {
    "duration": 223,
    "start_time": "2023-05-03T19:37:35.685Z"
   },
   {
    "duration": 31,
    "start_time": "2023-05-03T19:37:35.911Z"
   },
   {
    "duration": 17,
    "start_time": "2023-05-03T19:37:35.944Z"
   },
   {
    "duration": 39,
    "start_time": "2023-05-03T19:37:35.963Z"
   },
   {
    "duration": 22,
    "start_time": "2023-05-03T19:37:36.005Z"
   },
   {
    "duration": 153,
    "start_time": "2023-05-03T19:37:36.029Z"
   },
   {
    "duration": 80,
    "start_time": "2023-05-03T19:37:36.184Z"
   },
   {
    "duration": 189,
    "start_time": "2023-05-03T19:37:36.266Z"
   },
   {
    "duration": 182,
    "start_time": "2023-05-03T19:37:36.457Z"
   },
   {
    "duration": 13,
    "start_time": "2023-05-03T19:37:36.641Z"
   },
   {
    "duration": 28,
    "start_time": "2023-05-03T19:37:36.656Z"
   },
   {
    "duration": 27,
    "start_time": "2023-05-03T19:37:36.686Z"
   },
   {
    "duration": 53,
    "start_time": "2023-05-03T19:37:36.715Z"
   },
   {
    "duration": 112,
    "start_time": "2023-05-03T19:37:36.770Z"
   },
   {
    "duration": 28,
    "start_time": "2023-05-03T19:37:36.883Z"
   },
   {
    "duration": 9,
    "start_time": "2023-05-03T19:37:36.913Z"
   },
   {
    "duration": 141,
    "start_time": "2023-05-03T19:37:36.923Z"
   },
   {
    "duration": 1274,
    "start_time": "2023-05-03T19:41:00.703Z"
   },
   {
    "duration": 178,
    "start_time": "2023-05-03T19:41:01.980Z"
   },
   {
    "duration": 23,
    "start_time": "2023-05-03T19:41:02.160Z"
   },
   {
    "duration": 65,
    "start_time": "2023-05-03T19:41:02.184Z"
   },
   {
    "duration": 77,
    "start_time": "2023-05-03T19:41:02.252Z"
   },
   {
    "duration": 22,
    "start_time": "2023-05-03T19:41:02.331Z"
   },
   {
    "duration": 97,
    "start_time": "2023-05-03T19:41:02.355Z"
   },
   {
    "duration": 102,
    "start_time": "2023-05-03T19:41:02.454Z"
   },
   {
    "duration": 169,
    "start_time": "2023-05-03T19:41:02.558Z"
   },
   {
    "duration": 86,
    "start_time": "2023-05-03T19:41:02.729Z"
   },
   {
    "duration": 88,
    "start_time": "2023-05-03T19:41:02.816Z"
   },
   {
    "duration": 30,
    "start_time": "2023-05-03T19:41:02.906Z"
   },
   {
    "duration": 76,
    "start_time": "2023-05-03T19:41:02.938Z"
   },
   {
    "duration": 11,
    "start_time": "2023-05-03T19:41:03.018Z"
   },
   {
    "duration": 37,
    "start_time": "2023-05-03T19:41:03.031Z"
   },
   {
    "duration": 32,
    "start_time": "2023-05-03T19:41:03.071Z"
   },
   {
    "duration": 344,
    "start_time": "2023-05-03T19:41:03.105Z"
   },
   {
    "duration": 212,
    "start_time": "2023-05-03T19:41:03.451Z"
   },
   {
    "duration": 37,
    "start_time": "2023-05-03T19:41:03.665Z"
   },
   {
    "duration": 19,
    "start_time": "2023-05-03T19:41:03.704Z"
   },
   {
    "duration": 7,
    "start_time": "2023-05-03T19:41:03.724Z"
   },
   {
    "duration": 35,
    "start_time": "2023-05-03T19:41:03.733Z"
   },
   {
    "duration": 157,
    "start_time": "2023-05-03T19:41:03.770Z"
   },
   {
    "duration": 95,
    "start_time": "2023-05-03T19:41:03.929Z"
   },
   {
    "duration": 196,
    "start_time": "2023-05-03T19:41:04.026Z"
   },
   {
    "duration": 185,
    "start_time": "2023-05-03T19:41:04.224Z"
   },
   {
    "duration": 14,
    "start_time": "2023-05-03T19:41:04.411Z"
   },
   {
    "duration": 14,
    "start_time": "2023-05-03T19:41:04.426Z"
   },
   {
    "duration": 26,
    "start_time": "2023-05-03T19:41:04.441Z"
   },
   {
    "duration": 53,
    "start_time": "2023-05-03T19:41:04.469Z"
   },
   {
    "duration": 119,
    "start_time": "2023-05-03T19:41:04.524Z"
   },
   {
    "duration": 22,
    "start_time": "2023-05-03T19:41:04.645Z"
   },
   {
    "duration": 46,
    "start_time": "2023-05-03T19:41:04.668Z"
   },
   {
    "duration": 44,
    "start_time": "2023-05-03T19:41:04.715Z"
   },
   {
    "duration": 6,
    "start_time": "2023-05-03T19:45:59.626Z"
   },
   {
    "duration": 26,
    "start_time": "2023-05-03T19:49:04.106Z"
   },
   {
    "duration": 10,
    "start_time": "2023-05-03T19:50:06.037Z"
   },
   {
    "duration": 79,
    "start_time": "2023-05-03T19:58:29.265Z"
   },
   {
    "duration": 10,
    "start_time": "2023-05-03T19:59:07.609Z"
   },
   {
    "duration": 11,
    "start_time": "2023-05-03T19:59:19.017Z"
   },
   {
    "duration": 14,
    "start_time": "2023-05-03T20:01:48.310Z"
   },
   {
    "duration": 10,
    "start_time": "2023-05-03T20:02:03.118Z"
   },
   {
    "duration": 1024,
    "start_time": "2023-05-03T20:05:42.407Z"
   },
   {
    "duration": 632,
    "start_time": "2023-05-03T20:05:50.817Z"
   },
   {
    "duration": 796,
    "start_time": "2023-05-03T20:09:47.230Z"
   },
   {
    "duration": 804,
    "start_time": "2023-05-03T20:11:29.359Z"
   },
   {
    "duration": 732,
    "start_time": "2023-05-03T20:11:48.453Z"
   },
   {
    "duration": 784,
    "start_time": "2023-05-03T20:13:13.951Z"
   },
   {
    "duration": 22,
    "start_time": "2023-05-03T20:14:10.261Z"
   },
   {
    "duration": 1209,
    "start_time": "2023-05-03T20:14:28.759Z"
   },
   {
    "duration": 13,
    "start_time": "2023-05-03T20:17:31.801Z"
   },
   {
    "duration": 10,
    "start_time": "2023-05-03T20:18:48.915Z"
   },
   {
    "duration": 13,
    "start_time": "2023-05-03T20:18:57.094Z"
   },
   {
    "duration": 13,
    "start_time": "2023-05-03T20:19:24.852Z"
   },
   {
    "duration": 13,
    "start_time": "2023-05-03T20:21:03.994Z"
   },
   {
    "duration": 790,
    "start_time": "2023-05-03T20:22:26.061Z"
   },
   {
    "duration": 1246,
    "start_time": "2023-05-03T20:22:54.993Z"
   },
   {
    "duration": 165,
    "start_time": "2023-05-03T20:22:56.242Z"
   },
   {
    "duration": 25,
    "start_time": "2023-05-03T20:22:56.409Z"
   },
   {
    "duration": 21,
    "start_time": "2023-05-03T20:22:56.436Z"
   },
   {
    "duration": 77,
    "start_time": "2023-05-03T20:22:56.460Z"
   },
   {
    "duration": 15,
    "start_time": "2023-05-03T20:22:56.538Z"
   },
   {
    "duration": 90,
    "start_time": "2023-05-03T20:22:56.555Z"
   },
   {
    "duration": 89,
    "start_time": "2023-05-03T20:22:56.647Z"
   },
   {
    "duration": 80,
    "start_time": "2023-05-03T20:22:56.738Z"
   },
   {
    "duration": 73,
    "start_time": "2023-05-03T20:22:56.820Z"
   },
   {
    "duration": 75,
    "start_time": "2023-05-03T20:22:56.895Z"
   },
   {
    "duration": 43,
    "start_time": "2023-05-03T20:22:56.972Z"
   },
   {
    "duration": 50,
    "start_time": "2023-05-03T20:22:57.017Z"
   },
   {
    "duration": 26,
    "start_time": "2023-05-03T20:22:57.071Z"
   },
   {
    "duration": 16,
    "start_time": "2023-05-03T20:22:57.099Z"
   },
   {
    "duration": 14,
    "start_time": "2023-05-03T20:22:57.117Z"
   },
   {
    "duration": 366,
    "start_time": "2023-05-03T20:22:57.133Z"
   },
   {
    "duration": 205,
    "start_time": "2023-05-03T20:22:57.501Z"
   },
   {
    "duration": 30,
    "start_time": "2023-05-03T20:22:57.707Z"
   },
   {
    "duration": 18,
    "start_time": "2023-05-03T20:22:57.739Z"
   },
   {
    "duration": 7,
    "start_time": "2023-05-03T20:22:57.759Z"
   },
   {
    "duration": 27,
    "start_time": "2023-05-03T20:22:57.790Z"
   },
   {
    "duration": 173,
    "start_time": "2023-05-03T20:22:57.819Z"
   },
   {
    "duration": 71,
    "start_time": "2023-05-03T20:22:57.994Z"
   },
   {
    "duration": 201,
    "start_time": "2023-05-03T20:22:58.067Z"
   },
   {
    "duration": 177,
    "start_time": "2023-05-03T20:22:58.270Z"
   },
   {
    "duration": 15,
    "start_time": "2023-05-03T20:22:58.449Z"
   },
   {
    "duration": 36,
    "start_time": "2023-05-03T20:22:58.465Z"
   },
   {
    "duration": 13,
    "start_time": "2023-05-03T20:22:58.503Z"
   },
   {
    "duration": 41,
    "start_time": "2023-05-03T20:22:58.518Z"
   },
   {
    "duration": 122,
    "start_time": "2023-05-03T20:22:58.561Z"
   },
   {
    "duration": 21,
    "start_time": "2023-05-03T20:22:58.688Z"
   },
   {
    "duration": 41,
    "start_time": "2023-05-03T20:22:58.711Z"
   },
   {
    "duration": 22,
    "start_time": "2023-05-03T20:22:58.754Z"
   },
   {
    "duration": 61,
    "start_time": "2023-05-03T20:22:58.778Z"
   },
   {
    "duration": 47,
    "start_time": "2023-05-03T20:22:58.841Z"
   },
   {
    "duration": 55,
    "start_time": "2023-05-03T20:22:58.890Z"
   },
   {
    "duration": 10,
    "start_time": "2023-05-03T20:22:58.948Z"
   },
   {
    "duration": 11,
    "start_time": "2023-05-03T20:22:58.959Z"
   },
   {
    "duration": 10,
    "start_time": "2023-05-03T20:22:58.972Z"
   },
   {
    "duration": 799,
    "start_time": "2023-05-03T20:22:58.986Z"
   },
   {
    "duration": 732,
    "start_time": "2023-05-03T20:23:20.462Z"
   },
   {
    "duration": 20,
    "start_time": "2023-05-03T20:24:02.145Z"
   },
   {
    "duration": 725,
    "start_time": "2023-05-03T20:25:08.422Z"
   },
   {
    "duration": 1260,
    "start_time": "2023-05-03T20:25:33.985Z"
   },
   {
    "duration": 174,
    "start_time": "2023-05-03T20:25:35.247Z"
   },
   {
    "duration": 25,
    "start_time": "2023-05-03T20:25:35.423Z"
   },
   {
    "duration": 56,
    "start_time": "2023-05-03T20:25:35.450Z"
   },
   {
    "duration": 53,
    "start_time": "2023-05-03T20:25:35.510Z"
   },
   {
    "duration": 24,
    "start_time": "2023-05-03T20:25:35.566Z"
   },
   {
    "duration": 103,
    "start_time": "2023-05-03T20:25:35.592Z"
   },
   {
    "duration": 77,
    "start_time": "2023-05-03T20:25:35.698Z"
   },
   {
    "duration": 84,
    "start_time": "2023-05-03T20:25:35.777Z"
   },
   {
    "duration": 91,
    "start_time": "2023-05-03T20:25:35.863Z"
   },
   {
    "duration": 95,
    "start_time": "2023-05-03T20:25:35.957Z"
   },
   {
    "duration": 45,
    "start_time": "2023-05-03T20:25:36.054Z"
   },
   {
    "duration": 56,
    "start_time": "2023-05-03T20:25:36.101Z"
   },
   {
    "duration": 26,
    "start_time": "2023-05-03T20:25:36.162Z"
   },
   {
    "duration": 26,
    "start_time": "2023-05-03T20:25:36.190Z"
   },
   {
    "duration": 25,
    "start_time": "2023-05-03T20:25:36.218Z"
   },
   {
    "duration": 336,
    "start_time": "2023-05-03T20:25:36.245Z"
   },
   {
    "duration": 222,
    "start_time": "2023-05-03T20:25:36.583Z"
   },
   {
    "duration": 31,
    "start_time": "2023-05-03T20:25:36.807Z"
   },
   {
    "duration": 18,
    "start_time": "2023-05-03T20:25:36.839Z"
   },
   {
    "duration": 8,
    "start_time": "2023-05-03T20:25:36.859Z"
   },
   {
    "duration": 30,
    "start_time": "2023-05-03T20:25:36.889Z"
   },
   {
    "duration": 150,
    "start_time": "2023-05-03T20:25:36.921Z"
   },
   {
    "duration": 76,
    "start_time": "2023-05-03T20:25:37.073Z"
   },
   {
    "duration": 200,
    "start_time": "2023-05-03T20:25:37.151Z"
   },
   {
    "duration": 192,
    "start_time": "2023-05-03T20:25:37.354Z"
   },
   {
    "duration": 14,
    "start_time": "2023-05-03T20:25:37.549Z"
   },
   {
    "duration": 35,
    "start_time": "2023-05-03T20:25:37.565Z"
   },
   {
    "duration": 17,
    "start_time": "2023-05-03T20:25:37.604Z"
   },
   {
    "duration": 39,
    "start_time": "2023-05-03T20:25:37.623Z"
   },
   {
    "duration": 119,
    "start_time": "2023-05-03T20:25:37.664Z"
   },
   {
    "duration": 23,
    "start_time": "2023-05-03T20:25:37.801Z"
   },
   {
    "duration": 23,
    "start_time": "2023-05-03T20:25:37.826Z"
   },
   {
    "duration": 40,
    "start_time": "2023-05-03T20:25:37.851Z"
   },
   {
    "duration": 20,
    "start_time": "2023-05-03T20:25:37.893Z"
   },
   {
    "duration": 26,
    "start_time": "2023-05-03T20:25:37.915Z"
   },
   {
    "duration": 34,
    "start_time": "2023-05-03T20:25:37.943Z"
   },
   {
    "duration": 22,
    "start_time": "2023-05-03T20:25:37.978Z"
   },
   {
    "duration": 10,
    "start_time": "2023-05-03T20:25:38.002Z"
   },
   {
    "duration": 85,
    "start_time": "2023-05-03T20:25:38.014Z"
   },
   {
    "duration": 961,
    "start_time": "2023-05-03T20:25:38.104Z"
   },
   {
    "duration": 12,
    "start_time": "2023-05-03T20:27:36.052Z"
   },
   {
    "duration": 4,
    "start_time": "2023-05-03T20:28:02.122Z"
   },
   {
    "duration": 18,
    "start_time": "2023-05-03T20:28:07.326Z"
   },
   {
    "duration": 1252,
    "start_time": "2023-05-03T20:28:17.876Z"
   },
   {
    "duration": 168,
    "start_time": "2023-05-03T20:28:19.130Z"
   },
   {
    "duration": 22,
    "start_time": "2023-05-03T20:28:19.300Z"
   },
   {
    "duration": 20,
    "start_time": "2023-05-03T20:28:19.325Z"
   },
   {
    "duration": 73,
    "start_time": "2023-05-03T20:28:19.347Z"
   },
   {
    "duration": 14,
    "start_time": "2023-05-03T20:28:19.422Z"
   },
   {
    "duration": 85,
    "start_time": "2023-05-03T20:28:19.437Z"
   },
   {
    "duration": 79,
    "start_time": "2023-05-03T20:28:19.524Z"
   },
   {
    "duration": 69,
    "start_time": "2023-05-03T20:28:19.605Z"
   },
   {
    "duration": 74,
    "start_time": "2023-05-03T20:28:19.676Z"
   },
   {
    "duration": 96,
    "start_time": "2023-05-03T20:28:19.751Z"
   },
   {
    "duration": 28,
    "start_time": "2023-05-03T20:28:19.849Z"
   },
   {
    "duration": 60,
    "start_time": "2023-05-03T20:28:19.889Z"
   },
   {
    "duration": 11,
    "start_time": "2023-05-03T20:28:19.951Z"
   },
   {
    "duration": 32,
    "start_time": "2023-05-03T20:28:19.964Z"
   },
   {
    "duration": 15,
    "start_time": "2023-05-03T20:28:19.999Z"
   },
   {
    "duration": 412,
    "start_time": "2023-05-03T20:28:20.016Z"
   },
   {
    "duration": 246,
    "start_time": "2023-05-03T20:28:20.430Z"
   },
   {
    "duration": 31,
    "start_time": "2023-05-03T20:28:20.678Z"
   },
   {
    "duration": 17,
    "start_time": "2023-05-03T20:28:20.711Z"
   },
   {
    "duration": 7,
    "start_time": "2023-05-03T20:28:20.730Z"
   },
   {
    "duration": 55,
    "start_time": "2023-05-03T20:28:20.739Z"
   },
   {
    "duration": 145,
    "start_time": "2023-05-03T20:28:20.796Z"
   },
   {
    "duration": 79,
    "start_time": "2023-05-03T20:28:20.944Z"
   },
   {
    "duration": 204,
    "start_time": "2023-05-03T20:28:21.026Z"
   },
   {
    "duration": 179,
    "start_time": "2023-05-03T20:28:21.232Z"
   },
   {
    "duration": 20,
    "start_time": "2023-05-03T20:28:21.413Z"
   },
   {
    "duration": 12,
    "start_time": "2023-05-03T20:28:21.437Z"
   },
   {
    "duration": 11,
    "start_time": "2023-05-03T20:28:21.451Z"
   },
   {
    "duration": 56,
    "start_time": "2023-05-03T20:28:21.464Z"
   },
   {
    "duration": 133,
    "start_time": "2023-05-03T20:28:21.522Z"
   },
   {
    "duration": 36,
    "start_time": "2023-05-03T20:28:21.657Z"
   },
   {
    "duration": 5,
    "start_time": "2023-05-03T20:28:21.696Z"
   },
   {
    "duration": 16,
    "start_time": "2023-05-03T20:28:21.702Z"
   },
   {
    "duration": 11,
    "start_time": "2023-05-03T20:28:21.720Z"
   },
   {
    "duration": 26,
    "start_time": "2023-05-03T20:28:21.733Z"
   },
   {
    "duration": 14,
    "start_time": "2023-05-03T20:28:21.761Z"
   },
   {
    "duration": 9,
    "start_time": "2023-05-03T20:28:21.790Z"
   },
   {
    "duration": 17,
    "start_time": "2023-05-03T20:28:21.802Z"
   },
   {
    "duration": 13,
    "start_time": "2023-05-03T20:28:21.821Z"
   },
   {
    "duration": 14,
    "start_time": "2023-05-03T20:28:21.836Z"
   },
   {
    "duration": 862,
    "start_time": "2023-05-03T20:28:21.852Z"
   },
   {
    "duration": 570,
    "start_time": "2023-05-03T20:32:01.579Z"
   },
   {
    "duration": 19,
    "start_time": "2023-05-03T20:32:14.793Z"
   },
   {
    "duration": 698,
    "start_time": "2023-05-03T20:32:22.415Z"
   },
   {
    "duration": 4,
    "start_time": "2023-05-03T20:36:37.983Z"
   },
   {
    "duration": 11,
    "start_time": "2023-05-03T20:36:41.040Z"
   },
   {
    "duration": 1209,
    "start_time": "2023-05-03T20:36:50.744Z"
   },
   {
    "duration": 167,
    "start_time": "2023-05-03T20:36:51.956Z"
   },
   {
    "duration": 23,
    "start_time": "2023-05-03T20:36:52.125Z"
   },
   {
    "duration": 39,
    "start_time": "2023-05-03T20:36:52.150Z"
   },
   {
    "duration": 57,
    "start_time": "2023-05-03T20:36:52.191Z"
   },
   {
    "duration": 16,
    "start_time": "2023-05-03T20:36:52.250Z"
   },
   {
    "duration": 74,
    "start_time": "2023-05-03T20:36:52.288Z"
   },
   {
    "duration": 114,
    "start_time": "2023-05-03T20:36:52.365Z"
   },
   {
    "duration": 77,
    "start_time": "2023-05-03T20:36:52.490Z"
   },
   {
    "duration": 78,
    "start_time": "2023-05-03T20:36:52.570Z"
   },
   {
    "duration": 95,
    "start_time": "2023-05-03T20:36:52.651Z"
   },
   {
    "duration": 28,
    "start_time": "2023-05-03T20:36:52.748Z"
   },
   {
    "duration": 53,
    "start_time": "2023-05-03T20:36:52.789Z"
   },
   {
    "duration": 12,
    "start_time": "2023-05-03T20:36:52.844Z"
   },
   {
    "duration": 31,
    "start_time": "2023-05-03T20:36:52.858Z"
   },
   {
    "duration": 14,
    "start_time": "2023-05-03T20:36:52.891Z"
   },
   {
    "duration": 344,
    "start_time": "2023-05-03T20:36:52.907Z"
   },
   {
    "duration": 207,
    "start_time": "2023-05-03T20:36:53.253Z"
   },
   {
    "duration": 39,
    "start_time": "2023-05-03T20:36:53.461Z"
   },
   {
    "duration": 17,
    "start_time": "2023-05-03T20:36:53.502Z"
   },
   {
    "duration": 7,
    "start_time": "2023-05-03T20:36:53.521Z"
   },
   {
    "duration": 23,
    "start_time": "2023-05-03T20:36:53.530Z"
   },
   {
    "duration": 173,
    "start_time": "2023-05-03T20:36:53.555Z"
   },
   {
    "duration": 89,
    "start_time": "2023-05-03T20:36:53.730Z"
   },
   {
    "duration": 203,
    "start_time": "2023-05-03T20:36:53.821Z"
   },
   {
    "duration": 179,
    "start_time": "2023-05-03T20:36:54.026Z"
   },
   {
    "duration": 15,
    "start_time": "2023-05-03T20:36:54.207Z"
   },
   {
    "duration": 19,
    "start_time": "2023-05-03T20:36:54.225Z"
   },
   {
    "duration": 12,
    "start_time": "2023-05-03T20:36:54.246Z"
   },
   {
    "duration": 62,
    "start_time": "2023-05-03T20:36:54.260Z"
   },
   {
    "duration": 122,
    "start_time": "2023-05-03T20:36:54.325Z"
   },
   {
    "duration": 22,
    "start_time": "2023-05-03T20:36:54.449Z"
   },
   {
    "duration": 4,
    "start_time": "2023-05-03T20:36:54.490Z"
   },
   {
    "duration": 14,
    "start_time": "2023-05-03T20:36:54.496Z"
   },
   {
    "duration": 6,
    "start_time": "2023-05-03T20:36:54.512Z"
   },
   {
    "duration": 16,
    "start_time": "2023-05-03T20:36:54.520Z"
   },
   {
    "duration": 11,
    "start_time": "2023-05-03T20:36:54.538Z"
   },
   {
    "duration": 41,
    "start_time": "2023-05-03T20:36:54.551Z"
   },
   {
    "duration": 10,
    "start_time": "2023-05-03T20:36:54.594Z"
   },
   {
    "duration": 10,
    "start_time": "2023-05-03T20:36:54.606Z"
   },
   {
    "duration": 11,
    "start_time": "2023-05-03T20:36:54.618Z"
   },
   {
    "duration": 891,
    "start_time": "2023-05-03T20:36:54.630Z"
   },
   {
    "duration": 537,
    "start_time": "2023-05-03T20:37:55.229Z"
   },
   {
    "duration": 53,
    "start_time": "2023-05-04T16:53:43.180Z"
   },
   {
    "duration": 1597,
    "start_time": "2023-05-04T16:53:51.735Z"
   },
   {
    "duration": 746,
    "start_time": "2023-05-04T16:53:53.334Z"
   },
   {
    "duration": 23,
    "start_time": "2023-05-04T16:53:54.081Z"
   },
   {
    "duration": 33,
    "start_time": "2023-05-04T16:53:54.106Z"
   },
   {
    "duration": 71,
    "start_time": "2023-05-04T16:53:54.141Z"
   },
   {
    "duration": 31,
    "start_time": "2023-05-04T16:53:54.214Z"
   },
   {
    "duration": 79,
    "start_time": "2023-05-04T16:53:54.250Z"
   },
   {
    "duration": 103,
    "start_time": "2023-05-04T16:53:54.331Z"
   },
   {
    "duration": 87,
    "start_time": "2023-05-04T16:53:54.436Z"
   },
   {
    "duration": 87,
    "start_time": "2023-05-04T16:53:54.525Z"
   },
   {
    "duration": 101,
    "start_time": "2023-05-04T16:53:54.614Z"
   },
   {
    "duration": 43,
    "start_time": "2023-05-04T16:53:54.717Z"
   },
   {
    "duration": 68,
    "start_time": "2023-05-04T16:53:54.764Z"
   },
   {
    "duration": 36,
    "start_time": "2023-05-04T16:53:54.835Z"
   },
   {
    "duration": 30,
    "start_time": "2023-05-04T16:53:54.874Z"
   },
   {
    "duration": 26,
    "start_time": "2023-05-04T16:53:54.907Z"
   },
   {
    "duration": 366,
    "start_time": "2023-05-04T16:53:54.935Z"
   },
   {
    "duration": 223,
    "start_time": "2023-05-04T16:53:55.304Z"
   },
   {
    "duration": 47,
    "start_time": "2023-05-04T16:53:55.530Z"
   },
   {
    "duration": 34,
    "start_time": "2023-05-04T16:53:55.579Z"
   },
   {
    "duration": 7,
    "start_time": "2023-05-04T16:53:55.615Z"
   },
   {
    "duration": 30,
    "start_time": "2023-05-04T16:53:55.644Z"
   },
   {
    "duration": 152,
    "start_time": "2023-05-04T16:53:55.676Z"
   },
   {
    "duration": 88,
    "start_time": "2023-05-04T16:53:55.830Z"
   },
   {
    "duration": 225,
    "start_time": "2023-05-04T16:53:55.921Z"
   },
   {
    "duration": 236,
    "start_time": "2023-05-04T16:53:56.148Z"
   },
   {
    "duration": 20,
    "start_time": "2023-05-04T16:53:56.387Z"
   },
   {
    "duration": 43,
    "start_time": "2023-05-04T16:53:56.409Z"
   },
   {
    "duration": 65,
    "start_time": "2023-05-04T16:53:56.454Z"
   },
   {
    "duration": 60,
    "start_time": "2023-05-04T16:53:56.522Z"
   },
   {
    "duration": 145,
    "start_time": "2023-05-04T16:53:56.584Z"
   },
   {
    "duration": 42,
    "start_time": "2023-05-04T16:53:56.731Z"
   },
   {
    "duration": 19,
    "start_time": "2023-05-04T16:53:56.776Z"
   },
   {
    "duration": 16,
    "start_time": "2023-05-04T16:53:56.797Z"
   },
   {
    "duration": 6,
    "start_time": "2023-05-04T16:53:56.815Z"
   },
   {
    "duration": 9,
    "start_time": "2023-05-04T16:53:56.823Z"
   },
   {
    "duration": 32,
    "start_time": "2023-05-04T16:53:56.841Z"
   },
   {
    "duration": 17,
    "start_time": "2023-05-04T16:53:56.875Z"
   },
   {
    "duration": 14,
    "start_time": "2023-05-04T16:53:56.894Z"
   },
   {
    "duration": 14,
    "start_time": "2023-05-04T16:53:56.910Z"
   },
   {
    "duration": 21,
    "start_time": "2023-05-04T16:53:56.930Z"
   },
   {
    "duration": 19,
    "start_time": "2023-05-04T16:53:56.953Z"
   },
   {
    "duration": 1256,
    "start_time": "2023-05-04T16:53:56.974Z"
   },
   {
    "duration": 1407,
    "start_time": "2023-05-04T17:03:00.072Z"
   },
   {
    "duration": 196,
    "start_time": "2023-05-04T17:03:01.481Z"
   },
   {
    "duration": 24,
    "start_time": "2023-05-04T17:03:01.679Z"
   },
   {
    "duration": 110,
    "start_time": "2023-05-04T17:03:01.706Z"
   },
   {
    "duration": 138,
    "start_time": "2023-05-04T17:03:01.819Z"
   },
   {
    "duration": 18,
    "start_time": "2023-05-04T17:03:01.959Z"
   },
   {
    "duration": 116,
    "start_time": "2023-05-04T17:03:01.979Z"
   },
   {
    "duration": 93,
    "start_time": "2023-05-04T17:03:02.097Z"
   },
   {
    "duration": 94,
    "start_time": "2023-05-04T17:03:02.192Z"
   },
   {
    "duration": 89,
    "start_time": "2023-05-04T17:03:02.288Z"
   },
   {
    "duration": 107,
    "start_time": "2023-05-04T17:03:02.379Z"
   },
   {
    "duration": 30,
    "start_time": "2023-05-04T17:03:02.488Z"
   },
   {
    "duration": 85,
    "start_time": "2023-05-04T17:03:02.521Z"
   },
   {
    "duration": 12,
    "start_time": "2023-05-04T17:03:02.609Z"
   },
   {
    "duration": 30,
    "start_time": "2023-05-04T17:03:02.623Z"
   },
   {
    "duration": 55,
    "start_time": "2023-05-04T17:03:02.655Z"
   },
   {
    "duration": 376,
    "start_time": "2023-05-04T17:03:02.712Z"
   },
   {
    "duration": 240,
    "start_time": "2023-05-04T17:03:03.092Z"
   },
   {
    "duration": 49,
    "start_time": "2023-05-04T17:03:03.334Z"
   },
   {
    "duration": 52,
    "start_time": "2023-05-04T17:03:03.385Z"
   },
   {
    "duration": 38,
    "start_time": "2023-05-04T17:03:03.439Z"
   },
   {
    "duration": 40,
    "start_time": "2023-05-04T17:03:03.480Z"
   },
   {
    "duration": 235,
    "start_time": "2023-05-04T17:03:03.522Z"
   },
   {
    "duration": 112,
    "start_time": "2023-05-04T17:03:03.759Z"
   },
   {
    "duration": 300,
    "start_time": "2023-05-04T17:03:03.876Z"
   },
   {
    "duration": 211,
    "start_time": "2023-05-04T17:03:04.178Z"
   },
   {
    "duration": 20,
    "start_time": "2023-05-04T17:03:04.392Z"
   },
   {
    "duration": 47,
    "start_time": "2023-05-04T17:03:04.414Z"
   },
   {
    "duration": 45,
    "start_time": "2023-05-04T17:03:04.465Z"
   },
   {
    "duration": 95,
    "start_time": "2023-05-04T17:03:04.514Z"
   },
   {
    "duration": 128,
    "start_time": "2023-05-04T17:03:04.611Z"
   },
   {
    "duration": 31,
    "start_time": "2023-05-04T17:03:04.741Z"
   },
   {
    "duration": 14,
    "start_time": "2023-05-04T17:03:04.774Z"
   },
   {
    "duration": 17,
    "start_time": "2023-05-04T17:03:04.790Z"
   },
   {
    "duration": 10,
    "start_time": "2023-05-04T17:03:04.809Z"
   },
   {
    "duration": 36,
    "start_time": "2023-05-04T17:03:04.821Z"
   },
   {
    "duration": 28,
    "start_time": "2023-05-04T17:03:04.859Z"
   },
   {
    "duration": 9,
    "start_time": "2023-05-04T17:03:04.889Z"
   },
   {
    "duration": 10,
    "start_time": "2023-05-04T17:03:04.900Z"
   },
   {
    "duration": 1300,
    "start_time": "2023-05-04T17:03:04.912Z"
   },
   {
    "duration": 2217,
    "start_time": "2023-05-04T17:12:13.396Z"
   },
   {
    "duration": 10,
    "start_time": "2023-05-04T17:14:01.176Z"
   },
   {
    "duration": 1970,
    "start_time": "2023-05-04T17:57:07.704Z"
   },
   {
    "duration": 1086,
    "start_time": "2023-05-04T18:07:23.406Z"
   },
   {
    "duration": 1256,
    "start_time": "2023-05-04T19:11:01.452Z"
   },
   {
    "duration": 169,
    "start_time": "2023-05-04T19:11:02.710Z"
   },
   {
    "duration": 25,
    "start_time": "2023-05-04T19:11:02.880Z"
   },
   {
    "duration": 24,
    "start_time": "2023-05-04T19:11:02.908Z"
   },
   {
    "duration": 58,
    "start_time": "2023-05-04T19:11:02.933Z"
   },
   {
    "duration": 14,
    "start_time": "2023-05-04T19:11:02.992Z"
   },
   {
    "duration": 80,
    "start_time": "2023-05-04T19:11:03.008Z"
   },
   {
    "duration": 78,
    "start_time": "2023-05-04T19:11:03.090Z"
   },
   {
    "duration": 85,
    "start_time": "2023-05-04T19:11:03.171Z"
   },
   {
    "duration": 64,
    "start_time": "2023-05-04T19:11:03.258Z"
   },
   {
    "duration": 86,
    "start_time": "2023-05-04T19:11:03.324Z"
   },
   {
    "duration": 29,
    "start_time": "2023-05-04T19:11:03.412Z"
   },
   {
    "duration": 57,
    "start_time": "2023-05-04T19:11:03.443Z"
   },
   {
    "duration": 9,
    "start_time": "2023-05-04T19:11:03.502Z"
   },
   {
    "duration": 11,
    "start_time": "2023-05-04T19:11:03.513Z"
   },
   {
    "duration": 12,
    "start_time": "2023-05-04T19:11:03.526Z"
   },
   {
    "duration": 318,
    "start_time": "2023-05-04T19:11:03.539Z"
   },
   {
    "duration": 216,
    "start_time": "2023-05-04T19:11:03.858Z"
   },
   {
    "duration": 31,
    "start_time": "2023-05-04T19:11:04.084Z"
   },
   {
    "duration": 24,
    "start_time": "2023-05-04T19:11:04.117Z"
   },
   {
    "duration": 8,
    "start_time": "2023-05-04T19:11:04.143Z"
   },
   {
    "duration": 45,
    "start_time": "2023-05-04T19:11:04.154Z"
   },
   {
    "duration": 130,
    "start_time": "2023-05-04T19:11:04.201Z"
   },
   {
    "duration": 73,
    "start_time": "2023-05-04T19:11:04.332Z"
   },
   {
    "duration": 168,
    "start_time": "2023-05-04T19:11:04.407Z"
   },
   {
    "duration": 161,
    "start_time": "2023-05-04T19:11:04.576Z"
   },
   {
    "duration": 13,
    "start_time": "2023-05-04T19:11:04.738Z"
   },
   {
    "duration": 15,
    "start_time": "2023-05-04T19:11:04.754Z"
   },
   {
    "duration": 9,
    "start_time": "2023-05-04T19:11:04.785Z"
   },
   {
    "duration": 34,
    "start_time": "2023-05-04T19:11:04.796Z"
   },
   {
    "duration": 112,
    "start_time": "2023-05-04T19:11:04.831Z"
   },
   {
    "duration": 18,
    "start_time": "2023-05-04T19:11:04.945Z"
   },
   {
    "duration": 22,
    "start_time": "2023-05-04T19:11:04.965Z"
   },
   {
    "duration": 54,
    "start_time": "2023-05-04T19:11:04.989Z"
   },
   {
    "duration": 31,
    "start_time": "2023-05-04T19:11:05.044Z"
   },
   {
    "duration": 25,
    "start_time": "2023-05-04T19:11:05.077Z"
   },
   {
    "duration": 11,
    "start_time": "2023-05-04T19:11:05.104Z"
   },
   {
    "duration": 14,
    "start_time": "2023-05-04T19:11:05.117Z"
   },
   {
    "duration": 22,
    "start_time": "2023-05-04T19:11:05.132Z"
   },
   {
    "duration": 1372,
    "start_time": "2023-05-04T19:11:05.156Z"
   },
   {
    "duration": 0,
    "start_time": "2023-05-04T19:11:06.530Z"
   },
   {
    "duration": 1366,
    "start_time": "2023-05-04T19:18:57.494Z"
   },
   {
    "duration": 50,
    "start_time": "2023-05-06T12:54:27.780Z"
   },
   {
    "duration": 7,
    "start_time": "2023-05-06T12:54:50.316Z"
   },
   {
    "duration": 1339,
    "start_time": "2023-05-06T12:54:57.309Z"
   },
   {
    "duration": 762,
    "start_time": "2023-05-06T12:54:58.650Z"
   },
   {
    "duration": 26,
    "start_time": "2023-05-06T12:54:59.414Z"
   },
   {
    "duration": 23,
    "start_time": "2023-05-06T12:54:59.443Z"
   },
   {
    "duration": 58,
    "start_time": "2023-05-06T12:54:59.468Z"
   },
   {
    "duration": 11,
    "start_time": "2023-05-06T12:54:59.528Z"
   },
   {
    "duration": 77,
    "start_time": "2023-05-06T12:54:59.540Z"
   },
   {
    "duration": 62,
    "start_time": "2023-05-06T12:54:59.618Z"
   },
   {
    "duration": 77,
    "start_time": "2023-05-06T12:54:59.682Z"
   },
   {
    "duration": 64,
    "start_time": "2023-05-06T12:54:59.762Z"
   },
   {
    "duration": 84,
    "start_time": "2023-05-06T12:54:59.828Z"
   },
   {
    "duration": 30,
    "start_time": "2023-05-06T12:54:59.913Z"
   },
   {
    "duration": 69,
    "start_time": "2023-05-06T12:54:59.945Z"
   },
   {
    "duration": 18,
    "start_time": "2023-05-06T12:55:00.020Z"
   },
   {
    "duration": 57,
    "start_time": "2023-05-06T12:55:00.040Z"
   },
   {
    "duration": 13,
    "start_time": "2023-05-06T12:55:00.099Z"
   },
   {
    "duration": 30,
    "start_time": "2023-05-06T12:55:00.114Z"
   },
   {
    "duration": 311,
    "start_time": "2023-05-06T12:55:00.146Z"
   },
   {
    "duration": 193,
    "start_time": "2023-05-06T12:55:00.459Z"
   },
   {
    "duration": 30,
    "start_time": "2023-05-06T12:55:00.654Z"
   },
   {
    "duration": 36,
    "start_time": "2023-05-06T12:55:00.686Z"
   },
   {
    "duration": 6,
    "start_time": "2023-05-06T12:55:00.724Z"
   },
   {
    "duration": 46,
    "start_time": "2023-05-06T12:55:00.732Z"
   },
   {
    "duration": 194,
    "start_time": "2023-05-06T12:55:00.779Z"
   },
   {
    "duration": 75,
    "start_time": "2023-05-06T12:55:00.975Z"
   },
   {
    "duration": 180,
    "start_time": "2023-05-06T12:55:01.052Z"
   },
   {
    "duration": 171,
    "start_time": "2023-05-06T12:55:01.234Z"
   },
   {
    "duration": 14,
    "start_time": "2023-05-06T12:55:01.408Z"
   },
   {
    "duration": 44,
    "start_time": "2023-05-06T12:55:01.423Z"
   },
   {
    "duration": 40,
    "start_time": "2023-05-06T12:55:01.469Z"
   },
   {
    "duration": 55,
    "start_time": "2023-05-06T12:55:01.511Z"
   },
   {
    "duration": 113,
    "start_time": "2023-05-06T12:55:01.567Z"
   },
   {
    "duration": 31,
    "start_time": "2023-05-06T12:55:01.681Z"
   },
   {
    "duration": 27,
    "start_time": "2023-05-06T12:55:01.715Z"
   },
   {
    "duration": 78,
    "start_time": "2023-05-06T12:55:01.743Z"
   },
   {
    "duration": 48,
    "start_time": "2023-05-06T12:55:01.823Z"
   },
   {
    "duration": 110,
    "start_time": "2023-05-06T12:55:01.873Z"
   },
   {
    "duration": 51,
    "start_time": "2023-05-06T12:55:01.984Z"
   },
   {
    "duration": 203,
    "start_time": "2023-05-06T12:55:02.037Z"
   },
   {
    "duration": 98,
    "start_time": "2023-05-06T12:55:02.242Z"
   },
   {
    "duration": 783,
    "start_time": "2023-05-06T12:55:02.342Z"
   },
   {
    "duration": 0,
    "start_time": "2023-05-06T12:55:03.126Z"
   },
   {
    "duration": 38,
    "start_time": "2023-05-06T12:57:02.100Z"
   },
   {
    "duration": 36,
    "start_time": "2023-05-06T13:02:34.563Z"
   },
   {
    "duration": 39,
    "start_time": "2023-05-06T13:09:50.776Z"
   },
   {
    "duration": 41,
    "start_time": "2023-05-06T13:09:59.648Z"
   },
   {
    "duration": 40,
    "start_time": "2023-05-06T13:10:41.297Z"
   },
   {
    "duration": 247,
    "start_time": "2023-05-06T13:16:32.573Z"
   },
   {
    "duration": 199,
    "start_time": "2023-05-06T13:19:08.505Z"
   },
   {
    "duration": 261,
    "start_time": "2023-05-06T13:20:36.314Z"
   },
   {
    "duration": 221,
    "start_time": "2023-05-06T13:20:51.021Z"
   },
   {
    "duration": 201,
    "start_time": "2023-05-06T13:21:07.598Z"
   },
   {
    "duration": 204,
    "start_time": "2023-05-06T13:22:24.675Z"
   },
   {
    "duration": 207,
    "start_time": "2023-05-06T13:24:23.697Z"
   },
   {
    "duration": 1232,
    "start_time": "2023-05-06T13:24:52.421Z"
   },
   {
    "duration": 181,
    "start_time": "2023-05-06T13:24:53.655Z"
   },
   {
    "duration": 30,
    "start_time": "2023-05-06T13:24:53.838Z"
   },
   {
    "duration": 42,
    "start_time": "2023-05-06T13:24:53.870Z"
   },
   {
    "duration": 51,
    "start_time": "2023-05-06T13:24:53.914Z"
   },
   {
    "duration": 13,
    "start_time": "2023-05-06T13:24:53.967Z"
   },
   {
    "duration": 91,
    "start_time": "2023-05-06T13:24:53.981Z"
   },
   {
    "duration": 81,
    "start_time": "2023-05-06T13:24:54.074Z"
   },
   {
    "duration": 79,
    "start_time": "2023-05-06T13:24:54.156Z"
   },
   {
    "duration": 74,
    "start_time": "2023-05-06T13:24:54.239Z"
   },
   {
    "duration": 79,
    "start_time": "2023-05-06T13:24:54.314Z"
   },
   {
    "duration": 38,
    "start_time": "2023-05-06T13:24:54.395Z"
   },
   {
    "duration": 53,
    "start_time": "2023-05-06T13:24:54.435Z"
   },
   {
    "duration": 28,
    "start_time": "2023-05-06T13:24:54.490Z"
   },
   {
    "duration": 57,
    "start_time": "2023-05-06T13:24:54.520Z"
   },
   {
    "duration": 12,
    "start_time": "2023-05-06T13:24:54.578Z"
   },
   {
    "duration": 27,
    "start_time": "2023-05-06T13:24:54.592Z"
   },
   {
    "duration": 304,
    "start_time": "2023-05-06T13:24:54.620Z"
   },
   {
    "duration": 214,
    "start_time": "2023-05-06T13:24:54.926Z"
   },
   {
    "duration": 37,
    "start_time": "2023-05-06T13:24:55.142Z"
   },
   {
    "duration": 34,
    "start_time": "2023-05-06T13:24:55.181Z"
   },
   {
    "duration": 8,
    "start_time": "2023-05-06T13:24:55.218Z"
   },
   {
    "duration": 29,
    "start_time": "2023-05-06T13:24:55.228Z"
   },
   {
    "duration": 144,
    "start_time": "2023-05-06T13:24:55.258Z"
   },
   {
    "duration": 73,
    "start_time": "2023-05-06T13:24:55.413Z"
   },
   {
    "duration": 195,
    "start_time": "2023-05-06T13:24:55.489Z"
   },
   {
    "duration": 176,
    "start_time": "2023-05-06T13:24:55.686Z"
   },
   {
    "duration": 14,
    "start_time": "2023-05-06T13:24:55.866Z"
   },
   {
    "duration": 32,
    "start_time": "2023-05-06T13:24:55.882Z"
   },
   {
    "duration": 18,
    "start_time": "2023-05-06T13:24:55.916Z"
   },
   {
    "duration": 34,
    "start_time": "2023-05-06T13:24:55.936Z"
   },
   {
    "duration": 119,
    "start_time": "2023-05-06T13:24:55.972Z"
   },
   {
    "duration": 24,
    "start_time": "2023-05-06T13:24:56.092Z"
   },
   {
    "duration": 6,
    "start_time": "2023-05-06T13:24:56.118Z"
   },
   {
    "duration": 11,
    "start_time": "2023-05-06T13:24:56.126Z"
   },
   {
    "duration": 13,
    "start_time": "2023-05-06T13:24:56.140Z"
   },
   {
    "duration": 21,
    "start_time": "2023-05-06T13:24:56.155Z"
   },
   {
    "duration": 36,
    "start_time": "2023-05-06T13:24:56.178Z"
   },
   {
    "duration": 10,
    "start_time": "2023-05-06T13:24:56.216Z"
   },
   {
    "duration": 10,
    "start_time": "2023-05-06T13:24:56.227Z"
   },
   {
    "duration": 670,
    "start_time": "2023-05-06T13:24:56.239Z"
   },
   {
    "duration": 0,
    "start_time": "2023-05-06T13:24:56.911Z"
   },
   {
    "duration": 122,
    "start_time": "2023-05-06T13:47:29.270Z"
   },
   {
    "duration": 135,
    "start_time": "2023-05-06T13:47:43.712Z"
   },
   {
    "duration": 199,
    "start_time": "2023-05-06T13:47:51.717Z"
   },
   {
    "duration": 125,
    "start_time": "2023-05-06T13:48:03.030Z"
   },
   {
    "duration": 118,
    "start_time": "2023-05-06T13:48:17.436Z"
   },
   {
    "duration": 127,
    "start_time": "2023-05-06T13:48:24.946Z"
   },
   {
    "duration": 1734,
    "start_time": "2023-05-06T13:49:37.850Z"
   },
   {
    "duration": 229,
    "start_time": "2023-05-06T13:49:46.001Z"
   },
   {
    "duration": 144,
    "start_time": "2023-05-06T13:49:54.364Z"
   },
   {
    "duration": 1202,
    "start_time": "2023-05-06T13:51:45.391Z"
   },
   {
    "duration": 179,
    "start_time": "2023-05-06T13:51:46.594Z"
   },
   {
    "duration": 27,
    "start_time": "2023-05-06T13:51:46.775Z"
   },
   {
    "duration": 22,
    "start_time": "2023-05-06T13:51:46.812Z"
   },
   {
    "duration": 49,
    "start_time": "2023-05-06T13:51:46.836Z"
   },
   {
    "duration": 35,
    "start_time": "2023-05-06T13:51:46.887Z"
   },
   {
    "duration": 67,
    "start_time": "2023-05-06T13:51:46.924Z"
   },
   {
    "duration": 81,
    "start_time": "2023-05-06T13:51:46.992Z"
   },
   {
    "duration": 89,
    "start_time": "2023-05-06T13:51:47.074Z"
   },
   {
    "duration": 69,
    "start_time": "2023-05-06T13:51:47.167Z"
   },
   {
    "duration": 82,
    "start_time": "2023-05-06T13:51:47.238Z"
   },
   {
    "duration": 30,
    "start_time": "2023-05-06T13:51:47.322Z"
   },
   {
    "duration": 65,
    "start_time": "2023-05-06T13:51:47.354Z"
   },
   {
    "duration": 16,
    "start_time": "2023-05-06T13:51:47.421Z"
   },
   {
    "duration": 76,
    "start_time": "2023-05-06T13:51:47.438Z"
   },
   {
    "duration": 12,
    "start_time": "2023-05-06T13:51:47.516Z"
   },
   {
    "duration": 12,
    "start_time": "2023-05-06T13:51:47.529Z"
   },
   {
    "duration": 303,
    "start_time": "2023-05-06T13:51:47.542Z"
   },
   {
    "duration": 198,
    "start_time": "2023-05-06T13:51:47.847Z"
   },
   {
    "duration": 33,
    "start_time": "2023-05-06T13:51:48.047Z"
   },
   {
    "duration": 36,
    "start_time": "2023-05-06T13:51:48.082Z"
   },
   {
    "duration": 8,
    "start_time": "2023-05-06T13:51:48.120Z"
   },
   {
    "duration": 25,
    "start_time": "2023-05-06T13:51:48.129Z"
   },
   {
    "duration": 165,
    "start_time": "2023-05-06T13:51:48.156Z"
   },
   {
    "duration": 68,
    "start_time": "2023-05-06T13:51:48.323Z"
   },
   {
    "duration": 182,
    "start_time": "2023-05-06T13:51:48.393Z"
   },
   {
    "duration": 179,
    "start_time": "2023-05-06T13:51:48.577Z"
   },
   {
    "duration": 13,
    "start_time": "2023-05-06T13:51:48.760Z"
   },
   {
    "duration": 21,
    "start_time": "2023-05-06T13:51:48.774Z"
   },
   {
    "duration": 11,
    "start_time": "2023-05-06T13:51:48.812Z"
   },
   {
    "duration": 46,
    "start_time": "2023-05-06T13:51:48.825Z"
   },
   {
    "duration": 143,
    "start_time": "2023-05-06T13:51:48.873Z"
   },
   {
    "duration": 19,
    "start_time": "2023-05-06T13:51:49.018Z"
   },
   {
    "duration": 6,
    "start_time": "2023-05-06T13:51:49.039Z"
   },
   {
    "duration": 28,
    "start_time": "2023-05-06T13:51:49.047Z"
   },
   {
    "duration": 18,
    "start_time": "2023-05-06T13:51:49.077Z"
   },
   {
    "duration": 15,
    "start_time": "2023-05-06T13:51:49.097Z"
   },
   {
    "duration": 13,
    "start_time": "2023-05-06T13:51:49.114Z"
   },
   {
    "duration": 20,
    "start_time": "2023-05-06T13:51:49.128Z"
   },
   {
    "duration": 9,
    "start_time": "2023-05-06T13:51:49.150Z"
   },
   {
    "duration": 684,
    "start_time": "2023-05-06T13:51:49.161Z"
   },
   {
    "duration": 0,
    "start_time": "2023-05-06T13:51:49.847Z"
   },
   {
    "duration": 15,
    "start_time": "2023-05-06T13:52:50.306Z"
   },
   {
    "duration": 13,
    "start_time": "2023-05-06T13:53:06.252Z"
   },
   {
    "duration": 13,
    "start_time": "2023-05-06T13:53:27.149Z"
   },
   {
    "duration": 15,
    "start_time": "2023-05-06T13:53:47.155Z"
   },
   {
    "duration": 1226,
    "start_time": "2023-05-06T13:54:01.117Z"
   },
   {
    "duration": 178,
    "start_time": "2023-05-06T13:54:02.345Z"
   },
   {
    "duration": 27,
    "start_time": "2023-05-06T13:54:02.526Z"
   },
   {
    "duration": 57,
    "start_time": "2023-05-06T13:54:02.555Z"
   },
   {
    "duration": 82,
    "start_time": "2023-05-06T13:54:02.613Z"
   },
   {
    "duration": 14,
    "start_time": "2023-05-06T13:54:02.696Z"
   },
   {
    "duration": 93,
    "start_time": "2023-05-06T13:54:02.712Z"
   },
   {
    "duration": 83,
    "start_time": "2023-05-06T13:54:02.807Z"
   },
   {
    "duration": 79,
    "start_time": "2023-05-06T13:54:02.893Z"
   },
   {
    "duration": 71,
    "start_time": "2023-05-06T13:54:02.974Z"
   },
   {
    "duration": 85,
    "start_time": "2023-05-06T13:54:03.046Z"
   },
   {
    "duration": 30,
    "start_time": "2023-05-06T13:54:03.132Z"
   },
   {
    "duration": 63,
    "start_time": "2023-05-06T13:54:03.166Z"
   },
   {
    "duration": 8,
    "start_time": "2023-05-06T13:54:03.231Z"
   },
   {
    "duration": 42,
    "start_time": "2023-05-06T13:54:03.241Z"
   },
   {
    "duration": 34,
    "start_time": "2023-05-06T13:54:03.285Z"
   },
   {
    "duration": 12,
    "start_time": "2023-05-06T13:54:03.321Z"
   },
   {
    "duration": 319,
    "start_time": "2023-05-06T13:54:03.335Z"
   },
   {
    "duration": 207,
    "start_time": "2023-05-06T13:54:03.656Z"
   },
   {
    "duration": 29,
    "start_time": "2023-05-06T13:54:03.865Z"
   },
   {
    "duration": 31,
    "start_time": "2023-05-06T13:54:03.896Z"
   },
   {
    "duration": 6,
    "start_time": "2023-05-06T13:54:03.929Z"
   },
   {
    "duration": 23,
    "start_time": "2023-05-06T13:54:03.937Z"
   },
   {
    "duration": 168,
    "start_time": "2023-05-06T13:54:03.961Z"
   },
   {
    "duration": 81,
    "start_time": "2023-05-06T13:54:04.131Z"
   },
   {
    "duration": 185,
    "start_time": "2023-05-06T13:54:04.214Z"
   },
   {
    "duration": 179,
    "start_time": "2023-05-06T13:54:04.401Z"
   },
   {
    "duration": 12,
    "start_time": "2023-05-06T13:54:04.582Z"
   },
   {
    "duration": 13,
    "start_time": "2023-05-06T13:54:04.611Z"
   },
   {
    "duration": 18,
    "start_time": "2023-05-06T13:54:04.626Z"
   },
   {
    "duration": 39,
    "start_time": "2023-05-06T13:54:04.645Z"
   },
   {
    "duration": 127,
    "start_time": "2023-05-06T13:54:04.686Z"
   },
   {
    "duration": 19,
    "start_time": "2023-05-06T13:54:04.814Z"
   },
   {
    "duration": 5,
    "start_time": "2023-05-06T13:54:04.835Z"
   },
   {
    "duration": 12,
    "start_time": "2023-05-06T13:54:04.842Z"
   },
   {
    "duration": 8,
    "start_time": "2023-05-06T13:54:04.856Z"
   },
   {
    "duration": 48,
    "start_time": "2023-05-06T13:54:04.865Z"
   },
   {
    "duration": 9,
    "start_time": "2023-05-06T13:54:04.914Z"
   },
   {
    "duration": 11,
    "start_time": "2023-05-06T13:54:04.924Z"
   },
   {
    "duration": 9,
    "start_time": "2023-05-06T13:54:04.938Z"
   },
   {
    "duration": 696,
    "start_time": "2023-05-06T13:54:04.949Z"
   },
   {
    "duration": 0,
    "start_time": "2023-05-06T13:54:05.647Z"
   },
   {
    "duration": 15,
    "start_time": "2023-05-06T13:54:38.896Z"
   },
   {
    "duration": 12,
    "start_time": "2023-05-06T13:55:19.581Z"
   },
   {
    "duration": 15,
    "start_time": "2023-05-06T13:55:30.617Z"
   },
   {
    "duration": 12,
    "start_time": "2023-05-06T13:56:16.909Z"
   },
   {
    "duration": 11,
    "start_time": "2023-05-06T13:56:41.026Z"
   },
   {
    "duration": 1113,
    "start_time": "2023-05-06T13:57:07.145Z"
   },
   {
    "duration": 172,
    "start_time": "2023-05-06T13:57:08.261Z"
   },
   {
    "duration": 25,
    "start_time": "2023-05-06T13:57:08.434Z"
   },
   {
    "duration": 33,
    "start_time": "2023-05-06T13:57:08.461Z"
   },
   {
    "duration": 62,
    "start_time": "2023-05-06T13:57:08.495Z"
   },
   {
    "duration": 14,
    "start_time": "2023-05-06T13:57:08.559Z"
   },
   {
    "duration": 86,
    "start_time": "2023-05-06T13:57:08.574Z"
   },
   {
    "duration": 88,
    "start_time": "2023-05-06T13:57:08.662Z"
   },
   {
    "duration": 87,
    "start_time": "2023-05-06T13:57:08.752Z"
   },
   {
    "duration": 83,
    "start_time": "2023-05-06T13:57:08.843Z"
   },
   {
    "duration": 90,
    "start_time": "2023-05-06T13:57:08.929Z"
   },
   {
    "duration": 31,
    "start_time": "2023-05-06T13:57:09.021Z"
   },
   {
    "duration": 84,
    "start_time": "2023-05-06T13:57:09.054Z"
   },
   {
    "duration": 10,
    "start_time": "2023-05-06T13:57:09.139Z"
   },
   {
    "duration": 62,
    "start_time": "2023-05-06T13:57:09.151Z"
   },
   {
    "duration": 13,
    "start_time": "2023-05-06T13:57:09.214Z"
   },
   {
    "duration": 12,
    "start_time": "2023-05-06T13:57:09.229Z"
   },
   {
    "duration": 303,
    "start_time": "2023-05-06T13:57:09.243Z"
   },
   {
    "duration": 199,
    "start_time": "2023-05-06T13:57:09.547Z"
   },
   {
    "duration": 33,
    "start_time": "2023-05-06T13:57:09.748Z"
   },
   {
    "duration": 35,
    "start_time": "2023-05-06T13:57:09.783Z"
   },
   {
    "duration": 7,
    "start_time": "2023-05-06T13:57:09.820Z"
   },
   {
    "duration": 41,
    "start_time": "2023-05-06T13:57:09.828Z"
   },
   {
    "duration": 149,
    "start_time": "2023-05-06T13:57:09.871Z"
   },
   {
    "duration": 68,
    "start_time": "2023-05-06T13:57:10.022Z"
   },
   {
    "duration": 176,
    "start_time": "2023-05-06T13:57:10.092Z"
   },
   {
    "duration": 169,
    "start_time": "2023-05-06T13:57:10.270Z"
   },
   {
    "duration": 14,
    "start_time": "2023-05-06T13:57:10.443Z"
   },
   {
    "duration": 11,
    "start_time": "2023-05-06T13:57:10.459Z"
   },
   {
    "duration": 12,
    "start_time": "2023-05-06T13:57:10.472Z"
   },
   {
    "duration": 33,
    "start_time": "2023-05-06T13:57:10.511Z"
   },
   {
    "duration": 123,
    "start_time": "2023-05-06T13:57:10.546Z"
   },
   {
    "duration": 21,
    "start_time": "2023-05-06T13:57:10.671Z"
   },
   {
    "duration": 20,
    "start_time": "2023-05-06T13:57:10.694Z"
   },
   {
    "duration": 14,
    "start_time": "2023-05-06T13:57:10.715Z"
   },
   {
    "duration": 19,
    "start_time": "2023-05-06T13:57:10.731Z"
   },
   {
    "duration": 31,
    "start_time": "2023-05-06T13:57:10.752Z"
   },
   {
    "duration": 10,
    "start_time": "2023-05-06T13:57:10.785Z"
   },
   {
    "duration": 19,
    "start_time": "2023-05-06T13:57:10.797Z"
   },
   {
    "duration": 9,
    "start_time": "2023-05-06T13:57:10.818Z"
   },
   {
    "duration": 684,
    "start_time": "2023-05-06T13:57:10.829Z"
   },
   {
    "duration": 0,
    "start_time": "2023-05-06T13:57:11.514Z"
   },
   {
    "duration": 1203,
    "start_time": "2023-05-06T16:17:52.432Z"
   },
   {
    "duration": 185,
    "start_time": "2023-05-06T16:17:53.637Z"
   },
   {
    "duration": 33,
    "start_time": "2023-05-06T16:17:53.824Z"
   },
   {
    "duration": 28,
    "start_time": "2023-05-06T16:17:53.859Z"
   },
   {
    "duration": 72,
    "start_time": "2023-05-06T16:17:53.890Z"
   },
   {
    "duration": 15,
    "start_time": "2023-05-06T16:17:53.964Z"
   },
   {
    "duration": 87,
    "start_time": "2023-05-06T16:17:53.981Z"
   },
   {
    "duration": 88,
    "start_time": "2023-05-06T16:17:54.071Z"
   },
   {
    "duration": 79,
    "start_time": "2023-05-06T16:17:54.161Z"
   },
   {
    "duration": 78,
    "start_time": "2023-05-06T16:17:54.242Z"
   },
   {
    "duration": 78,
    "start_time": "2023-05-06T16:17:54.321Z"
   },
   {
    "duration": 41,
    "start_time": "2023-05-06T16:17:54.402Z"
   },
   {
    "duration": 71,
    "start_time": "2023-05-06T16:17:54.445Z"
   },
   {
    "duration": 10,
    "start_time": "2023-05-06T16:17:54.519Z"
   },
   {
    "duration": 47,
    "start_time": "2023-05-06T16:17:54.531Z"
   },
   {
    "duration": 36,
    "start_time": "2023-05-06T16:17:54.580Z"
   },
   {
    "duration": 13,
    "start_time": "2023-05-06T16:17:54.618Z"
   },
   {
    "duration": 312,
    "start_time": "2023-05-06T16:17:54.633Z"
   },
   {
    "duration": 212,
    "start_time": "2023-05-06T16:17:54.947Z"
   },
   {
    "duration": 35,
    "start_time": "2023-05-06T16:17:55.161Z"
   },
   {
    "duration": 19,
    "start_time": "2023-05-06T16:17:55.211Z"
   },
   {
    "duration": 9,
    "start_time": "2023-05-06T16:17:55.232Z"
   },
   {
    "duration": 29,
    "start_time": "2023-05-06T16:17:55.243Z"
   },
   {
    "duration": 162,
    "start_time": "2023-05-06T16:17:55.274Z"
   },
   {
    "duration": 79,
    "start_time": "2023-05-06T16:17:55.438Z"
   },
   {
    "duration": 175,
    "start_time": "2023-05-06T16:17:55.519Z"
   },
   {
    "duration": 180,
    "start_time": "2023-05-06T16:17:55.695Z"
   },
   {
    "duration": 14,
    "start_time": "2023-05-06T16:17:55.878Z"
   },
   {
    "duration": 28,
    "start_time": "2023-05-06T16:17:55.894Z"
   },
   {
    "duration": 29,
    "start_time": "2023-05-06T16:17:55.924Z"
   },
   {
    "duration": 41,
    "start_time": "2023-05-06T16:17:55.955Z"
   },
   {
    "duration": 123,
    "start_time": "2023-05-06T16:17:55.998Z"
   },
   {
    "duration": 22,
    "start_time": "2023-05-06T16:17:56.123Z"
   },
   {
    "duration": 29,
    "start_time": "2023-05-06T16:17:56.147Z"
   },
   {
    "duration": 31,
    "start_time": "2023-05-06T16:17:56.178Z"
   },
   {
    "duration": 140,
    "start_time": "2023-05-06T16:17:56.212Z"
   },
   {
    "duration": 0,
    "start_time": "2023-05-06T16:17:56.354Z"
   },
   {
    "duration": 0,
    "start_time": "2023-05-06T16:17:56.355Z"
   },
   {
    "duration": 0,
    "start_time": "2023-05-06T16:17:56.356Z"
   },
   {
    "duration": 0,
    "start_time": "2023-05-06T16:17:56.358Z"
   },
   {
    "duration": 10,
    "start_time": "2023-05-06T16:18:33.555Z"
   },
   {
    "duration": 9,
    "start_time": "2023-05-06T16:19:21.628Z"
   },
   {
    "duration": 11,
    "start_time": "2023-05-06T16:19:27.299Z"
   },
   {
    "duration": 9,
    "start_time": "2023-05-06T16:19:32.986Z"
   },
   {
    "duration": 9,
    "start_time": "2023-05-06T16:19:38.206Z"
   },
   {
    "duration": 1180,
    "start_time": "2023-05-06T16:34:07.871Z"
   },
   {
    "duration": 181,
    "start_time": "2023-05-06T16:34:09.053Z"
   },
   {
    "duration": 26,
    "start_time": "2023-05-06T16:34:09.236Z"
   },
   {
    "duration": 22,
    "start_time": "2023-05-06T16:34:09.264Z"
   },
   {
    "duration": 70,
    "start_time": "2023-05-06T16:34:09.289Z"
   },
   {
    "duration": 14,
    "start_time": "2023-05-06T16:34:09.360Z"
   },
   {
    "duration": 88,
    "start_time": "2023-05-06T16:34:09.376Z"
   },
   {
    "duration": 85,
    "start_time": "2023-05-06T16:34:09.466Z"
   },
   {
    "duration": 76,
    "start_time": "2023-05-06T16:34:09.552Z"
   },
   {
    "duration": 59,
    "start_time": "2023-05-06T16:34:09.629Z"
   },
   {
    "duration": 89,
    "start_time": "2023-05-06T16:34:09.690Z"
   },
   {
    "duration": 35,
    "start_time": "2023-05-06T16:34:09.781Z"
   },
   {
    "duration": 50,
    "start_time": "2023-05-06T16:34:09.818Z"
   },
   {
    "duration": 10,
    "start_time": "2023-05-06T16:34:09.872Z"
   },
   {
    "duration": 74,
    "start_time": "2023-05-06T16:34:09.884Z"
   },
   {
    "duration": 11,
    "start_time": "2023-05-06T16:34:09.960Z"
   },
   {
    "duration": 20,
    "start_time": "2023-05-06T16:34:09.973Z"
   },
   {
    "duration": 299,
    "start_time": "2023-05-06T16:34:09.994Z"
   },
   {
    "duration": 218,
    "start_time": "2023-05-06T16:34:10.295Z"
   },
   {
    "duration": 30,
    "start_time": "2023-05-06T16:34:10.515Z"
   },
   {
    "duration": 18,
    "start_time": "2023-05-06T16:34:10.547Z"
   },
   {
    "duration": 6,
    "start_time": "2023-05-06T16:34:10.566Z"
   },
   {
    "duration": 51,
    "start_time": "2023-05-06T16:34:10.574Z"
   },
   {
    "duration": 169,
    "start_time": "2023-05-06T16:34:10.627Z"
   },
   {
    "duration": 76,
    "start_time": "2023-05-06T16:34:10.798Z"
   },
   {
    "duration": 174,
    "start_time": "2023-05-06T16:34:10.875Z"
   },
   {
    "duration": 170,
    "start_time": "2023-05-06T16:34:11.051Z"
   },
   {
    "duration": 12,
    "start_time": "2023-05-06T16:34:11.223Z"
   },
   {
    "duration": 31,
    "start_time": "2023-05-06T16:34:11.236Z"
   },
   {
    "duration": 11,
    "start_time": "2023-05-06T16:34:11.269Z"
   },
   {
    "duration": 48,
    "start_time": "2023-05-06T16:34:11.282Z"
   },
   {
    "duration": 114,
    "start_time": "2023-05-06T16:34:11.332Z"
   },
   {
    "duration": 18,
    "start_time": "2023-05-06T16:34:11.448Z"
   },
   {
    "duration": 5,
    "start_time": "2023-05-06T16:34:11.468Z"
   },
   {
    "duration": 17,
    "start_time": "2023-05-06T16:34:11.475Z"
   },
   {
    "duration": 25,
    "start_time": "2023-05-06T16:34:11.494Z"
   },
   {
    "duration": 12,
    "start_time": "2023-05-06T16:34:11.520Z"
   },
   {
    "duration": 1089,
    "start_time": "2023-05-06T23:08:48.936Z"
   },
   {
    "duration": 163,
    "start_time": "2023-05-06T23:08:50.027Z"
   },
   {
    "duration": 20,
    "start_time": "2023-05-06T23:08:50.191Z"
   },
   {
    "duration": 29,
    "start_time": "2023-05-06T23:08:50.213Z"
   },
   {
    "duration": 43,
    "start_time": "2023-05-06T23:08:50.244Z"
   },
   {
    "duration": 12,
    "start_time": "2023-05-06T23:08:50.288Z"
   },
   {
    "duration": 80,
    "start_time": "2023-05-06T23:08:50.301Z"
   },
   {
    "duration": 75,
    "start_time": "2023-05-06T23:08:50.383Z"
   },
   {
    "duration": 61,
    "start_time": "2023-05-06T23:08:50.459Z"
   },
   {
    "duration": 53,
    "start_time": "2023-05-06T23:08:50.533Z"
   },
   {
    "duration": 80,
    "start_time": "2023-05-06T23:08:50.588Z"
   },
   {
    "duration": 27,
    "start_time": "2023-05-06T23:08:50.669Z"
   },
   {
    "duration": 54,
    "start_time": "2023-05-06T23:08:50.697Z"
   },
   {
    "duration": 16,
    "start_time": "2023-05-06T23:08:50.753Z"
   },
   {
    "duration": 43,
    "start_time": "2023-05-06T23:08:50.771Z"
   },
   {
    "duration": 19,
    "start_time": "2023-05-06T23:08:50.815Z"
   },
   {
    "duration": 10,
    "start_time": "2023-05-06T23:08:50.835Z"
   },
   {
    "duration": 266,
    "start_time": "2023-05-06T23:08:50.847Z"
   },
   {
    "duration": 173,
    "start_time": "2023-05-06T23:08:51.114Z"
   },
   {
    "duration": 31,
    "start_time": "2023-05-06T23:08:51.288Z"
   },
   {
    "duration": 24,
    "start_time": "2023-05-06T23:08:51.320Z"
   },
   {
    "duration": 9,
    "start_time": "2023-05-06T23:08:51.345Z"
   },
   {
    "duration": 36,
    "start_time": "2023-05-06T23:08:51.355Z"
   },
   {
    "duration": 138,
    "start_time": "2023-05-06T23:08:51.393Z"
   },
   {
    "duration": 59,
    "start_time": "2023-05-06T23:08:51.533Z"
   },
   {
    "duration": 164,
    "start_time": "2023-05-06T23:08:51.594Z"
   },
   {
    "duration": 150,
    "start_time": "2023-05-06T23:08:51.759Z"
   },
   {
    "duration": 12,
    "start_time": "2023-05-06T23:08:51.912Z"
   },
   {
    "duration": 10,
    "start_time": "2023-05-06T23:08:51.934Z"
   },
   {
    "duration": 16,
    "start_time": "2023-05-06T23:08:51.946Z"
   },
   {
    "duration": 34,
    "start_time": "2023-05-06T23:08:51.963Z"
   },
   {
    "duration": 116,
    "start_time": "2023-05-06T23:08:51.999Z"
   },
   {
    "duration": 21,
    "start_time": "2023-05-06T23:08:52.116Z"
   },
   {
    "duration": 27,
    "start_time": "2023-05-06T23:08:52.139Z"
   },
   {
    "duration": 34,
    "start_time": "2023-05-06T23:08:52.168Z"
   },
   {
    "duration": 26,
    "start_time": "2023-05-06T23:08:52.204Z"
   },
   {
    "duration": 18,
    "start_time": "2023-05-06T23:08:52.231Z"
   }
  ],
  "kernelspec": {
   "display_name": "Python 3 (ipykernel)",
   "language": "python",
   "name": "python3"
  },
  "language_info": {
   "codemirror_mode": {
    "name": "ipython",
    "version": 3
   },
   "file_extension": ".py",
   "mimetype": "text/x-python",
   "name": "python",
   "nbconvert_exporter": "python",
   "pygments_lexer": "ipython3",
   "version": "3.9.13"
  },
  "toc": {
   "base_numbering": 1,
   "nav_menu": {},
   "number_sections": true,
   "sideBar": true,
   "skip_h1_title": true,
   "title_cell": "Table of Contents",
   "title_sidebar": "Contents",
   "toc_cell": false,
   "toc_position": {
    "height": "calc(100% - 180px)",
    "left": "10px",
    "top": "150px",
    "width": "212.9px"
   },
   "toc_section_display": true,
   "toc_window_display": true
  }
 },
 "nbformat": 4,
 "nbformat_minor": 2
}
