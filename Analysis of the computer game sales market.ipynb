{
 "cells": [
  {
   "cell_type": "markdown",
   "id": "b0ef33ef",
   "metadata": {},
   "source": [
    "# Описание проекта\n",
    "Вы работаете в интернет-магазине «Стримчик», который продаёт по всему миру компьютерные игры. Из открытых источников доступны исторические данные о продажах игр, оценки пользователей и экспертов, жанры и платформы (например, Xbox или PlayStation). Вам нужно выявить определяющие успешность игры закономерности. Это позволит сделать ставку на потенциально популярный продукт и спланировать рекламные кампании.\n",
    "Перед вами данные до 2016 года. Представим, что сейчас декабрь 2016 г., и вы планируете кампанию на 2017-й. Нужно отработать принцип работы с данными. Неважно, прогнозируете ли вы продажи на 2017 год по данным 2016-го или же 2027-й — по данным 2026 года.\n",
    "В наборе данных попадается аббревиатура ESRB (Entertainment Software Rating Board) — это ассоциация, определяющая возрастной рейтинг компьютерных игр. ESRB оценивает игровой контент и присваивает ему подходящую возрастную категорию, например, «Для взрослых», «Для детей младшего возраста» или «Для подростков»."
   ]
  },
  {
   "cell_type": "markdown",
   "id": "7c0f6424",
   "metadata": {},
   "source": [
    "## 1.Подготовка данных\n",
    "\n",
    "- Замените названия столбцов (приведите к нижнему регистру);\n",
    "- Преобразуйте данные в нужные типы. Опишите, в каких столбцах заменили тип данных и почему;\n",
    "- Обработайте пропуски при необходимости:\n",
    "- Объясните, почему заполнили пропуски определённым образом или почему не стали это делать;\n",
    "- Опишите причины, которые могли привести к пропускам;\n",
    "- Обратите внимание на аббревиатуру 'tbd' в столбце с оценкой пользователей. Отдельно разберите это значение и опишите, как его обработать;\n",
    "- Посчитайте суммарные продажи во всех регионах и запишите их в отдельный столбец."
   ]
  },
  {
   "cell_type": "code",
   "execution_count": 1,
   "id": "bf4553fe",
   "metadata": {},
   "outputs": [],
   "source": [
    "import pandas as pd\n",
    "import numpy as np\n",
    "import matplotlib.pyplot as plt\n",
    "from scipy.stats import ttest_ind\n",
    "import seaborn as sns\n",
    "from scipy import stats as st\n",
    "import os"
   ]
  },
  {
   "cell_type": "code",
   "execution_count": 3,
   "id": "6042000b",
   "metadata": {},
   "outputs": [
    {
     "data": {
      "text/html": [
       "<div>\n",
       "<style scoped>\n",
       "    .dataframe tbody tr th:only-of-type {\n",
       "        vertical-align: middle;\n",
       "    }\n",
       "\n",
       "    .dataframe tbody tr th {\n",
       "        vertical-align: top;\n",
       "    }\n",
       "\n",
       "    .dataframe thead th {\n",
       "        text-align: right;\n",
       "    }\n",
       "</style>\n",
       "<table border=\"1\" class=\"dataframe\">\n",
       "  <thead>\n",
       "    <tr style=\"text-align: right;\">\n",
       "      <th></th>\n",
       "      <th>Name</th>\n",
       "      <th>Platform</th>\n",
       "      <th>Year_of_Release</th>\n",
       "      <th>Genre</th>\n",
       "      <th>NA_sales</th>\n",
       "      <th>EU_sales</th>\n",
       "      <th>JP_sales</th>\n",
       "      <th>Other_sales</th>\n",
       "      <th>Critic_Score</th>\n",
       "      <th>User_Score</th>\n",
       "      <th>Rating</th>\n",
       "    </tr>\n",
       "  </thead>\n",
       "  <tbody>\n",
       "    <tr>\n",
       "      <th>0</th>\n",
       "      <td>Wii Sports</td>\n",
       "      <td>Wii</td>\n",
       "      <td>2006.0</td>\n",
       "      <td>Sports</td>\n",
       "      <td>41.36</td>\n",
       "      <td>28.96</td>\n",
       "      <td>3.77</td>\n",
       "      <td>8.45</td>\n",
       "      <td>76.0</td>\n",
       "      <td>8</td>\n",
       "      <td>E</td>\n",
       "    </tr>\n",
       "    <tr>\n",
       "      <th>1</th>\n",
       "      <td>Super Mario Bros.</td>\n",
       "      <td>NES</td>\n",
       "      <td>1985.0</td>\n",
       "      <td>Platform</td>\n",
       "      <td>29.08</td>\n",
       "      <td>3.58</td>\n",
       "      <td>6.81</td>\n",
       "      <td>0.77</td>\n",
       "      <td>NaN</td>\n",
       "      <td>NaN</td>\n",
       "      <td>NaN</td>\n",
       "    </tr>\n",
       "    <tr>\n",
       "      <th>2</th>\n",
       "      <td>Mario Kart Wii</td>\n",
       "      <td>Wii</td>\n",
       "      <td>2008.0</td>\n",
       "      <td>Racing</td>\n",
       "      <td>15.68</td>\n",
       "      <td>12.76</td>\n",
       "      <td>3.79</td>\n",
       "      <td>3.29</td>\n",
       "      <td>82.0</td>\n",
       "      <td>8.3</td>\n",
       "      <td>E</td>\n",
       "    </tr>\n",
       "    <tr>\n",
       "      <th>3</th>\n",
       "      <td>Wii Sports Resort</td>\n",
       "      <td>Wii</td>\n",
       "      <td>2009.0</td>\n",
       "      <td>Sports</td>\n",
       "      <td>15.61</td>\n",
       "      <td>10.93</td>\n",
       "      <td>3.28</td>\n",
       "      <td>2.95</td>\n",
       "      <td>80.0</td>\n",
       "      <td>8</td>\n",
       "      <td>E</td>\n",
       "    </tr>\n",
       "    <tr>\n",
       "      <th>4</th>\n",
       "      <td>Pokemon Red/Pokemon Blue</td>\n",
       "      <td>GB</td>\n",
       "      <td>1996.0</td>\n",
       "      <td>Role-Playing</td>\n",
       "      <td>11.27</td>\n",
       "      <td>8.89</td>\n",
       "      <td>10.22</td>\n",
       "      <td>1.00</td>\n",
       "      <td>NaN</td>\n",
       "      <td>NaN</td>\n",
       "      <td>NaN</td>\n",
       "    </tr>\n",
       "  </tbody>\n",
       "</table>\n",
       "</div>"
      ],
      "text/plain": [
       "                       Name Platform  Year_of_Release         Genre  NA_sales  \\\n",
       "0                Wii Sports      Wii           2006.0        Sports     41.36   \n",
       "1         Super Mario Bros.      NES           1985.0      Platform     29.08   \n",
       "2            Mario Kart Wii      Wii           2008.0        Racing     15.68   \n",
       "3         Wii Sports Resort      Wii           2009.0        Sports     15.61   \n",
       "4  Pokemon Red/Pokemon Blue       GB           1996.0  Role-Playing     11.27   \n",
       "\n",
       "   EU_sales  JP_sales  Other_sales  Critic_Score User_Score Rating  \n",
       "0     28.96      3.77         8.45          76.0          8      E  \n",
       "1      3.58      6.81         0.77           NaN        NaN    NaN  \n",
       "2     12.76      3.79         3.29          82.0        8.3      E  \n",
       "3     10.93      3.28         2.95          80.0          8      E  \n",
       "4      8.89     10.22         1.00           NaN        NaN    NaN  "
      ]
     },
     "execution_count": 3,
     "metadata": {},
     "output_type": "execute_result"
    }
   ],
   "source": [
    "dt.head(5)"
   ]
  },
  {
   "cell_type": "code",
   "execution_count": 4,
   "id": "b1955544",
   "metadata": {
    "scrolled": true
   },
   "outputs": [
    {
     "name": "stdout",
     "output_type": "stream",
     "text": [
      "<class 'pandas.core.frame.DataFrame'>\n",
      "RangeIndex: 16715 entries, 0 to 16714\n",
      "Data columns (total 11 columns):\n",
      " #   Column           Non-Null Count  Dtype  \n",
      "---  ------           --------------  -----  \n",
      " 0   Name             16713 non-null  object \n",
      " 1   Platform         16715 non-null  object \n",
      " 2   Year_of_Release  16446 non-null  float64\n",
      " 3   Genre            16713 non-null  object \n",
      " 4   NA_sales         16715 non-null  float64\n",
      " 5   EU_sales         16715 non-null  float64\n",
      " 6   JP_sales         16715 non-null  float64\n",
      " 7   Other_sales      16715 non-null  float64\n",
      " 8   Critic_Score     8137 non-null   float64\n",
      " 9   User_Score       10014 non-null  object \n",
      " 10  Rating           9949 non-null   object \n",
      "dtypes: float64(6), object(5)\n",
      "memory usage: 1.4+ MB\n"
     ]
    }
   ],
   "source": [
    "dt.info()"
   ]
  },
  {
   "cell_type": "code",
   "execution_count": 5,
   "id": "636b1410",
   "metadata": {
    "scrolled": true
   },
   "outputs": [
    {
     "data": {
      "text/html": [
       "<div>\n",
       "<style scoped>\n",
       "    .dataframe tbody tr th:only-of-type {\n",
       "        vertical-align: middle;\n",
       "    }\n",
       "\n",
       "    .dataframe tbody tr th {\n",
       "        vertical-align: top;\n",
       "    }\n",
       "\n",
       "    .dataframe thead th {\n",
       "        text-align: right;\n",
       "    }\n",
       "</style>\n",
       "<table border=\"1\" class=\"dataframe\">\n",
       "  <thead>\n",
       "    <tr style=\"text-align: right;\">\n",
       "      <th></th>\n",
       "      <th>Year_of_Release</th>\n",
       "      <th>NA_sales</th>\n",
       "      <th>EU_sales</th>\n",
       "      <th>JP_sales</th>\n",
       "      <th>Other_sales</th>\n",
       "      <th>Critic_Score</th>\n",
       "    </tr>\n",
       "  </thead>\n",
       "  <tbody>\n",
       "    <tr>\n",
       "      <th>count</th>\n",
       "      <td>16446.000000</td>\n",
       "      <td>16715.000000</td>\n",
       "      <td>16715.000000</td>\n",
       "      <td>16715.000000</td>\n",
       "      <td>16715.000000</td>\n",
       "      <td>8137.000000</td>\n",
       "    </tr>\n",
       "    <tr>\n",
       "      <th>mean</th>\n",
       "      <td>2006.484616</td>\n",
       "      <td>0.263377</td>\n",
       "      <td>0.145060</td>\n",
       "      <td>0.077617</td>\n",
       "      <td>0.047342</td>\n",
       "      <td>68.967679</td>\n",
       "    </tr>\n",
       "    <tr>\n",
       "      <th>std</th>\n",
       "      <td>5.877050</td>\n",
       "      <td>0.813604</td>\n",
       "      <td>0.503339</td>\n",
       "      <td>0.308853</td>\n",
       "      <td>0.186731</td>\n",
       "      <td>13.938165</td>\n",
       "    </tr>\n",
       "    <tr>\n",
       "      <th>min</th>\n",
       "      <td>1980.000000</td>\n",
       "      <td>0.000000</td>\n",
       "      <td>0.000000</td>\n",
       "      <td>0.000000</td>\n",
       "      <td>0.000000</td>\n",
       "      <td>13.000000</td>\n",
       "    </tr>\n",
       "    <tr>\n",
       "      <th>25%</th>\n",
       "      <td>2003.000000</td>\n",
       "      <td>0.000000</td>\n",
       "      <td>0.000000</td>\n",
       "      <td>0.000000</td>\n",
       "      <td>0.000000</td>\n",
       "      <td>60.000000</td>\n",
       "    </tr>\n",
       "    <tr>\n",
       "      <th>50%</th>\n",
       "      <td>2007.000000</td>\n",
       "      <td>0.080000</td>\n",
       "      <td>0.020000</td>\n",
       "      <td>0.000000</td>\n",
       "      <td>0.010000</td>\n",
       "      <td>71.000000</td>\n",
       "    </tr>\n",
       "    <tr>\n",
       "      <th>75%</th>\n",
       "      <td>2010.000000</td>\n",
       "      <td>0.240000</td>\n",
       "      <td>0.110000</td>\n",
       "      <td>0.040000</td>\n",
       "      <td>0.030000</td>\n",
       "      <td>79.000000</td>\n",
       "    </tr>\n",
       "    <tr>\n",
       "      <th>max</th>\n",
       "      <td>2016.000000</td>\n",
       "      <td>41.360000</td>\n",
       "      <td>28.960000</td>\n",
       "      <td>10.220000</td>\n",
       "      <td>10.570000</td>\n",
       "      <td>98.000000</td>\n",
       "    </tr>\n",
       "  </tbody>\n",
       "</table>\n",
       "</div>"
      ],
      "text/plain": [
       "       Year_of_Release      NA_sales      EU_sales      JP_sales  \\\n",
       "count     16446.000000  16715.000000  16715.000000  16715.000000   \n",
       "mean       2006.484616      0.263377      0.145060      0.077617   \n",
       "std           5.877050      0.813604      0.503339      0.308853   \n",
       "min        1980.000000      0.000000      0.000000      0.000000   \n",
       "25%        2003.000000      0.000000      0.000000      0.000000   \n",
       "50%        2007.000000      0.080000      0.020000      0.000000   \n",
       "75%        2010.000000      0.240000      0.110000      0.040000   \n",
       "max        2016.000000     41.360000     28.960000     10.220000   \n",
       "\n",
       "        Other_sales  Critic_Score  \n",
       "count  16715.000000   8137.000000  \n",
       "mean       0.047342     68.967679  \n",
       "std        0.186731     13.938165  \n",
       "min        0.000000     13.000000  \n",
       "25%        0.000000     60.000000  \n",
       "50%        0.010000     71.000000  \n",
       "75%        0.030000     79.000000  \n",
       "max       10.570000     98.000000  "
      ]
     },
     "execution_count": 5,
     "metadata": {},
     "output_type": "execute_result"
    }
   ],
   "source": [
    "dt.describe()#проверяем на отрицательные значения"
   ]
  },
  {
   "cell_type": "code",
   "execution_count": 6,
   "id": "4877b831",
   "metadata": {},
   "outputs": [
    {
     "data": {
      "text/plain": [
       "0"
      ]
     },
     "execution_count": 6,
     "metadata": {},
     "output_type": "execute_result"
    }
   ],
   "source": [
    "dt.duplicated().sum()"
   ]
  },
  {
   "cell_type": "code",
   "execution_count": 7,
   "id": "5e63d8c6",
   "metadata": {},
   "outputs": [],
   "source": [
    "#Для начала переименуем столбцы\n",
    "dt.columns = dt.columns.str.lower()"
   ]
  },
  {
   "cell_type": "code",
   "execution_count": 8,
   "id": "b1590729",
   "metadata": {},
   "outputs": [
    {
     "data": {
      "text/html": [
       "<div>\n",
       "<style scoped>\n",
       "    .dataframe tbody tr th:only-of-type {\n",
       "        vertical-align: middle;\n",
       "    }\n",
       "\n",
       "    .dataframe tbody tr th {\n",
       "        vertical-align: top;\n",
       "    }\n",
       "\n",
       "    .dataframe thead th {\n",
       "        text-align: right;\n",
       "    }\n",
       "</style>\n",
       "<table border=\"1\" class=\"dataframe\">\n",
       "  <thead>\n",
       "    <tr style=\"text-align: right;\">\n",
       "      <th></th>\n",
       "      <th>name</th>\n",
       "      <th>platform</th>\n",
       "      <th>year_of_release</th>\n",
       "      <th>genre</th>\n",
       "      <th>na_sales</th>\n",
       "      <th>eu_sales</th>\n",
       "      <th>jp_sales</th>\n",
       "      <th>other_sales</th>\n",
       "      <th>critic_score</th>\n",
       "      <th>user_score</th>\n",
       "      <th>rating</th>\n",
       "    </tr>\n",
       "  </thead>\n",
       "  <tbody>\n",
       "    <tr>\n",
       "      <th>0</th>\n",
       "      <td>Wii Sports</td>\n",
       "      <td>Wii</td>\n",
       "      <td>2006.0</td>\n",
       "      <td>Sports</td>\n",
       "      <td>41.36</td>\n",
       "      <td>28.96</td>\n",
       "      <td>3.77</td>\n",
       "      <td>8.45</td>\n",
       "      <td>76.0</td>\n",
       "      <td>8</td>\n",
       "      <td>E</td>\n",
       "    </tr>\n",
       "    <tr>\n",
       "      <th>1</th>\n",
       "      <td>Super Mario Bros.</td>\n",
       "      <td>NES</td>\n",
       "      <td>1985.0</td>\n",
       "      <td>Platform</td>\n",
       "      <td>29.08</td>\n",
       "      <td>3.58</td>\n",
       "      <td>6.81</td>\n",
       "      <td>0.77</td>\n",
       "      <td>NaN</td>\n",
       "      <td>NaN</td>\n",
       "      <td>NaN</td>\n",
       "    </tr>\n",
       "    <tr>\n",
       "      <th>2</th>\n",
       "      <td>Mario Kart Wii</td>\n",
       "      <td>Wii</td>\n",
       "      <td>2008.0</td>\n",
       "      <td>Racing</td>\n",
       "      <td>15.68</td>\n",
       "      <td>12.76</td>\n",
       "      <td>3.79</td>\n",
       "      <td>3.29</td>\n",
       "      <td>82.0</td>\n",
       "      <td>8.3</td>\n",
       "      <td>E</td>\n",
       "    </tr>\n",
       "    <tr>\n",
       "      <th>3</th>\n",
       "      <td>Wii Sports Resort</td>\n",
       "      <td>Wii</td>\n",
       "      <td>2009.0</td>\n",
       "      <td>Sports</td>\n",
       "      <td>15.61</td>\n",
       "      <td>10.93</td>\n",
       "      <td>3.28</td>\n",
       "      <td>2.95</td>\n",
       "      <td>80.0</td>\n",
       "      <td>8</td>\n",
       "      <td>E</td>\n",
       "    </tr>\n",
       "    <tr>\n",
       "      <th>4</th>\n",
       "      <td>Pokemon Red/Pokemon Blue</td>\n",
       "      <td>GB</td>\n",
       "      <td>1996.0</td>\n",
       "      <td>Role-Playing</td>\n",
       "      <td>11.27</td>\n",
       "      <td>8.89</td>\n",
       "      <td>10.22</td>\n",
       "      <td>1.00</td>\n",
       "      <td>NaN</td>\n",
       "      <td>NaN</td>\n",
       "      <td>NaN</td>\n",
       "    </tr>\n",
       "  </tbody>\n",
       "</table>\n",
       "</div>"
      ],
      "text/plain": [
       "                       name platform  year_of_release         genre  na_sales  \\\n",
       "0                Wii Sports      Wii           2006.0        Sports     41.36   \n",
       "1         Super Mario Bros.      NES           1985.0      Platform     29.08   \n",
       "2            Mario Kart Wii      Wii           2008.0        Racing     15.68   \n",
       "3         Wii Sports Resort      Wii           2009.0        Sports     15.61   \n",
       "4  Pokemon Red/Pokemon Blue       GB           1996.0  Role-Playing     11.27   \n",
       "\n",
       "   eu_sales  jp_sales  other_sales  critic_score user_score rating  \n",
       "0     28.96      3.77         8.45          76.0          8      E  \n",
       "1      3.58      6.81         0.77           NaN        NaN    NaN  \n",
       "2     12.76      3.79         3.29          82.0        8.3      E  \n",
       "3     10.93      3.28         2.95          80.0          8      E  \n",
       "4      8.89     10.22         1.00           NaN        NaN    NaN  "
      ]
     },
     "execution_count": 8,
     "metadata": {},
     "output_type": "execute_result"
    }
   ],
   "source": [
    "dt.head(5)"
   ]
  },
  {
   "cell_type": "code",
   "execution_count": 9,
   "id": "2f678664",
   "metadata": {},
   "outputs": [
    {
     "data": {
      "text/plain": [
       "array([76., nan, 82., 80., 89., 58., 87., 91., 61., 97., 95., 77., 88.,\n",
       "       83., 94., 93., 85., 86., 98., 96., 90., 84., 73., 74., 78., 92.,\n",
       "       71., 72., 68., 62., 49., 67., 81., 66., 56., 79., 70., 59., 64.,\n",
       "       75., 60., 63., 69., 50., 25., 42., 44., 55., 48., 57., 29., 47.,\n",
       "       65., 54., 20., 53., 37., 38., 33., 52., 30., 32., 43., 45., 51.,\n",
       "       40., 46., 39., 34., 35., 41., 36., 28., 31., 27., 26., 19., 23.,\n",
       "       24., 21., 17., 22., 13.])"
      ]
     },
     "execution_count": 9,
     "metadata": {},
     "output_type": "execute_result"
    }
   ],
   "source": [
    "#Обнаружили что critic_score содержит в себе целые числа\n",
    "dt['critic_score'].unique()"
   ]
  },
  {
   "cell_type": "code",
   "execution_count": 10,
   "id": "c648e6ad",
   "metadata": {},
   "outputs": [],
   "source": [
    "#TBD - аббревиатура от английского To Be Determined (будет определено) или To Be Decided (будет решено)\n",
    "#Скорее всего либо не было отзывов вообше, либо их было очень мало для формирования рейтинга\n",
    "#Заменим значение \"tbd\" - \"to be determined\" на NaN\n",
    "dt['user_score'] = dt['user_score'].replace('tbd', np.NaN)\n",
    "dt['user_score'] = dt['user_score'].astype('float')"
   ]
  },
  {
   "cell_type": "code",
   "execution_count": 11,
   "id": "fd80b04c",
   "metadata": {},
   "outputs": [],
   "source": [
    "#Приведем годы и оценки критиков в целочисленный тип\n",
    "dt['year_of_release'] = dt['year_of_release'].astype('Int64')\n",
    "dt['critic_score'] = dt['critic_score'].astype('Int64')\n",
    "\n",
    "#Оценки пользователей приведем к типу float\n",
    "dt['user_score'] = dt['user_score'].astype('float64')"
   ]
  },
  {
   "cell_type": "code",
   "execution_count": 12,
   "id": "3a1b061a",
   "metadata": {},
   "outputs": [
    {
     "data": {
      "text/plain": [
       "name                  2\n",
       "platform              0\n",
       "year_of_release     269\n",
       "genre                 2\n",
       "na_sales              0\n",
       "eu_sales              0\n",
       "jp_sales              0\n",
       "other_sales           0\n",
       "critic_score       8578\n",
       "user_score         9125\n",
       "rating             6766\n",
       "dtype: int64"
      ]
     },
     "execution_count": 12,
     "metadata": {},
     "output_type": "execute_result"
    }
   ],
   "source": [
    "dt.isna().sum()"
   ]
  },
  {
   "cell_type": "code",
   "execution_count": 13,
   "id": "5be56430",
   "metadata": {},
   "outputs": [],
   "source": [
    "#Удалим пустые строки\n",
    "dt = dt.dropna(subset=['name', 'genre','year_of_release'])"
   ]
  },
  {
   "cell_type": "code",
   "execution_count": 14,
   "id": "c6836a96",
   "metadata": {},
   "outputs": [],
   "source": [
    "#Заменим пропущенные значения на \"undefiend\"\n",
    "dt[\"rating\"] = dt['rating'].fillna(\"undefined\")"
   ]
  },
  {
   "cell_type": "code",
   "execution_count": 15,
   "id": "711db9e7",
   "metadata": {},
   "outputs": [],
   "source": [
    "#Создадим отдельный столбец с суммой продаж по всем регионам 'total_sales'\n",
    "dt['total_sales'] = dt['na_sales'] + dt['eu_sales'] + dt['jp_sales'] + dt['other_sales']\n"
   ]
  },
  {
   "cell_type": "code",
   "execution_count": 16,
   "id": "21531cd9",
   "metadata": {
    "scrolled": true
   },
   "outputs": [
    {
     "data": {
      "text/html": [
       "<div>\n",
       "<style scoped>\n",
       "    .dataframe tbody tr th:only-of-type {\n",
       "        vertical-align: middle;\n",
       "    }\n",
       "\n",
       "    .dataframe tbody tr th {\n",
       "        vertical-align: top;\n",
       "    }\n",
       "\n",
       "    .dataframe thead th {\n",
       "        text-align: right;\n",
       "    }\n",
       "</style>\n",
       "<table border=\"1\" class=\"dataframe\">\n",
       "  <thead>\n",
       "    <tr style=\"text-align: right;\">\n",
       "      <th></th>\n",
       "      <th>name</th>\n",
       "      <th>platform</th>\n",
       "      <th>year_of_release</th>\n",
       "      <th>genre</th>\n",
       "      <th>na_sales</th>\n",
       "      <th>eu_sales</th>\n",
       "      <th>jp_sales</th>\n",
       "      <th>other_sales</th>\n",
       "      <th>critic_score</th>\n",
       "      <th>user_score</th>\n",
       "      <th>rating</th>\n",
       "      <th>total_sales</th>\n",
       "    </tr>\n",
       "  </thead>\n",
       "  <tbody>\n",
       "    <tr>\n",
       "      <th>0</th>\n",
       "      <td>Wii Sports</td>\n",
       "      <td>Wii</td>\n",
       "      <td>2006</td>\n",
       "      <td>Sports</td>\n",
       "      <td>41.36</td>\n",
       "      <td>28.96</td>\n",
       "      <td>3.77</td>\n",
       "      <td>8.45</td>\n",
       "      <td>76</td>\n",
       "      <td>8.0</td>\n",
       "      <td>E</td>\n",
       "      <td>82.54</td>\n",
       "    </tr>\n",
       "    <tr>\n",
       "      <th>1</th>\n",
       "      <td>Super Mario Bros.</td>\n",
       "      <td>NES</td>\n",
       "      <td>1985</td>\n",
       "      <td>Platform</td>\n",
       "      <td>29.08</td>\n",
       "      <td>3.58</td>\n",
       "      <td>6.81</td>\n",
       "      <td>0.77</td>\n",
       "      <td>&lt;NA&gt;</td>\n",
       "      <td>NaN</td>\n",
       "      <td>undefined</td>\n",
       "      <td>40.24</td>\n",
       "    </tr>\n",
       "    <tr>\n",
       "      <th>2</th>\n",
       "      <td>Mario Kart Wii</td>\n",
       "      <td>Wii</td>\n",
       "      <td>2008</td>\n",
       "      <td>Racing</td>\n",
       "      <td>15.68</td>\n",
       "      <td>12.76</td>\n",
       "      <td>3.79</td>\n",
       "      <td>3.29</td>\n",
       "      <td>82</td>\n",
       "      <td>8.3</td>\n",
       "      <td>E</td>\n",
       "      <td>35.52</td>\n",
       "    </tr>\n",
       "    <tr>\n",
       "      <th>3</th>\n",
       "      <td>Wii Sports Resort</td>\n",
       "      <td>Wii</td>\n",
       "      <td>2009</td>\n",
       "      <td>Sports</td>\n",
       "      <td>15.61</td>\n",
       "      <td>10.93</td>\n",
       "      <td>3.28</td>\n",
       "      <td>2.95</td>\n",
       "      <td>80</td>\n",
       "      <td>8.0</td>\n",
       "      <td>E</td>\n",
       "      <td>32.77</td>\n",
       "    </tr>\n",
       "    <tr>\n",
       "      <th>4</th>\n",
       "      <td>Pokemon Red/Pokemon Blue</td>\n",
       "      <td>GB</td>\n",
       "      <td>1996</td>\n",
       "      <td>Role-Playing</td>\n",
       "      <td>11.27</td>\n",
       "      <td>8.89</td>\n",
       "      <td>10.22</td>\n",
       "      <td>1.00</td>\n",
       "      <td>&lt;NA&gt;</td>\n",
       "      <td>NaN</td>\n",
       "      <td>undefined</td>\n",
       "      <td>31.38</td>\n",
       "    </tr>\n",
       "    <tr>\n",
       "      <th>5</th>\n",
       "      <td>Tetris</td>\n",
       "      <td>GB</td>\n",
       "      <td>1989</td>\n",
       "      <td>Puzzle</td>\n",
       "      <td>23.20</td>\n",
       "      <td>2.26</td>\n",
       "      <td>4.22</td>\n",
       "      <td>0.58</td>\n",
       "      <td>&lt;NA&gt;</td>\n",
       "      <td>NaN</td>\n",
       "      <td>undefined</td>\n",
       "      <td>30.26</td>\n",
       "    </tr>\n",
       "    <tr>\n",
       "      <th>6</th>\n",
       "      <td>New Super Mario Bros.</td>\n",
       "      <td>DS</td>\n",
       "      <td>2006</td>\n",
       "      <td>Platform</td>\n",
       "      <td>11.28</td>\n",
       "      <td>9.14</td>\n",
       "      <td>6.50</td>\n",
       "      <td>2.88</td>\n",
       "      <td>89</td>\n",
       "      <td>8.5</td>\n",
       "      <td>E</td>\n",
       "      <td>29.80</td>\n",
       "    </tr>\n",
       "    <tr>\n",
       "      <th>7</th>\n",
       "      <td>Wii Play</td>\n",
       "      <td>Wii</td>\n",
       "      <td>2006</td>\n",
       "      <td>Misc</td>\n",
       "      <td>13.96</td>\n",
       "      <td>9.18</td>\n",
       "      <td>2.93</td>\n",
       "      <td>2.84</td>\n",
       "      <td>58</td>\n",
       "      <td>6.6</td>\n",
       "      <td>E</td>\n",
       "      <td>28.91</td>\n",
       "    </tr>\n",
       "    <tr>\n",
       "      <th>8</th>\n",
       "      <td>New Super Mario Bros. Wii</td>\n",
       "      <td>Wii</td>\n",
       "      <td>2009</td>\n",
       "      <td>Platform</td>\n",
       "      <td>14.44</td>\n",
       "      <td>6.94</td>\n",
       "      <td>4.70</td>\n",
       "      <td>2.24</td>\n",
       "      <td>87</td>\n",
       "      <td>8.4</td>\n",
       "      <td>E</td>\n",
       "      <td>28.32</td>\n",
       "    </tr>\n",
       "    <tr>\n",
       "      <th>9</th>\n",
       "      <td>Duck Hunt</td>\n",
       "      <td>NES</td>\n",
       "      <td>1984</td>\n",
       "      <td>Shooter</td>\n",
       "      <td>26.93</td>\n",
       "      <td>0.63</td>\n",
       "      <td>0.28</td>\n",
       "      <td>0.47</td>\n",
       "      <td>&lt;NA&gt;</td>\n",
       "      <td>NaN</td>\n",
       "      <td>undefined</td>\n",
       "      <td>28.31</td>\n",
       "    </tr>\n",
       "    <tr>\n",
       "      <th>10</th>\n",
       "      <td>Nintendogs</td>\n",
       "      <td>DS</td>\n",
       "      <td>2005</td>\n",
       "      <td>Simulation</td>\n",
       "      <td>9.05</td>\n",
       "      <td>10.95</td>\n",
       "      <td>1.93</td>\n",
       "      <td>2.74</td>\n",
       "      <td>&lt;NA&gt;</td>\n",
       "      <td>NaN</td>\n",
       "      <td>undefined</td>\n",
       "      <td>24.67</td>\n",
       "    </tr>\n",
       "    <tr>\n",
       "      <th>11</th>\n",
       "      <td>Mario Kart DS</td>\n",
       "      <td>DS</td>\n",
       "      <td>2005</td>\n",
       "      <td>Racing</td>\n",
       "      <td>9.71</td>\n",
       "      <td>7.47</td>\n",
       "      <td>4.13</td>\n",
       "      <td>1.90</td>\n",
       "      <td>91</td>\n",
       "      <td>8.6</td>\n",
       "      <td>E</td>\n",
       "      <td>23.21</td>\n",
       "    </tr>\n",
       "    <tr>\n",
       "      <th>12</th>\n",
       "      <td>Pokemon Gold/Pokemon Silver</td>\n",
       "      <td>GB</td>\n",
       "      <td>1999</td>\n",
       "      <td>Role-Playing</td>\n",
       "      <td>9.00</td>\n",
       "      <td>6.18</td>\n",
       "      <td>7.20</td>\n",
       "      <td>0.71</td>\n",
       "      <td>&lt;NA&gt;</td>\n",
       "      <td>NaN</td>\n",
       "      <td>undefined</td>\n",
       "      <td>23.09</td>\n",
       "    </tr>\n",
       "    <tr>\n",
       "      <th>13</th>\n",
       "      <td>Wii Fit</td>\n",
       "      <td>Wii</td>\n",
       "      <td>2007</td>\n",
       "      <td>Sports</td>\n",
       "      <td>8.92</td>\n",
       "      <td>8.03</td>\n",
       "      <td>3.60</td>\n",
       "      <td>2.15</td>\n",
       "      <td>80</td>\n",
       "      <td>7.7</td>\n",
       "      <td>E</td>\n",
       "      <td>22.70</td>\n",
       "    </tr>\n",
       "    <tr>\n",
       "      <th>14</th>\n",
       "      <td>Kinect Adventures!</td>\n",
       "      <td>X360</td>\n",
       "      <td>2010</td>\n",
       "      <td>Misc</td>\n",
       "      <td>15.00</td>\n",
       "      <td>4.89</td>\n",
       "      <td>0.24</td>\n",
       "      <td>1.69</td>\n",
       "      <td>61</td>\n",
       "      <td>6.3</td>\n",
       "      <td>E</td>\n",
       "      <td>21.82</td>\n",
       "    </tr>\n",
       "    <tr>\n",
       "      <th>15</th>\n",
       "      <td>Wii Fit Plus</td>\n",
       "      <td>Wii</td>\n",
       "      <td>2009</td>\n",
       "      <td>Sports</td>\n",
       "      <td>9.01</td>\n",
       "      <td>8.49</td>\n",
       "      <td>2.53</td>\n",
       "      <td>1.77</td>\n",
       "      <td>80</td>\n",
       "      <td>7.4</td>\n",
       "      <td>E</td>\n",
       "      <td>21.80</td>\n",
       "    </tr>\n",
       "    <tr>\n",
       "      <th>16</th>\n",
       "      <td>Grand Theft Auto V</td>\n",
       "      <td>PS3</td>\n",
       "      <td>2013</td>\n",
       "      <td>Action</td>\n",
       "      <td>7.02</td>\n",
       "      <td>9.09</td>\n",
       "      <td>0.98</td>\n",
       "      <td>3.96</td>\n",
       "      <td>97</td>\n",
       "      <td>8.2</td>\n",
       "      <td>M</td>\n",
       "      <td>21.05</td>\n",
       "    </tr>\n",
       "    <tr>\n",
       "      <th>17</th>\n",
       "      <td>Grand Theft Auto: San Andreas</td>\n",
       "      <td>PS2</td>\n",
       "      <td>2004</td>\n",
       "      <td>Action</td>\n",
       "      <td>9.43</td>\n",
       "      <td>0.40</td>\n",
       "      <td>0.41</td>\n",
       "      <td>10.57</td>\n",
       "      <td>95</td>\n",
       "      <td>9.0</td>\n",
       "      <td>M</td>\n",
       "      <td>20.81</td>\n",
       "    </tr>\n",
       "    <tr>\n",
       "      <th>18</th>\n",
       "      <td>Super Mario World</td>\n",
       "      <td>SNES</td>\n",
       "      <td>1990</td>\n",
       "      <td>Platform</td>\n",
       "      <td>12.78</td>\n",
       "      <td>3.75</td>\n",
       "      <td>3.54</td>\n",
       "      <td>0.55</td>\n",
       "      <td>&lt;NA&gt;</td>\n",
       "      <td>NaN</td>\n",
       "      <td>undefined</td>\n",
       "      <td>20.62</td>\n",
       "    </tr>\n",
       "    <tr>\n",
       "      <th>19</th>\n",
       "      <td>Brain Age: Train Your Brain in Minutes a Day</td>\n",
       "      <td>DS</td>\n",
       "      <td>2005</td>\n",
       "      <td>Misc</td>\n",
       "      <td>4.74</td>\n",
       "      <td>9.20</td>\n",
       "      <td>4.16</td>\n",
       "      <td>2.04</td>\n",
       "      <td>77</td>\n",
       "      <td>7.9</td>\n",
       "      <td>E</td>\n",
       "      <td>20.14</td>\n",
       "    </tr>\n",
       "  </tbody>\n",
       "</table>\n",
       "</div>"
      ],
      "text/plain": [
       "                                            name platform  year_of_release  \\\n",
       "0                                     Wii Sports      Wii             2006   \n",
       "1                              Super Mario Bros.      NES             1985   \n",
       "2                                 Mario Kart Wii      Wii             2008   \n",
       "3                              Wii Sports Resort      Wii             2009   \n",
       "4                       Pokemon Red/Pokemon Blue       GB             1996   \n",
       "5                                         Tetris       GB             1989   \n",
       "6                          New Super Mario Bros.       DS             2006   \n",
       "7                                       Wii Play      Wii             2006   \n",
       "8                      New Super Mario Bros. Wii      Wii             2009   \n",
       "9                                      Duck Hunt      NES             1984   \n",
       "10                                    Nintendogs       DS             2005   \n",
       "11                                 Mario Kart DS       DS             2005   \n",
       "12                   Pokemon Gold/Pokemon Silver       GB             1999   \n",
       "13                                       Wii Fit      Wii             2007   \n",
       "14                            Kinect Adventures!     X360             2010   \n",
       "15                                  Wii Fit Plus      Wii             2009   \n",
       "16                            Grand Theft Auto V      PS3             2013   \n",
       "17                 Grand Theft Auto: San Andreas      PS2             2004   \n",
       "18                             Super Mario World     SNES             1990   \n",
       "19  Brain Age: Train Your Brain in Minutes a Day       DS             2005   \n",
       "\n",
       "           genre  na_sales  eu_sales  jp_sales  other_sales  critic_score  \\\n",
       "0         Sports     41.36     28.96      3.77         8.45            76   \n",
       "1       Platform     29.08      3.58      6.81         0.77          <NA>   \n",
       "2         Racing     15.68     12.76      3.79         3.29            82   \n",
       "3         Sports     15.61     10.93      3.28         2.95            80   \n",
       "4   Role-Playing     11.27      8.89     10.22         1.00          <NA>   \n",
       "5         Puzzle     23.20      2.26      4.22         0.58          <NA>   \n",
       "6       Platform     11.28      9.14      6.50         2.88            89   \n",
       "7           Misc     13.96      9.18      2.93         2.84            58   \n",
       "8       Platform     14.44      6.94      4.70         2.24            87   \n",
       "9        Shooter     26.93      0.63      0.28         0.47          <NA>   \n",
       "10    Simulation      9.05     10.95      1.93         2.74          <NA>   \n",
       "11        Racing      9.71      7.47      4.13         1.90            91   \n",
       "12  Role-Playing      9.00      6.18      7.20         0.71          <NA>   \n",
       "13        Sports      8.92      8.03      3.60         2.15            80   \n",
       "14          Misc     15.00      4.89      0.24         1.69            61   \n",
       "15        Sports      9.01      8.49      2.53         1.77            80   \n",
       "16        Action      7.02      9.09      0.98         3.96            97   \n",
       "17        Action      9.43      0.40      0.41        10.57            95   \n",
       "18      Platform     12.78      3.75      3.54         0.55          <NA>   \n",
       "19          Misc      4.74      9.20      4.16         2.04            77   \n",
       "\n",
       "    user_score     rating  total_sales  \n",
       "0          8.0          E        82.54  \n",
       "1          NaN  undefined        40.24  \n",
       "2          8.3          E        35.52  \n",
       "3          8.0          E        32.77  \n",
       "4          NaN  undefined        31.38  \n",
       "5          NaN  undefined        30.26  \n",
       "6          8.5          E        29.80  \n",
       "7          6.6          E        28.91  \n",
       "8          8.4          E        28.32  \n",
       "9          NaN  undefined        28.31  \n",
       "10         NaN  undefined        24.67  \n",
       "11         8.6          E        23.21  \n",
       "12         NaN  undefined        23.09  \n",
       "13         7.7          E        22.70  \n",
       "14         6.3          E        21.82  \n",
       "15         7.4          E        21.80  \n",
       "16         8.2          M        21.05  \n",
       "17         9.0          M        20.81  \n",
       "18         NaN  undefined        20.62  \n",
       "19         7.9          E        20.14  "
      ]
     },
     "execution_count": 16,
     "metadata": {},
     "output_type": "execute_result"
    }
   ],
   "source": [
    "dt.head(20)"
   ]
  },
  {
   "cell_type": "code",
   "execution_count": 17,
   "id": "72e138f7",
   "metadata": {},
   "outputs": [
    {
     "data": {
      "text/plain": [
       "name                  0\n",
       "platform              0\n",
       "year_of_release       0\n",
       "genre                 0\n",
       "na_sales              0\n",
       "eu_sales              0\n",
       "jp_sales              0\n",
       "other_sales           0\n",
       "critic_score       8461\n",
       "user_score         8981\n",
       "rating                0\n",
       "total_sales           0\n",
       "dtype: int64"
      ]
     },
     "execution_count": 17,
     "metadata": {},
     "output_type": "execute_result"
    }
   ],
   "source": [
    "dt.isna().sum()#проверяем пропуски"
   ]
  },
  {
   "cell_type": "markdown",
   "id": "a4f3ac44",
   "metadata": {},
   "source": [
    "### Вывод:\n",
    "**Самые явные пропуски обработали и заменили.Названия столбцов привели к общему виду.\n",
    "Пропуски в названии игр и жанре мы удалили,скорее всего ошибочное заполнение.\n",
    "Большое количество пропусков в critic_score и user_score связано скорее всего с играми где еще не сформирован рейтинг(новые игры,игры еще до рейтинговой системы(старые)).\n",
    "Есть пропуски в годе выпуска,но заменить их чем либо мы не можем**"
   ]
  },
  {
   "cell_type": "code",
   "execution_count": 18,
   "id": "43080739",
   "metadata": {},
   "outputs": [
    {
     "name": "stdout",
     "output_type": "stream",
     "text": [
      "<class 'pandas.core.frame.DataFrame'>\n",
      "Int64Index: 16444 entries, 0 to 16714\n",
      "Data columns (total 12 columns):\n",
      " #   Column           Non-Null Count  Dtype  \n",
      "---  ------           --------------  -----  \n",
      " 0   name             16444 non-null  object \n",
      " 1   platform         16444 non-null  object \n",
      " 2   year_of_release  16444 non-null  Int64  \n",
      " 3   genre            16444 non-null  object \n",
      " 4   na_sales         16444 non-null  float64\n",
      " 5   eu_sales         16444 non-null  float64\n",
      " 6   jp_sales         16444 non-null  float64\n",
      " 7   other_sales      16444 non-null  float64\n",
      " 8   critic_score     7983 non-null   Int64  \n",
      " 9   user_score       7463 non-null   float64\n",
      " 10  rating           16444 non-null  object \n",
      " 11  total_sales      16444 non-null  float64\n",
      "dtypes: Int64(2), float64(6), object(4)\n",
      "memory usage: 1.7+ MB\n",
      "None\n",
      "-------------------------\n",
      "name [' Beyblade Burst' ' Fire Emblem Fates' \" Frozen: Olaf's Quest\" ...\n",
      " 'uDraw Studio' 'uDraw Studio: Instant Artist'\n",
      " '¡Shin Chan Flipa en colores!']\n",
      "name : кол-во NaN 0 , процент NaN 0.0 %\n",
      "-------------------------\n",
      "platform ['2600' '3DO' '3DS' 'DC' 'DS' 'GB' 'GBA' 'GC' 'GEN' 'GG' 'N64' 'NES' 'NG'\n",
      " 'PC' 'PCFX' 'PS' 'PS2' 'PS3' 'PS4' 'PSP' 'PSV' 'SAT' 'SCD' 'SNES' 'TG16'\n",
      " 'WS' 'Wii' 'WiiU' 'X360' 'XB' 'XOne']\n",
      "platform : кол-во NaN 0 , процент NaN 0.0 %\n",
      "-------------------------\n",
      "year_of_release <IntegerArray>\n",
      "[1980, 1981, 1982, 1983, 1984, 1985, 1986, 1987, 1988, 1989, 1990, 1991, 1992,\n",
      " 1993, 1994, 1995, 1996, 1997, 1998, 1999, 2000, 2001, 2002, 2003, 2004, 2005,\n",
      " 2006, 2007, 2008, 2009, 2010, 2011, 2012, 2013, 2014, 2015, 2016]\n",
      "Length: 37, dtype: Int64\n",
      "year_of_release : кол-во NaN 0 , процент NaN 0.0 %\n",
      "-------------------------\n",
      "genre ['Action' 'Adventure' 'Fighting' 'Misc' 'Platform' 'Puzzle' 'Racing'\n",
      " 'Role-Playing' 'Shooter' 'Simulation' 'Sports' 'Strategy']\n",
      "genre : кол-во NaN 0 , процент NaN 0.0 %\n",
      "-------------------------\n",
      "critic_score <IntegerArray>\n",
      "[  13,   17,   19,   20,   21,   23,   24,   25,   26,   27,   28,   29,   30,\n",
      "   31,   32,   33,   34,   35,   36,   37,   38,   39,   40,   41,   42,   43,\n",
      "   44,   45,   46,   47,   48,   49,   50,   51,   52,   53,   54,   55,   56,\n",
      "   57,   58,   59,   60,   61,   62,   63,   64,   65,   66,   67,   68,   69,\n",
      "   70,   71,   72,   73,   74,   75,   76,   77,   78,   79,   80,   81,   82,\n",
      "   83,   84,   85,   86,   87,   88,   89,   90,   91,   92,   93,   94,   95,\n",
      "   96,   97,   98, <NA>]\n",
      "Length: 82, dtype: Int64\n",
      "critic_score : кол-во NaN 8461 , процент NaN 51.45 %\n",
      "-------------------------\n",
      "user_score [0.  0.2 0.3 0.5 0.6 0.7 0.9 1.  1.1 1.2 1.3 1.4 1.5 1.6 1.7 1.8 1.9 2.\n",
      " 2.1 2.2 2.3 2.4 2.5 2.6 2.7 2.8 2.9 3.  3.1 3.2 3.3 3.4 3.5 3.6 3.7 3.8\n",
      " 3.9 4.  4.1 4.2 4.3 4.4 4.5 4.6 4.7 4.8 4.9 5.  5.1 5.2 5.3 5.4 5.5 5.6\n",
      " 5.7 5.8 5.9 6.  6.1 6.2 6.3 6.4 6.5 6.6 6.7 6.8 6.9 7.  7.1 7.2 7.3 7.4\n",
      " 7.5 7.6 7.7 7.8 7.9 8.  8.1 8.2 8.3 8.4 8.5 8.6 8.7 8.8 8.9 9.  9.1 9.2\n",
      " 9.3 9.4 9.5 9.6 9.7 nan]\n",
      "user_score : кол-во NaN 8981 , процент NaN 54.62 %\n",
      "-------------------------\n",
      "rating ['AO' 'E' 'E10+' 'EC' 'K-A' 'M' 'RP' 'T' 'undefined']\n",
      "rating : кол-во NaN 0 , процент NaN 0.0 %\n"
     ]
    }
   ],
   "source": [
    "# Комментарий ревьюера\n",
    "# Посмотрим, что у нас осталось\n",
    "temp = dt.copy() \n",
    "list_c = ['name', 'platform', 'year_of_release', 'genre', 'critic_score', 'user_score', 'rating']\n",
    "print(temp.info())\n",
    "for col_l in list_c:\n",
    "  print('-'* 25)\n",
    "  print(col_l, temp[col_l].sort_values().unique())\n",
    "  print(col_l,': кол-во NaN',temp[col_l].isna().sum(),\n",
    "        ', процент NaN', round(temp[col_l].isna().sum()/len(temp)*100, 2),'%')"
   ]
  },
  {
   "cell_type": "markdown",
   "id": "66cc3cf3",
   "metadata": {},
   "source": [
    "## 2. Проведите исследовательский анализ данных\n",
    "\n",
    "- Посмотрите, сколько игр выпускалось в разные годы. Важны ли данные за все периоды?\n",
    "- Посмотрите, как менялись продажи по платформам. Выберите платформы с наибольшими суммарными продажами и постройте распределение по годам. За какой характерный срок появляются новые и исчезают старые платформы?\n",
    "- Возьмите данные за соответствующий актуальный период. Актуальный период определите самостоятельно в результате исследования предыдущих вопросов. Основной фактор — эти данные помогут построить прогноз на 2017 год.\n",
    "- Не учитывайте в работе данные за предыдущие годы.\n",
    "- Какие платформы лидируют по продажам, растут или падают? Выберите несколько потенциально прибыльных платформ.\n",
    "- Постройте график «ящик с усами» по глобальным продажам игр в разбивке по платформам. Опишите результат.\n",
    "- Посмотрите, как влияют на продажи внутри одной популярной платформы отзывы пользователей и критиков. Постройте диаграмму рассеяния и посчитайте корреляцию между отзывами и продажами. Сформулируйте выводы.\n",
    "- Соотнесите выводы с продажами игр на других платформах.\n",
    "- Посмотрите на общее распределение игр по жанрам. Что можно сказать о самых прибыльных жанрах? Выделяются ли жанры с высокими и низкими продажами?"
   ]
  },
  {
   "cell_type": "code",
   "execution_count": 19,
   "id": "4106a403",
   "metadata": {
    "scrolled": true
   },
   "outputs": [
    {
     "data": {
      "image/png": "[encoded data removed]",
      "text/plain": [
       "<Figure size 864x432 with 1 Axes>"
      ]
     },
     "metadata": {
      "needs_background": "light"
     },
     "output_type": "display_data"
    }
   ],
   "source": [
    "#Посмотрим, сколько игр выпускалось в разные годы. Важны ли данные за все периоды?\n",
    "dt.pivot_table(index='year_of_release',values='name',aggfunc='count').plot(y='name', kind='bar',ylabel='Количество продаж',xlabel='Год выпуска',figsize=(12,6));"
   ]
  },
  {
   "cell_type": "markdown",
   "id": "4a90f53c",
   "metadata": {},
   "source": [
    "Видим что игр до 1994 выпускалось мало из-за малых мощностей комрьютеров и малого количества консолей в принципе.\n",
    "Резкий скачок по количеству игр, выпущенных в год, произошел в 2002 году. Пик - 2008-2009 года. После этого начался спад, связанный с развитием мобильных устройств, интеграция соц. сетей в жизнь людей. Это всё привело к тому, что интерес к самим играм упал, соответственно, упало и их производство."
   ]
  },
  {
   "cell_type": "code",
   "execution_count": 20,
   "id": "b7e9eadf",
   "metadata": {
    "scrolled": true
   },
   "outputs": [
    {
     "data": {
      "image/png": "[encoded data removed]",
      "text/plain": [
       "<Figure size 864x432 with 1 Axes>"
      ]
     },
     "metadata": {
      "needs_background": "light"
     },
     "output_type": "display_data"
    }
   ],
   "source": [
    "dt.pivot_table(index='platform',values='total_sales',aggfunc='sum').sort_values(by='total_sales', ascending=False).plot(y='total_sales', kind='bar',ylabel='Количество продаж',xlabel='Платформа',figsize=(12,6));"
   ]
  },
  {
   "cell_type": "markdown",
   "id": "e36f6bd3",
   "metadata": {},
   "source": [
    "С учетом того, что это статистика до 2016 года - безусловным лидером является платформа PS2. PS3 еще не набрала популярность,да и пик выпуска игр пришелся на PS2. Далее идут Xbox360 и Wii."
   ]
  },
  {
   "cell_type": "code",
   "execution_count": 21,
   "id": "12316207",
   "metadata": {
    "scrolled": false
   },
   "outputs": [
    {
     "data": {
      "text/html": [
       "<div>\n",
       "<style scoped>\n",
       "    .dataframe tbody tr th:only-of-type {\n",
       "        vertical-align: middle;\n",
       "    }\n",
       "\n",
       "    .dataframe tbody tr th {\n",
       "        vertical-align: top;\n",
       "    }\n",
       "\n",
       "    .dataframe thead th {\n",
       "        text-align: right;\n",
       "    }\n",
       "</style>\n",
       "<table border=\"1\" class=\"dataframe\">\n",
       "  <thead>\n",
       "    <tr style=\"text-align: right;\">\n",
       "      <th></th>\n",
       "      <th>platform</th>\n",
       "      <th>total_sales</th>\n",
       "    </tr>\n",
       "  </thead>\n",
       "  <tbody>\n",
       "    <tr>\n",
       "      <th>0</th>\n",
       "      <td>PS2</td>\n",
       "      <td>1233.56</td>\n",
       "    </tr>\n",
       "    <tr>\n",
       "      <th>1</th>\n",
       "      <td>X360</td>\n",
       "      <td>961.24</td>\n",
       "    </tr>\n",
       "    <tr>\n",
       "      <th>2</th>\n",
       "      <td>PS3</td>\n",
       "      <td>931.34</td>\n",
       "    </tr>\n",
       "    <tr>\n",
       "      <th>3</th>\n",
       "      <td>Wii</td>\n",
       "      <td>891.18</td>\n",
       "    </tr>\n",
       "    <tr>\n",
       "      <th>4</th>\n",
       "      <td>DS</td>\n",
       "      <td>802.78</td>\n",
       "    </tr>\n",
       "  </tbody>\n",
       "</table>\n",
       "</div>"
      ],
      "text/plain": [
       "  platform  total_sales\n",
       "0      PS2      1233.56\n",
       "1     X360       961.24\n",
       "2      PS3       931.34\n",
       "3      Wii       891.18\n",
       "4       DS       802.78"
      ]
     },
     "execution_count": 21,
     "metadata": {},
     "output_type": "execute_result"
    }
   ],
   "source": [
    "# Создадим свою таблицу по платформам и их обшим продажам. отсортируем их по убыванию и оставим только топ 5.\n",
    "top_5_platforms = dt.pivot_table(index='platform', values='total_sales', aggfunc='sum').sort_values(by='total_sales', ascending=False).head(5)\n",
    "top_5_platforms = top_5_platforms.reset_index().rename_axis(None, axis=1)\n",
    "top_5_platforms#посмотрим топ 5"
   ]
  },
  {
   "cell_type": "code",
   "execution_count": 60,
   "id": "9812f86f",
   "metadata": {
    "scrolled": false
   },
   "outputs": [
    {
     "data": {
      "image/png": "[encoded data removed]",
      "text/plain": [
       "<Figure size 1080x360 with 1 Axes>"
      ]
     },
     "metadata": {
      "needs_background": "light"
     },
     "output_type": "display_data"
    },
    {
     "data": {
      "image/png": "[encoded data removed]",
      "text/plain": [
       "<Figure size 1080x360 with 1 Axes>"
      ]
     },
     "metadata": {
      "needs_background": "light"
     },
     "output_type": "display_data"
    },
    {
     "data": {
      "image/png": "[encoded data removed]",
      "text/plain": [
       "<Figure size 1080x360 with 1 Axes>"
      ]
     },
     "metadata": {
      "needs_background": "light"
     },
     "output_type": "display_data"
    },
    {
     "data": {
      "image/png": "[encoded data removed]",
      "text/plain": [
       "<Figure size 1080x360 with 1 Axes>"
      ]
     },
     "metadata": {
      "needs_background": "light"
     },
     "output_type": "display_data"
    },
    {
     "data": {
      "image/png": "[encoded data removed]",
      "text/plain": [
       "<Figure size 1080x360 with 1 Axes>"
      ]
     },
     "metadata": {
      "needs_background": "light"
     },
     "output_type": "display_data"
    }
   ],
   "source": [
    "top_platforms = dt.pivot_table(index='platform', values='total_sales', aggfunc='sum').sort_values(by='total_sales', ascending=False).head(5)\n",
    "for platform in top_platforms.index:\n",
    "    dt[dt['platform'] == platform].pivot_table(index = 'year_of_release', values = 'total_sales', aggfunc = 'sum').plot(kind = 'bar', figsize=(15,5))\n",
    "    plt.title(platform)"
   ]
  },
  {
   "cell_type": "markdown",
   "id": "9bb21310",
   "metadata": {},
   "source": [
    "### Вывод:\n",
    "\n",
    "Можно заметить, что каждая из платформ 'прожила' примерно по 10 лет\n",
    "\n",
    "Практически все игровые платформы в среднем существуют по 10 лет. \n",
    "Самые высокие продажи у PS и XBox.\n",
    "У WII был резкий скачок продаж,затем такое же резкое снижение."
   ]
  },
  {
   "cell_type": "code",
   "execution_count": 23,
   "id": "a8d8a627",
   "metadata": {},
   "outputs": [],
   "source": [
    "actual_data_all = dt.query('year_of_release >= 2006')\n",
    "actual_data = dt.query('year_of_release >= 2013')"
   ]
  },
  {
   "cell_type": "code",
   "execution_count": 24,
   "id": "884da074",
   "metadata": {
    "scrolled": true
   },
   "outputs": [
    {
     "data": {
      "image/png": "[encoded data removed]",
      "text/plain": [
       "<Figure size 864x432 with 1 Axes>"
      ]
     },
     "metadata": {
      "needs_background": "light"
     },
     "output_type": "display_data"
    }
   ],
   "source": [
    "actual_data_all.pivot_table(index = 'name', columns = 'platform', values = 'total_sales', aggfunc = 'sum').plot(kind='box', ylim=(0,1.9),figsize=(12,6),title='Ящик с усами',xlabel='Платформа',ylabel='Глобальные продажи');"
   ]
  },
  {
   "cell_type": "code",
   "execution_count": 25,
   "id": "fc0d06a5",
   "metadata": {
    "scrolled": true
   },
   "outputs": [
    {
     "data": {
      "image/png": "[encoded data removed]",
      "text/plain": [
       "<Figure size 864x432 with 1 Axes>"
      ]
     },
     "metadata": {
      "needs_background": "light"
     },
     "output_type": "display_data"
    }
   ],
   "source": [
    "actual_data.pivot_table(index = 'name', columns = 'platform', values = 'total_sales', aggfunc = 'sum').plot(kind='box', ylim=(0,1.9),figsize=(12,6),title='Ящик с усами',xlabel='Платформа',ylabel='Глобальные продажи');"
   ]
  },
  {
   "cell_type": "markdown",
   "id": "db4ec5f6",
   "metadata": {},
   "source": [
    "### Вывод:\n",
    "На ящике с усами видим,что также высокие показатели продаж у Xone.В предыдущее исследование не попала по причине малого выпуска количества игр на данную консоль.Добавим XOne в список потенциально прибыльных."
   ]
  },
  {
   "cell_type": "code",
   "execution_count": 26,
   "id": "6f6fe081",
   "metadata": {},
   "outputs": [
    {
     "name": "stdout",
     "output_type": "stream",
     "text": [
      "<class 'pandas.core.frame.DataFrame'>\n",
      "Int64Index: 2233 entries, 16 to 16714\n",
      "Data columns (total 12 columns):\n",
      " #   Column           Non-Null Count  Dtype  \n",
      "---  ------           --------------  -----  \n",
      " 0   name             2233 non-null   object \n",
      " 1   platform         2233 non-null   object \n",
      " 2   year_of_release  2233 non-null   Int64  \n",
      " 3   genre            2233 non-null   object \n",
      " 4   na_sales         2233 non-null   float64\n",
      " 5   eu_sales         2233 non-null   float64\n",
      " 6   jp_sales         2233 non-null   float64\n",
      " 7   other_sales      2233 non-null   float64\n",
      " 8   critic_score     991 non-null    Int64  \n",
      " 9   user_score       1192 non-null   float64\n",
      " 10  rating           2233 non-null   object \n",
      " 11  total_sales      2233 non-null   float64\n",
      "dtypes: Int64(2), float64(6), object(4)\n",
      "memory usage: 231.2+ KB\n"
     ]
    }
   ],
   "source": [
    "actual_data.info()"
   ]
  },
  {
   "cell_type": "code",
   "execution_count": 27,
   "id": "6f7621ae",
   "metadata": {},
   "outputs": [
    {
     "data": {
      "text/html": [
       "<div>\n",
       "<style scoped>\n",
       "    .dataframe tbody tr th:only-of-type {\n",
       "        vertical-align: middle;\n",
       "    }\n",
       "\n",
       "    .dataframe tbody tr th {\n",
       "        vertical-align: top;\n",
       "    }\n",
       "\n",
       "    .dataframe thead th {\n",
       "        text-align: right;\n",
       "    }\n",
       "</style>\n",
       "<table border=\"1\" class=\"dataframe\">\n",
       "  <thead>\n",
       "    <tr style=\"text-align: right;\">\n",
       "      <th></th>\n",
       "      <th>critic_score</th>\n",
       "      <th>user_score</th>\n",
       "      <th>total_sales</th>\n",
       "    </tr>\n",
       "  </thead>\n",
       "  <tbody>\n",
       "    <tr>\n",
       "      <th>critic_score</th>\n",
       "      <td>1.000000</td>\n",
       "      <td>0.472462</td>\n",
       "      <td>0.416998</td>\n",
       "    </tr>\n",
       "    <tr>\n",
       "      <th>user_score</th>\n",
       "      <td>0.472462</td>\n",
       "      <td>1.000000</td>\n",
       "      <td>-0.068925</td>\n",
       "    </tr>\n",
       "    <tr>\n",
       "      <th>total_sales</th>\n",
       "      <td>0.416998</td>\n",
       "      <td>-0.068925</td>\n",
       "      <td>1.000000</td>\n",
       "    </tr>\n",
       "  </tbody>\n",
       "</table>\n",
       "</div>"
      ],
      "text/plain": [
       "              critic_score  user_score  total_sales\n",
       "critic_score      1.000000    0.472462     0.416998\n",
       "user_score        0.472462    1.000000    -0.068925\n",
       "total_sales       0.416998   -0.068925     1.000000"
      ]
     },
     "execution_count": 27,
     "metadata": {},
     "output_type": "execute_result"
    }
   ],
   "source": [
    "XOne = actual_data.query('platform == \"XOne\"')#посмотрим корреляцию оценок критиков и пользователей\n",
    "XOne_cor = XOne[['critic_score','user_score', 'total_sales']]\n",
    "XOne_cor.corr()"
   ]
  },
  {
   "cell_type": "code",
   "execution_count": 28,
   "id": "da303bca",
   "metadata": {
    "scrolled": false
   },
   "outputs": [
    {
     "data": {
      "image/png": "[encoded data removed]",
      "text/plain": [
       "<Figure size 432x288 with 1 Axes>"
      ]
     },
     "metadata": {
      "needs_background": "light"
     },
     "output_type": "display_data"
    }
   ],
   "source": [
    "XOne.plot(x='user_score', y='total_sales', kind='scatter');#построим диаграмму рассивания"
   ]
  },
  {
   "cell_type": "code",
   "execution_count": 29,
   "id": "9e2e0762",
   "metadata": {},
   "outputs": [
    {
     "data": {
      "image/png": "[encoded data removed]",
      "text/plain": [
       "<Figure size 432x288 with 1 Axes>"
      ]
     },
     "metadata": {
      "needs_background": "light"
     },
     "output_type": "display_data"
    }
   ],
   "source": [
    "XOne.plot(x='critic_score', y='total_sales', kind='scatter');"
   ]
  },
  {
   "cell_type": "code",
   "execution_count": 30,
   "id": "d82c4e3c",
   "metadata": {},
   "outputs": [],
   "source": [
    "PS4 = actual_data.query('platform == \"PS4\"')\n",
    "PC = actual_data.query('platform == \"PC\"')\n",
    "Wii = actual_data.query('platform == \"Wii\"')\n",
    "X360 = actual_data.query('platform == \"X360\"')\n",
    "WiiU = actual_data.query('platform == \"WiiU\"')"
   ]
  },
  {
   "cell_type": "code",
   "execution_count": 31,
   "id": "cb8b023a",
   "metadata": {
    "scrolled": false
   },
   "outputs": [
    {
     "data": {
      "text/html": [
       "<div>\n",
       "<style scoped>\n",
       "    .dataframe tbody tr th:only-of-type {\n",
       "        vertical-align: middle;\n",
       "    }\n",
       "\n",
       "    .dataframe tbody tr th {\n",
       "        vertical-align: top;\n",
       "    }\n",
       "\n",
       "    .dataframe thead th {\n",
       "        text-align: right;\n",
       "    }\n",
       "</style>\n",
       "<table border=\"1\" class=\"dataframe\">\n",
       "  <thead>\n",
       "    <tr style=\"text-align: right;\">\n",
       "      <th></th>\n",
       "      <th>critic_score</th>\n",
       "      <th>user_score</th>\n",
       "      <th>total_sales</th>\n",
       "    </tr>\n",
       "  </thead>\n",
       "  <tbody>\n",
       "    <tr>\n",
       "      <th>critic_score</th>\n",
       "      <td>1.000000</td>\n",
       "      <td>0.429562</td>\n",
       "      <td>0.196030</td>\n",
       "    </tr>\n",
       "    <tr>\n",
       "      <th>user_score</th>\n",
       "      <td>0.429562</td>\n",
       "      <td>1.000000</td>\n",
       "      <td>-0.093842</td>\n",
       "    </tr>\n",
       "    <tr>\n",
       "      <th>total_sales</th>\n",
       "      <td>0.196030</td>\n",
       "      <td>-0.093842</td>\n",
       "      <td>1.000000</td>\n",
       "    </tr>\n",
       "  </tbody>\n",
       "</table>\n",
       "</div>"
      ],
      "text/plain": [
       "              critic_score  user_score  total_sales\n",
       "critic_score      1.000000    0.429562     0.196030\n",
       "user_score        0.429562    1.000000    -0.093842\n",
       "total_sales       0.196030   -0.093842     1.000000"
      ]
     },
     "execution_count": 31,
     "metadata": {},
     "output_type": "execute_result"
    }
   ],
   "source": [
    "PC_cor = PC[['critic_score','user_score', 'total_sales']]\n",
    "PC_cor.corr()"
   ]
  },
  {
   "cell_type": "code",
   "execution_count": 32,
   "id": "95bdca4a",
   "metadata": {},
   "outputs": [
    {
     "data": {
      "image/png": "[encoded data removed]",
      "text/plain": [
       "<Figure size 432x288 with 1 Axes>"
      ]
     },
     "metadata": {
      "needs_background": "light"
     },
     "output_type": "display_data"
    },
    {
     "data": {
      "image/png": "[encoded data removed]",
      "text/plain": [
       "<Figure size 432x288 with 1 Axes>"
      ]
     },
     "metadata": {
      "needs_background": "light"
     },
     "output_type": "display_data"
    }
   ],
   "source": [
    "PC.plot(x='user_score', y='total_sales', kind='scatter');\n",
    "PC.plot(x='critic_score', y='total_sales', kind='scatter');"
   ]
  },
  {
   "cell_type": "code",
   "execution_count": 33,
   "id": "e1c1e6e0",
   "metadata": {},
   "outputs": [
    {
     "data": {
      "text/html": [
       "<div>\n",
       "<style scoped>\n",
       "    .dataframe tbody tr th:only-of-type {\n",
       "        vertical-align: middle;\n",
       "    }\n",
       "\n",
       "    .dataframe tbody tr th {\n",
       "        vertical-align: top;\n",
       "    }\n",
       "\n",
       "    .dataframe thead th {\n",
       "        text-align: right;\n",
       "    }\n",
       "</style>\n",
       "<table border=\"1\" class=\"dataframe\">\n",
       "  <thead>\n",
       "    <tr style=\"text-align: right;\">\n",
       "      <th></th>\n",
       "      <th>critic_score</th>\n",
       "      <th>user_score</th>\n",
       "      <th>total_sales</th>\n",
       "    </tr>\n",
       "  </thead>\n",
       "  <tbody>\n",
       "    <tr>\n",
       "      <th>critic_score</th>\n",
       "      <td>1.000000</td>\n",
       "      <td>0.557654</td>\n",
       "      <td>0.406568</td>\n",
       "    </tr>\n",
       "    <tr>\n",
       "      <th>user_score</th>\n",
       "      <td>0.557654</td>\n",
       "      <td>1.000000</td>\n",
       "      <td>-0.031957</td>\n",
       "    </tr>\n",
       "    <tr>\n",
       "      <th>total_sales</th>\n",
       "      <td>0.406568</td>\n",
       "      <td>-0.031957</td>\n",
       "      <td>1.000000</td>\n",
       "    </tr>\n",
       "  </tbody>\n",
       "</table>\n",
       "</div>"
      ],
      "text/plain": [
       "              critic_score  user_score  total_sales\n",
       "critic_score      1.000000    0.557654     0.406568\n",
       "user_score        0.557654    1.000000    -0.031957\n",
       "total_sales       0.406568   -0.031957     1.000000"
      ]
     },
     "execution_count": 33,
     "metadata": {},
     "output_type": "execute_result"
    }
   ],
   "source": [
    "PS4_cor = PS4[['critic_score','user_score', 'total_sales']]\n",
    "PS4_cor.corr()"
   ]
  },
  {
   "cell_type": "code",
   "execution_count": 34,
   "id": "4feb5029",
   "metadata": {
    "scrolled": false
   },
   "outputs": [
    {
     "data": {
      "image/png": "[encoded data removed]",
      "text/plain": [
       "<Figure size 432x288 with 1 Axes>"
      ]
     },
     "metadata": {
      "needs_background": "light"
     },
     "output_type": "display_data"
    },
    {
     "data": {
      "image/png": "[encoded data removed]",
      "text/plain": [
       "<Figure size 432x288 with 1 Axes>"
      ]
     },
     "metadata": {
      "needs_background": "light"
     },
     "output_type": "display_data"
    }
   ],
   "source": [
    "PS4.plot(x='user_score', y='total_sales', kind='scatter');\n",
    "PS4.plot(x='critic_score', y='total_sales', kind='scatter');"
   ]
  },
  {
   "cell_type": "code",
   "execution_count": 35,
   "id": "2bcdb7e3",
   "metadata": {},
   "outputs": [
    {
     "data": {
      "text/html": [
       "<div>\n",
       "<style scoped>\n",
       "    .dataframe tbody tr th:only-of-type {\n",
       "        vertical-align: middle;\n",
       "    }\n",
       "\n",
       "    .dataframe tbody tr th {\n",
       "        vertical-align: top;\n",
       "    }\n",
       "\n",
       "    .dataframe thead th {\n",
       "        text-align: right;\n",
       "    }\n",
       "</style>\n",
       "<table border=\"1\" class=\"dataframe\">\n",
       "  <thead>\n",
       "    <tr style=\"text-align: right;\">\n",
       "      <th></th>\n",
       "      <th>critic_score</th>\n",
       "      <th>user_score</th>\n",
       "      <th>total_sales</th>\n",
       "    </tr>\n",
       "  </thead>\n",
       "  <tbody>\n",
       "    <tr>\n",
       "      <th>critic_score</th>\n",
       "      <td>NaN</td>\n",
       "      <td>NaN</td>\n",
       "      <td>NaN</td>\n",
       "    </tr>\n",
       "    <tr>\n",
       "      <th>user_score</th>\n",
       "      <td>NaN</td>\n",
       "      <td>1.000000</td>\n",
       "      <td>0.682942</td>\n",
       "    </tr>\n",
       "    <tr>\n",
       "      <th>total_sales</th>\n",
       "      <td>NaN</td>\n",
       "      <td>0.682942</td>\n",
       "      <td>1.000000</td>\n",
       "    </tr>\n",
       "  </tbody>\n",
       "</table>\n",
       "</div>"
      ],
      "text/plain": [
       "              critic_score  user_score  total_sales\n",
       "critic_score           NaN         NaN          NaN\n",
       "user_score             NaN    1.000000     0.682942\n",
       "total_sales            NaN    0.682942     1.000000"
      ]
     },
     "execution_count": 35,
     "metadata": {},
     "output_type": "execute_result"
    }
   ],
   "source": [
    "Wii = Wii[['critic_score','user_score', 'total_sales']]\n",
    "Wii.corr()"
   ]
  },
  {
   "cell_type": "code",
   "execution_count": 36,
   "id": "0ed36d8a",
   "metadata": {
    "scrolled": false
   },
   "outputs": [
    {
     "data": {
      "image/png": "[encoded data removed]",
      "text/plain": [
       "<Figure size 432x288 with 1 Axes>"
      ]
     },
     "metadata": {
      "needs_background": "light"
     },
     "output_type": "display_data"
    },
    {
     "data": {
      "image/png": "[encoded data removed]",
      "text/plain": [
       "<Figure size 432x288 with 1 Axes>"
      ]
     },
     "metadata": {
      "needs_background": "light"
     },
     "output_type": "display_data"
    }
   ],
   "source": [
    "Wii.plot(x='user_score', y='total_sales', kind='scatter');\n",
    "Wii.plot(x='critic_score', y='total_sales', kind='scatter');"
   ]
  },
  {
   "cell_type": "code",
   "execution_count": 37,
   "id": "dd210569",
   "metadata": {
    "scrolled": true
   },
   "outputs": [
    {
     "data": {
      "text/html": [
       "<div>\n",
       "<style scoped>\n",
       "    .dataframe tbody tr th:only-of-type {\n",
       "        vertical-align: middle;\n",
       "    }\n",
       "\n",
       "    .dataframe tbody tr th {\n",
       "        vertical-align: top;\n",
       "    }\n",
       "\n",
       "    .dataframe thead th {\n",
       "        text-align: right;\n",
       "    }\n",
       "</style>\n",
       "<table border=\"1\" class=\"dataframe\">\n",
       "  <thead>\n",
       "    <tr style=\"text-align: right;\">\n",
       "      <th></th>\n",
       "      <th>critic_score</th>\n",
       "      <th>user_score</th>\n",
       "      <th>total_sales</th>\n",
       "    </tr>\n",
       "  </thead>\n",
       "  <tbody>\n",
       "    <tr>\n",
       "      <th>critic_score</th>\n",
       "      <td>1.000000</td>\n",
       "      <td>0.520946</td>\n",
       "      <td>0.350345</td>\n",
       "    </tr>\n",
       "    <tr>\n",
       "      <th>user_score</th>\n",
       "      <td>0.520946</td>\n",
       "      <td>1.000000</td>\n",
       "      <td>-0.011742</td>\n",
       "    </tr>\n",
       "    <tr>\n",
       "      <th>total_sales</th>\n",
       "      <td>0.350345</td>\n",
       "      <td>-0.011742</td>\n",
       "      <td>1.000000</td>\n",
       "    </tr>\n",
       "  </tbody>\n",
       "</table>\n",
       "</div>"
      ],
      "text/plain": [
       "              critic_score  user_score  total_sales\n",
       "critic_score      1.000000    0.520946     0.350345\n",
       "user_score        0.520946    1.000000    -0.011742\n",
       "total_sales       0.350345   -0.011742     1.000000"
      ]
     },
     "execution_count": 37,
     "metadata": {},
     "output_type": "execute_result"
    }
   ],
   "source": [
    "X360 = X360[['critic_score','user_score', 'total_sales']]\n",
    "X360.corr()"
   ]
  },
  {
   "cell_type": "code",
   "execution_count": 38,
   "id": "5407b607",
   "metadata": {
    "scrolled": true
   },
   "outputs": [
    {
     "data": {
      "image/png": "[encoded data removed]",
      "text/plain": [
       "<Figure size 432x288 with 1 Axes>"
      ]
     },
     "metadata": {
      "needs_background": "light"
     },
     "output_type": "display_data"
    },
    {
     "data": {
      "image/png": "[encoded data removed]",
      "text/plain": [
       "<Figure size 432x288 with 1 Axes>"
      ]
     },
     "metadata": {
      "needs_background": "light"
     },
     "output_type": "display_data"
    }
   ],
   "source": [
    "X360.plot(x='user_score', y='total_sales', kind='scatter');\n",
    "X360.plot(x='critic_score', y='total_sales', kind='scatter');"
   ]
  },
  {
   "cell_type": "code",
   "execution_count": 39,
   "id": "259a8e90",
   "metadata": {
    "scrolled": true
   },
   "outputs": [
    {
     "data": {
      "text/html": [
       "<div>\n",
       "<style scoped>\n",
       "    .dataframe tbody tr th:only-of-type {\n",
       "        vertical-align: middle;\n",
       "    }\n",
       "\n",
       "    .dataframe tbody tr th {\n",
       "        vertical-align: top;\n",
       "    }\n",
       "\n",
       "    .dataframe thead th {\n",
       "        text-align: right;\n",
       "    }\n",
       "</style>\n",
       "<table border=\"1\" class=\"dataframe\">\n",
       "  <thead>\n",
       "    <tr style=\"text-align: right;\">\n",
       "      <th></th>\n",
       "      <th>critic_score</th>\n",
       "      <th>user_score</th>\n",
       "      <th>total_sales</th>\n",
       "    </tr>\n",
       "  </thead>\n",
       "  <tbody>\n",
       "    <tr>\n",
       "      <th>critic_score</th>\n",
       "      <td>1.000000</td>\n",
       "      <td>0.721313</td>\n",
       "      <td>0.376415</td>\n",
       "    </tr>\n",
       "    <tr>\n",
       "      <th>user_score</th>\n",
       "      <td>0.721313</td>\n",
       "      <td>1.000000</td>\n",
       "      <td>0.419330</td>\n",
       "    </tr>\n",
       "    <tr>\n",
       "      <th>total_sales</th>\n",
       "      <td>0.376415</td>\n",
       "      <td>0.419330</td>\n",
       "      <td>1.000000</td>\n",
       "    </tr>\n",
       "  </tbody>\n",
       "</table>\n",
       "</div>"
      ],
      "text/plain": [
       "              critic_score  user_score  total_sales\n",
       "critic_score      1.000000    0.721313     0.376415\n",
       "user_score        0.721313    1.000000     0.419330\n",
       "total_sales       0.376415    0.419330     1.000000"
      ]
     },
     "execution_count": 39,
     "metadata": {},
     "output_type": "execute_result"
    }
   ],
   "source": [
    "WiiU = WiiU[['critic_score','user_score', 'total_sales']]\n",
    "WiiU.corr()"
   ]
  },
  {
   "cell_type": "code",
   "execution_count": 40,
   "id": "646cc356",
   "metadata": {},
   "outputs": [
    {
     "data": {
      "image/png": "[encoded data removed]",
      "text/plain": [
       "<Figure size 432x288 with 1 Axes>"
      ]
     },
     "metadata": {
      "needs_background": "light"
     },
     "output_type": "display_data"
    },
    {
     "data": {
      "image/png": "[encoded data removed]",
      "text/plain": [
       "<Figure size 432x288 with 1 Axes>"
      ]
     },
     "metadata": {
      "needs_background": "light"
     },
     "output_type": "display_data"
    }
   ],
   "source": [
    "WiiU.plot(x='user_score', y='total_sales', kind='scatter');\n",
    "WiiU.plot(x='critic_score', y='total_sales', kind='scatter');"
   ]
  },
  {
   "cell_type": "markdown",
   "id": "c87f71ea",
   "metadata": {},
   "source": [
    "<font color='Blue'><b>Комментарий студента</b></font>\n",
    "Добавил графики,итог ниже поменял."
   ]
  },
  {
   "cell_type": "markdown",
   "id": "237c5984",
   "metadata": {},
   "source": [
    "### Вывод:\n",
    "На основе анализа оценок пользователей и критиков за интересующий период можно увидеть следующее:\n",
    "Оценки критиков по всем консолям влияют на количество продаж,а влияние оценок игроков заметно только на WiiU и X360."
   ]
  },
  {
   "cell_type": "code",
   "execution_count": 41,
   "id": "ca241101",
   "metadata": {
    "scrolled": true
   },
   "outputs": [
    {
     "data": {
      "image/png": "[encoded data removed]",
      "text/plain": [
       "<Figure size 1296x720 with 1 Axes>"
      ]
     },
     "metadata": {
      "needs_background": "light"
     },
     "output_type": "display_data"
    }
   ],
   "source": [
    "actual_data.pivot_table(index = 'name', columns = 'genre', values = 'total_sales', aggfunc = 'median').plot(kind='box', ylim=(0,1.9),figsize=(18,10),title='Ящик с усами',xlabel='Жанр',ylabel='Медианные продажи');"
   ]
  },
  {
   "cell_type": "code",
   "execution_count": 42,
   "id": "281e71d9",
   "metadata": {},
   "outputs": [
    {
     "data": {
      "text/html": [
       "<div>\n",
       "<style scoped>\n",
       "    .dataframe tbody tr th:only-of-type {\n",
       "        vertical-align: middle;\n",
       "    }\n",
       "\n",
       "    .dataframe tbody tr th {\n",
       "        vertical-align: top;\n",
       "    }\n",
       "\n",
       "    .dataframe thead th {\n",
       "        text-align: right;\n",
       "    }\n",
       "</style>\n",
       "<table border=\"1\" class=\"dataframe\">\n",
       "  <thead>\n",
       "    <tr style=\"text-align: right;\">\n",
       "      <th></th>\n",
       "      <th>total_sales</th>\n",
       "    </tr>\n",
       "    <tr>\n",
       "      <th>genre</th>\n",
       "      <th></th>\n",
       "    </tr>\n",
       "  </thead>\n",
       "  <tbody>\n",
       "    <tr>\n",
       "      <th>Shooter</th>\n",
       "      <td>0.450</td>\n",
       "    </tr>\n",
       "    <tr>\n",
       "      <th>Sports</th>\n",
       "      <td>0.240</td>\n",
       "    </tr>\n",
       "    <tr>\n",
       "      <th>Platform</th>\n",
       "      <td>0.225</td>\n",
       "    </tr>\n",
       "    <tr>\n",
       "      <th>Role-Playing</th>\n",
       "      <td>0.125</td>\n",
       "    </tr>\n",
       "    <tr>\n",
       "      <th>Fighting</th>\n",
       "      <td>0.125</td>\n",
       "    </tr>\n",
       "    <tr>\n",
       "      <th>Racing</th>\n",
       "      <td>0.120</td>\n",
       "    </tr>\n",
       "    <tr>\n",
       "      <th>Action</th>\n",
       "      <td>0.110</td>\n",
       "    </tr>\n",
       "    <tr>\n",
       "      <th>Simulation</th>\n",
       "      <td>0.100</td>\n",
       "    </tr>\n",
       "    <tr>\n",
       "      <th>Misc</th>\n",
       "      <td>0.100</td>\n",
       "    </tr>\n",
       "    <tr>\n",
       "      <th>Strategy</th>\n",
       "      <td>0.080</td>\n",
       "    </tr>\n",
       "    <tr>\n",
       "      <th>Puzzle</th>\n",
       "      <td>0.060</td>\n",
       "    </tr>\n",
       "    <tr>\n",
       "      <th>Adventure</th>\n",
       "      <td>0.030</td>\n",
       "    </tr>\n",
       "  </tbody>\n",
       "</table>\n",
       "</div>"
      ],
      "text/plain": [
       "              total_sales\n",
       "genre                    \n",
       "Shooter             0.450\n",
       "Sports              0.240\n",
       "Platform            0.225\n",
       "Role-Playing        0.125\n",
       "Fighting            0.125\n",
       "Racing              0.120\n",
       "Action              0.110\n",
       "Simulation          0.100\n",
       "Misc                0.100\n",
       "Strategy            0.080\n",
       "Puzzle              0.060\n",
       "Adventure           0.030"
      ]
     },
     "execution_count": 42,
     "metadata": {},
     "output_type": "execute_result"
    }
   ],
   "source": [
    "genre_median = actual_data.pivot_table(index = 'genre', values = 'total_sales', aggfunc = 'median').sort_values(ascending=False, by = 'total_sales')\n",
    "genre_median"
   ]
  },
  {
   "cell_type": "markdown",
   "id": "ec7d9eb5",
   "metadata": {},
   "source": [
    "### Вывод:\n",
    "\n",
    "Самые прибыльные жанры - Shooter,Sports,Platform,\n",
    "\n",
    "Наименее прибыльные жанры - Adventure,Puzzle,Strategy"
   ]
  },
  {
   "cell_type": "markdown",
   "id": "e132a002",
   "metadata": {},
   "source": [
    "## 3.Составьте портрет пользователя каждого региона\n",
    "- Определите для пользователя каждого региона (NA, EU, JP):\n",
    "- Самые популярные платформы (топ-5). Опишите различия в долях продаж.\n",
    "- Самые популярные жанры (топ-5). Поясните разницу.\n",
    "- Влияет ли рейтинг ESRB на продажи в отдельном регионе?"
   ]
  },
  {
   "cell_type": "code",
   "execution_count": 43,
   "id": "1606cbb9",
   "metadata": {
    "scrolled": true
   },
   "outputs": [
    {
     "name": "stdout",
     "output_type": "stream",
     "text": [
      "<class 'pandas.core.frame.DataFrame'>\n",
      "Int64Index: 2233 entries, 16 to 16714\n",
      "Data columns (total 12 columns):\n",
      " #   Column           Non-Null Count  Dtype  \n",
      "---  ------           --------------  -----  \n",
      " 0   name             2233 non-null   object \n",
      " 1   platform         2233 non-null   object \n",
      " 2   year_of_release  2233 non-null   Int64  \n",
      " 3   genre            2233 non-null   object \n",
      " 4   na_sales         2233 non-null   float64\n",
      " 5   eu_sales         2233 non-null   float64\n",
      " 6   jp_sales         2233 non-null   float64\n",
      " 7   other_sales      2233 non-null   float64\n",
      " 8   critic_score     991 non-null    Int64  \n",
      " 9   user_score       1192 non-null   float64\n",
      " 10  rating           2233 non-null   object \n",
      " 11  total_sales      2233 non-null   float64\n",
      "dtypes: Int64(2), float64(6), object(4)\n",
      "memory usage: 231.2+ KB\n"
     ]
    }
   ],
   "source": [
    "actual_data.info()"
   ]
  },
  {
   "cell_type": "markdown",
   "id": "8e60b28a",
   "metadata": {},
   "source": [
    "#### Посмотрим самые популярные консоли по регионам."
   ]
  },
  {
   "cell_type": "code",
   "execution_count": 44,
   "id": "610156bb",
   "metadata": {
    "scrolled": false
   },
   "outputs": [
    {
     "data": {
      "image/png": "[encoded data removed]",
      "text/plain": [
       "<Figure size 1080x360 with 1 Axes>"
      ]
     },
     "metadata": {
      "needs_background": "light"
     },
     "output_type": "display_data"
    }
   ],
   "source": [
    "actual_data.pivot_table(index = 'platform', values = 'na_sales', aggfunc = 'sum').sort_values(ascending=False, by = 'na_sales').plot(kind = 'bar', figsize=(15,5));"
   ]
  },
  {
   "cell_type": "markdown",
   "id": "f15e0fba",
   "metadata": {},
   "source": [
    "В Северной Америке самые популярные консоли PS4,XOne,X360."
   ]
  },
  {
   "cell_type": "code",
   "execution_count": 45,
   "id": "0276a3ce",
   "metadata": {
    "scrolled": true
   },
   "outputs": [
    {
     "data": {
      "image/png": "[encoded data removed]",
      "text/plain": [
       "<Figure size 1080x360 with 1 Axes>"
      ]
     },
     "metadata": {
      "needs_background": "light"
     },
     "output_type": "display_data"
    }
   ],
   "source": [
    "actual_data.pivot_table(index = 'platform', values = 'eu_sales', aggfunc = 'sum').sort_values(ascending=False, by = 'eu_sales').plot(kind = 'bar', figsize=(15,5));"
   ]
  },
  {
   "cell_type": "markdown",
   "id": "982d9938",
   "metadata": {},
   "source": [
    "В Европе PS4,PS3 и XOne."
   ]
  },
  {
   "cell_type": "code",
   "execution_count": 46,
   "id": "95cbe424",
   "metadata": {},
   "outputs": [
    {
     "data": {
      "image/png": "[encoded data removed]",
      "text/plain": [
       "<Figure size 1080x360 with 1 Axes>"
      ]
     },
     "metadata": {
      "needs_background": "light"
     },
     "output_type": "display_data"
    }
   ],
   "source": [
    "actual_data.pivot_table(index = 'platform', values = 'jp_sales', aggfunc = 'sum').sort_values(ascending=False, by = 'jp_sales').plot(kind = 'bar', figsize=(15,5));"
   ]
  },
  {
   "cell_type": "markdown",
   "id": "3b3d931e",
   "metadata": {},
   "source": [
    "В Японии 3DS,PS3 и PSV."
   ]
  },
  {
   "cell_type": "markdown",
   "id": "30493431",
   "metadata": {},
   "source": [
    "### Вывод:\n",
    "По Америке и Европе лидеры одни и те же,в Японии же преобладает консоль местного производства Nintendo.\n",
    "В ТОП-5 же входят везде одни и те же консоли."
   ]
  },
  {
   "cell_type": "code",
   "execution_count": 47,
   "id": "8e5ce451",
   "metadata": {},
   "outputs": [
    {
     "data": {
      "image/png": "[encoded data removed]",
      "text/plain": [
       "<Figure size 720x720 with 1 Axes>"
      ]
     },
     "metadata": {},
     "output_type": "display_data"
    }
   ],
   "source": [
    "actual_data.pivot_table(index = 'genre', values = 'jp_sales', aggfunc = 'sum').sort_values(ascending=False, by = 'jp_sales').plot(kind = 'pie', figsize=(10,10),y= 'jp_sales');"
   ]
  },
  {
   "cell_type": "code",
   "execution_count": 48,
   "id": "b5d35300",
   "metadata": {},
   "outputs": [
    {
     "data": {
      "image/png": "[encoded data removed]",
      "text/plain": [
       "<Figure size 720x720 with 1 Axes>"
      ]
     },
     "metadata": {},
     "output_type": "display_data"
    }
   ],
   "source": [
    "actual_data.pivot_table(index = 'genre', values = 'eu_sales', aggfunc = 'sum').sort_values(ascending=False, by = 'eu_sales').plot(kind = 'pie', figsize=(10,10),y= 'eu_sales');"
   ]
  },
  {
   "cell_type": "code",
   "execution_count": 49,
   "id": "f6600bc9",
   "metadata": {},
   "outputs": [
    {
     "data": {
      "image/png": "[encoded data removed]",
      "text/plain": [
       "<Figure size 720x720 with 1 Axes>"
      ]
     },
     "metadata": {},
     "output_type": "display_data"
    }
   ],
   "source": [
    "actual_data.pivot_table(index = 'genre', values = 'na_sales', aggfunc = 'sum').sort_values(ascending=False, by = 'na_sales').plot(kind = 'pie', figsize=(10,10),y='na_sales');"
   ]
  },
  {
   "cell_type": "markdown",
   "id": "cedab2b1",
   "metadata": {},
   "source": [
    "### Вывод:\n",
    "В Европе и Америке ТОП-5 выглядит одинаково,за исключением чуть более популярных гонок над ролевыми играми.\n",
    "В Японии,как в самобытной стране с другой культурой,самый популярный жанр ролевые игры.\n",
    "А также в ТОПе Аркады и Платформеры.\n",
    "Экшн даже в Японии на 2 месте.\n",
    "\n"
   ]
  },
  {
   "cell_type": "code",
   "execution_count": 50,
   "id": "569b7f5c",
   "metadata": {},
   "outputs": [
    {
     "data": {
      "text/html": [
       "<div>\n",
       "<style scoped>\n",
       "    .dataframe tbody tr th:only-of-type {\n",
       "        vertical-align: middle;\n",
       "    }\n",
       "\n",
       "    .dataframe tbody tr th {\n",
       "        vertical-align: top;\n",
       "    }\n",
       "\n",
       "    .dataframe thead th {\n",
       "        text-align: right;\n",
       "    }\n",
       "</style>\n",
       "<table border=\"1\" class=\"dataframe\">\n",
       "  <thead>\n",
       "    <tr style=\"text-align: right;\">\n",
       "      <th></th>\n",
       "      <th>eu_sales</th>\n",
       "      <th>jp_sales</th>\n",
       "      <th>na_sales</th>\n",
       "    </tr>\n",
       "    <tr>\n",
       "      <th>rating</th>\n",
       "      <th></th>\n",
       "      <th></th>\n",
       "      <th></th>\n",
       "    </tr>\n",
       "  </thead>\n",
       "  <tbody>\n",
       "    <tr>\n",
       "      <th>E</th>\n",
       "      <td>83.36</td>\n",
       "      <td>15.14</td>\n",
       "      <td>79.05</td>\n",
       "    </tr>\n",
       "    <tr>\n",
       "      <th>E10+</th>\n",
       "      <td>42.69</td>\n",
       "      <td>5.89</td>\n",
       "      <td>54.24</td>\n",
       "    </tr>\n",
       "    <tr>\n",
       "      <th>M</th>\n",
       "      <td>145.32</td>\n",
       "      <td>14.11</td>\n",
       "      <td>165.21</td>\n",
       "    </tr>\n",
       "    <tr>\n",
       "      <th>T</th>\n",
       "      <td>41.95</td>\n",
       "      <td>20.59</td>\n",
       "      <td>49.79</td>\n",
       "    </tr>\n",
       "    <tr>\n",
       "      <th>undefined</th>\n",
       "      <td>78.91</td>\n",
       "      <td>85.05</td>\n",
       "      <td>89.42</td>\n",
       "    </tr>\n",
       "  </tbody>\n",
       "</table>\n",
       "</div>"
      ],
      "text/plain": [
       "           eu_sales  jp_sales  na_sales\n",
       "rating                                 \n",
       "E             83.36     15.14     79.05\n",
       "E10+          42.69      5.89     54.24\n",
       "M            145.32     14.11    165.21\n",
       "T             41.95     20.59     49.79\n",
       "undefined     78.91     85.05     89.42"
      ]
     },
     "execution_count": 50,
     "metadata": {},
     "output_type": "execute_result"
    }
   ],
   "source": [
    "ESRB = actual_data.pivot_table(index = 'rating', values = ['eu_sales','jp_sales','na_sales'], aggfunc = 'sum')\n",
    "ESRB"
   ]
  },
  {
   "cell_type": "markdown",
   "id": "aa27f407",
   "metadata": {},
   "source": [
    "### Вывод:\n",
    "\n",
    "Рейтинг влиет только на продажи в Северной Америке,т.к.в Европе и Японии данный рейтинг не проставляется-судить о его влиянии в данных регионах мы не можем."
   ]
  },
  {
   "cell_type": "markdown",
   "id": "c9a3d24a",
   "metadata": {},
   "source": [
    "## 4. Проверьте гипотезы\n",
    "- Средние пользовательские рейтинги платформ Xbox One и PC одинаковые;\n",
    "- Средние пользовательские рейтинги жанров Action (англ. «действие», экшен-игры) и Sports (англ. «спортивные соревнования») разные.\n",
    "- Задайте самостоятельно пороговое значение alpha.\n",
    "- Поясните:\n",
    "  Как вы сформулировали нулевую и альтернативную гипотезы;\n",
    "  Какой критерий применили для проверки гипотез и почему."
   ]
  },
  {
   "cell_type": "markdown",
   "id": "e5a33f9a",
   "metadata": {},
   "source": [
    "### 1 проверка:\n",
    "\n",
    "H0: Средние пользовательские рейтинги платформ Xbox One и PC одинаковые\n",
    "\n",
    "H1: Средние пользовательские рейтинги платформ Xbox One и PC разные"
   ]
  },
  {
   "cell_type": "code",
   "execution_count": 51,
   "id": "d7946ed7",
   "metadata": {},
   "outputs": [
    {
     "name": "stdout",
     "output_type": "stream",
     "text": [
      "Средний пользовательский рейтинг платформы Xbox One: 6.521428571428572\n",
      "Средний пользовательский рейтинг платформы PC 6.2696774193548395\n"
     ]
    }
   ],
   "source": [
    "XOne = actual_data[(actual_data['platform'] == 'XOne') &  (actual_data['user_score'] > 0)]['user_score']\n",
    "PC = actual_data[(actual_data['platform'] == 'PC') &  (actual_data['user_score'] > 0)]['user_score']\n",
    "print('Средний пользовательский рейтинг платформы Xbox One:', XOne.mean())\n",
    "print('Средний пользовательский рейтинг платформы PC', PC.mean())"
   ]
  },
  {
   "cell_type": "code",
   "execution_count": 52,
   "id": "2980a1e6",
   "metadata": {},
   "outputs": [
    {
     "name": "stdout",
     "output_type": "stream",
     "text": [
      "p-значение: 0.14759594013430463\n",
      "Не получилось отвергнуть нулевую гипотезу\n"
     ]
    }
   ],
   "source": [
    "#проверяем первую гипотезу\n",
    "\n",
    "alpha = .05\n",
    "\n",
    "results = st.ttest_ind(XOne, PC, equal_var=False)\n",
    "\n",
    "print('p-значение:', results.pvalue)\n",
    "\n",
    "\n",
    "if (results.pvalue < alpha):\n",
    "    print(\"Отвергаем нулевую гипотезу\")\n",
    "else:\n",
    "    print(\"Не получилось отвергнуть нулевую гипотезу\")"
   ]
  },
  {
   "cell_type": "markdown",
   "id": "5b8fcdc4",
   "metadata": {},
   "source": [
    "### 1 гипотеза подтвердилась.\n",
    "Верно следующее утверждение: средние пользовательские рейтинги платформ Xbox One и PC одинаковые.\n",
    "Связано скорее всего с наличием игр от Microsoft на обеих платформах."
   ]
  },
  {
   "cell_type": "markdown",
   "id": "637f0dc2",
   "metadata": {},
   "source": [
    "### 2 Проверка:\n",
    "\n",
    "H0: Средние пользовательские рейтинги жанров Action и Sports одинаковые\n",
    "\n",
    "H1: Средние пользовательские рейтинги жанров Action и Sports отличаются между собой."
   ]
  },
  {
   "cell_type": "code",
   "execution_count": 53,
   "id": "8f0c758d",
   "metadata": {},
   "outputs": [
    {
     "name": "stdout",
     "output_type": "stream",
     "text": [
      "Средний пользовательский рейтинг жанра Action: 6.837532133676092\n",
      "Средний пользовательский рейтинг жанра Sports 5.238124999999999\n"
     ]
    }
   ],
   "source": [
    "Action = actual_data[(actual_data['genre'] == 'Action') &  (actual_data['user_score'] > 0)]['user_score']\n",
    "Sports = actual_data[(actual_data['genre'] == 'Sports') &  (actual_data['user_score'] > 0)]['user_score']\n",
    "print('Средний пользовательский рейтинг жанра Action:', Action.mean())\n",
    "print('Средний пользовательский рейтинг жанра Sports', Sports.mean())"
   ]
  },
  {
   "cell_type": "code",
   "execution_count": 54,
   "id": "a3abdf73",
   "metadata": {},
   "outputs": [
    {
     "name": "stdout",
     "output_type": "stream",
     "text": [
      "p-значение: 1.4460039700704315e-20\n",
      "Отвергаем нулевую гипотезу\n"
     ]
    }
   ],
   "source": [
    "#проверяем вторую гипотезу\n",
    "\n",
    "alpha = .05\n",
    "\n",
    "results = st.ttest_ind(Action, Sports, equal_var=False)\n",
    "\n",
    "print('p-значение:', results.pvalue)\n",
    "\n",
    "\n",
    "if (results.pvalue < alpha):\n",
    "    print(\"Отвергаем нулевую гипотезу\")\n",
    "else:\n",
    "    print(\"Не получилось отвергнуть нулевую гипотезу\")"
   ]
  },
  {
   "cell_type": "markdown",
   "id": "7294b2a4",
   "metadata": {},
   "source": [
    "### 2 гепотеза  не подтвердилась,значения разные.\n",
    "Средние пользовательские рейтинги жанров Action и Sports отличаются"
   ]
  },
  {
   "cell_type": "markdown",
   "id": "4f1c99fc",
   "metadata": {},
   "source": [
    "## 5.Общий вывод\n",
    "\n",
    "### Анализ:\n",
    "- За весь период консольных приставок самые популярные оказались: PS2, X360, PS3, WII, DS, PS.\n",
    "- Консоль устаревает за 10 лет.\n",
    "- До 1994 выпускалось мало из-за малых мощностей комрьютеров и малого количества консолей в принципе. Резкий скачок по количеству игр, выпущенных в год, произошел в 2002 году. Пик - 2008-2009 года. После этого начался спад, связанный с развитием мобильных устройств, интеграция соц. сетей в жизнь людей. Это всё привело к тому, что интерес к самим играм упал, соответственно, упало и их производство.\n",
    "- Самые прибыльные жанры - Shooter,Sports,Platform,\n",
    "- Наименее прибыльные жанры - Adventure,Puzzle,Strategy\n",
    "- В Северной Америке самые популярные консоли PS4,XOne,X360..\n",
    "- В Европе PS4,PS3 и XOne.\n",
    "- В Японии 3DS,PS3 и PSV.\n",
    "- Оценки критиков в большей степени влияют на количество продаж,в отличии от оценок пользователей.\n",
    "- Рейтинг ESRB не влияет на продажи по всем регионам,только в Северной Америке.\n",
    "\n",
    "### Гипотезы:\n",
    "- 1 гипотеза подтвердилась:средние пользовательские рейтинги платформ Xbox One и PC одинаковые. Связано скорее всего с наличием игр от Microsoft на обеих платформах.\n",
    "- 2 гипотеза не подтвердилась:Средние пользовательские рейтинги жанров Action и Sports отличаются\n",
    "\n",
    "### Рекомендации по реализации бюджета:\n",
    "Платформы:PS4 и Xone-на 2016 г консоли последнего поколения,наиболее популярны в Северной Америке и Европе,соответственно в данных регионах и стоит начинать продвигать.\n",
    "Жанры:Shooter и Action.\n",
    "Рейтинг:M\n",
    "Следует ориентироваться на отзывы критиков.\n",
    "\n",
    "\n",
    "\n",
    "\n",
    "\n"
   ]
  }
 ],
 "metadata": {
  "ExecuteTimeLog": [
   {
    "duration": 1266,
    "start_time": "2023-02-15T19:53:35.233Z"
   },
   {
    "duration": 107,
    "start_time": "2023-02-15T19:53:36.501Z"
   },
   {
    "duration": 0,
    "start_time": "2023-02-15T19:53:36.611Z"
   },
   {
    "duration": 0,
    "start_time": "2023-02-15T19:53:36.612Z"
   },
   {
    "duration": 0,
    "start_time": "2023-02-15T19:53:36.613Z"
   },
   {
    "duration": 0,
    "start_time": "2023-02-15T19:53:36.614Z"
   },
   {
    "duration": 0,
    "start_time": "2023-02-15T19:53:36.615Z"
   },
   {
    "duration": 0,
    "start_time": "2023-02-15T19:53:36.616Z"
   },
   {
    "duration": 0,
    "start_time": "2023-02-15T19:53:36.617Z"
   },
   {
    "duration": 0,
    "start_time": "2023-02-15T19:53:36.618Z"
   },
   {
    "duration": 0,
    "start_time": "2023-02-15T19:53:36.619Z"
   },
   {
    "duration": 0,
    "start_time": "2023-02-15T19:53:36.620Z"
   },
   {
    "duration": 0,
    "start_time": "2023-02-15T19:53:36.621Z"
   },
   {
    "duration": 0,
    "start_time": "2023-02-15T19:53:36.638Z"
   },
   {
    "duration": 0,
    "start_time": "2023-02-15T19:53:36.650Z"
   },
   {
    "duration": 0,
    "start_time": "2023-02-15T19:53:36.652Z"
   },
   {
    "duration": 0,
    "start_time": "2023-02-15T19:53:36.653Z"
   },
   {
    "duration": 0,
    "start_time": "2023-02-15T19:53:36.654Z"
   },
   {
    "duration": 0,
    "start_time": "2023-02-15T19:53:36.655Z"
   },
   {
    "duration": 0,
    "start_time": "2023-02-15T19:53:36.656Z"
   },
   {
    "duration": 0,
    "start_time": "2023-02-15T19:53:36.657Z"
   },
   {
    "duration": 0,
    "start_time": "2023-02-15T19:53:36.658Z"
   },
   {
    "duration": 0,
    "start_time": "2023-02-15T19:53:36.659Z"
   },
   {
    "duration": 0,
    "start_time": "2023-02-15T19:53:36.660Z"
   },
   {
    "duration": 0,
    "start_time": "2023-02-15T19:53:36.661Z"
   },
   {
    "duration": 0,
    "start_time": "2023-02-15T19:53:36.662Z"
   },
   {
    "duration": 0,
    "start_time": "2023-02-15T19:53:36.663Z"
   },
   {
    "duration": 0,
    "start_time": "2023-02-15T19:53:36.664Z"
   },
   {
    "duration": 0,
    "start_time": "2023-02-15T19:53:36.665Z"
   },
   {
    "duration": 0,
    "start_time": "2023-02-15T19:53:36.666Z"
   },
   {
    "duration": 0,
    "start_time": "2023-02-15T19:53:36.667Z"
   },
   {
    "duration": 0,
    "start_time": "2023-02-15T19:53:36.668Z"
   },
   {
    "duration": 0,
    "start_time": "2023-02-15T19:53:36.669Z"
   },
   {
    "duration": 0,
    "start_time": "2023-02-15T19:53:36.670Z"
   },
   {
    "duration": 0,
    "start_time": "2023-02-15T19:53:36.670Z"
   },
   {
    "duration": 0,
    "start_time": "2023-02-15T19:53:36.671Z"
   },
   {
    "duration": 0,
    "start_time": "2023-02-15T19:53:36.673Z"
   },
   {
    "duration": 0,
    "start_time": "2023-02-15T19:53:36.674Z"
   },
   {
    "duration": 0,
    "start_time": "2023-02-15T19:53:36.675Z"
   },
   {
    "duration": 0,
    "start_time": "2023-02-15T19:53:36.676Z"
   },
   {
    "duration": 0,
    "start_time": "2023-02-15T19:53:36.676Z"
   },
   {
    "duration": 51,
    "start_time": "2023-02-16T05:20:20.161Z"
   },
   {
    "duration": 1463,
    "start_time": "2023-02-16T05:20:28.469Z"
   },
   {
    "duration": 118,
    "start_time": "2023-02-16T05:20:29.939Z"
   },
   {
    "duration": 0,
    "start_time": "2023-02-16T05:20:30.060Z"
   },
   {
    "duration": 0,
    "start_time": "2023-02-16T05:20:30.061Z"
   },
   {
    "duration": 0,
    "start_time": "2023-02-16T05:20:30.063Z"
   },
   {
    "duration": 0,
    "start_time": "2023-02-16T05:20:30.064Z"
   },
   {
    "duration": 0,
    "start_time": "2023-02-16T05:20:30.065Z"
   },
   {
    "duration": 0,
    "start_time": "2023-02-16T05:20:30.066Z"
   },
   {
    "duration": 0,
    "start_time": "2023-02-16T05:20:30.067Z"
   },
   {
    "duration": 0,
    "start_time": "2023-02-16T05:20:30.069Z"
   },
   {
    "duration": 0,
    "start_time": "2023-02-16T05:20:30.070Z"
   },
   {
    "duration": 0,
    "start_time": "2023-02-16T05:20:30.071Z"
   },
   {
    "duration": 0,
    "start_time": "2023-02-16T05:20:30.072Z"
   },
   {
    "duration": 0,
    "start_time": "2023-02-16T05:20:30.073Z"
   },
   {
    "duration": 0,
    "start_time": "2023-02-16T05:20:30.074Z"
   },
   {
    "duration": 0,
    "start_time": "2023-02-16T05:20:30.075Z"
   },
   {
    "duration": 0,
    "start_time": "2023-02-16T05:20:30.076Z"
   },
   {
    "duration": 0,
    "start_time": "2023-02-16T05:20:30.077Z"
   },
   {
    "duration": 0,
    "start_time": "2023-02-16T05:20:30.078Z"
   },
   {
    "duration": 0,
    "start_time": "2023-02-16T05:20:30.080Z"
   },
   {
    "duration": 0,
    "start_time": "2023-02-16T05:20:30.081Z"
   },
   {
    "duration": 0,
    "start_time": "2023-02-16T05:20:30.082Z"
   },
   {
    "duration": 0,
    "start_time": "2023-02-16T05:20:30.084Z"
   },
   {
    "duration": 0,
    "start_time": "2023-02-16T05:20:30.086Z"
   },
   {
    "duration": 0,
    "start_time": "2023-02-16T05:20:30.087Z"
   },
   {
    "duration": 0,
    "start_time": "2023-02-16T05:20:30.088Z"
   },
   {
    "duration": 0,
    "start_time": "2023-02-16T05:20:30.089Z"
   },
   {
    "duration": 0,
    "start_time": "2023-02-16T05:20:30.139Z"
   },
   {
    "duration": 0,
    "start_time": "2023-02-16T05:20:30.141Z"
   },
   {
    "duration": 0,
    "start_time": "2023-02-16T05:20:30.143Z"
   },
   {
    "duration": 0,
    "start_time": "2023-02-16T05:20:30.145Z"
   },
   {
    "duration": 0,
    "start_time": "2023-02-16T05:20:30.146Z"
   },
   {
    "duration": 0,
    "start_time": "2023-02-16T05:20:30.148Z"
   },
   {
    "duration": 0,
    "start_time": "2023-02-16T05:20:30.149Z"
   },
   {
    "duration": 0,
    "start_time": "2023-02-16T05:20:30.151Z"
   },
   {
    "duration": 0,
    "start_time": "2023-02-16T05:20:30.152Z"
   },
   {
    "duration": 0,
    "start_time": "2023-02-16T05:20:30.154Z"
   },
   {
    "duration": 0,
    "start_time": "2023-02-16T05:20:30.155Z"
   },
   {
    "duration": 0,
    "start_time": "2023-02-16T05:20:30.156Z"
   },
   {
    "duration": 0,
    "start_time": "2023-02-16T05:20:30.158Z"
   },
   {
    "duration": 0,
    "start_time": "2023-02-16T05:20:30.159Z"
   },
   {
    "duration": 103,
    "start_time": "2023-02-16T05:22:01.816Z"
   },
   {
    "duration": 1264,
    "start_time": "2023-02-16T05:22:08.717Z"
   },
   {
    "duration": 57,
    "start_time": "2023-02-16T05:22:09.983Z"
   },
   {
    "duration": 22,
    "start_time": "2023-02-16T05:22:10.042Z"
   },
   {
    "duration": 29,
    "start_time": "2023-02-16T05:22:10.066Z"
   },
   {
    "duration": 53,
    "start_time": "2023-02-16T05:22:10.097Z"
   },
   {
    "duration": 4,
    "start_time": "2023-02-16T05:22:10.151Z"
   },
   {
    "duration": 23,
    "start_time": "2023-02-16T05:22:10.157Z"
   },
   {
    "duration": 9,
    "start_time": "2023-02-16T05:22:10.182Z"
   },
   {
    "duration": 14,
    "start_time": "2023-02-16T05:22:10.193Z"
   },
   {
    "duration": 8,
    "start_time": "2023-02-16T05:22:10.210Z"
   },
   {
    "duration": 12,
    "start_time": "2023-02-16T05:22:10.239Z"
   },
   {
    "duration": 9,
    "start_time": "2023-02-16T05:22:10.252Z"
   },
   {
    "duration": 5,
    "start_time": "2023-02-16T05:22:10.262Z"
   },
   {
    "duration": 16,
    "start_time": "2023-02-16T05:22:10.268Z"
   },
   {
    "duration": 22,
    "start_time": "2023-02-16T05:22:10.286Z"
   },
   {
    "duration": 373,
    "start_time": "2023-02-16T05:22:10.310Z"
   },
   {
    "duration": 308,
    "start_time": "2023-02-16T05:22:10.685Z"
   },
   {
    "duration": 17,
    "start_time": "2023-02-16T05:22:10.994Z"
   },
   {
    "duration": 4,
    "start_time": "2023-02-16T05:22:11.012Z"
   },
   {
    "duration": 387,
    "start_time": "2023-02-16T05:22:11.018Z"
   },
   {
    "duration": 6,
    "start_time": "2023-02-16T05:22:11.407Z"
   },
   {
    "duration": 346,
    "start_time": "2023-02-16T05:22:11.415Z"
   },
   {
    "duration": 13,
    "start_time": "2023-02-16T05:22:11.763Z"
   },
   {
    "duration": 263,
    "start_time": "2023-02-16T05:22:11.778Z"
   },
   {
    "duration": 8,
    "start_time": "2023-02-16T05:22:12.043Z"
   },
   {
    "duration": 16,
    "start_time": "2023-02-16T05:22:12.053Z"
   },
   {
    "duration": 10,
    "start_time": "2023-02-16T05:22:12.071Z"
   },
   {
    "duration": 219,
    "start_time": "2023-02-16T05:22:12.085Z"
   },
   {
    "duration": 16,
    "start_time": "2023-02-16T05:22:12.306Z"
   },
   {
    "duration": 27,
    "start_time": "2023-02-16T05:22:12.324Z"
   },
   {
    "duration": 227,
    "start_time": "2023-02-16T05:22:12.352Z"
   },
   {
    "duration": 242,
    "start_time": "2023-02-16T05:22:12.580Z"
   },
   {
    "duration": 252,
    "start_time": "2023-02-16T05:22:12.824Z"
   },
   {
    "duration": 230,
    "start_time": "2023-02-16T05:22:13.078Z"
   },
   {
    "duration": 217,
    "start_time": "2023-02-16T05:22:13.309Z"
   },
   {
    "duration": 216,
    "start_time": "2023-02-16T05:22:13.528Z"
   },
   {
    "duration": 16,
    "start_time": "2023-02-16T05:22:13.745Z"
   },
   {
    "duration": 9,
    "start_time": "2023-02-16T05:22:13.763Z"
   },
   {
    "duration": 9,
    "start_time": "2023-02-16T05:22:13.773Z"
   },
   {
    "duration": 13,
    "start_time": "2023-02-16T05:22:13.784Z"
   },
   {
    "duration": 6,
    "start_time": "2023-02-16T05:22:13.799Z"
   },
   {
    "duration": 1132,
    "start_time": "2023-02-16T22:55:45.465Z"
   },
   {
    "duration": 46,
    "start_time": "2023-02-16T22:55:46.599Z"
   },
   {
    "duration": 18,
    "start_time": "2023-02-16T22:55:46.647Z"
   },
   {
    "duration": 23,
    "start_time": "2023-02-16T22:55:46.667Z"
   },
   {
    "duration": 32,
    "start_time": "2023-02-16T22:55:46.693Z"
   },
   {
    "duration": 4,
    "start_time": "2023-02-16T22:55:46.727Z"
   },
   {
    "duration": 20,
    "start_time": "2023-02-16T22:55:46.733Z"
   },
   {
    "duration": 8,
    "start_time": "2023-02-16T22:55:46.755Z"
   },
   {
    "duration": 31,
    "start_time": "2023-02-16T22:55:46.764Z"
   },
   {
    "duration": 6,
    "start_time": "2023-02-16T22:55:46.797Z"
   },
   {
    "duration": 12,
    "start_time": "2023-02-16T22:55:46.805Z"
   },
   {
    "duration": 7,
    "start_time": "2023-02-16T22:55:46.819Z"
   },
   {
    "duration": 15,
    "start_time": "2023-02-16T22:55:46.827Z"
   },
   {
    "duration": 14,
    "start_time": "2023-02-16T22:55:46.845Z"
   },
   {
    "duration": 39,
    "start_time": "2023-02-16T22:55:46.861Z"
   },
   {
    "duration": 343,
    "start_time": "2023-02-16T22:55:46.902Z"
   },
   {
    "duration": 272,
    "start_time": "2023-02-16T22:55:47.247Z"
   },
   {
    "duration": 16,
    "start_time": "2023-02-16T22:55:47.521Z"
   },
   {
    "duration": 3,
    "start_time": "2023-02-16T22:55:47.538Z"
   },
   {
    "duration": 312,
    "start_time": "2023-02-16T22:55:47.543Z"
   },
   {
    "duration": 6,
    "start_time": "2023-02-16T22:55:47.856Z"
   },
   {
    "duration": 344,
    "start_time": "2023-02-16T22:55:47.864Z"
   },
   {
    "duration": 13,
    "start_time": "2023-02-16T22:55:48.209Z"
   },
   {
    "duration": 235,
    "start_time": "2023-02-16T22:55:48.224Z"
   },
   {
    "duration": 9,
    "start_time": "2023-02-16T22:55:48.461Z"
   },
   {
    "duration": 17,
    "start_time": "2023-02-16T22:55:48.471Z"
   },
   {
    "duration": 12,
    "start_time": "2023-02-16T22:55:48.495Z"
   },
   {
    "duration": 181,
    "start_time": "2023-02-16T22:55:48.509Z"
   },
   {
    "duration": 15,
    "start_time": "2023-02-16T22:55:48.696Z"
   },
   {
    "duration": 13,
    "start_time": "2023-02-16T22:55:48.712Z"
   },
   {
    "duration": 222,
    "start_time": "2023-02-16T22:55:48.727Z"
   },
   {
    "duration": 204,
    "start_time": "2023-02-16T22:55:48.950Z"
   },
   {
    "duration": 213,
    "start_time": "2023-02-16T22:55:49.156Z"
   },
   {
    "duration": 200,
    "start_time": "2023-02-16T22:55:49.370Z"
   },
   {
    "duration": 201,
    "start_time": "2023-02-16T22:55:49.572Z"
   },
   {
    "duration": 199,
    "start_time": "2023-02-16T22:55:49.775Z"
   },
   {
    "duration": 24,
    "start_time": "2023-02-16T22:55:49.975Z"
   },
   {
    "duration": 9,
    "start_time": "2023-02-16T22:55:50.000Z"
   },
   {
    "duration": 18,
    "start_time": "2023-02-16T22:55:50.011Z"
   },
   {
    "duration": 16,
    "start_time": "2023-02-16T22:55:50.030Z"
   },
   {
    "duration": 5,
    "start_time": "2023-02-16T22:55:50.050Z"
   },
   {
    "duration": 82,
    "start_time": "2023-02-16T23:01:09.594Z"
   },
   {
    "duration": 1244,
    "start_time": "2023-02-16T23:06:43.570Z"
   },
   {
    "duration": 50,
    "start_time": "2023-02-16T23:06:44.815Z"
   },
   {
    "duration": 109,
    "start_time": "2023-02-16T23:06:44.867Z"
   },
   {
    "duration": 18,
    "start_time": "2023-02-16T23:06:44.978Z"
   },
   {
    "duration": 30,
    "start_time": "2023-02-16T23:06:44.998Z"
   },
   {
    "duration": 7,
    "start_time": "2023-02-16T23:06:45.030Z"
   },
   {
    "duration": 18,
    "start_time": "2023-02-16T23:06:45.039Z"
   },
   {
    "duration": 9,
    "start_time": "2023-02-16T23:06:45.059Z"
   },
   {
    "duration": 29,
    "start_time": "2023-02-16T23:06:45.070Z"
   },
   {
    "duration": 7,
    "start_time": "2023-02-16T23:06:45.100Z"
   },
   {
    "duration": 11,
    "start_time": "2023-02-16T23:06:45.108Z"
   },
   {
    "duration": 9,
    "start_time": "2023-02-16T23:06:45.120Z"
   },
   {
    "duration": 4,
    "start_time": "2023-02-16T23:06:45.131Z"
   },
   {
    "duration": 7,
    "start_time": "2023-02-16T23:06:45.138Z"
   },
   {
    "duration": 53,
    "start_time": "2023-02-16T23:06:45.147Z"
   },
   {
    "duration": 106,
    "start_time": "2023-02-16T23:06:45.202Z"
   },
   {
    "duration": 361,
    "start_time": "2023-02-16T23:06:45.310Z"
   },
   {
    "duration": 276,
    "start_time": "2023-02-16T23:06:45.673Z"
   },
   {
    "duration": 16,
    "start_time": "2023-02-16T23:06:45.950Z"
   },
   {
    "duration": 3,
    "start_time": "2023-02-16T23:06:45.968Z"
   },
   {
    "duration": 317,
    "start_time": "2023-02-16T23:06:45.973Z"
   },
   {
    "duration": 7,
    "start_time": "2023-02-16T23:06:46.294Z"
   },
   {
    "duration": 496,
    "start_time": "2023-02-16T23:06:46.303Z"
   },
   {
    "duration": 13,
    "start_time": "2023-02-16T23:06:46.800Z"
   },
   {
    "duration": 428,
    "start_time": "2023-02-16T23:06:46.814Z"
   },
   {
    "duration": 59,
    "start_time": "2023-02-16T23:06:47.243Z"
   },
   {
    "duration": 10,
    "start_time": "2023-02-16T23:06:47.304Z"
   },
   {
    "duration": 10,
    "start_time": "2023-02-16T23:06:47.316Z"
   },
   {
    "duration": 389,
    "start_time": "2023-02-16T23:06:47.328Z"
   },
   {
    "duration": 14,
    "start_time": "2023-02-16T23:06:47.719Z"
   },
   {
    "duration": 70,
    "start_time": "2023-02-16T23:06:47.734Z"
   },
   {
    "duration": 412,
    "start_time": "2023-02-16T23:06:47.805Z"
   },
   {
    "duration": 265,
    "start_time": "2023-02-16T23:06:48.218Z"
   },
   {
    "duration": 249,
    "start_time": "2023-02-16T23:06:48.485Z"
   },
   {
    "duration": 212,
    "start_time": "2023-02-16T23:06:48.736Z"
   },
   {
    "duration": 196,
    "start_time": "2023-02-16T23:06:48.950Z"
   },
   {
    "duration": 196,
    "start_time": "2023-02-16T23:06:49.148Z"
   },
   {
    "duration": 16,
    "start_time": "2023-02-16T23:06:49.345Z"
   },
   {
    "duration": 8,
    "start_time": "2023-02-16T23:06:49.362Z"
   },
   {
    "duration": 25,
    "start_time": "2023-02-16T23:06:49.372Z"
   },
   {
    "duration": 10,
    "start_time": "2023-02-16T23:06:49.400Z"
   },
   {
    "duration": 4,
    "start_time": "2023-02-16T23:06:49.412Z"
   },
   {
    "duration": 43,
    "start_time": "2023-02-17T14:24:34.074Z"
   },
   {
    "duration": 1289,
    "start_time": "2023-02-17T14:24:44.640Z"
   },
   {
    "duration": 99,
    "start_time": "2023-02-17T14:24:45.930Z"
   },
   {
    "duration": 17,
    "start_time": "2023-02-17T14:24:46.031Z"
   },
   {
    "duration": 13,
    "start_time": "2023-02-17T14:24:46.050Z"
   },
   {
    "duration": 27,
    "start_time": "2023-02-17T14:24:46.065Z"
   },
   {
    "duration": 14,
    "start_time": "2023-02-17T14:24:46.093Z"
   },
   {
    "duration": 29,
    "start_time": "2023-02-17T14:24:46.108Z"
   },
   {
    "duration": 17,
    "start_time": "2023-02-17T14:24:46.139Z"
   },
   {
    "duration": 8,
    "start_time": "2023-02-17T14:24:46.157Z"
   },
   {
    "duration": 8,
    "start_time": "2023-02-17T14:24:46.167Z"
   },
   {
    "duration": 9,
    "start_time": "2023-02-17T14:24:46.176Z"
   },
   {
    "duration": 11,
    "start_time": "2023-02-17T14:24:46.186Z"
   },
   {
    "duration": 5,
    "start_time": "2023-02-17T14:24:46.198Z"
   },
   {
    "duration": 9,
    "start_time": "2023-02-17T14:24:46.204Z"
   },
   {
    "duration": 23,
    "start_time": "2023-02-17T14:24:46.214Z"
   },
   {
    "duration": 19,
    "start_time": "2023-02-17T14:24:46.239Z"
   },
   {
    "duration": 81,
    "start_time": "2023-02-17T14:24:46.260Z"
   },
   {
    "duration": 314,
    "start_time": "2023-02-17T14:24:46.342Z"
   },
   {
    "duration": 249,
    "start_time": "2023-02-17T14:24:46.657Z"
   },
   {
    "duration": 14,
    "start_time": "2023-02-17T14:24:46.908Z"
   },
   {
    "duration": 13,
    "start_time": "2023-02-17T14:24:46.924Z"
   },
   {
    "duration": 301,
    "start_time": "2023-02-17T14:24:46.939Z"
   },
   {
    "duration": 7,
    "start_time": "2023-02-17T14:24:47.242Z"
   },
   {
    "duration": 299,
    "start_time": "2023-02-17T14:24:47.250Z"
   },
   {
    "duration": 12,
    "start_time": "2023-02-17T14:24:47.551Z"
   },
   {
    "duration": 240,
    "start_time": "2023-02-17T14:24:47.565Z"
   },
   {
    "duration": 7,
    "start_time": "2023-02-17T14:24:47.806Z"
   },
   {
    "duration": 9,
    "start_time": "2023-02-17T14:24:47.816Z"
   },
   {
    "duration": 11,
    "start_time": "2023-02-17T14:24:47.837Z"
   },
   {
    "duration": 207,
    "start_time": "2023-02-17T14:24:47.850Z"
   },
   {
    "duration": 13,
    "start_time": "2023-02-17T14:24:48.059Z"
   },
   {
    "duration": 10,
    "start_time": "2023-02-17T14:24:48.074Z"
   },
   {
    "duration": 216,
    "start_time": "2023-02-17T14:24:48.085Z"
   },
   {
    "duration": 215,
    "start_time": "2023-02-17T14:24:48.303Z"
   },
   {
    "duration": 212,
    "start_time": "2023-02-17T14:24:48.520Z"
   },
   {
    "duration": 200,
    "start_time": "2023-02-17T14:24:48.733Z"
   },
   {
    "duration": 189,
    "start_time": "2023-02-17T14:24:48.937Z"
   },
   {
    "duration": 184,
    "start_time": "2023-02-17T14:24:49.128Z"
   },
   {
    "duration": 26,
    "start_time": "2023-02-17T14:24:49.314Z"
   },
   {
    "duration": 9,
    "start_time": "2023-02-17T14:24:49.342Z"
   },
   {
    "duration": 5,
    "start_time": "2023-02-17T14:24:49.352Z"
   },
   {
    "duration": 13,
    "start_time": "2023-02-17T14:24:49.359Z"
   },
   {
    "duration": 4,
    "start_time": "2023-02-17T14:24:49.374Z"
   },
   {
    "duration": 94,
    "start_time": "2023-02-17T14:27:16.624Z"
   },
   {
    "duration": 3,
    "start_time": "2023-02-17T14:27:26.636Z"
   },
   {
    "duration": 38,
    "start_time": "2023-02-17T14:34:03.485Z"
   },
   {
    "duration": 8,
    "start_time": "2023-02-17T14:34:41.976Z"
   },
   {
    "duration": 8,
    "start_time": "2023-02-17T14:34:48.015Z"
   },
   {
    "duration": 9,
    "start_time": "2023-02-17T14:40:32.868Z"
   },
   {
    "duration": 10,
    "start_time": "2023-02-17T14:58:11.603Z"
   },
   {
    "duration": 1149,
    "start_time": "2023-02-17T14:58:17.330Z"
   },
   {
    "duration": 56,
    "start_time": "2023-02-17T14:58:18.482Z"
   },
   {
    "duration": 26,
    "start_time": "2023-02-17T14:58:18.540Z"
   },
   {
    "duration": 22,
    "start_time": "2023-02-17T14:58:18.569Z"
   },
   {
    "duration": 65,
    "start_time": "2023-02-17T14:58:18.593Z"
   },
   {
    "duration": 25,
    "start_time": "2023-02-17T14:58:18.660Z"
   },
   {
    "duration": 4,
    "start_time": "2023-02-17T14:58:18.689Z"
   },
   {
    "duration": 19,
    "start_time": "2023-02-17T14:58:18.695Z"
   },
   {
    "duration": 5,
    "start_time": "2023-02-17T14:58:18.738Z"
   },
   {
    "duration": 7,
    "start_time": "2023-02-17T14:58:18.746Z"
   },
   {
    "duration": 6,
    "start_time": "2023-02-17T14:58:18.755Z"
   },
   {
    "duration": 10,
    "start_time": "2023-02-17T14:58:18.762Z"
   },
   {
    "duration": 9,
    "start_time": "2023-02-17T14:58:18.774Z"
   },
   {
    "duration": 4,
    "start_time": "2023-02-17T14:58:18.785Z"
   },
   {
    "duration": 6,
    "start_time": "2023-02-17T14:58:18.791Z"
   },
   {
    "duration": 22,
    "start_time": "2023-02-17T14:58:18.838Z"
   },
   {
    "duration": 10,
    "start_time": "2023-02-17T14:58:18.862Z"
   },
   {
    "duration": 104,
    "start_time": "2023-02-17T14:58:18.874Z"
   },
   {
    "duration": 378,
    "start_time": "2023-02-17T14:58:18.980Z"
   },
   {
    "duration": 277,
    "start_time": "2023-02-17T14:58:19.360Z"
   },
   {
    "duration": 22,
    "start_time": "2023-02-17T14:58:19.638Z"
   },
   {
    "duration": 4,
    "start_time": "2023-02-17T14:58:19.662Z"
   },
   {
    "duration": 349,
    "start_time": "2023-02-17T14:58:19.667Z"
   },
   {
    "duration": 7,
    "start_time": "2023-02-17T14:58:20.017Z"
   },
   {
    "duration": 342,
    "start_time": "2023-02-17T14:58:20.026Z"
   },
   {
    "duration": 17,
    "start_time": "2023-02-17T14:58:20.371Z"
   },
   {
    "duration": 269,
    "start_time": "2023-02-17T14:58:20.390Z"
   },
   {
    "duration": 8,
    "start_time": "2023-02-17T14:58:20.663Z"
   },
   {
    "duration": 12,
    "start_time": "2023-02-17T14:58:20.672Z"
   },
   {
    "duration": 17,
    "start_time": "2023-02-17T14:58:20.686Z"
   },
   {
    "duration": 220,
    "start_time": "2023-02-17T14:58:20.705Z"
   },
   {
    "duration": 24,
    "start_time": "2023-02-17T14:58:20.927Z"
   },
   {
    "duration": 17,
    "start_time": "2023-02-17T14:58:20.953Z"
   },
   {
    "duration": 249,
    "start_time": "2023-02-17T14:58:20.972Z"
   },
   {
    "duration": 239,
    "start_time": "2023-02-17T14:58:21.224Z"
   },
   {
    "duration": 304,
    "start_time": "2023-02-17T14:58:21.465Z"
   },
   {
    "duration": 284,
    "start_time": "2023-02-17T14:58:21.771Z"
   },
   {
    "duration": 323,
    "start_time": "2023-02-17T14:58:22.057Z"
   },
   {
    "duration": 258,
    "start_time": "2023-02-17T14:58:22.386Z"
   },
   {
    "duration": 22,
    "start_time": "2023-02-17T14:58:22.646Z"
   },
   {
    "duration": 25,
    "start_time": "2023-02-17T14:58:22.669Z"
   },
   {
    "duration": 18,
    "start_time": "2023-02-17T14:58:22.696Z"
   },
   {
    "duration": 20,
    "start_time": "2023-02-17T14:58:22.717Z"
   },
   {
    "duration": 31,
    "start_time": "2023-02-17T14:58:22.739Z"
   },
   {
    "duration": 346,
    "start_time": "2023-02-17T15:07:46.357Z"
   },
   {
    "duration": 439,
    "start_time": "2023-02-17T15:08:27.528Z"
   },
   {
    "duration": 411,
    "start_time": "2023-02-17T15:10:03.206Z"
   },
   {
    "duration": 310,
    "start_time": "2023-02-17T15:10:33.455Z"
   },
   {
    "duration": 321,
    "start_time": "2023-02-17T15:12:25.663Z"
   },
   {
    "duration": 349,
    "start_time": "2023-02-17T15:18:40.963Z"
   },
   {
    "duration": 13,
    "start_time": "2023-02-17T15:33:16.016Z"
   },
   {
    "duration": 11,
    "start_time": "2023-02-17T15:33:57.779Z"
   },
   {
    "duration": 1265,
    "start_time": "2023-02-17T15:34:34.133Z"
   },
   {
    "duration": 61,
    "start_time": "2023-02-17T15:34:35.400Z"
   },
   {
    "duration": 19,
    "start_time": "2023-02-17T15:34:35.468Z"
   },
   {
    "duration": 14,
    "start_time": "2023-02-17T15:34:35.489Z"
   },
   {
    "duration": 51,
    "start_time": "2023-02-17T15:34:35.504Z"
   },
   {
    "duration": 19,
    "start_time": "2023-02-17T15:34:35.557Z"
   },
   {
    "duration": 3,
    "start_time": "2023-02-17T15:34:35.578Z"
   },
   {
    "duration": 19,
    "start_time": "2023-02-17T15:34:35.583Z"
   },
   {
    "duration": 11,
    "start_time": "2023-02-17T15:34:35.606Z"
   },
   {
    "duration": 25,
    "start_time": "2023-02-17T15:34:35.619Z"
   },
   {
    "duration": 37,
    "start_time": "2023-02-17T15:34:35.646Z"
   },
   {
    "duration": 22,
    "start_time": "2023-02-17T15:34:35.685Z"
   },
   {
    "duration": 12,
    "start_time": "2023-02-17T15:34:35.708Z"
   },
   {
    "duration": 5,
    "start_time": "2023-02-17T15:34:35.721Z"
   },
   {
    "duration": 8,
    "start_time": "2023-02-17T15:34:35.728Z"
   },
   {
    "duration": 66,
    "start_time": "2023-02-17T15:34:35.740Z"
   },
   {
    "duration": 13,
    "start_time": "2023-02-17T15:34:35.807Z"
   },
   {
    "duration": 109,
    "start_time": "2023-02-17T15:34:35.821Z"
   },
   {
    "duration": 451,
    "start_time": "2023-02-17T15:34:35.932Z"
   },
   {
    "duration": 312,
    "start_time": "2023-02-17T15:34:36.387Z"
   },
   {
    "duration": 16,
    "start_time": "2023-02-17T15:34:36.701Z"
   },
   {
    "duration": 143,
    "start_time": "2023-02-17T15:34:36.719Z"
   },
   {
    "duration": 0,
    "start_time": "2023-02-17T15:34:36.868Z"
   },
   {
    "duration": 0,
    "start_time": "2023-02-17T15:34:36.869Z"
   },
   {
    "duration": 0,
    "start_time": "2023-02-17T15:34:36.870Z"
   },
   {
    "duration": 0,
    "start_time": "2023-02-17T15:34:36.871Z"
   },
   {
    "duration": 0,
    "start_time": "2023-02-17T15:34:36.872Z"
   },
   {
    "duration": 0,
    "start_time": "2023-02-17T15:34:36.873Z"
   },
   {
    "duration": 0,
    "start_time": "2023-02-17T15:34:36.874Z"
   },
   {
    "duration": 0,
    "start_time": "2023-02-17T15:34:36.876Z"
   },
   {
    "duration": 0,
    "start_time": "2023-02-17T15:34:36.877Z"
   },
   {
    "duration": 0,
    "start_time": "2023-02-17T15:34:36.877Z"
   },
   {
    "duration": 0,
    "start_time": "2023-02-17T15:34:36.878Z"
   },
   {
    "duration": 0,
    "start_time": "2023-02-17T15:34:36.879Z"
   },
   {
    "duration": 0,
    "start_time": "2023-02-17T15:34:36.880Z"
   },
   {
    "duration": 0,
    "start_time": "2023-02-17T15:34:36.881Z"
   },
   {
    "duration": 0,
    "start_time": "2023-02-17T15:34:36.882Z"
   },
   {
    "duration": 0,
    "start_time": "2023-02-17T15:34:36.883Z"
   },
   {
    "duration": 0,
    "start_time": "2023-02-17T15:34:36.885Z"
   },
   {
    "duration": 0,
    "start_time": "2023-02-17T15:34:36.887Z"
   },
   {
    "duration": 0,
    "start_time": "2023-02-17T15:34:36.887Z"
   },
   {
    "duration": 0,
    "start_time": "2023-02-17T15:34:36.888Z"
   },
   {
    "duration": 0,
    "start_time": "2023-02-17T15:34:36.889Z"
   },
   {
    "duration": 0,
    "start_time": "2023-02-17T15:34:36.891Z"
   },
   {
    "duration": 14,
    "start_time": "2023-02-17T15:35:34.480Z"
   },
   {
    "duration": 10,
    "start_time": "2023-02-17T15:37:59.485Z"
   },
   {
    "duration": 11,
    "start_time": "2023-02-17T15:38:14.002Z"
   },
   {
    "duration": 27,
    "start_time": "2023-02-17T15:38:48.640Z"
   },
   {
    "duration": 22,
    "start_time": "2023-02-17T15:39:10.583Z"
   },
   {
    "duration": 16,
    "start_time": "2023-02-17T15:40:42.489Z"
   },
   {
    "duration": 345,
    "start_time": "2023-02-17T15:46:37.628Z"
   },
   {
    "duration": 10,
    "start_time": "2023-02-17T15:49:25.384Z"
   },
   {
    "duration": 16,
    "start_time": "2023-02-17T15:49:35.279Z"
   },
   {
    "duration": 20,
    "start_time": "2023-02-17T15:50:01.387Z"
   },
   {
    "duration": 10,
    "start_time": "2023-02-17T15:56:52.041Z"
   },
   {
    "duration": 1083,
    "start_time": "2023-02-17T15:57:14.156Z"
   },
   {
    "duration": 49,
    "start_time": "2023-02-17T15:57:15.240Z"
   },
   {
    "duration": 18,
    "start_time": "2023-02-17T15:57:15.290Z"
   },
   {
    "duration": 15,
    "start_time": "2023-02-17T15:57:15.311Z"
   },
   {
    "duration": 30,
    "start_time": "2023-02-17T15:57:15.328Z"
   },
   {
    "duration": 15,
    "start_time": "2023-02-17T15:57:15.360Z"
   },
   {
    "duration": 3,
    "start_time": "2023-02-17T15:57:15.377Z"
   },
   {
    "duration": 17,
    "start_time": "2023-02-17T15:57:15.382Z"
   },
   {
    "duration": 6,
    "start_time": "2023-02-17T15:57:15.401Z"
   },
   {
    "duration": 34,
    "start_time": "2023-02-17T15:57:15.409Z"
   },
   {
    "duration": 10,
    "start_time": "2023-02-17T15:57:15.444Z"
   },
   {
    "duration": 8,
    "start_time": "2023-02-17T15:57:15.456Z"
   },
   {
    "duration": 9,
    "start_time": "2023-02-17T15:57:15.466Z"
   },
   {
    "duration": 4,
    "start_time": "2023-02-17T15:57:15.476Z"
   },
   {
    "duration": 8,
    "start_time": "2023-02-17T15:57:15.482Z"
   },
   {
    "duration": 27,
    "start_time": "2023-02-17T15:57:15.491Z"
   },
   {
    "duration": 9,
    "start_time": "2023-02-17T15:57:15.537Z"
   },
   {
    "duration": 92,
    "start_time": "2023-02-17T15:57:15.548Z"
   },
   {
    "duration": 372,
    "start_time": "2023-02-17T15:57:15.642Z"
   },
   {
    "duration": 301,
    "start_time": "2023-02-17T15:57:16.017Z"
   },
   {
    "duration": 23,
    "start_time": "2023-02-17T15:57:16.320Z"
   },
   {
    "duration": 1042,
    "start_time": "2023-02-17T15:57:43.083Z"
   },
   {
    "duration": 46,
    "start_time": "2023-02-17T15:57:44.128Z"
   },
   {
    "duration": 18,
    "start_time": "2023-02-17T15:57:44.176Z"
   },
   {
    "duration": 13,
    "start_time": "2023-02-17T15:57:44.196Z"
   },
   {
    "duration": 30,
    "start_time": "2023-02-17T15:57:44.211Z"
   },
   {
    "duration": 15,
    "start_time": "2023-02-17T15:57:44.242Z"
   },
   {
    "duration": 3,
    "start_time": "2023-02-17T15:57:44.258Z"
   },
   {
    "duration": 19,
    "start_time": "2023-02-17T15:57:44.262Z"
   },
   {
    "duration": 6,
    "start_time": "2023-02-17T15:57:44.283Z"
   },
   {
    "duration": 8,
    "start_time": "2023-02-17T15:57:44.291Z"
   },
   {
    "duration": 6,
    "start_time": "2023-02-17T15:57:44.300Z"
   },
   {
    "duration": 31,
    "start_time": "2023-02-17T15:57:44.307Z"
   },
   {
    "duration": 10,
    "start_time": "2023-02-17T15:57:44.340Z"
   },
   {
    "duration": 4,
    "start_time": "2023-02-17T15:57:44.352Z"
   },
   {
    "duration": 14,
    "start_time": "2023-02-17T15:57:44.357Z"
   },
   {
    "duration": 22,
    "start_time": "2023-02-17T15:57:44.373Z"
   },
   {
    "duration": 9,
    "start_time": "2023-02-17T15:57:44.397Z"
   },
   {
    "duration": 85,
    "start_time": "2023-02-17T15:57:44.408Z"
   },
   {
    "duration": 330,
    "start_time": "2023-02-17T15:57:44.494Z"
   },
   {
    "duration": 286,
    "start_time": "2023-02-17T15:57:44.825Z"
   },
   {
    "duration": 25,
    "start_time": "2023-02-17T15:57:45.112Z"
   },
   {
    "duration": 0,
    "start_time": "2023-02-17T15:59:27.312Z"
   },
   {
    "duration": 15,
    "start_time": "2023-02-17T16:04:29.618Z"
   },
   {
    "duration": 21,
    "start_time": "2023-02-17T16:04:43.291Z"
   },
   {
    "duration": 679,
    "start_time": "2023-02-17T16:05:11.636Z"
   },
   {
    "duration": 36,
    "start_time": "2023-02-17T16:06:54.074Z"
   },
   {
    "duration": 781,
    "start_time": "2023-02-17T16:07:59.887Z"
   },
   {
    "duration": 10,
    "start_time": "2023-02-17T16:09:16.298Z"
   },
   {
    "duration": 21,
    "start_time": "2023-02-17T16:09:25.304Z"
   },
   {
    "duration": 1107,
    "start_time": "2023-02-17T16:10:14.224Z"
   },
   {
    "duration": 47,
    "start_time": "2023-02-17T16:10:15.333Z"
   },
   {
    "duration": 18,
    "start_time": "2023-02-17T16:10:15.382Z"
   },
   {
    "duration": 15,
    "start_time": "2023-02-17T16:10:15.402Z"
   },
   {
    "duration": 33,
    "start_time": "2023-02-17T16:10:15.419Z"
   },
   {
    "duration": 13,
    "start_time": "2023-02-17T16:10:15.453Z"
   },
   {
    "duration": 2,
    "start_time": "2023-02-17T16:10:15.468Z"
   },
   {
    "duration": 14,
    "start_time": "2023-02-17T16:10:15.472Z"
   },
   {
    "duration": 8,
    "start_time": "2023-02-17T16:10:15.487Z"
   },
   {
    "duration": 6,
    "start_time": "2023-02-17T16:10:15.497Z"
   },
   {
    "duration": 19,
    "start_time": "2023-02-17T16:10:15.504Z"
   },
   {
    "duration": 18,
    "start_time": "2023-02-17T16:10:15.525Z"
   },
   {
    "duration": 9,
    "start_time": "2023-02-17T16:10:15.545Z"
   },
   {
    "duration": 3,
    "start_time": "2023-02-17T16:10:15.556Z"
   },
   {
    "duration": 6,
    "start_time": "2023-02-17T16:10:15.561Z"
   },
   {
    "duration": 20,
    "start_time": "2023-02-17T16:10:15.568Z"
   },
   {
    "duration": 10,
    "start_time": "2023-02-17T16:10:15.590Z"
   },
   {
    "duration": 109,
    "start_time": "2023-02-17T16:10:15.602Z"
   },
   {
    "duration": 370,
    "start_time": "2023-02-17T16:10:15.712Z"
   },
   {
    "duration": 309,
    "start_time": "2023-02-17T16:10:16.084Z"
   },
   {
    "duration": 17,
    "start_time": "2023-02-17T16:10:16.395Z"
   },
   {
    "duration": 125,
    "start_time": "2023-02-17T16:10:16.413Z"
   },
   {
    "duration": 0,
    "start_time": "2023-02-17T16:10:16.540Z"
   },
   {
    "duration": 0,
    "start_time": "2023-02-17T16:10:16.541Z"
   },
   {
    "duration": 0,
    "start_time": "2023-02-17T16:10:16.542Z"
   },
   {
    "duration": 0,
    "start_time": "2023-02-17T16:10:16.542Z"
   },
   {
    "duration": 0,
    "start_time": "2023-02-17T16:10:16.543Z"
   },
   {
    "duration": 0,
    "start_time": "2023-02-17T16:10:16.544Z"
   },
   {
    "duration": 0,
    "start_time": "2023-02-17T16:10:16.545Z"
   },
   {
    "duration": 0,
    "start_time": "2023-02-17T16:10:16.546Z"
   },
   {
    "duration": 0,
    "start_time": "2023-02-17T16:10:16.547Z"
   },
   {
    "duration": 0,
    "start_time": "2023-02-17T16:10:16.548Z"
   },
   {
    "duration": 0,
    "start_time": "2023-02-17T16:10:16.549Z"
   },
   {
    "duration": 0,
    "start_time": "2023-02-17T16:10:16.550Z"
   },
   {
    "duration": 0,
    "start_time": "2023-02-17T16:10:16.551Z"
   },
   {
    "duration": 0,
    "start_time": "2023-02-17T16:10:16.552Z"
   },
   {
    "duration": 0,
    "start_time": "2023-02-17T16:10:16.553Z"
   },
   {
    "duration": 0,
    "start_time": "2023-02-17T16:10:16.553Z"
   },
   {
    "duration": 0,
    "start_time": "2023-02-17T16:10:16.555Z"
   },
   {
    "duration": 0,
    "start_time": "2023-02-17T16:10:16.556Z"
   },
   {
    "duration": 0,
    "start_time": "2023-02-17T16:10:16.556Z"
   },
   {
    "duration": 0,
    "start_time": "2023-02-17T16:10:16.558Z"
   },
   {
    "duration": 0,
    "start_time": "2023-02-17T16:10:16.559Z"
   },
   {
    "duration": 0,
    "start_time": "2023-02-17T16:10:16.560Z"
   },
   {
    "duration": 19,
    "start_time": "2023-02-17T16:12:17.412Z"
   },
   {
    "duration": 19,
    "start_time": "2023-02-17T16:13:18.267Z"
   },
   {
    "duration": 1068,
    "start_time": "2023-02-17T16:16:24.741Z"
   },
   {
    "duration": 46,
    "start_time": "2023-02-17T16:16:25.810Z"
   },
   {
    "duration": 17,
    "start_time": "2023-02-17T16:16:25.858Z"
   },
   {
    "duration": 12,
    "start_time": "2023-02-17T16:16:25.877Z"
   },
   {
    "duration": 36,
    "start_time": "2023-02-17T16:16:25.891Z"
   },
   {
    "duration": 20,
    "start_time": "2023-02-17T16:16:25.928Z"
   },
   {
    "duration": 3,
    "start_time": "2023-02-17T16:16:25.949Z"
   },
   {
    "duration": 26,
    "start_time": "2023-02-17T16:16:25.954Z"
   },
   {
    "duration": 14,
    "start_time": "2023-02-17T16:16:25.981Z"
   },
   {
    "duration": 23,
    "start_time": "2023-02-17T16:16:25.998Z"
   },
   {
    "duration": 5,
    "start_time": "2023-02-17T16:16:26.023Z"
   },
   {
    "duration": 8,
    "start_time": "2023-02-17T16:16:26.030Z"
   },
   {
    "duration": 12,
    "start_time": "2023-02-17T16:16:26.040Z"
   },
   {
    "duration": 14,
    "start_time": "2023-02-17T16:16:26.053Z"
   },
   {
    "duration": 34,
    "start_time": "2023-02-17T16:16:26.068Z"
   },
   {
    "duration": 21,
    "start_time": "2023-02-17T16:16:26.104Z"
   },
   {
    "duration": 8,
    "start_time": "2023-02-17T16:16:26.127Z"
   },
   {
    "duration": 65,
    "start_time": "2023-02-17T16:16:26.137Z"
   },
   {
    "duration": 352,
    "start_time": "2023-02-17T16:16:26.203Z"
   },
   {
    "duration": 268,
    "start_time": "2023-02-17T16:16:26.557Z"
   },
   {
    "duration": 17,
    "start_time": "2023-02-17T16:16:26.827Z"
   },
   {
    "duration": 113,
    "start_time": "2023-02-17T16:16:26.845Z"
   },
   {
    "duration": 0,
    "start_time": "2023-02-17T16:16:26.960Z"
   },
   {
    "duration": 0,
    "start_time": "2023-02-17T16:16:26.961Z"
   },
   {
    "duration": 0,
    "start_time": "2023-02-17T16:16:26.962Z"
   },
   {
    "duration": 0,
    "start_time": "2023-02-17T16:16:26.963Z"
   },
   {
    "duration": 0,
    "start_time": "2023-02-17T16:16:26.965Z"
   },
   {
    "duration": 0,
    "start_time": "2023-02-17T16:16:26.966Z"
   },
   {
    "duration": 0,
    "start_time": "2023-02-17T16:16:26.967Z"
   },
   {
    "duration": 0,
    "start_time": "2023-02-17T16:16:26.968Z"
   },
   {
    "duration": 0,
    "start_time": "2023-02-17T16:16:26.968Z"
   },
   {
    "duration": 0,
    "start_time": "2023-02-17T16:16:26.969Z"
   },
   {
    "duration": 0,
    "start_time": "2023-02-17T16:16:26.970Z"
   },
   {
    "duration": 0,
    "start_time": "2023-02-17T16:16:26.971Z"
   },
   {
    "duration": 0,
    "start_time": "2023-02-17T16:16:26.972Z"
   },
   {
    "duration": 0,
    "start_time": "2023-02-17T16:16:26.973Z"
   },
   {
    "duration": 0,
    "start_time": "2023-02-17T16:16:26.973Z"
   },
   {
    "duration": 0,
    "start_time": "2023-02-17T16:16:26.974Z"
   },
   {
    "duration": 0,
    "start_time": "2023-02-17T16:16:26.975Z"
   },
   {
    "duration": 0,
    "start_time": "2023-02-17T16:16:26.976Z"
   },
   {
    "duration": 0,
    "start_time": "2023-02-17T16:16:26.977Z"
   },
   {
    "duration": 0,
    "start_time": "2023-02-17T16:16:26.977Z"
   },
   {
    "duration": 0,
    "start_time": "2023-02-17T16:16:26.978Z"
   },
   {
    "duration": 0,
    "start_time": "2023-02-17T16:16:26.979Z"
   },
   {
    "duration": 1103,
    "start_time": "2023-02-17T16:17:12.321Z"
   },
   {
    "duration": 46,
    "start_time": "2023-02-17T16:17:13.426Z"
   },
   {
    "duration": 16,
    "start_time": "2023-02-17T16:17:13.475Z"
   },
   {
    "duration": 13,
    "start_time": "2023-02-17T16:17:13.492Z"
   },
   {
    "duration": 29,
    "start_time": "2023-02-17T16:17:13.508Z"
   },
   {
    "duration": 12,
    "start_time": "2023-02-17T16:17:13.539Z"
   },
   {
    "duration": 3,
    "start_time": "2023-02-17T16:17:13.553Z"
   },
   {
    "duration": 17,
    "start_time": "2023-02-17T16:17:13.557Z"
   },
   {
    "duration": 6,
    "start_time": "2023-02-17T16:17:13.576Z"
   },
   {
    "duration": 10,
    "start_time": "2023-02-17T16:17:13.584Z"
   },
   {
    "duration": 6,
    "start_time": "2023-02-17T16:17:13.596Z"
   },
   {
    "duration": 35,
    "start_time": "2023-02-17T16:17:13.604Z"
   },
   {
    "duration": 14,
    "start_time": "2023-02-17T16:17:13.641Z"
   },
   {
    "duration": 5,
    "start_time": "2023-02-17T16:17:13.659Z"
   },
   {
    "duration": 9,
    "start_time": "2023-02-17T16:17:13.666Z"
   },
   {
    "duration": 25,
    "start_time": "2023-02-17T16:17:13.676Z"
   },
   {
    "duration": 9,
    "start_time": "2023-02-17T16:17:13.702Z"
   },
   {
    "duration": 92,
    "start_time": "2023-02-17T16:17:13.712Z"
   },
   {
    "duration": 333,
    "start_time": "2023-02-17T16:17:13.806Z"
   },
   {
    "duration": 280,
    "start_time": "2023-02-17T16:17:14.141Z"
   },
   {
    "duration": 18,
    "start_time": "2023-02-17T16:17:14.423Z"
   },
   {
    "duration": 3,
    "start_time": "2023-02-17T16:17:14.442Z"
   },
   {
    "duration": 227,
    "start_time": "2023-02-17T16:17:14.448Z"
   },
   {
    "duration": 0,
    "start_time": "2023-02-17T16:17:14.677Z"
   },
   {
    "duration": 0,
    "start_time": "2023-02-17T16:17:14.678Z"
   },
   {
    "duration": 0,
    "start_time": "2023-02-17T16:17:14.679Z"
   },
   {
    "duration": 0,
    "start_time": "2023-02-17T16:17:14.680Z"
   },
   {
    "duration": 0,
    "start_time": "2023-02-17T16:17:14.681Z"
   },
   {
    "duration": 0,
    "start_time": "2023-02-17T16:17:14.682Z"
   },
   {
    "duration": 0,
    "start_time": "2023-02-17T16:17:14.683Z"
   },
   {
    "duration": 0,
    "start_time": "2023-02-17T16:17:14.684Z"
   },
   {
    "duration": 0,
    "start_time": "2023-02-17T16:17:14.685Z"
   },
   {
    "duration": 0,
    "start_time": "2023-02-17T16:17:14.686Z"
   },
   {
    "duration": 0,
    "start_time": "2023-02-17T16:17:14.687Z"
   },
   {
    "duration": 0,
    "start_time": "2023-02-17T16:17:14.688Z"
   },
   {
    "duration": 0,
    "start_time": "2023-02-17T16:17:14.689Z"
   },
   {
    "duration": 0,
    "start_time": "2023-02-17T16:17:14.691Z"
   },
   {
    "duration": 0,
    "start_time": "2023-02-17T16:17:14.692Z"
   },
   {
    "duration": 0,
    "start_time": "2023-02-17T16:17:14.693Z"
   },
   {
    "duration": 0,
    "start_time": "2023-02-17T16:17:14.694Z"
   },
   {
    "duration": 0,
    "start_time": "2023-02-17T16:17:14.695Z"
   },
   {
    "duration": 0,
    "start_time": "2023-02-17T16:17:14.696Z"
   },
   {
    "duration": 0,
    "start_time": "2023-02-17T16:17:14.697Z"
   },
   {
    "duration": 0,
    "start_time": "2023-02-17T16:17:14.698Z"
   },
   {
    "duration": 12,
    "start_time": "2023-02-17T16:22:12.735Z"
   },
   {
    "duration": 6,
    "start_time": "2023-02-17T16:22:15.833Z"
   },
   {
    "duration": 231,
    "start_time": "2023-02-17T16:22:17.493Z"
   },
   {
    "duration": 29,
    "start_time": "2023-02-17T16:24:58.755Z"
   },
   {
    "duration": 332,
    "start_time": "2023-02-17T16:25:11.437Z"
   },
   {
    "duration": 227,
    "start_time": "2023-02-17T16:27:34.789Z"
   },
   {
    "duration": 12,
    "start_time": "2023-02-17T16:28:41.276Z"
   },
   {
    "duration": 19,
    "start_time": "2023-02-17T16:45:20.447Z"
   },
   {
    "duration": 20,
    "start_time": "2023-02-17T16:45:40.772Z"
   },
   {
    "duration": 5,
    "start_time": "2023-02-17T16:47:39.866Z"
   },
   {
    "duration": 1078,
    "start_time": "2023-02-17T16:47:46.190Z"
   },
   {
    "duration": 49,
    "start_time": "2023-02-17T16:47:47.270Z"
   },
   {
    "duration": 29,
    "start_time": "2023-02-17T16:47:47.323Z"
   },
   {
    "duration": 23,
    "start_time": "2023-02-17T16:47:47.354Z"
   },
   {
    "duration": 31,
    "start_time": "2023-02-17T16:47:47.379Z"
   },
   {
    "duration": 13,
    "start_time": "2023-02-17T16:47:47.412Z"
   },
   {
    "duration": 12,
    "start_time": "2023-02-17T16:47:47.427Z"
   },
   {
    "duration": 21,
    "start_time": "2023-02-17T16:47:47.448Z"
   },
   {
    "duration": 5,
    "start_time": "2023-02-17T16:47:47.471Z"
   },
   {
    "duration": 7,
    "start_time": "2023-02-17T16:47:47.478Z"
   },
   {
    "duration": 7,
    "start_time": "2023-02-17T16:47:47.487Z"
   },
   {
    "duration": 8,
    "start_time": "2023-02-17T16:47:47.496Z"
   },
   {
    "duration": 8,
    "start_time": "2023-02-17T16:47:47.506Z"
   },
   {
    "duration": 22,
    "start_time": "2023-02-17T16:47:47.516Z"
   },
   {
    "duration": 12,
    "start_time": "2023-02-17T16:47:47.539Z"
   },
   {
    "duration": 26,
    "start_time": "2023-02-17T16:47:47.553Z"
   },
   {
    "duration": 9,
    "start_time": "2023-02-17T16:47:47.581Z"
   },
   {
    "duration": 89,
    "start_time": "2023-02-17T16:47:47.591Z"
   },
   {
    "duration": 349,
    "start_time": "2023-02-17T16:47:47.681Z"
   },
   {
    "duration": 291,
    "start_time": "2023-02-17T16:47:48.032Z"
   },
   {
    "duration": 23,
    "start_time": "2023-02-17T16:47:48.334Z"
   },
   {
    "duration": 113,
    "start_time": "2023-02-17T16:47:48.359Z"
   },
   {
    "duration": 0,
    "start_time": "2023-02-17T16:47:48.474Z"
   },
   {
    "duration": 0,
    "start_time": "2023-02-17T16:47:48.475Z"
   },
   {
    "duration": 0,
    "start_time": "2023-02-17T16:47:48.476Z"
   },
   {
    "duration": 0,
    "start_time": "2023-02-17T16:47:48.477Z"
   },
   {
    "duration": 0,
    "start_time": "2023-02-17T16:47:48.478Z"
   },
   {
    "duration": 0,
    "start_time": "2023-02-17T16:47:48.479Z"
   },
   {
    "duration": 0,
    "start_time": "2023-02-17T16:47:48.480Z"
   },
   {
    "duration": 0,
    "start_time": "2023-02-17T16:47:48.480Z"
   },
   {
    "duration": 0,
    "start_time": "2023-02-17T16:47:48.481Z"
   },
   {
    "duration": 0,
    "start_time": "2023-02-17T16:47:48.483Z"
   },
   {
    "duration": 0,
    "start_time": "2023-02-17T16:47:48.484Z"
   },
   {
    "duration": 0,
    "start_time": "2023-02-17T16:47:48.484Z"
   },
   {
    "duration": 0,
    "start_time": "2023-02-17T16:47:48.485Z"
   },
   {
    "duration": 0,
    "start_time": "2023-02-17T16:47:48.486Z"
   },
   {
    "duration": 0,
    "start_time": "2023-02-17T16:47:48.487Z"
   },
   {
    "duration": 0,
    "start_time": "2023-02-17T16:47:48.488Z"
   },
   {
    "duration": 0,
    "start_time": "2023-02-17T16:47:48.488Z"
   },
   {
    "duration": 0,
    "start_time": "2023-02-17T16:47:48.489Z"
   },
   {
    "duration": 0,
    "start_time": "2023-02-17T16:47:48.490Z"
   },
   {
    "duration": 0,
    "start_time": "2023-02-17T16:47:48.491Z"
   },
   {
    "duration": 0,
    "start_time": "2023-02-17T16:47:48.492Z"
   },
   {
    "duration": 0,
    "start_time": "2023-02-17T16:47:48.493Z"
   },
   {
    "duration": 26,
    "start_time": "2023-02-17T16:48:41.876Z"
   },
   {
    "duration": 5,
    "start_time": "2023-02-17T16:49:12.829Z"
   },
   {
    "duration": 13,
    "start_time": "2023-02-17T16:53:51.292Z"
   },
   {
    "duration": 12,
    "start_time": "2023-02-17T16:55:05.449Z"
   },
   {
    "duration": 1068,
    "start_time": "2023-02-17T16:55:13.273Z"
   },
   {
    "duration": 55,
    "start_time": "2023-02-17T16:55:14.344Z"
   },
   {
    "duration": 18,
    "start_time": "2023-02-17T16:55:14.400Z"
   },
   {
    "duration": 12,
    "start_time": "2023-02-17T16:55:14.420Z"
   },
   {
    "duration": 29,
    "start_time": "2023-02-17T16:55:14.433Z"
   },
   {
    "duration": 13,
    "start_time": "2023-02-17T16:55:14.464Z"
   },
   {
    "duration": 2,
    "start_time": "2023-02-17T16:55:14.479Z"
   },
   {
    "duration": 14,
    "start_time": "2023-02-17T16:55:14.482Z"
   },
   {
    "duration": 7,
    "start_time": "2023-02-17T16:55:14.498Z"
   },
   {
    "duration": 6,
    "start_time": "2023-02-17T16:55:14.507Z"
   },
   {
    "duration": 7,
    "start_time": "2023-02-17T16:55:14.536Z"
   },
   {
    "duration": 20,
    "start_time": "2023-02-17T16:55:14.545Z"
   },
   {
    "duration": 9,
    "start_time": "2023-02-17T16:55:14.566Z"
   },
   {
    "duration": 4,
    "start_time": "2023-02-17T16:55:14.576Z"
   },
   {
    "duration": 7,
    "start_time": "2023-02-17T16:55:14.581Z"
   },
   {
    "duration": 19,
    "start_time": "2023-02-17T16:55:14.590Z"
   },
   {
    "duration": 27,
    "start_time": "2023-02-17T16:55:14.610Z"
   },
   {
    "duration": 73,
    "start_time": "2023-02-17T16:55:14.639Z"
   },
   {
    "duration": 355,
    "start_time": "2023-02-17T16:55:14.713Z"
   },
   {
    "duration": 297,
    "start_time": "2023-02-17T16:55:15.069Z"
   },
   {
    "duration": 15,
    "start_time": "2023-02-17T16:55:15.367Z"
   },
   {
    "duration": 11,
    "start_time": "2023-02-17T16:55:15.383Z"
   },
   {
    "duration": 120,
    "start_time": "2023-02-17T16:55:15.395Z"
   },
   {
    "duration": 0,
    "start_time": "2023-02-17T16:55:15.517Z"
   },
   {
    "duration": 0,
    "start_time": "2023-02-17T16:55:15.518Z"
   },
   {
    "duration": 0,
    "start_time": "2023-02-17T16:55:15.519Z"
   },
   {
    "duration": 0,
    "start_time": "2023-02-17T16:55:15.520Z"
   },
   {
    "duration": 0,
    "start_time": "2023-02-17T16:55:15.520Z"
   },
   {
    "duration": 0,
    "start_time": "2023-02-17T16:55:15.521Z"
   },
   {
    "duration": 0,
    "start_time": "2023-02-17T16:55:15.522Z"
   },
   {
    "duration": 0,
    "start_time": "2023-02-17T16:55:15.523Z"
   },
   {
    "duration": 0,
    "start_time": "2023-02-17T16:55:15.537Z"
   },
   {
    "duration": 0,
    "start_time": "2023-02-17T16:55:15.538Z"
   },
   {
    "duration": 0,
    "start_time": "2023-02-17T16:55:15.539Z"
   },
   {
    "duration": 0,
    "start_time": "2023-02-17T16:55:15.540Z"
   },
   {
    "duration": 0,
    "start_time": "2023-02-17T16:55:15.541Z"
   },
   {
    "duration": 0,
    "start_time": "2023-02-17T16:55:15.542Z"
   },
   {
    "duration": 0,
    "start_time": "2023-02-17T16:55:15.543Z"
   },
   {
    "duration": 0,
    "start_time": "2023-02-17T16:55:15.545Z"
   },
   {
    "duration": 0,
    "start_time": "2023-02-17T16:55:15.546Z"
   },
   {
    "duration": 0,
    "start_time": "2023-02-17T16:55:15.547Z"
   },
   {
    "duration": 0,
    "start_time": "2023-02-17T16:55:15.548Z"
   },
   {
    "duration": 0,
    "start_time": "2023-02-17T16:55:15.549Z"
   },
   {
    "duration": 0,
    "start_time": "2023-02-17T16:55:15.550Z"
   },
   {
    "duration": 0,
    "start_time": "2023-02-17T16:55:15.552Z"
   },
   {
    "duration": 21,
    "start_time": "2023-02-17T16:56:29.406Z"
   },
   {
    "duration": 13,
    "start_time": "2023-02-17T16:56:40.367Z"
   },
   {
    "duration": 9,
    "start_time": "2023-02-17T17:03:25.768Z"
   },
   {
    "duration": 299,
    "start_time": "2023-02-17T17:03:26.626Z"
   },
   {
    "duration": 296,
    "start_time": "2023-02-17T17:03:30.678Z"
   },
   {
    "duration": 6,
    "start_time": "2023-02-17T17:15:42.893Z"
   },
   {
    "duration": 1076,
    "start_time": "2023-02-17T17:16:09.196Z"
   },
   {
    "duration": 64,
    "start_time": "2023-02-17T17:16:10.274Z"
   },
   {
    "duration": 20,
    "start_time": "2023-02-17T17:16:10.339Z"
   },
   {
    "duration": 16,
    "start_time": "2023-02-17T17:16:10.361Z"
   },
   {
    "duration": 30,
    "start_time": "2023-02-17T17:16:10.379Z"
   },
   {
    "duration": 40,
    "start_time": "2023-02-17T17:16:10.410Z"
   },
   {
    "duration": 3,
    "start_time": "2023-02-17T17:16:10.452Z"
   },
   {
    "duration": 19,
    "start_time": "2023-02-17T17:16:10.457Z"
   },
   {
    "duration": 7,
    "start_time": "2023-02-17T17:16:10.478Z"
   },
   {
    "duration": 42,
    "start_time": "2023-02-17T17:16:10.487Z"
   },
   {
    "duration": 15,
    "start_time": "2023-02-17T17:16:10.531Z"
   },
   {
    "duration": 14,
    "start_time": "2023-02-17T17:16:10.548Z"
   },
   {
    "duration": 11,
    "start_time": "2023-02-17T17:16:10.564Z"
   },
   {
    "duration": 5,
    "start_time": "2023-02-17T17:16:10.577Z"
   },
   {
    "duration": 10,
    "start_time": "2023-02-17T17:16:10.584Z"
   },
   {
    "duration": 44,
    "start_time": "2023-02-17T17:16:10.596Z"
   },
   {
    "duration": 11,
    "start_time": "2023-02-17T17:16:10.642Z"
   },
   {
    "duration": 106,
    "start_time": "2023-02-17T17:16:10.655Z"
   },
   {
    "duration": 371,
    "start_time": "2023-02-17T17:16:10.763Z"
   },
   {
    "duration": 315,
    "start_time": "2023-02-17T17:16:11.136Z"
   },
   {
    "duration": 27,
    "start_time": "2023-02-17T17:16:11.453Z"
   },
   {
    "duration": 125,
    "start_time": "2023-02-17T17:16:11.483Z"
   },
   {
    "duration": 0,
    "start_time": "2023-02-17T17:16:11.611Z"
   },
   {
    "duration": 0,
    "start_time": "2023-02-17T17:16:11.612Z"
   },
   {
    "duration": 0,
    "start_time": "2023-02-17T17:16:11.613Z"
   },
   {
    "duration": 0,
    "start_time": "2023-02-17T17:16:11.614Z"
   },
   {
    "duration": 0,
    "start_time": "2023-02-17T17:16:11.616Z"
   },
   {
    "duration": 0,
    "start_time": "2023-02-17T17:16:11.616Z"
   },
   {
    "duration": 0,
    "start_time": "2023-02-17T17:16:11.617Z"
   },
   {
    "duration": 0,
    "start_time": "2023-02-17T17:16:11.619Z"
   },
   {
    "duration": 0,
    "start_time": "2023-02-17T17:16:11.620Z"
   },
   {
    "duration": 0,
    "start_time": "2023-02-17T17:16:11.637Z"
   },
   {
    "duration": 0,
    "start_time": "2023-02-17T17:16:11.638Z"
   },
   {
    "duration": 0,
    "start_time": "2023-02-17T17:16:11.639Z"
   },
   {
    "duration": 0,
    "start_time": "2023-02-17T17:16:11.640Z"
   },
   {
    "duration": 0,
    "start_time": "2023-02-17T17:16:11.641Z"
   },
   {
    "duration": 0,
    "start_time": "2023-02-17T17:16:11.642Z"
   },
   {
    "duration": 0,
    "start_time": "2023-02-17T17:16:11.643Z"
   },
   {
    "duration": 0,
    "start_time": "2023-02-17T17:16:11.644Z"
   },
   {
    "duration": 0,
    "start_time": "2023-02-17T17:16:11.645Z"
   },
   {
    "duration": 0,
    "start_time": "2023-02-17T17:16:11.646Z"
   },
   {
    "duration": 0,
    "start_time": "2023-02-17T17:16:11.647Z"
   },
   {
    "duration": 0,
    "start_time": "2023-02-17T17:16:11.648Z"
   },
   {
    "duration": 0,
    "start_time": "2023-02-17T17:16:11.649Z"
   },
   {
    "duration": 12,
    "start_time": "2023-02-17T17:16:49.087Z"
   },
   {
    "duration": 1097,
    "start_time": "2023-02-17T17:20:15.037Z"
   },
   {
    "duration": 52,
    "start_time": "2023-02-17T17:20:16.136Z"
   },
   {
    "duration": 17,
    "start_time": "2023-02-17T17:20:16.190Z"
   },
   {
    "duration": 19,
    "start_time": "2023-02-17T17:20:16.209Z"
   },
   {
    "duration": 42,
    "start_time": "2023-02-17T17:20:16.230Z"
   },
   {
    "duration": 25,
    "start_time": "2023-02-17T17:20:16.274Z"
   },
   {
    "duration": 3,
    "start_time": "2023-02-17T17:20:16.301Z"
   },
   {
    "duration": 35,
    "start_time": "2023-02-17T17:20:16.306Z"
   },
   {
    "duration": 13,
    "start_time": "2023-02-17T17:20:16.343Z"
   },
   {
    "duration": 11,
    "start_time": "2023-02-17T17:20:16.358Z"
   },
   {
    "duration": 13,
    "start_time": "2023-02-17T17:20:16.371Z"
   },
   {
    "duration": 10,
    "start_time": "2023-02-17T17:20:16.385Z"
   },
   {
    "duration": 9,
    "start_time": "2023-02-17T17:20:16.397Z"
   },
   {
    "duration": 28,
    "start_time": "2023-02-17T17:20:16.410Z"
   },
   {
    "duration": 8,
    "start_time": "2023-02-17T17:20:16.442Z"
   },
   {
    "duration": 24,
    "start_time": "2023-02-17T17:20:16.452Z"
   },
   {
    "duration": 11,
    "start_time": "2023-02-17T17:20:16.478Z"
   },
   {
    "duration": 87,
    "start_time": "2023-02-17T17:20:16.491Z"
   },
   {
    "duration": 340,
    "start_time": "2023-02-17T17:20:16.580Z"
   },
   {
    "duration": 276,
    "start_time": "2023-02-17T17:20:16.921Z"
   },
   {
    "duration": 16,
    "start_time": "2023-02-17T17:20:17.199Z"
   },
   {
    "duration": 27,
    "start_time": "2023-02-17T17:20:17.216Z"
   },
   {
    "duration": 7,
    "start_time": "2023-02-17T17:20:17.245Z"
   },
   {
    "duration": 316,
    "start_time": "2023-02-17T17:20:17.254Z"
   },
   {
    "duration": 236,
    "start_time": "2023-02-17T17:20:17.571Z"
   },
   {
    "duration": 12,
    "start_time": "2023-02-17T17:20:17.808Z"
   },
   {
    "duration": 223,
    "start_time": "2023-02-17T17:20:17.821Z"
   },
   {
    "duration": 7,
    "start_time": "2023-02-17T17:20:18.045Z"
   },
   {
    "duration": 12,
    "start_time": "2023-02-17T17:20:18.053Z"
   },
   {
    "duration": 13,
    "start_time": "2023-02-17T17:20:18.066Z"
   },
   {
    "duration": 172,
    "start_time": "2023-02-17T17:20:18.080Z"
   },
   {
    "duration": 14,
    "start_time": "2023-02-17T17:20:18.253Z"
   },
   {
    "duration": 10,
    "start_time": "2023-02-17T17:20:18.269Z"
   },
   {
    "duration": 185,
    "start_time": "2023-02-17T17:20:18.281Z"
   },
   {
    "duration": 179,
    "start_time": "2023-02-17T17:20:18.468Z"
   },
   {
    "duration": 180,
    "start_time": "2023-02-17T17:20:18.648Z"
   },
   {
    "duration": 192,
    "start_time": "2023-02-17T17:20:18.829Z"
   },
   {
    "duration": 186,
    "start_time": "2023-02-17T17:20:19.023Z"
   },
   {
    "duration": 194,
    "start_time": "2023-02-17T17:20:19.211Z"
   },
   {
    "duration": 16,
    "start_time": "2023-02-17T17:20:19.407Z"
   },
   {
    "duration": 9,
    "start_time": "2023-02-17T17:20:19.437Z"
   },
   {
    "duration": 11,
    "start_time": "2023-02-17T17:20:19.447Z"
   },
   {
    "duration": 9,
    "start_time": "2023-02-17T17:20:19.460Z"
   },
   {
    "duration": 7,
    "start_time": "2023-02-17T17:20:19.471Z"
   },
   {
    "duration": 104,
    "start_time": "2023-02-17T17:21:00.492Z"
   },
   {
    "duration": 2,
    "start_time": "2023-02-17T17:21:52.968Z"
   },
   {
    "duration": 21,
    "start_time": "2023-02-17T17:22:11.888Z"
   },
   {
    "duration": 9,
    "start_time": "2023-02-17T17:25:17.986Z"
   },
   {
    "duration": 667,
    "start_time": "2023-02-17T17:26:13.820Z"
   },
   {
    "duration": 10,
    "start_time": "2023-02-17T17:28:14.968Z"
   },
   {
    "duration": 13,
    "start_time": "2023-02-17T17:28:42.981Z"
   },
   {
    "duration": 1043,
    "start_time": "2023-02-17T17:29:36.473Z"
   },
   {
    "duration": 47,
    "start_time": "2023-02-17T17:29:37.518Z"
   },
   {
    "duration": 18,
    "start_time": "2023-02-17T17:29:37.567Z"
   },
   {
    "duration": 14,
    "start_time": "2023-02-17T17:29:37.587Z"
   },
   {
    "duration": 50,
    "start_time": "2023-02-17T17:29:37.604Z"
   },
   {
    "duration": 17,
    "start_time": "2023-02-17T17:29:37.656Z"
   },
   {
    "duration": 3,
    "start_time": "2023-02-17T17:29:37.674Z"
   },
   {
    "duration": 16,
    "start_time": "2023-02-17T17:29:37.678Z"
   },
   {
    "duration": 11,
    "start_time": "2023-02-17T17:29:37.696Z"
   },
   {
    "duration": 30,
    "start_time": "2023-02-17T17:29:37.709Z"
   },
   {
    "duration": 5,
    "start_time": "2023-02-17T17:29:37.741Z"
   },
   {
    "duration": 15,
    "start_time": "2023-02-17T17:29:37.747Z"
   },
   {
    "duration": 8,
    "start_time": "2023-02-17T17:29:37.764Z"
   },
   {
    "duration": 4,
    "start_time": "2023-02-17T17:29:37.775Z"
   },
   {
    "duration": 6,
    "start_time": "2023-02-17T17:29:37.780Z"
   },
   {
    "duration": 20,
    "start_time": "2023-02-17T17:29:37.788Z"
   },
   {
    "duration": 33,
    "start_time": "2023-02-17T17:29:37.810Z"
   },
   {
    "duration": 70,
    "start_time": "2023-02-17T17:29:37.844Z"
   },
   {
    "duration": 330,
    "start_time": "2023-02-17T17:29:37.916Z"
   },
   {
    "duration": 268,
    "start_time": "2023-02-17T17:29:38.248Z"
   },
   {
    "duration": 24,
    "start_time": "2023-02-17T17:29:38.518Z"
   },
   {
    "duration": 8,
    "start_time": "2023-02-17T17:29:38.543Z"
   },
   {
    "duration": 750,
    "start_time": "2023-02-17T17:29:38.552Z"
   },
   {
    "duration": 0,
    "start_time": "2023-02-17T17:29:39.305Z"
   },
   {
    "duration": 0,
    "start_time": "2023-02-17T17:29:39.306Z"
   },
   {
    "duration": 0,
    "start_time": "2023-02-17T17:29:39.308Z"
   },
   {
    "duration": 0,
    "start_time": "2023-02-17T17:29:39.309Z"
   },
   {
    "duration": 0,
    "start_time": "2023-02-17T17:29:39.310Z"
   },
   {
    "duration": 0,
    "start_time": "2023-02-17T17:29:39.312Z"
   },
   {
    "duration": 0,
    "start_time": "2023-02-17T17:29:39.313Z"
   },
   {
    "duration": 0,
    "start_time": "2023-02-17T17:29:39.315Z"
   },
   {
    "duration": 0,
    "start_time": "2023-02-17T17:29:39.316Z"
   },
   {
    "duration": 0,
    "start_time": "2023-02-17T17:29:39.317Z"
   },
   {
    "duration": 0,
    "start_time": "2023-02-17T17:29:39.319Z"
   },
   {
    "duration": 0,
    "start_time": "2023-02-17T17:29:39.319Z"
   },
   {
    "duration": 0,
    "start_time": "2023-02-17T17:29:39.322Z"
   },
   {
    "duration": 0,
    "start_time": "2023-02-17T17:29:39.323Z"
   },
   {
    "duration": 0,
    "start_time": "2023-02-17T17:29:39.324Z"
   },
   {
    "duration": 0,
    "start_time": "2023-02-17T17:29:39.326Z"
   },
   {
    "duration": 0,
    "start_time": "2023-02-17T17:29:39.327Z"
   },
   {
    "duration": 0,
    "start_time": "2023-02-17T17:29:39.328Z"
   },
   {
    "duration": 0,
    "start_time": "2023-02-17T17:29:39.329Z"
   },
   {
    "duration": 0,
    "start_time": "2023-02-17T17:29:39.330Z"
   },
   {
    "duration": 0,
    "start_time": "2023-02-17T17:29:39.331Z"
   },
   {
    "duration": 0,
    "start_time": "2023-02-17T17:29:39.332Z"
   },
   {
    "duration": 676,
    "start_time": "2023-02-17T17:30:07.062Z"
   },
   {
    "duration": 711,
    "start_time": "2023-02-17T17:30:57.647Z"
   },
   {
    "duration": 673,
    "start_time": "2023-02-17T17:31:21.690Z"
   },
   {
    "duration": 1060,
    "start_time": "2023-02-17T17:36:33.280Z"
   },
   {
    "duration": 52,
    "start_time": "2023-02-17T17:36:34.344Z"
   },
   {
    "duration": 20,
    "start_time": "2023-02-17T17:36:34.398Z"
   },
   {
    "duration": 16,
    "start_time": "2023-02-17T17:36:34.422Z"
   },
   {
    "duration": 31,
    "start_time": "2023-02-17T17:36:34.440Z"
   },
   {
    "duration": 18,
    "start_time": "2023-02-17T17:36:34.473Z"
   },
   {
    "duration": 3,
    "start_time": "2023-02-17T17:36:34.493Z"
   },
   {
    "duration": 40,
    "start_time": "2023-02-17T17:36:34.498Z"
   },
   {
    "duration": 7,
    "start_time": "2023-02-17T17:36:34.540Z"
   },
   {
    "duration": 10,
    "start_time": "2023-02-17T17:36:34.550Z"
   },
   {
    "duration": 9,
    "start_time": "2023-02-17T17:36:34.562Z"
   },
   {
    "duration": 12,
    "start_time": "2023-02-17T17:36:34.573Z"
   },
   {
    "duration": 13,
    "start_time": "2023-02-17T17:36:34.586Z"
   },
   {
    "duration": 6,
    "start_time": "2023-02-17T17:36:34.601Z"
   },
   {
    "duration": 6,
    "start_time": "2023-02-17T17:36:34.637Z"
   },
   {
    "duration": 29,
    "start_time": "2023-02-17T17:36:34.645Z"
   },
   {
    "duration": 10,
    "start_time": "2023-02-17T17:36:34.675Z"
   },
   {
    "duration": 90,
    "start_time": "2023-02-17T17:36:34.686Z"
   },
   {
    "duration": 343,
    "start_time": "2023-02-17T17:36:34.778Z"
   },
   {
    "duration": 269,
    "start_time": "2023-02-17T17:36:35.123Z"
   },
   {
    "duration": 14,
    "start_time": "2023-02-17T17:36:35.393Z"
   },
   {
    "duration": 7,
    "start_time": "2023-02-17T17:36:35.409Z"
   },
   {
    "duration": 30,
    "start_time": "2023-02-17T17:36:35.418Z"
   },
   {
    "duration": 7,
    "start_time": "2023-02-17T17:36:35.450Z"
   },
   {
    "duration": 330,
    "start_time": "2023-02-17T17:36:35.459Z"
   },
   {
    "duration": 259,
    "start_time": "2023-02-17T17:36:35.791Z"
   },
   {
    "duration": 11,
    "start_time": "2023-02-17T17:36:36.052Z"
   },
   {
    "duration": 223,
    "start_time": "2023-02-17T17:36:36.066Z"
   },
   {
    "duration": 6,
    "start_time": "2023-02-17T17:36:36.291Z"
   },
   {
    "duration": 11,
    "start_time": "2023-02-17T17:36:36.299Z"
   },
   {
    "duration": 27,
    "start_time": "2023-02-17T17:36:36.311Z"
   },
   {
    "duration": 170,
    "start_time": "2023-02-17T17:36:36.339Z"
   },
   {
    "duration": 14,
    "start_time": "2023-02-17T17:36:36.510Z"
   },
   {
    "duration": 21,
    "start_time": "2023-02-17T17:36:36.525Z"
   },
   {
    "duration": 170,
    "start_time": "2023-02-17T17:36:36.548Z"
   },
   {
    "duration": 175,
    "start_time": "2023-02-17T17:36:36.719Z"
   },
   {
    "duration": 179,
    "start_time": "2023-02-17T17:36:36.896Z"
   },
   {
    "duration": 184,
    "start_time": "2023-02-17T17:36:37.076Z"
   },
   {
    "duration": 187,
    "start_time": "2023-02-17T17:36:37.261Z"
   },
   {
    "duration": 198,
    "start_time": "2023-02-17T17:36:37.450Z"
   },
   {
    "duration": 14,
    "start_time": "2023-02-17T17:36:37.650Z"
   },
   {
    "duration": 7,
    "start_time": "2023-02-17T17:36:37.666Z"
   },
   {
    "duration": 16,
    "start_time": "2023-02-17T17:36:37.675Z"
   },
   {
    "duration": 8,
    "start_time": "2023-02-17T17:36:37.693Z"
   },
   {
    "duration": 15,
    "start_time": "2023-02-17T17:36:37.704Z"
   },
   {
    "duration": 105,
    "start_time": "2023-02-17T17:37:26.618Z"
   },
   {
    "duration": 52,
    "start_time": "2023-02-17T17:40:54.462Z"
   },
   {
    "duration": 122,
    "start_time": "2023-02-17T17:41:10.338Z"
   },
   {
    "duration": 104,
    "start_time": "2023-02-17T17:41:53.709Z"
   },
   {
    "duration": 20,
    "start_time": "2023-02-17T17:45:15.076Z"
   },
   {
    "duration": 17,
    "start_time": "2023-02-17T17:45:38.123Z"
   },
   {
    "duration": 21,
    "start_time": "2023-02-17T17:46:22.200Z"
   },
   {
    "duration": 22,
    "start_time": "2023-02-17T17:46:42.750Z"
   },
   {
    "duration": 12,
    "start_time": "2023-02-17T17:49:37.845Z"
   },
   {
    "duration": 11,
    "start_time": "2023-02-17T17:50:52.678Z"
   },
   {
    "duration": 43,
    "start_time": "2023-02-17T17:51:00.940Z"
   },
   {
    "duration": 13,
    "start_time": "2023-02-17T17:51:06.924Z"
   },
   {
    "duration": 11,
    "start_time": "2023-02-17T17:51:16.724Z"
   },
   {
    "duration": 13,
    "start_time": "2023-02-17T17:52:11.687Z"
   },
   {
    "duration": 128,
    "start_time": "2023-02-17T17:55:08.046Z"
   },
   {
    "duration": 129,
    "start_time": "2023-02-17T17:55:39.058Z"
   },
   {
    "duration": 233,
    "start_time": "2023-02-17T17:57:40.731Z"
   },
   {
    "duration": 12,
    "start_time": "2023-02-17T18:04:16.795Z"
   },
   {
    "duration": 13,
    "start_time": "2023-02-17T18:04:25.500Z"
   },
   {
    "duration": 10,
    "start_time": "2023-02-17T18:04:28.782Z"
   },
   {
    "duration": 267,
    "start_time": "2023-02-17T18:04:30.252Z"
   },
   {
    "duration": 259,
    "start_time": "2023-02-17T18:05:20.349Z"
   },
   {
    "duration": 9,
    "start_time": "2023-02-17T18:06:31.372Z"
   },
   {
    "duration": 247,
    "start_time": "2023-02-17T18:06:54.326Z"
   },
   {
    "duration": 9,
    "start_time": "2023-02-17T18:07:25.077Z"
   },
   {
    "duration": 231,
    "start_time": "2023-02-17T18:07:29.706Z"
   },
   {
    "duration": 9,
    "start_time": "2023-02-17T18:08:21.051Z"
   },
   {
    "duration": 44,
    "start_time": "2023-02-17T18:10:31.091Z"
   },
   {
    "duration": 12,
    "start_time": "2023-02-17T18:11:08.625Z"
   },
   {
    "duration": 11,
    "start_time": "2023-02-17T18:11:27.682Z"
   },
   {
    "duration": 266,
    "start_time": "2023-02-17T18:12:40.640Z"
   },
   {
    "duration": 9,
    "start_time": "2023-02-17T18:13:59.719Z"
   },
   {
    "duration": 13,
    "start_time": "2023-02-17T18:15:05.567Z"
   },
   {
    "duration": 13,
    "start_time": "2023-02-17T18:15:15.716Z"
   },
   {
    "duration": 10,
    "start_time": "2023-02-17T18:15:31.450Z"
   },
   {
    "duration": 251,
    "start_time": "2023-02-17T18:15:55.986Z"
   },
   {
    "duration": 20,
    "start_time": "2023-02-17T18:25:25.861Z"
   },
   {
    "duration": 50,
    "start_time": "2023-02-17T18:26:06.247Z"
   },
   {
    "duration": 774,
    "start_time": "2023-02-17T18:26:16.877Z"
   },
   {
    "duration": 671,
    "start_time": "2023-02-17T18:28:15.623Z"
   },
   {
    "duration": 1104,
    "start_time": "2023-02-17T18:28:33.841Z"
   },
   {
    "duration": 57,
    "start_time": "2023-02-17T18:28:34.948Z"
   },
   {
    "duration": 18,
    "start_time": "2023-02-17T18:28:35.007Z"
   },
   {
    "duration": 14,
    "start_time": "2023-02-17T18:28:35.027Z"
   },
   {
    "duration": 29,
    "start_time": "2023-02-17T18:28:35.042Z"
   },
   {
    "duration": 17,
    "start_time": "2023-02-17T18:28:35.072Z"
   },
   {
    "duration": 2,
    "start_time": "2023-02-17T18:28:35.091Z"
   },
   {
    "duration": 15,
    "start_time": "2023-02-17T18:28:35.095Z"
   },
   {
    "duration": 7,
    "start_time": "2023-02-17T18:28:35.137Z"
   },
   {
    "duration": 12,
    "start_time": "2023-02-17T18:28:35.147Z"
   },
   {
    "duration": 24,
    "start_time": "2023-02-17T18:28:35.160Z"
   },
   {
    "duration": 9,
    "start_time": "2023-02-17T18:28:35.186Z"
   },
   {
    "duration": 10,
    "start_time": "2023-02-17T18:28:35.197Z"
   },
   {
    "duration": 7,
    "start_time": "2023-02-17T18:28:35.208Z"
   },
   {
    "duration": 8,
    "start_time": "2023-02-17T18:28:35.216Z"
   },
   {
    "duration": 26,
    "start_time": "2023-02-17T18:28:35.225Z"
   },
   {
    "duration": 41,
    "start_time": "2023-02-17T18:28:35.252Z"
   },
   {
    "duration": 71,
    "start_time": "2023-02-17T18:28:35.294Z"
   },
   {
    "duration": 358,
    "start_time": "2023-02-17T18:28:35.367Z"
   },
   {
    "duration": 310,
    "start_time": "2023-02-17T18:28:35.727Z"
   },
   {
    "duration": 16,
    "start_time": "2023-02-17T18:28:36.039Z"
   },
   {
    "duration": 2,
    "start_time": "2023-02-17T18:28:36.056Z"
   },
   {
    "duration": 14,
    "start_time": "2023-02-17T18:28:36.060Z"
   },
   {
    "duration": 355,
    "start_time": "2023-02-17T18:28:36.075Z"
   },
   {
    "duration": 290,
    "start_time": "2023-02-17T18:28:36.432Z"
   },
   {
    "duration": 18,
    "start_time": "2023-02-17T18:28:36.724Z"
   },
   {
    "duration": 13,
    "start_time": "2023-02-17T18:28:36.743Z"
   },
   {
    "duration": 245,
    "start_time": "2023-02-17T18:28:36.760Z"
   },
   {
    "duration": 137,
    "start_time": "2023-02-17T18:28:37.007Z"
   },
   {
    "duration": 14,
    "start_time": "2023-02-17T18:28:37.146Z"
   },
   {
    "duration": 25,
    "start_time": "2023-02-17T18:28:37.161Z"
   },
   {
    "duration": 290,
    "start_time": "2023-02-17T18:28:37.190Z"
   },
   {
    "duration": 9,
    "start_time": "2023-02-17T18:28:37.482Z"
   },
   {
    "duration": 288,
    "start_time": "2023-02-17T18:28:37.494Z"
   },
   {
    "duration": 9,
    "start_time": "2023-02-17T18:28:37.784Z"
   },
   {
    "duration": 266,
    "start_time": "2023-02-17T18:28:37.794Z"
   },
   {
    "duration": 12,
    "start_time": "2023-02-17T18:28:38.062Z"
   },
   {
    "duration": 333,
    "start_time": "2023-02-17T18:28:38.076Z"
   },
   {
    "duration": 10,
    "start_time": "2023-02-17T18:28:38.410Z"
   },
   {
    "duration": 286,
    "start_time": "2023-02-17T18:28:38.422Z"
   },
   {
    "duration": 770,
    "start_time": "2023-02-17T18:28:38.710Z"
   },
   {
    "duration": 0,
    "start_time": "2023-02-17T18:28:39.481Z"
   },
   {
    "duration": 0,
    "start_time": "2023-02-17T18:28:39.482Z"
   },
   {
    "duration": 0,
    "start_time": "2023-02-17T18:28:39.483Z"
   },
   {
    "duration": 0,
    "start_time": "2023-02-17T18:28:39.484Z"
   },
   {
    "duration": 0,
    "start_time": "2023-02-17T18:28:39.485Z"
   },
   {
    "duration": 0,
    "start_time": "2023-02-17T18:28:39.486Z"
   },
   {
    "duration": 0,
    "start_time": "2023-02-17T18:28:39.487Z"
   },
   {
    "duration": 0,
    "start_time": "2023-02-17T18:28:39.488Z"
   },
   {
    "duration": 0,
    "start_time": "2023-02-17T18:28:39.488Z"
   },
   {
    "duration": 0,
    "start_time": "2023-02-17T18:28:39.489Z"
   },
   {
    "duration": 0,
    "start_time": "2023-02-17T18:28:39.490Z"
   },
   {
    "duration": 0,
    "start_time": "2023-02-17T18:28:39.491Z"
   },
   {
    "duration": 0,
    "start_time": "2023-02-17T18:28:39.492Z"
   },
   {
    "duration": 665,
    "start_time": "2023-02-17T18:29:02.579Z"
   },
   {
    "duration": 806,
    "start_time": "2023-02-17T18:30:24.190Z"
   },
   {
    "duration": 10,
    "start_time": "2023-02-17T18:30:33.510Z"
   },
   {
    "duration": 811,
    "start_time": "2023-02-17T18:30:44.728Z"
   },
   {
    "duration": 14,
    "start_time": "2023-02-17T18:31:38.669Z"
   },
   {
    "duration": 351,
    "start_time": "2023-02-17T18:31:48.338Z"
   },
   {
    "duration": 357,
    "start_time": "2023-02-17T18:32:35.767Z"
   },
   {
    "duration": 26,
    "start_time": "2023-02-17T18:32:59.341Z"
   },
   {
    "duration": 909,
    "start_time": "2023-02-17T18:33:37.975Z"
   },
   {
    "duration": 837,
    "start_time": "2023-02-17T18:36:36.961Z"
   },
   {
    "duration": 22,
    "start_time": "2023-02-17T18:38:30.364Z"
   },
   {
    "duration": 15,
    "start_time": "2023-02-17T18:40:38.521Z"
   },
   {
    "duration": 13,
    "start_time": "2023-02-17T18:41:31.578Z"
   },
   {
    "duration": 814,
    "start_time": "2023-02-17T18:42:55.386Z"
   },
   {
    "duration": 824,
    "start_time": "2023-02-17T18:43:36.736Z"
   },
   {
    "duration": 9,
    "start_time": "2023-02-17T18:44:12.306Z"
   },
   {
    "duration": 705,
    "start_time": "2023-02-17T18:46:10.590Z"
   },
   {
    "duration": 15,
    "start_time": "2023-02-17T18:46:52.814Z"
   },
   {
    "duration": 8,
    "start_time": "2023-02-17T18:50:26.906Z"
   },
   {
    "duration": 15,
    "start_time": "2023-02-17T18:51:47.844Z"
   },
   {
    "duration": 775,
    "start_time": "2023-02-17T18:53:19.277Z"
   },
   {
    "duration": 21,
    "start_time": "2023-02-17T18:54:11.807Z"
   },
   {
    "duration": 141,
    "start_time": "2023-02-17T18:54:17.354Z"
   },
   {
    "duration": 10,
    "start_time": "2023-02-17T18:57:45.541Z"
   },
   {
    "duration": 155,
    "start_time": "2023-02-17T18:58:52.222Z"
   },
   {
    "duration": 10,
    "start_time": "2023-02-17T18:59:43.118Z"
   },
   {
    "duration": 165,
    "start_time": "2023-02-17T18:59:46.448Z"
   },
   {
    "duration": 157,
    "start_time": "2023-02-17T19:01:05.025Z"
   },
   {
    "duration": 155,
    "start_time": "2023-02-17T19:03:24.982Z"
   },
   {
    "duration": 153,
    "start_time": "2023-02-17T19:03:35.023Z"
   },
   {
    "duration": 115,
    "start_time": "2023-02-17T19:06:48.596Z"
   },
   {
    "duration": 10,
    "start_time": "2023-02-17T19:07:29.885Z"
   },
   {
    "duration": 110,
    "start_time": "2023-02-17T19:07:30.673Z"
   },
   {
    "duration": 348,
    "start_time": "2023-02-17T19:09:09.272Z"
   },
   {
    "duration": 24,
    "start_time": "2023-02-17T19:09:48.421Z"
   },
   {
    "duration": 19,
    "start_time": "2023-02-17T19:10:56.019Z"
   },
   {
    "duration": 21,
    "start_time": "2023-02-17T19:11:18.466Z"
   },
   {
    "duration": 2,
    "start_time": "2023-02-17T19:11:28.465Z"
   },
   {
    "duration": 280,
    "start_time": "2023-02-17T19:12:23.010Z"
   },
   {
    "duration": 287,
    "start_time": "2023-02-17T19:13:25.184Z"
   },
   {
    "duration": 13,
    "start_time": "2023-02-17T19:15:39.417Z"
   },
   {
    "duration": 1118,
    "start_time": "2023-02-17T19:17:23.947Z"
   },
   {
    "duration": 47,
    "start_time": "2023-02-17T19:17:25.067Z"
   },
   {
    "duration": 19,
    "start_time": "2023-02-17T19:17:25.116Z"
   },
   {
    "duration": 13,
    "start_time": "2023-02-17T19:17:25.137Z"
   },
   {
    "duration": 26,
    "start_time": "2023-02-17T19:17:25.151Z"
   },
   {
    "duration": 14,
    "start_time": "2023-02-17T19:17:25.179Z"
   },
   {
    "duration": 3,
    "start_time": "2023-02-17T19:17:25.194Z"
   },
   {
    "duration": 40,
    "start_time": "2023-02-17T19:17:25.198Z"
   },
   {
    "duration": 6,
    "start_time": "2023-02-17T19:17:25.240Z"
   },
   {
    "duration": 10,
    "start_time": "2023-02-17T19:17:25.248Z"
   },
   {
    "duration": 6,
    "start_time": "2023-02-17T19:17:25.259Z"
   },
   {
    "duration": 9,
    "start_time": "2023-02-17T19:17:25.267Z"
   },
   {
    "duration": 10,
    "start_time": "2023-02-17T19:17:25.278Z"
   },
   {
    "duration": 5,
    "start_time": "2023-02-17T19:17:25.289Z"
   },
   {
    "duration": 10,
    "start_time": "2023-02-17T19:17:25.295Z"
   },
   {
    "duration": 45,
    "start_time": "2023-02-17T19:17:25.306Z"
   },
   {
    "duration": 14,
    "start_time": "2023-02-17T19:17:25.353Z"
   },
   {
    "duration": 73,
    "start_time": "2023-02-17T19:17:25.368Z"
   },
   {
    "duration": 330,
    "start_time": "2023-02-17T19:17:25.443Z"
   },
   {
    "duration": 295,
    "start_time": "2023-02-17T19:17:25.775Z"
   },
   {
    "duration": 16,
    "start_time": "2023-02-17T19:17:26.072Z"
   },
   {
    "duration": 2,
    "start_time": "2023-02-17T19:17:26.090Z"
   },
   {
    "duration": 16,
    "start_time": "2023-02-17T19:17:26.093Z"
   },
   {
    "duration": 323,
    "start_time": "2023-02-17T19:17:26.110Z"
   },
   {
    "duration": 256,
    "start_time": "2023-02-17T19:17:26.435Z"
   },
   {
    "duration": 11,
    "start_time": "2023-02-17T19:17:26.692Z"
   },
   {
    "duration": 11,
    "start_time": "2023-02-17T19:17:26.705Z"
   },
   {
    "duration": 214,
    "start_time": "2023-02-17T19:17:26.719Z"
   },
   {
    "duration": 144,
    "start_time": "2023-02-17T19:17:26.934Z"
   },
   {
    "duration": 12,
    "start_time": "2023-02-17T19:17:27.080Z"
   },
   {
    "duration": 12,
    "start_time": "2023-02-17T19:17:27.093Z"
   },
   {
    "duration": 256,
    "start_time": "2023-02-17T19:17:27.107Z"
   },
   {
    "duration": 11,
    "start_time": "2023-02-17T19:17:27.364Z"
   },
   {
    "duration": 280,
    "start_time": "2023-02-17T19:17:27.376Z"
   },
   {
    "duration": 13,
    "start_time": "2023-02-17T19:17:27.658Z"
   },
   {
    "duration": 252,
    "start_time": "2023-02-17T19:17:27.672Z"
   },
   {
    "duration": 17,
    "start_time": "2023-02-17T19:17:27.926Z"
   },
   {
    "duration": 292,
    "start_time": "2023-02-17T19:17:27.945Z"
   },
   {
    "duration": 12,
    "start_time": "2023-02-17T19:17:28.239Z"
   },
   {
    "duration": 284,
    "start_time": "2023-02-17T19:17:28.253Z"
   },
   {
    "duration": 298,
    "start_time": "2023-02-17T19:17:28.538Z"
   },
   {
    "duration": 15,
    "start_time": "2023-02-17T19:17:28.837Z"
   },
   {
    "duration": 16,
    "start_time": "2023-02-17T19:17:28.854Z"
   },
   {
    "duration": 206,
    "start_time": "2023-02-17T19:17:28.872Z"
   },
   {
    "duration": 220,
    "start_time": "2023-02-17T19:17:29.080Z"
   },
   {
    "duration": 266,
    "start_time": "2023-02-17T19:17:29.301Z"
   },
   {
    "duration": 182,
    "start_time": "2023-02-17T19:17:29.568Z"
   },
   {
    "duration": 191,
    "start_time": "2023-02-17T19:17:29.751Z"
   },
   {
    "duration": 196,
    "start_time": "2023-02-17T19:17:29.944Z"
   },
   {
    "duration": 16,
    "start_time": "2023-02-17T19:17:30.142Z"
   },
   {
    "duration": 14,
    "start_time": "2023-02-17T19:17:30.160Z"
   },
   {
    "duration": 7,
    "start_time": "2023-02-17T19:17:30.176Z"
   },
   {
    "duration": 28,
    "start_time": "2023-02-17T19:17:30.185Z"
   },
   {
    "duration": 20,
    "start_time": "2023-02-17T19:17:30.214Z"
   },
   {
    "duration": 119,
    "start_time": "2023-02-17T19:18:25.680Z"
   },
   {
    "duration": 730,
    "start_time": "2023-02-17T19:19:59.328Z"
   },
   {
    "duration": 299,
    "start_time": "2023-02-17T19:20:33.868Z"
   },
   {
    "duration": 330,
    "start_time": "2023-02-17T19:20:53.309Z"
   },
   {
    "duration": 184,
    "start_time": "2023-02-17T19:21:36.157Z"
   },
   {
    "duration": 319,
    "start_time": "2023-02-17T19:21:49.506Z"
   },
   {
    "duration": 193,
    "start_time": "2023-02-17T19:23:51.574Z"
   },
   {
    "duration": 320,
    "start_time": "2023-02-17T19:24:08.043Z"
   },
   {
    "duration": 4,
    "start_time": "2023-02-17T19:47:52.991Z"
   },
   {
    "duration": 1030,
    "start_time": "2023-02-17T19:59:34.396Z"
   },
   {
    "duration": 47,
    "start_time": "2023-02-17T19:59:35.428Z"
   },
   {
    "duration": 17,
    "start_time": "2023-02-17T19:59:35.477Z"
   },
   {
    "duration": 15,
    "start_time": "2023-02-17T19:59:35.497Z"
   },
   {
    "duration": 34,
    "start_time": "2023-02-17T19:59:35.514Z"
   },
   {
    "duration": 15,
    "start_time": "2023-02-17T19:59:35.549Z"
   },
   {
    "duration": 3,
    "start_time": "2023-02-17T19:59:35.565Z"
   },
   {
    "duration": 15,
    "start_time": "2023-02-17T19:59:35.569Z"
   },
   {
    "duration": 10,
    "start_time": "2023-02-17T19:59:35.586Z"
   },
   {
    "duration": 19,
    "start_time": "2023-02-17T19:59:35.599Z"
   },
   {
    "duration": 20,
    "start_time": "2023-02-17T19:59:35.620Z"
   },
   {
    "duration": 9,
    "start_time": "2023-02-17T19:59:35.641Z"
   },
   {
    "duration": 11,
    "start_time": "2023-02-17T19:59:35.652Z"
   },
   {
    "duration": 7,
    "start_time": "2023-02-17T19:59:35.665Z"
   },
   {
    "duration": 7,
    "start_time": "2023-02-17T19:59:35.675Z"
   },
   {
    "duration": 21,
    "start_time": "2023-02-17T19:59:35.684Z"
   },
   {
    "duration": 35,
    "start_time": "2023-02-17T19:59:35.706Z"
   },
   {
    "duration": 67,
    "start_time": "2023-02-17T19:59:35.742Z"
   },
   {
    "duration": 360,
    "start_time": "2023-02-17T19:59:35.810Z"
   },
   {
    "duration": 280,
    "start_time": "2023-02-17T19:59:36.171Z"
   },
   {
    "duration": 15,
    "start_time": "2023-02-17T19:59:36.452Z"
   },
   {
    "duration": 2,
    "start_time": "2023-02-17T19:59:36.468Z"
   },
   {
    "duration": 11,
    "start_time": "2023-02-17T19:59:36.471Z"
   },
   {
    "duration": 319,
    "start_time": "2023-02-17T19:59:36.483Z"
   },
   {
    "duration": 243,
    "start_time": "2023-02-17T19:59:36.804Z"
   },
   {
    "duration": 11,
    "start_time": "2023-02-17T19:59:37.048Z"
   },
   {
    "duration": 16,
    "start_time": "2023-02-17T19:59:37.061Z"
   },
   {
    "duration": 208,
    "start_time": "2023-02-17T19:59:37.080Z"
   },
   {
    "duration": 124,
    "start_time": "2023-02-17T19:59:37.289Z"
   },
   {
    "duration": 12,
    "start_time": "2023-02-17T19:59:37.415Z"
   },
   {
    "duration": 9,
    "start_time": "2023-02-17T19:59:37.436Z"
   },
   {
    "duration": 248,
    "start_time": "2023-02-17T19:59:37.446Z"
   },
   {
    "duration": 9,
    "start_time": "2023-02-17T19:59:37.696Z"
   },
   {
    "duration": 261,
    "start_time": "2023-02-17T19:59:37.706Z"
   },
   {
    "duration": 9,
    "start_time": "2023-02-17T19:59:37.968Z"
   },
   {
    "duration": 238,
    "start_time": "2023-02-17T19:59:37.979Z"
   },
   {
    "duration": 18,
    "start_time": "2023-02-17T19:59:38.219Z"
   },
   {
    "duration": 288,
    "start_time": "2023-02-17T19:59:38.239Z"
   },
   {
    "duration": 15,
    "start_time": "2023-02-17T19:59:38.529Z"
   },
   {
    "duration": 264,
    "start_time": "2023-02-17T19:59:38.546Z"
   },
   {
    "duration": 284,
    "start_time": "2023-02-17T19:59:38.812Z"
   },
   {
    "duration": 13,
    "start_time": "2023-02-17T19:59:39.098Z"
   },
   {
    "duration": 17,
    "start_time": "2023-02-17T19:59:39.112Z"
   },
   {
    "duration": 159,
    "start_time": "2023-02-17T19:59:39.137Z"
   },
   {
    "duration": 171,
    "start_time": "2023-02-17T19:59:39.297Z"
   },
   {
    "duration": 263,
    "start_time": "2023-02-17T19:59:39.470Z"
   },
   {
    "duration": 333,
    "start_time": "2023-02-17T19:59:39.737Z"
   },
   {
    "duration": 322,
    "start_time": "2023-02-17T19:59:40.072Z"
   },
   {
    "duration": 334,
    "start_time": "2023-02-17T19:59:40.395Z"
   },
   {
    "duration": 18,
    "start_time": "2023-02-17T19:59:40.731Z"
   },
   {
    "duration": 7,
    "start_time": "2023-02-17T19:59:40.751Z"
   },
   {
    "duration": 9,
    "start_time": "2023-02-17T19:59:40.760Z"
   },
   {
    "duration": 15,
    "start_time": "2023-02-17T19:59:40.770Z"
   },
   {
    "duration": 7,
    "start_time": "2023-02-17T19:59:40.786Z"
   },
   {
    "duration": 1114,
    "start_time": "2023-02-17T20:13:26.012Z"
   },
   {
    "duration": 46,
    "start_time": "2023-02-17T20:13:27.128Z"
   },
   {
    "duration": 19,
    "start_time": "2023-02-17T20:13:27.176Z"
   },
   {
    "duration": 14,
    "start_time": "2023-02-17T20:13:27.196Z"
   },
   {
    "duration": 40,
    "start_time": "2023-02-17T20:13:27.213Z"
   },
   {
    "duration": 15,
    "start_time": "2023-02-17T20:13:27.255Z"
   },
   {
    "duration": 3,
    "start_time": "2023-02-17T20:13:27.271Z"
   },
   {
    "duration": 16,
    "start_time": "2023-02-17T20:13:27.276Z"
   },
   {
    "duration": 7,
    "start_time": "2023-02-17T20:13:27.294Z"
   },
   {
    "duration": 37,
    "start_time": "2023-02-17T20:13:27.303Z"
   },
   {
    "duration": 7,
    "start_time": "2023-02-17T20:13:27.341Z"
   },
   {
    "duration": 8,
    "start_time": "2023-02-17T20:13:27.349Z"
   },
   {
    "duration": 9,
    "start_time": "2023-02-17T20:13:27.359Z"
   },
   {
    "duration": 4,
    "start_time": "2023-02-17T20:13:27.370Z"
   },
   {
    "duration": 9,
    "start_time": "2023-02-17T20:13:27.375Z"
   },
   {
    "duration": 23,
    "start_time": "2023-02-17T20:13:27.385Z"
   },
   {
    "duration": 37,
    "start_time": "2023-02-17T20:13:27.409Z"
   },
   {
    "duration": 74,
    "start_time": "2023-02-17T20:13:27.447Z"
   },
   {
    "duration": 348,
    "start_time": "2023-02-17T20:13:27.523Z"
   },
   {
    "duration": 299,
    "start_time": "2023-02-17T20:13:27.873Z"
   },
   {
    "duration": 15,
    "start_time": "2023-02-17T20:13:28.174Z"
   },
   {
    "duration": 2,
    "start_time": "2023-02-17T20:13:28.191Z"
   },
   {
    "duration": 13,
    "start_time": "2023-02-17T20:13:28.195Z"
   },
   {
    "duration": 345,
    "start_time": "2023-02-17T20:13:28.210Z"
   },
   {
    "duration": 269,
    "start_time": "2023-02-17T20:13:28.557Z"
   },
   {
    "duration": 19,
    "start_time": "2023-02-17T20:13:28.828Z"
   },
   {
    "duration": 12,
    "start_time": "2023-02-17T20:13:28.849Z"
   },
   {
    "duration": 236,
    "start_time": "2023-02-17T20:13:28.863Z"
   },
   {
    "duration": 142,
    "start_time": "2023-02-17T20:13:29.101Z"
   },
   {
    "duration": 13,
    "start_time": "2023-02-17T20:13:29.244Z"
   },
   {
    "duration": 15,
    "start_time": "2023-02-17T20:13:29.259Z"
   },
   {
    "duration": 267,
    "start_time": "2023-02-17T20:13:29.276Z"
   },
   {
    "duration": 11,
    "start_time": "2023-02-17T20:13:29.545Z"
   },
   {
    "duration": 285,
    "start_time": "2023-02-17T20:13:29.557Z"
   },
   {
    "duration": 13,
    "start_time": "2023-02-17T20:13:29.845Z"
   },
   {
    "duration": 246,
    "start_time": "2023-02-17T20:13:29.860Z"
   },
   {
    "duration": 11,
    "start_time": "2023-02-17T20:13:30.108Z"
   },
   {
    "duration": 334,
    "start_time": "2023-02-17T20:13:30.120Z"
   },
   {
    "duration": 23,
    "start_time": "2023-02-17T20:13:30.456Z"
   },
   {
    "duration": 324,
    "start_time": "2023-02-17T20:13:30.481Z"
   },
   {
    "duration": 291,
    "start_time": "2023-02-17T20:13:30.810Z"
   },
   {
    "duration": 13,
    "start_time": "2023-02-17T20:13:31.103Z"
   },
   {
    "duration": 21,
    "start_time": "2023-02-17T20:13:31.118Z"
   },
   {
    "duration": 181,
    "start_time": "2023-02-17T20:13:31.142Z"
   },
   {
    "duration": 185,
    "start_time": "2023-02-17T20:13:31.325Z"
   },
   {
    "duration": 251,
    "start_time": "2023-02-17T20:13:31.511Z"
   },
   {
    "duration": 333,
    "start_time": "2023-02-17T20:13:31.763Z"
   },
   {
    "duration": 333,
    "start_time": "2023-02-17T20:13:32.098Z"
   },
   {
    "duration": 394,
    "start_time": "2023-02-17T20:13:32.432Z"
   },
   {
    "duration": 25,
    "start_time": "2023-02-17T20:13:32.828Z"
   },
   {
    "duration": 8,
    "start_time": "2023-02-17T20:13:32.855Z"
   },
   {
    "duration": 11,
    "start_time": "2023-02-17T20:13:32.864Z"
   },
   {
    "duration": 18,
    "start_time": "2023-02-17T20:13:32.877Z"
   },
   {
    "duration": 16,
    "start_time": "2023-02-17T20:13:32.897Z"
   },
   {
    "duration": 1268,
    "start_time": "2023-02-18T18:47:44.514Z"
   },
   {
    "duration": 56,
    "start_time": "2023-02-18T18:47:45.785Z"
   },
   {
    "duration": 23,
    "start_time": "2023-02-18T18:47:45.843Z"
   },
   {
    "duration": 17,
    "start_time": "2023-02-18T18:47:45.868Z"
   },
   {
    "duration": 48,
    "start_time": "2023-02-18T18:47:45.888Z"
   },
   {
    "duration": 19,
    "start_time": "2023-02-18T18:47:45.937Z"
   },
   {
    "duration": 4,
    "start_time": "2023-02-18T18:47:45.959Z"
   },
   {
    "duration": 37,
    "start_time": "2023-02-18T18:47:45.965Z"
   },
   {
    "duration": 26,
    "start_time": "2023-02-18T18:47:46.010Z"
   },
   {
    "duration": 12,
    "start_time": "2023-02-18T18:47:46.037Z"
   },
   {
    "duration": 14,
    "start_time": "2023-02-18T18:47:46.050Z"
   },
   {
    "duration": 11,
    "start_time": "2023-02-18T18:47:46.066Z"
   },
   {
    "duration": 11,
    "start_time": "2023-02-18T18:47:46.078Z"
   },
   {
    "duration": 5,
    "start_time": "2023-02-18T18:47:46.091Z"
   },
   {
    "duration": 14,
    "start_time": "2023-02-18T18:47:46.097Z"
   },
   {
    "duration": 47,
    "start_time": "2023-02-18T18:47:46.117Z"
   },
   {
    "duration": 11,
    "start_time": "2023-02-18T18:47:46.166Z"
   },
   {
    "duration": 92,
    "start_time": "2023-02-18T18:47:46.178Z"
   },
   {
    "duration": 401,
    "start_time": "2023-02-18T18:47:46.272Z"
   },
   {
    "duration": 353,
    "start_time": "2023-02-18T18:47:46.676Z"
   },
   {
    "duration": 21,
    "start_time": "2023-02-18T18:47:47.031Z"
   },
   {
    "duration": 3,
    "start_time": "2023-02-18T18:47:47.054Z"
   },
   {
    "duration": 19,
    "start_time": "2023-02-18T18:47:47.059Z"
   },
   {
    "duration": 410,
    "start_time": "2023-02-18T18:47:47.080Z"
   },
   {
    "duration": 297,
    "start_time": "2023-02-18T18:47:47.492Z"
   },
   {
    "duration": 32,
    "start_time": "2023-02-18T18:47:47.791Z"
   },
   {
    "duration": 29,
    "start_time": "2023-02-18T18:47:47.824Z"
   },
   {
    "duration": 264,
    "start_time": "2023-02-18T18:47:47.856Z"
   },
   {
    "duration": 152,
    "start_time": "2023-02-18T18:47:48.128Z"
   },
   {
    "duration": 13,
    "start_time": "2023-02-18T18:47:48.282Z"
   },
   {
    "duration": 12,
    "start_time": "2023-02-18T18:47:48.303Z"
   },
   {
    "duration": 316,
    "start_time": "2023-02-18T18:47:48.322Z"
   },
   {
    "duration": 11,
    "start_time": "2023-02-18T18:47:48.640Z"
   },
   {
    "duration": 326,
    "start_time": "2023-02-18T18:47:48.652Z"
   },
   {
    "duration": 9,
    "start_time": "2023-02-18T18:47:48.980Z"
   },
   {
    "duration": 298,
    "start_time": "2023-02-18T18:47:48.990Z"
   },
   {
    "duration": 24,
    "start_time": "2023-02-18T18:47:49.290Z"
   },
   {
    "duration": 361,
    "start_time": "2023-02-18T18:47:49.315Z"
   },
   {
    "duration": 9,
    "start_time": "2023-02-18T18:47:49.678Z"
   },
   {
    "duration": 324,
    "start_time": "2023-02-18T18:47:49.689Z"
   },
   {
    "duration": 359,
    "start_time": "2023-02-18T18:47:50.019Z"
   },
   {
    "duration": 36,
    "start_time": "2023-02-18T18:47:50.380Z"
   },
   {
    "duration": 16,
    "start_time": "2023-02-18T18:47:50.418Z"
   },
   {
    "duration": 215,
    "start_time": "2023-02-18T18:47:50.437Z"
   },
   {
    "duration": 221,
    "start_time": "2023-02-18T18:47:50.654Z"
   },
   {
    "duration": 311,
    "start_time": "2023-02-18T18:47:50.877Z"
   },
   {
    "duration": 409,
    "start_time": "2023-02-18T18:47:51.191Z"
   },
   {
    "duration": 411,
    "start_time": "2023-02-18T18:47:51.601Z"
   },
   {
    "duration": 408,
    "start_time": "2023-02-18T18:47:52.013Z"
   },
   {
    "duration": 20,
    "start_time": "2023-02-18T18:47:52.424Z"
   },
   {
    "duration": 11,
    "start_time": "2023-02-18T18:47:52.446Z"
   },
   {
    "duration": 15,
    "start_time": "2023-02-18T18:47:52.459Z"
   },
   {
    "duration": 10,
    "start_time": "2023-02-18T18:47:52.476Z"
   },
   {
    "duration": 31,
    "start_time": "2023-02-18T18:47:52.505Z"
   },
   {
    "duration": 146,
    "start_time": "2023-02-18T18:54:43.693Z"
   },
   {
    "duration": 10,
    "start_time": "2023-02-18T18:56:16.427Z"
   },
   {
    "duration": 25,
    "start_time": "2023-02-18T18:56:37.231Z"
   },
   {
    "duration": 146,
    "start_time": "2023-02-18T18:59:02.501Z"
   },
   {
    "duration": 1113,
    "start_time": "2023-02-18T18:59:10.883Z"
   },
   {
    "duration": 1375,
    "start_time": "2023-02-18T18:59:56.402Z"
   }
  ],
  "kernelspec": {
   "display_name": "Python 3 (ipykernel)",
   "language": "python",
   "name": "python3"
  },
  "language_info": {
   "codemirror_mode": {
    "name": "ipython",
    "version": 3
   },
   "file_extension": ".py",
   "mimetype": "text/x-python",
   "name": "python",
   "nbconvert_exporter": "python",
   "pygments_lexer": "ipython3",
   "version": "3.9.13"
  },
  "toc": {
   "base_numbering": 1,
   "nav_menu": {},
   "number_sections": true,
   "sideBar": true,
   "skip_h1_title": true,
   "title_cell": "Table of Contents",
   "title_sidebar": "Contents",
   "toc_cell": false,
   "toc_position": {
    "height": "calc(100% - 180px)",
    "left": "10px",
    "top": "150px",
    "width": "165px"
   },
   "toc_section_display": true,
   "toc_window_display": true
  }
 },
 "nbformat": 4,
 "nbformat_minor": 5
}
