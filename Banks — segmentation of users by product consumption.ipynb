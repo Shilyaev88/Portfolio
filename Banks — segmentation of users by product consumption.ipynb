{
 "cells": [
  {
   "cell_type": "markdown",
   "metadata": {},
   "source": [
    "# Анализ и сегментация клиентов банка по количеству продуктов"
   ]
  },
  {
   "cell_type": "markdown",
   "metadata": {},
   "source": [
    "### Задача**:**\n",
    "\n",
    "Проанализировать клиентов регионального банка и сегментировать пользователей по количеству потребляемых продуктов, обращая особое внимание на отток."
   ]
  },
  {
   "cell_type": "markdown",
   "metadata": {},
   "source": [
    "### Цель:\n",
    "Предложение решений для снижения оттока клиентов для менеджера продукта."
   ]
  },
  {
   "cell_type": "markdown",
   "metadata": {},
   "source": [
    "### **Описание данных:**\n",
    "\n",
    "Датасет содержит данные о клиентах банка «Метанпром». Банк располагается в Ярославле и областных городах: Ростов Великий и Рыбинск.\n",
    "\n",
    "Колонки:\n",
    "\n",
    "- `userid` — идентификатор пользователя,\n",
    "- `score` — баллы кредитного скоринга,\n",
    "- `City` — город,\n",
    "- `Gender` — пол,\n",
    "- `Age` — возраст,\n",
    "- `Objects` — количество объектов в собственности,\n",
    "- `Balance` — баланс на счёте,\n",
    "- `Products` — количество продуктов, которыми пользуется клиент,\n",
    "- `CreditCard` — есть ли кредитная карта,\n",
    "- `Loyalty` — активный клиент,\n",
    "- `estimated_salary` — заработная плата клиента,\n",
    "- `Churn` — ушёл или нет."
   ]
  },
  {
   "cell_type": "markdown",
   "metadata": {},
   "source": [
    "### Декомпозиция :\n",
    "\n",
    "#### Шаг 1 : Загрузка данных и библиотек\n",
    "Первый взгляд на данные,приведение данных в удобный для работы вид.\n",
    "\n",
    "#### Шаг 2 : Предобработка\n",
    "Работа с пропусками,дубликатами и выбросами.\n",
    "Примем решение о фильтрации данных и заполнению пропусков.\n",
    "\n",
    "#### Шаг 3 : Исследовательский анализ данных\n",
    "Анализ распределения данных и построение графиков.\n",
    "\n",
    "#### Шаг 4 : Сегментация\n",
    "Разделение данных на сегменты и установление законномерностей в них.\n",
    "Построение графиков.\n",
    "\n",
    "#### Шаг 5: Статистическая проверка гипотез\n",
    "Проверим гипотезу различия возраста между теми клиентами, которые пользуются двумя продуктами банка, и теми, которые пользуются одним. Сформируем и проверим еще одну гипотезу на основании данных.\n",
    "\n",
    "#### Шаг 6: Выводы и рекомендации\n",
    "Сделаем выводы на основании анализа. \n",
    "Предоставим рекомендации для продуктового менеджера по вводу новых продуктов в рамках проделанной работы с сегментами пользователей на основе данных."
   ]
  },
  {
   "cell_type": "markdown",
   "metadata": {},
   "source": [
    "### Шаг 1 Загрузка данных и библиотек"
   ]
  },
  {
   "cell_type": "code",
   "execution_count": 1,
   "metadata": {},
   "outputs": [],
   "source": [
    "import pandas as pd # загружаем библиотеки\n",
    "from IPython.display import display\n",
    "import numpy as np\n",
    "from numpy import median\n",
    "import seaborn as sns\n",
    "pd.set_option('display.max_columns', 0)\n",
    "import matplotlib.pyplot as plt\n",
    "import plotly.express as px\n",
    "import plotly.graph_objects as go\n",
    "import warnings\n",
    "warnings.filterwarnings(\"ignore\")\n",
    "from scipy import stats as st\n"
   ]
  },
  {
   "cell_type": "code",
   "execution_count": 3,
   "metadata": {},
   "outputs": [
    {
     "name": "stdout",
     "output_type": "stream",
     "text": [
      "<class 'pandas.core.frame.DataFrame'>\n",
      "RangeIndex: 10000 entries, 0 to 9999\n",
      "Data columns (total 12 columns):\n",
      " #   Column            Non-Null Count  Dtype  \n",
      "---  ------            --------------  -----  \n",
      " 0   userid            10000 non-null  int64  \n",
      " 1   score             10000 non-null  int64  \n",
      " 2   City              10000 non-null  object \n",
      " 3   Gender            10000 non-null  object \n",
      " 4   Age               10000 non-null  int64  \n",
      " 5   Objects           10000 non-null  int64  \n",
      " 6   Balance           6383 non-null   float64\n",
      " 7   Products          10000 non-null  int64  \n",
      " 8   CreditCard        10000 non-null  int64  \n",
      " 9   Loyalty           10000 non-null  int64  \n",
      " 10  estimated_salary  10000 non-null  float64\n",
      " 11  Churn             10000 non-null  int64  \n",
      "dtypes: float64(2), int64(8), object(2)\n",
      "memory usage: 937.6+ KB\n"
     ]
    }
   ],
   "source": [
    "df.info() #смотрим "
   ]
  },
  {
   "cell_type": "code",
   "execution_count": 4,
   "metadata": {},
   "outputs": [
    {
     "data": {
      "text/html": [
       "<div>\n",
       "<style scoped>\n",
       "    .dataframe tbody tr th:only-of-type {\n",
       "        vertical-align: middle;\n",
       "    }\n",
       "\n",
       "    .dataframe tbody tr th {\n",
       "        vertical-align: top;\n",
       "    }\n",
       "\n",
       "    .dataframe thead th {\n",
       "        text-align: right;\n",
       "    }\n",
       "</style>\n",
       "<table border=\"1\" class=\"dataframe\">\n",
       "  <thead>\n",
       "    <tr style=\"text-align: right;\">\n",
       "      <th></th>\n",
       "      <th>userid</th>\n",
       "      <th>score</th>\n",
       "      <th>City</th>\n",
       "      <th>Gender</th>\n",
       "      <th>Age</th>\n",
       "      <th>Objects</th>\n",
       "      <th>Balance</th>\n",
       "      <th>Products</th>\n",
       "      <th>CreditCard</th>\n",
       "      <th>Loyalty</th>\n",
       "      <th>estimated_salary</th>\n",
       "      <th>Churn</th>\n",
       "    </tr>\n",
       "  </thead>\n",
       "  <tbody>\n",
       "    <tr>\n",
       "      <th>0</th>\n",
       "      <td>15677338</td>\n",
       "      <td>619</td>\n",
       "      <td>Ярославль</td>\n",
       "      <td>Ж</td>\n",
       "      <td>42</td>\n",
       "      <td>2</td>\n",
       "      <td>NaN</td>\n",
       "      <td>1</td>\n",
       "      <td>1</td>\n",
       "      <td>1</td>\n",
       "      <td>101348.88</td>\n",
       "      <td>1</td>\n",
       "    </tr>\n",
       "    <tr>\n",
       "      <th>1</th>\n",
       "      <td>15690047</td>\n",
       "      <td>608</td>\n",
       "      <td>Рыбинск</td>\n",
       "      <td>Ж</td>\n",
       "      <td>41</td>\n",
       "      <td>1</td>\n",
       "      <td>83807.86</td>\n",
       "      <td>1</td>\n",
       "      <td>0</td>\n",
       "      <td>1</td>\n",
       "      <td>112542.58</td>\n",
       "      <td>0</td>\n",
       "    </tr>\n",
       "    <tr>\n",
       "      <th>2</th>\n",
       "      <td>15662040</td>\n",
       "      <td>502</td>\n",
       "      <td>Ярославль</td>\n",
       "      <td>Ж</td>\n",
       "      <td>42</td>\n",
       "      <td>8</td>\n",
       "      <td>159660.80</td>\n",
       "      <td>3</td>\n",
       "      <td>1</td>\n",
       "      <td>0</td>\n",
       "      <td>113931.57</td>\n",
       "      <td>1</td>\n",
       "    </tr>\n",
       "    <tr>\n",
       "      <th>3</th>\n",
       "      <td>15744090</td>\n",
       "      <td>699</td>\n",
       "      <td>Ярославль</td>\n",
       "      <td>Ж</td>\n",
       "      <td>39</td>\n",
       "      <td>1</td>\n",
       "      <td>NaN</td>\n",
       "      <td>2</td>\n",
       "      <td>0</td>\n",
       "      <td>0</td>\n",
       "      <td>93826.63</td>\n",
       "      <td>0</td>\n",
       "    </tr>\n",
       "    <tr>\n",
       "      <th>4</th>\n",
       "      <td>15780624</td>\n",
       "      <td>850</td>\n",
       "      <td>Рыбинск</td>\n",
       "      <td>Ж</td>\n",
       "      <td>43</td>\n",
       "      <td>2</td>\n",
       "      <td>125510.82</td>\n",
       "      <td>1</td>\n",
       "      <td>1</td>\n",
       "      <td>1</td>\n",
       "      <td>79084.10</td>\n",
       "      <td>0</td>\n",
       "    </tr>\n",
       "  </tbody>\n",
       "</table>\n",
       "</div>"
      ],
      "text/plain": [
       "     userid  score       City  ... Loyalty  estimated_salary  Churn\n",
       "0  15677338    619  Ярославль  ...       1         101348.88      1\n",
       "1  15690047    608    Рыбинск  ...       1         112542.58      0\n",
       "2  15662040    502  Ярославль  ...       0         113931.57      1\n",
       "3  15744090    699  Ярославль  ...       0          93826.63      0\n",
       "4  15780624    850    Рыбинск  ...       1          79084.10      0\n",
       "\n",
       "[5 rows x 12 columns]"
      ]
     },
     "execution_count": 4,
     "metadata": {},
     "output_type": "execute_result"
    }
   ],
   "source": [
    "df.head(5)"
   ]
  },
  {
   "cell_type": "code",
   "execution_count": 5,
   "metadata": {},
   "outputs": [
    {
     "data": {
      "text/plain": [
       "0"
      ]
     },
     "execution_count": 5,
     "metadata": {},
     "output_type": "execute_result"
    }
   ],
   "source": [
    "df.duplicated().sum() # проверяем на дубликаты"
   ]
  },
  {
   "cell_type": "code",
   "execution_count": 6,
   "metadata": {
    "scrolled": true
   },
   "outputs": [
    {
     "data": {
      "text/plain": [
       "userid                 0\n",
       "score                  0\n",
       "City                   0\n",
       "Gender                 0\n",
       "Age                    0\n",
       "Objects                0\n",
       "Balance             3617\n",
       "Products               0\n",
       "CreditCard             0\n",
       "Loyalty                0\n",
       "estimated_salary       0\n",
       "Churn                  0\n",
       "dtype: int64"
      ]
     },
     "execution_count": 6,
     "metadata": {},
     "output_type": "execute_result"
    }
   ],
   "source": [
    "df.isna().sum() # смотрим пропуски"
   ]
  },
  {
   "cell_type": "code",
   "execution_count": 7,
   "metadata": {},
   "outputs": [
    {
     "name": "stdout",
     "output_type": "stream",
     "text": [
      "<class 'pandas.core.frame.DataFrame'>\n",
      "RangeIndex: 10000 entries, 0 to 9999\n",
      "Data columns (total 12 columns):\n",
      " #   Column            Non-Null Count  Dtype  \n",
      "---  ------            --------------  -----  \n",
      " 0   user_id           10000 non-null  int64  \n",
      " 1   score             10000 non-null  int64  \n",
      " 2   city              10000 non-null  object \n",
      " 3   gender            10000 non-null  object \n",
      " 4   age               10000 non-null  int64  \n",
      " 5   objects           10000 non-null  int64  \n",
      " 6   balance           6383 non-null   float64\n",
      " 7   products          10000 non-null  int64  \n",
      " 8   credit_card       10000 non-null  int64  \n",
      " 9   loyalty           10000 non-null  int64  \n",
      " 10  estimated_salary  10000 non-null  float64\n",
      " 11  churn             10000 non-null  int64  \n",
      "dtypes: float64(2), int64(8), object(2)\n",
      "memory usage: 937.6+ KB\n"
     ]
    }
   ],
   "source": [
    "df = df.rename(columns={'userid':'user_id','City':'city','Gender':'gender','Age':'age','Objects':'objects','Balance':'balance','Products':'products','CreditCard':'credit_card','Loyalty':'loyalty','Churn':'churn'})\n",
    "df.info() # меняем название колонок "
   ]
  },
  {
   "cell_type": "code",
   "execution_count": 8,
   "metadata": {
    "scrolled": true
   },
   "outputs": [
    {
     "data": {
      "text/html": [
       "<div>\n",
       "<style scoped>\n",
       "    .dataframe tbody tr th:only-of-type {\n",
       "        vertical-align: middle;\n",
       "    }\n",
       "\n",
       "    .dataframe tbody tr th {\n",
       "        vertical-align: top;\n",
       "    }\n",
       "\n",
       "    .dataframe thead th {\n",
       "        text-align: right;\n",
       "    }\n",
       "</style>\n",
       "<table border=\"1\" class=\"dataframe\">\n",
       "  <thead>\n",
       "    <tr style=\"text-align: right;\">\n",
       "      <th></th>\n",
       "      <th>user_id</th>\n",
       "      <th>score</th>\n",
       "      <th>age</th>\n",
       "      <th>objects</th>\n",
       "      <th>balance</th>\n",
       "      <th>products</th>\n",
       "      <th>credit_card</th>\n",
       "      <th>loyalty</th>\n",
       "      <th>estimated_salary</th>\n",
       "      <th>churn</th>\n",
       "    </tr>\n",
       "  </thead>\n",
       "  <tbody>\n",
       "    <tr>\n",
       "      <th>count</th>\n",
       "      <td>1.000000e+04</td>\n",
       "      <td>10000.000000</td>\n",
       "      <td>10000.000000</td>\n",
       "      <td>10000.000000</td>\n",
       "      <td>6383.000000</td>\n",
       "      <td>10000.000000</td>\n",
       "      <td>10000.00000</td>\n",
       "      <td>10000.000000</td>\n",
       "      <td>10000.000000</td>\n",
       "      <td>10000.000000</td>\n",
       "    </tr>\n",
       "    <tr>\n",
       "      <th>mean</th>\n",
       "      <td>1.573368e+07</td>\n",
       "      <td>650.528800</td>\n",
       "      <td>38.921800</td>\n",
       "      <td>5.012800</td>\n",
       "      <td>119827.493793</td>\n",
       "      <td>1.530200</td>\n",
       "      <td>0.70550</td>\n",
       "      <td>0.515100</td>\n",
       "      <td>100090.239881</td>\n",
       "      <td>0.203700</td>\n",
       "    </tr>\n",
       "    <tr>\n",
       "      <th>std</th>\n",
       "      <td>7.193619e+04</td>\n",
       "      <td>96.653299</td>\n",
       "      <td>10.487806</td>\n",
       "      <td>2.892174</td>\n",
       "      <td>30095.056462</td>\n",
       "      <td>0.581654</td>\n",
       "      <td>0.45584</td>\n",
       "      <td>0.499797</td>\n",
       "      <td>57510.492818</td>\n",
       "      <td>0.402769</td>\n",
       "    </tr>\n",
       "    <tr>\n",
       "      <th>min</th>\n",
       "      <td>1.560844e+07</td>\n",
       "      <td>350.000000</td>\n",
       "      <td>18.000000</td>\n",
       "      <td>0.000000</td>\n",
       "      <td>3768.690000</td>\n",
       "      <td>1.000000</td>\n",
       "      <td>0.00000</td>\n",
       "      <td>0.000000</td>\n",
       "      <td>11.580000</td>\n",
       "      <td>0.000000</td>\n",
       "    </tr>\n",
       "    <tr>\n",
       "      <th>25%</th>\n",
       "      <td>1.567126e+07</td>\n",
       "      <td>584.000000</td>\n",
       "      <td>32.000000</td>\n",
       "      <td>3.000000</td>\n",
       "      <td>100181.975000</td>\n",
       "      <td>1.000000</td>\n",
       "      <td>0.00000</td>\n",
       "      <td>0.000000</td>\n",
       "      <td>51002.110000</td>\n",
       "      <td>0.000000</td>\n",
       "    </tr>\n",
       "    <tr>\n",
       "      <th>50%</th>\n",
       "      <td>1.573347e+07</td>\n",
       "      <td>652.000000</td>\n",
       "      <td>37.000000</td>\n",
       "      <td>5.000000</td>\n",
       "      <td>119839.690000</td>\n",
       "      <td>1.000000</td>\n",
       "      <td>1.00000</td>\n",
       "      <td>1.000000</td>\n",
       "      <td>100193.915000</td>\n",
       "      <td>0.000000</td>\n",
       "    </tr>\n",
       "    <tr>\n",
       "      <th>75%</th>\n",
       "      <td>1.579597e+07</td>\n",
       "      <td>718.000000</td>\n",
       "      <td>44.000000</td>\n",
       "      <td>7.000000</td>\n",
       "      <td>139512.290000</td>\n",
       "      <td>2.000000</td>\n",
       "      <td>1.00000</td>\n",
       "      <td>1.000000</td>\n",
       "      <td>149388.247500</td>\n",
       "      <td>0.000000</td>\n",
       "    </tr>\n",
       "    <tr>\n",
       "      <th>max</th>\n",
       "      <td>1.585843e+07</td>\n",
       "      <td>850.000000</td>\n",
       "      <td>92.000000</td>\n",
       "      <td>10.000000</td>\n",
       "      <td>250898.090000</td>\n",
       "      <td>4.000000</td>\n",
       "      <td>1.00000</td>\n",
       "      <td>1.000000</td>\n",
       "      <td>199992.480000</td>\n",
       "      <td>1.000000</td>\n",
       "    </tr>\n",
       "  </tbody>\n",
       "</table>\n",
       "</div>"
      ],
      "text/plain": [
       "            user_id         score  ...  estimated_salary         churn\n",
       "count  1.000000e+04  10000.000000  ...      10000.000000  10000.000000\n",
       "mean   1.573368e+07    650.528800  ...     100090.239881      0.203700\n",
       "std    7.193619e+04     96.653299  ...      57510.492818      0.402769\n",
       "min    1.560844e+07    350.000000  ...         11.580000      0.000000\n",
       "25%    1.567126e+07    584.000000  ...      51002.110000      0.000000\n",
       "50%    1.573347e+07    652.000000  ...     100193.915000      0.000000\n",
       "75%    1.579597e+07    718.000000  ...     149388.247500      0.000000\n",
       "max    1.585843e+07    850.000000  ...     199992.480000      1.000000\n",
       "\n",
       "[8 rows x 10 columns]"
      ]
     },
     "execution_count": 8,
     "metadata": {},
     "output_type": "execute_result"
    }
   ],
   "source": [
    "df.describe() # смотрим на значения в числовых колонках"
   ]
  },
  {
   "cell_type": "code",
   "execution_count": 9,
   "metadata": {},
   "outputs": [
    {
     "name": "stdout",
     "output_type": "stream",
     "text": [
      "Города в датасете:  ['Ярославль' 'Рыбинск' 'Ростов Великий']\n"
     ]
    }
   ],
   "source": [
    "print('Города в датасете: ',df['city'].unique()) # смотрим города"
   ]
  },
  {
   "cell_type": "code",
   "execution_count": 10,
   "metadata": {},
   "outputs": [
    {
     "name": "stdout",
     "output_type": "stream",
     "text": [
      "<class 'pandas.core.frame.DataFrame'>\n",
      "RangeIndex: 10000 entries, 0 to 9999\n",
      "Data columns (total 12 columns):\n",
      " #   Column            Non-Null Count  Dtype  \n",
      "---  ------            --------------  -----  \n",
      " 0   user_id           10000 non-null  int64  \n",
      " 1   score             10000 non-null  int64  \n",
      " 2   city              10000 non-null  object \n",
      " 3   gender            10000 non-null  object \n",
      " 4   age               10000 non-null  int64  \n",
      " 5   objects           10000 non-null  int64  \n",
      " 6   balance           6383 non-null   float64\n",
      " 7   products          10000 non-null  int64  \n",
      " 8   credit_card       10000 non-null  bool   \n",
      " 9   loyalty           10000 non-null  bool   \n",
      " 10  estimated_salary  10000 non-null  float64\n",
      " 11  churn             10000 non-null  bool   \n",
      "dtypes: bool(3), float64(2), int64(5), object(2)\n",
      "memory usage: 732.5+ KB\n"
     ]
    }
   ],
   "source": [
    "# меняем типы данных в столбцах\n",
    "df['credit_card'] = df['credit_card'].astype('bool')\n",
    "df['loyalty'] = df['loyalty'].astype('bool')\n",
    "df['churn'] = df['churn'].astype('bool')\n",
    "df.info()"
   ]
  },
  {
   "cell_type": "markdown",
   "metadata": {},
   "source": [
    "Всего 10 000 строк,представлены клиенты из 3 городов.\n",
    "В столбцах со значениями 0 и 1 меняем на тип bool для дальнейшей работы.\n",
    "Возраст клиентов от 18 до 92.\n",
    "Объекты в собственности от 0 до 10.\n",
    "Продукты от 1 до 4.\n",
    "С выбросами и пропусками будем разбираться на следующем шаге."
   ]
  },
  {
   "cell_type": "markdown",
   "metadata": {},
   "source": [
    "### Шаг 2 : Предобработка"
   ]
  },
  {
   "cell_type": "code",
   "execution_count": 11,
   "metadata": {},
   "outputs": [
    {
     "data": {
      "image/png": "[encoded data removed]",
      "text/plain": [
       "<Figure size 720x360 with 1 Axes>"
      ]
     },
     "metadata": {},
     "output_type": "display_data"
    }
   ],
   "source": [
    "sns.set(rc={'figure.figsize':(10,5)}) # посмотрим выбросы в числовых колонках\n",
    "sns.boxplot(x='age', data=df)\n",
    "plt.title('Выбросы возраст')\n",
    "plt.xlabel('Возраст')\n",
    "plt.show();"
   ]
  },
  {
   "cell_type": "code",
   "execution_count": 12,
   "metadata": {},
   "outputs": [
    {
     "data": {
      "image/png": "[encoded data removed]",
      "text/plain": [
       "<Figure size 720x360 with 1 Axes>"
      ]
     },
     "metadata": {},
     "output_type": "display_data"
    }
   ],
   "source": [
    "sns.set(rc={'figure.figsize':(10,5)}) # посмотрим выбросы в числовых колонках\n",
    "sns.boxplot(x='balance', data=df)\n",
    "plt.title('Выбросы баланс')\n",
    "plt.xlabel('Баланс на счету')\n",
    "plt.show();"
   ]
  },
  {
   "cell_type": "code",
   "execution_count": 13,
   "metadata": {},
   "outputs": [
    {
     "data": {
      "image/png": "[encoded data removed]",
      "text/plain": [
       "<Figure size 720x360 with 1 Axes>"
      ]
     },
     "metadata": {},
     "output_type": "display_data"
    }
   ],
   "source": [
    "sns.set(rc={'figure.figsize':(10,5)}) # посмотрим выбросы в числовых колонках\n",
    "sns.boxplot(x='estimated_salary', data=df)\n",
    "plt.title('Выбросы зарплата')\n",
    "plt.xlabel('Зарплата')\n",
    "plt.show();"
   ]
  },
  {
   "cell_type": "markdown",
   "metadata": {},
   "source": [
    "По выбросам видим аномалии для клиентов с возрастом свыше 62 лет и балансом менее 40 000 и больше 200 000.\n",
    "По зарплате выбросов не видим."
   ]
  },
  {
   "cell_type": "code",
   "execution_count": 14,
   "metadata": {},
   "outputs": [
    {
     "name": "stdout",
     "output_type": "stream",
     "text": [
      "Клиенты старше 62 лет: 359\n",
      "Процент клиентов старше 62 в датасете % : 3.59\n"
     ]
    }
   ],
   "source": [
    "print('Клиенты старше 62 лет:', len(df.query('age > 62'))) # смотрим на количество выбросов и % от общего числа\n",
    "print('Процент клиентов старше 62 в датасете % :', round(len(df.query('age > 62'))/len(df)*100, 2))"
   ]
  },
  {
   "cell_type": "code",
   "execution_count": 15,
   "metadata": {
    "scrolled": true
   },
   "outputs": [
    {
     "name": "stdout",
     "output_type": "stream",
     "text": [
      "Клиенты с балансом до 40 000 и свыше 200 000 : 63\n",
      "Процент клиентов старше 62 в датасете % : 0.63\n"
     ]
    }
   ],
   "source": [
    "print('Клиенты с балансом до 40 000 и свыше 200 000 :', len(df.query('balance < 40000 or balance > 200000')))\n",
    "print('Процент клиентов старше 62 в датасете % :', round(len(df.query('balance < 40000 or balance > 200000'))/len(df)*100, 2))"
   ]
  },
  {
   "cell_type": "markdown",
   "metadata": {},
   "source": [
    "Выбросы составляют суммарно менее 5 %,поэтому пожем отсеять."
   ]
  },
  {
   "cell_type": "code",
   "execution_count": 16,
   "metadata": {},
   "outputs": [
    {
     "data": {
      "text/html": [
       "<div>\n",
       "<style scoped>\n",
       "    .dataframe tbody tr th:only-of-type {\n",
       "        vertical-align: middle;\n",
       "    }\n",
       "\n",
       "    .dataframe tbody tr th {\n",
       "        vertical-align: top;\n",
       "    }\n",
       "\n",
       "    .dataframe thead th {\n",
       "        text-align: right;\n",
       "    }\n",
       "</style>\n",
       "<table border=\"1\" class=\"dataframe\">\n",
       "  <thead>\n",
       "    <tr style=\"text-align: right;\">\n",
       "      <th></th>\n",
       "      <th>user_id</th>\n",
       "      <th>score</th>\n",
       "      <th>age</th>\n",
       "      <th>objects</th>\n",
       "      <th>balance</th>\n",
       "      <th>products</th>\n",
       "      <th>estimated_salary</th>\n",
       "    </tr>\n",
       "  </thead>\n",
       "  <tbody>\n",
       "    <tr>\n",
       "      <th>count</th>\n",
       "      <td>9.581000e+03</td>\n",
       "      <td>9581.000000</td>\n",
       "      <td>9581.000000</td>\n",
       "      <td>9581.000000</td>\n",
       "      <td>6098.000000</td>\n",
       "      <td>9581.000000</td>\n",
       "      <td>9581.000000</td>\n",
       "    </tr>\n",
       "    <tr>\n",
       "      <th>mean</th>\n",
       "      <td>1.573364e+07</td>\n",
       "      <td>650.300595</td>\n",
       "      <td>37.791880</td>\n",
       "      <td>5.017952</td>\n",
       "      <td>119740.764234</td>\n",
       "      <td>1.532304</td>\n",
       "      <td>100091.643383</td>\n",
       "    </tr>\n",
       "    <tr>\n",
       "      <th>std</th>\n",
       "      <td>7.183700e+04</td>\n",
       "      <td>96.737147</td>\n",
       "      <td>8.805999</td>\n",
       "      <td>2.889021</td>\n",
       "      <td>28876.878459</td>\n",
       "      <td>0.581845</td>\n",
       "      <td>57519.327330</td>\n",
       "    </tr>\n",
       "    <tr>\n",
       "      <th>min</th>\n",
       "      <td>1.560844e+07</td>\n",
       "      <td>350.000000</td>\n",
       "      <td>18.000000</td>\n",
       "      <td>0.000000</td>\n",
       "      <td>40105.510000</td>\n",
       "      <td>1.000000</td>\n",
       "      <td>11.580000</td>\n",
       "    </tr>\n",
       "    <tr>\n",
       "      <th>25%</th>\n",
       "      <td>1.567129e+07</td>\n",
       "      <td>583.000000</td>\n",
       "      <td>32.000000</td>\n",
       "      <td>3.000000</td>\n",
       "      <td>100370.117500</td>\n",
       "      <td>1.000000</td>\n",
       "      <td>50974.570000</td>\n",
       "    </tr>\n",
       "    <tr>\n",
       "      <th>50%</th>\n",
       "      <td>1.573375e+07</td>\n",
       "      <td>651.000000</td>\n",
       "      <td>37.000000</td>\n",
       "      <td>5.000000</td>\n",
       "      <td>119785.240000</td>\n",
       "      <td>1.000000</td>\n",
       "      <td>100187.430000</td>\n",
       "    </tr>\n",
       "    <tr>\n",
       "      <th>75%</th>\n",
       "      <td>1.579565e+07</td>\n",
       "      <td>717.000000</td>\n",
       "      <td>43.000000</td>\n",
       "      <td>7.000000</td>\n",
       "      <td>139217.690000</td>\n",
       "      <td>2.000000</td>\n",
       "      <td>149384.430000</td>\n",
       "    </tr>\n",
       "    <tr>\n",
       "      <th>max</th>\n",
       "      <td>1.585843e+07</td>\n",
       "      <td>850.000000</td>\n",
       "      <td>62.000000</td>\n",
       "      <td>10.000000</td>\n",
       "      <td>199689.490000</td>\n",
       "      <td>4.000000</td>\n",
       "      <td>199992.480000</td>\n",
       "    </tr>\n",
       "  </tbody>\n",
       "</table>\n",
       "</div>"
      ],
      "text/plain": [
       "            user_id        score  ...     products  estimated_salary\n",
       "count  9.581000e+03  9581.000000  ...  9581.000000       9581.000000\n",
       "mean   1.573364e+07   650.300595  ...     1.532304     100091.643383\n",
       "std    7.183700e+04    96.737147  ...     0.581845      57519.327330\n",
       "min    1.560844e+07   350.000000  ...     1.000000         11.580000\n",
       "25%    1.567129e+07   583.000000  ...     1.000000      50974.570000\n",
       "50%    1.573375e+07   651.000000  ...     1.000000     100187.430000\n",
       "75%    1.579565e+07   717.000000  ...     2.000000     149384.430000\n",
       "max    1.585843e+07   850.000000  ...     4.000000     199992.480000\n",
       "\n",
       "[8 rows x 7 columns]"
      ]
     },
     "execution_count": 16,
     "metadata": {},
     "output_type": "execute_result"
    }
   ],
   "source": [
    "df.drop(df.query('age > 62').index,inplace=True) # фильтруем и проверяем\n",
    "df.drop(df.query('balance < 40000 or balance > 200000').index,inplace=True)\n",
    "df.describe()"
   ]
  },
  {
   "cell_type": "code",
   "execution_count": 17,
   "metadata": {},
   "outputs": [
    {
     "data": {
      "text/html": [
       "<div>\n",
       "<style scoped>\n",
       "    .dataframe tbody tr th:only-of-type {\n",
       "        vertical-align: middle;\n",
       "    }\n",
       "\n",
       "    .dataframe tbody tr th {\n",
       "        vertical-align: top;\n",
       "    }\n",
       "\n",
       "    .dataframe thead th {\n",
       "        text-align: right;\n",
       "    }\n",
       "</style>\n",
       "<table border=\"1\" class=\"dataframe\">\n",
       "  <thead>\n",
       "    <tr style=\"text-align: right;\">\n",
       "      <th></th>\n",
       "      <th>user_id</th>\n",
       "      <th>score</th>\n",
       "      <th>age</th>\n",
       "      <th>objects</th>\n",
       "      <th>balance</th>\n",
       "      <th>products</th>\n",
       "      <th>estimated_salary</th>\n",
       "    </tr>\n",
       "  </thead>\n",
       "  <tbody>\n",
       "    <tr>\n",
       "      <th>count</th>\n",
       "      <td>3.483000e+03</td>\n",
       "      <td>3483.000000</td>\n",
       "      <td>3483.000000</td>\n",
       "      <td>3483.000000</td>\n",
       "      <td>0.0</td>\n",
       "      <td>3483.000000</td>\n",
       "      <td>3483.000000</td>\n",
       "    </tr>\n",
       "    <tr>\n",
       "      <th>mean</th>\n",
       "      <td>1.573434e+07</td>\n",
       "      <td>649.167384</td>\n",
       "      <td>37.233994</td>\n",
       "      <td>5.079529</td>\n",
       "      <td>NaN</td>\n",
       "      <td>1.784094</td>\n",
       "      <td>99089.122791</td>\n",
       "    </tr>\n",
       "    <tr>\n",
       "      <th>std</th>\n",
       "      <td>7.172185e+04</td>\n",
       "      <td>96.402438</td>\n",
       "      <td>8.620906</td>\n",
       "      <td>2.854351</td>\n",
       "      <td>NaN</td>\n",
       "      <td>0.495134</td>\n",
       "      <td>57689.907084</td>\n",
       "    </tr>\n",
       "    <tr>\n",
       "      <th>min</th>\n",
       "      <td>1.560844e+07</td>\n",
       "      <td>350.000000</td>\n",
       "      <td>18.000000</td>\n",
       "      <td>0.000000</td>\n",
       "      <td>NaN</td>\n",
       "      <td>1.000000</td>\n",
       "      <td>90.070000</td>\n",
       "    </tr>\n",
       "    <tr>\n",
       "      <th>25%</th>\n",
       "      <td>1.567177e+07</td>\n",
       "      <td>582.000000</td>\n",
       "      <td>31.000000</td>\n",
       "      <td>3.000000</td>\n",
       "      <td>NaN</td>\n",
       "      <td>1.500000</td>\n",
       "      <td>49528.730000</td>\n",
       "    </tr>\n",
       "    <tr>\n",
       "      <th>50%</th>\n",
       "      <td>1.573550e+07</td>\n",
       "      <td>651.000000</td>\n",
       "      <td>36.000000</td>\n",
       "      <td>5.000000</td>\n",
       "      <td>NaN</td>\n",
       "      <td>2.000000</td>\n",
       "      <td>98618.790000</td>\n",
       "    </tr>\n",
       "    <tr>\n",
       "      <th>75%</th>\n",
       "      <td>1.579567e+07</td>\n",
       "      <td>717.000000</td>\n",
       "      <td>42.000000</td>\n",
       "      <td>7.000000</td>\n",
       "      <td>NaN</td>\n",
       "      <td>2.000000</td>\n",
       "      <td>148409.435000</td>\n",
       "    </tr>\n",
       "    <tr>\n",
       "      <th>max</th>\n",
       "      <td>1.585810e+07</td>\n",
       "      <td>850.000000</td>\n",
       "      <td>62.000000</td>\n",
       "      <td>10.000000</td>\n",
       "      <td>NaN</td>\n",
       "      <td>4.000000</td>\n",
       "      <td>199992.480000</td>\n",
       "    </tr>\n",
       "  </tbody>\n",
       "</table>\n",
       "</div>"
      ],
      "text/plain": [
       "            user_id        score  ...     products  estimated_salary\n",
       "count  3.483000e+03  3483.000000  ...  3483.000000       3483.000000\n",
       "mean   1.573434e+07   649.167384  ...     1.784094      99089.122791\n",
       "std    7.172185e+04    96.402438  ...     0.495134      57689.907084\n",
       "min    1.560844e+07   350.000000  ...     1.000000         90.070000\n",
       "25%    1.567177e+07   582.000000  ...     1.500000      49528.730000\n",
       "50%    1.573550e+07   651.000000  ...     2.000000      98618.790000\n",
       "75%    1.579567e+07   717.000000  ...     2.000000     148409.435000\n",
       "max    1.585810e+07   850.000000  ...     4.000000     199992.480000\n",
       "\n",
       "[8 rows x 7 columns]"
      ]
     },
     "execution_count": 17,
     "metadata": {},
     "output_type": "execute_result"
    }
   ],
   "source": [
    "df_balance_nan = df.query('balance.isna()') # создадим новый датасет для анализа пропусков\n",
    "df_balance_nan.describe()"
   ]
  },
  {
   "cell_type": "code",
   "execution_count": 18,
   "metadata": {
    "scrolled": true
   },
   "outputs": [
    {
     "data": {
      "text/html": [
       "<div>\n",
       "<style scoped>\n",
       "    .dataframe tbody tr th:only-of-type {\n",
       "        vertical-align: middle;\n",
       "    }\n",
       "\n",
       "    .dataframe tbody tr th {\n",
       "        vertical-align: top;\n",
       "    }\n",
       "\n",
       "    .dataframe thead th {\n",
       "        text-align: right;\n",
       "    }\n",
       "</style>\n",
       "<table border=\"1\" class=\"dataframe\">\n",
       "  <thead>\n",
       "    <tr style=\"text-align: right;\">\n",
       "      <th></th>\n",
       "      <th>products</th>\n",
       "      <th>user_id</th>\n",
       "    </tr>\n",
       "  </thead>\n",
       "  <tbody>\n",
       "    <tr>\n",
       "      <th>0</th>\n",
       "      <td>1</td>\n",
       "      <td>4851</td>\n",
       "    </tr>\n",
       "    <tr>\n",
       "      <th>1</th>\n",
       "      <td>2</td>\n",
       "      <td>4419</td>\n",
       "    </tr>\n",
       "    <tr>\n",
       "      <th>2</th>\n",
       "      <td>3</td>\n",
       "      <td>252</td>\n",
       "    </tr>\n",
       "    <tr>\n",
       "      <th>3</th>\n",
       "      <td>4</td>\n",
       "      <td>59</td>\n",
       "    </tr>\n",
       "  </tbody>\n",
       "</table>\n",
       "</div>"
      ],
      "text/plain": [
       "   products  user_id\n",
       "0         1     4851\n",
       "1         2     4419\n",
       "2         3      252\n",
       "3         4       59"
      ]
     },
     "execution_count": 18,
     "metadata": {},
     "output_type": "execute_result"
    }
   ],
   "source": [
    "df_balance_nan_pr = df.groupby('products')['user_id'].count().reset_index().sort_values(by='user_id',ascending=False) \n",
    "df_balance_nan_pr.columns = ['products', 'user_id']\n",
    "df_balance_nan_pr # по количеству клиентов с разным количестовом продуктов также не вижу аномалий"
   ]
  },
  {
   "cell_type": "code",
   "execution_count": 19,
   "metadata": {},
   "outputs": [
    {
     "name": "stdout",
     "output_type": "stream",
     "text": [
      "city\n",
      "Ярославль    0.67\n",
      "Рыбинск      0.33\n",
      "Name: city, dtype: float64\n",
      "\n",
      "products\n",
      "2    0.72\n",
      "1    0.25\n",
      "3    0.03\n",
      "4    0.00\n",
      "Name: products, dtype: float64\n",
      "\n",
      "credit_card\n",
      "True     0.72\n",
      "False    0.28\n",
      "Name: credit_card, dtype: float64\n",
      "\n",
      "loyalty\n",
      "True     0.5\n",
      "False    0.5\n",
      "Name: loyalty, dtype: float64\n",
      "\n",
      "churn\n",
      "False    0.86\n",
      "True     0.14\n",
      "Name: churn, dtype: float64\n",
      "\n"
     ]
    }
   ],
   "source": [
    "for column in ['city','products','credit_card','loyalty', 'churn']: # посмотрим соотношение пропусков категоральными переменными\n",
    "    print(column)\n",
    "    print(round(df_balance_nan[column].value_counts(normalize=True),2))\n",
    "    print()   "
   ]
  },
  {
   "cell_type": "markdown",
   "metadata": {},
   "source": [
    "В предобработке убрал выбросы.\n",
    "Больше всего пропусков у клиентов в г Ярославль,с 2 продуктами,с кредитной картой,также больше клиентов с оттоком.\n",
    "Возможно ошибка связана с неккоректной выгрузков по городам.\n",
    "Пропуски решил не заполнять,чтобы не искажать данные."
   ]
  },
  {
   "cell_type": "markdown",
   "metadata": {},
   "source": [
    "### Шаг 3 : Исследовательский анализ данных"
   ]
  },
  {
   "cell_type": "code",
   "execution_count": 20,
   "metadata": {},
   "outputs": [
    {
     "data": {
      "text/html": [
       "<div>\n",
       "<style scoped>\n",
       "    .dataframe tbody tr th:only-of-type {\n",
       "        vertical-align: middle;\n",
       "    }\n",
       "\n",
       "    .dataframe tbody tr th {\n",
       "        vertical-align: top;\n",
       "    }\n",
       "\n",
       "    .dataframe thead th {\n",
       "        text-align: right;\n",
       "    }\n",
       "</style>\n",
       "<table border=\"1\" class=\"dataframe\">\n",
       "  <thead>\n",
       "    <tr style=\"text-align: right;\">\n",
       "      <th></th>\n",
       "      <th>user_id</th>\n",
       "      <th>score</th>\n",
       "      <th>city</th>\n",
       "      <th>gender</th>\n",
       "      <th>age</th>\n",
       "      <th>objects</th>\n",
       "      <th>balance</th>\n",
       "      <th>products</th>\n",
       "      <th>credit_card</th>\n",
       "      <th>loyalty</th>\n",
       "      <th>estimated_salary</th>\n",
       "      <th>churn</th>\n",
       "    </tr>\n",
       "  </thead>\n",
       "  <tbody>\n",
       "    <tr>\n",
       "      <th>0</th>\n",
       "      <td>15677338</td>\n",
       "      <td>619</td>\n",
       "      <td>Ярославль</td>\n",
       "      <td>Ж</td>\n",
       "      <td>42</td>\n",
       "      <td>2</td>\n",
       "      <td>NaN</td>\n",
       "      <td>1</td>\n",
       "      <td>True</td>\n",
       "      <td>True</td>\n",
       "      <td>101348.88</td>\n",
       "      <td>True</td>\n",
       "    </tr>\n",
       "    <tr>\n",
       "      <th>1</th>\n",
       "      <td>15690047</td>\n",
       "      <td>608</td>\n",
       "      <td>Рыбинск</td>\n",
       "      <td>Ж</td>\n",
       "      <td>41</td>\n",
       "      <td>1</td>\n",
       "      <td>83807.86</td>\n",
       "      <td>1</td>\n",
       "      <td>False</td>\n",
       "      <td>True</td>\n",
       "      <td>112542.58</td>\n",
       "      <td>False</td>\n",
       "    </tr>\n",
       "    <tr>\n",
       "      <th>2</th>\n",
       "      <td>15662040</td>\n",
       "      <td>502</td>\n",
       "      <td>Ярославль</td>\n",
       "      <td>Ж</td>\n",
       "      <td>42</td>\n",
       "      <td>8</td>\n",
       "      <td>159660.80</td>\n",
       "      <td>3</td>\n",
       "      <td>True</td>\n",
       "      <td>False</td>\n",
       "      <td>113931.57</td>\n",
       "      <td>True</td>\n",
       "    </tr>\n",
       "    <tr>\n",
       "      <th>3</th>\n",
       "      <td>15744090</td>\n",
       "      <td>699</td>\n",
       "      <td>Ярославль</td>\n",
       "      <td>Ж</td>\n",
       "      <td>39</td>\n",
       "      <td>1</td>\n",
       "      <td>NaN</td>\n",
       "      <td>2</td>\n",
       "      <td>False</td>\n",
       "      <td>False</td>\n",
       "      <td>93826.63</td>\n",
       "      <td>False</td>\n",
       "    </tr>\n",
       "    <tr>\n",
       "      <th>4</th>\n",
       "      <td>15780624</td>\n",
       "      <td>850</td>\n",
       "      <td>Рыбинск</td>\n",
       "      <td>Ж</td>\n",
       "      <td>43</td>\n",
       "      <td>2</td>\n",
       "      <td>125510.82</td>\n",
       "      <td>1</td>\n",
       "      <td>True</td>\n",
       "      <td>True</td>\n",
       "      <td>79084.10</td>\n",
       "      <td>False</td>\n",
       "    </tr>\n",
       "    <tr>\n",
       "      <th>...</th>\n",
       "      <td>...</td>\n",
       "      <td>...</td>\n",
       "      <td>...</td>\n",
       "      <td>...</td>\n",
       "      <td>...</td>\n",
       "      <td>...</td>\n",
       "      <td>...</td>\n",
       "      <td>...</td>\n",
       "      <td>...</td>\n",
       "      <td>...</td>\n",
       "      <td>...</td>\n",
       "      <td>...</td>\n",
       "    </tr>\n",
       "    <tr>\n",
       "      <th>9995</th>\n",
       "      <td>15648965</td>\n",
       "      <td>771</td>\n",
       "      <td>Ярославль</td>\n",
       "      <td>М</td>\n",
       "      <td>39</td>\n",
       "      <td>5</td>\n",
       "      <td>NaN</td>\n",
       "      <td>2</td>\n",
       "      <td>True</td>\n",
       "      <td>False</td>\n",
       "      <td>96270.64</td>\n",
       "      <td>False</td>\n",
       "    </tr>\n",
       "    <tr>\n",
       "      <th>9996</th>\n",
       "      <td>15612628</td>\n",
       "      <td>516</td>\n",
       "      <td>Ярославль</td>\n",
       "      <td>М</td>\n",
       "      <td>35</td>\n",
       "      <td>10</td>\n",
       "      <td>57369.61</td>\n",
       "      <td>1</td>\n",
       "      <td>True</td>\n",
       "      <td>True</td>\n",
       "      <td>101699.77</td>\n",
       "      <td>False</td>\n",
       "    </tr>\n",
       "    <tr>\n",
       "      <th>9997</th>\n",
       "      <td>15627268</td>\n",
       "      <td>709</td>\n",
       "      <td>Ярославль</td>\n",
       "      <td>Ж</td>\n",
       "      <td>36</td>\n",
       "      <td>7</td>\n",
       "      <td>NaN</td>\n",
       "      <td>1</td>\n",
       "      <td>False</td>\n",
       "      <td>True</td>\n",
       "      <td>42085.58</td>\n",
       "      <td>True</td>\n",
       "    </tr>\n",
       "    <tr>\n",
       "      <th>9998</th>\n",
       "      <td>15725091</td>\n",
       "      <td>772</td>\n",
       "      <td>Ростов Великий</td>\n",
       "      <td>М</td>\n",
       "      <td>42</td>\n",
       "      <td>3</td>\n",
       "      <td>75075.31</td>\n",
       "      <td>2</td>\n",
       "      <td>True</td>\n",
       "      <td>False</td>\n",
       "      <td>92888.52</td>\n",
       "      <td>True</td>\n",
       "    </tr>\n",
       "    <tr>\n",
       "      <th>9999</th>\n",
       "      <td>15671055</td>\n",
       "      <td>792</td>\n",
       "      <td>Ярославль</td>\n",
       "      <td>Ж</td>\n",
       "      <td>28</td>\n",
       "      <td>4</td>\n",
       "      <td>130142.79</td>\n",
       "      <td>1</td>\n",
       "      <td>True</td>\n",
       "      <td>False</td>\n",
       "      <td>38190.78</td>\n",
       "      <td>False</td>\n",
       "    </tr>\n",
       "  </tbody>\n",
       "</table>\n",
       "<p>9581 rows × 12 columns</p>\n",
       "</div>"
      ],
      "text/plain": [
       "       user_id  score            city  ... loyalty  estimated_salary  churn\n",
       "0     15677338    619       Ярославль  ...    True         101348.88   True\n",
       "1     15690047    608         Рыбинск  ...    True         112542.58  False\n",
       "2     15662040    502       Ярославль  ...   False         113931.57   True\n",
       "3     15744090    699       Ярославль  ...   False          93826.63  False\n",
       "4     15780624    850         Рыбинск  ...    True          79084.10  False\n",
       "...        ...    ...             ...  ...     ...               ...    ...\n",
       "9995  15648965    771       Ярославль  ...   False          96270.64  False\n",
       "9996  15612628    516       Ярославль  ...    True         101699.77  False\n",
       "9997  15627268    709       Ярославль  ...    True          42085.58   True\n",
       "9998  15725091    772  Ростов Великий  ...   False          92888.52   True\n",
       "9999  15671055    792       Ярославль  ...   False          38190.78  False\n",
       "\n",
       "[9581 rows x 12 columns]"
      ]
     },
     "execution_count": 20,
     "metadata": {},
     "output_type": "execute_result"
    }
   ],
   "source": [
    "df"
   ]
  },
  {
   "cell_type": "markdown",
   "metadata": {},
   "source": [
    "Пострим в общие графики с целью посмотреть распределение(добавил автоматизацию циклом)"
   ]
  },
  {
   "cell_type": "code",
   "execution_count": 21,
   "metadata": {},
   "outputs": [
    {
     "data": {
      "image/png": "[encoded data removed]",
      "text/plain": [
       "<Figure size 720x360 with 1 Axes>"
      ]
     },
     "metadata": {},
     "output_type": "display_data"
    },
    {
     "data": {
      "image/png": "[encoded data removed]",
      "text/plain": [
       "<Figure size 720x360 with 1 Axes>"
      ]
     },
     "metadata": {},
     "output_type": "display_data"
    },
    {
     "data": {
      "image/png": "[encoded data removed]",
      "text/plain": [
       "<Figure size 720x360 with 1 Axes>"
      ]
     },
     "metadata": {},
     "output_type": "display_data"
    },
    {
     "data": {
      "image/png": "[encoded data removed]",
      "text/plain": [
       "<Figure size 720x360 with 1 Axes>"
      ]
     },
     "metadata": {},
     "output_type": "display_data"
    },
    {
     "data": {
      "image/png": "[encoded data removed]",
      "text/plain": [
       "<Figure size 720x360 with 1 Axes>"
      ]
     },
     "metadata": {},
     "output_type": "display_data"
    }
   ],
   "source": [
    "for column in ['city','gender','credit_card','loyalty','churn']:\n",
    "    data = df.groupby(column).agg({'user_id': 'count'})\n",
    "    fig1,ax1 = plt.subplots()\n",
    "    ax1.pie(data['user_id'], labels=data.index, autopct='%1.1f%%')\n",
    "    ax1.set_title(f'Распределение клиентов по {column}')\n",
    "    plt.show()"
   ]
  },
  {
   "cell_type": "markdown",
   "metadata": {},
   "source": [
    "Большинстсво клиентов живет в Ярославле(что не удивительно,ведь он больше),по полу чуть больше мужчин.\n",
    "Также видим что 70 % клиентов являются обладателями кредитных карт.\n",
    "По лояльности клиенты разбиты почти пополам.\n",
    "К оттоку склонны 20,2 % от всех клиентов."
   ]
  },
  {
   "cell_type": "code",
   "execution_count": 22,
   "metadata": {
    "scrolled": false
   },
   "outputs": [
    {
     "data": {
      "image/png": "[encoded data removed]",
      "text/plain": [
       "<Figure size 720x360 with 1 Axes>"
      ]
     },
     "metadata": {},
     "output_type": "display_data"
    },
    {
     "data": {
      "image/png": "[encoded data removed]",
      "text/plain": [
       "<Figure size 720x360 with 1 Axes>"
      ]
     },
     "metadata": {},
     "output_type": "display_data"
    },
    {
     "data": {
      "image/png": "[encoded data removed]",
      "text/plain": [
       "<Figure size 720x360 with 1 Axes>"
      ]
     },
     "metadata": {},
     "output_type": "display_data"
    },
    {
     "data": {
      "image/png": "[encoded data removed]",
      "text/plain": [
       "<Figure size 720x360 with 1 Axes>"
      ]
     },
     "metadata": {},
     "output_type": "display_data"
    },
    {
     "data": {
      "image/png": "[encoded data removed]",
      "text/plain": [
       "<Figure size 720x360 with 1 Axes>"
      ]
     },
     "metadata": {},
     "output_type": "display_data"
    },
    {
     "data": {
      "image/png": "[encoded data removed]",
      "text/plain": [
       "<Figure size 720x360 with 1 Axes>"
      ]
     },
     "metadata": {},
     "output_type": "display_data"
    }
   ],
   "source": [
    "for column in ['score','balance','estimated_salary','age','objects', 'products']:\n",
    "    plt.hist(df[column],color = 'green')\n",
    "    plt.ylabel(\"Количество клиентов\")\n",
    "    plt.xlabel(column)\n",
    "    plt.title(f'Распределение клиентов по {column}')\n",
    "    plt.show()"
   ]
  },
  {
   "cell_type": "markdown",
   "metadata": {},
   "source": [
    "У большинства клиентов от 600-700 кредитный рейтинг.\n",
    "По балансу большинство клиентов имеют на счетах от 100 000 до 140 000.\n",
    "По зарплате почти равное количество клиентов по всем количественным отметкам.\n",
    "По возрасту клиенты в большинстве своем от 25 до 45 лет.\n",
    "По объектам в собственности меньше всего клиентов с 1 и больше всего с 10.\n",
    "По продуктам большинство клиентов с 1,далее 2,больше 2 продуктов имеет меньшинство клиентов.\n"
   ]
  },
  {
   "cell_type": "markdown",
   "metadata": {},
   "source": [
    "Построим матрицу корреляций на числовых признаках."
   ]
  },
  {
   "cell_type": "code",
   "execution_count": 23,
   "metadata": {},
   "outputs": [],
   "source": [
    "dff=df.copy()"
   ]
  },
  {
   "cell_type": "code",
   "execution_count": 24,
   "metadata": {},
   "outputs": [
    {
     "data": {
      "text/html": [
       "<div>\n",
       "<style scoped>\n",
       "    .dataframe tbody tr th:only-of-type {\n",
       "        vertical-align: middle;\n",
       "    }\n",
       "\n",
       "    .dataframe tbody tr th {\n",
       "        vertical-align: top;\n",
       "    }\n",
       "\n",
       "    .dataframe thead th {\n",
       "        text-align: right;\n",
       "    }\n",
       "</style>\n",
       "<table border=\"1\" class=\"dataframe\">\n",
       "  <thead>\n",
       "    <tr style=\"text-align: right;\">\n",
       "      <th></th>\n",
       "      <th>user_id</th>\n",
       "      <th>score</th>\n",
       "      <th>age</th>\n",
       "      <th>objects</th>\n",
       "      <th>balance</th>\n",
       "      <th>products</th>\n",
       "      <th>credit_card</th>\n",
       "      <th>loyalty</th>\n",
       "      <th>estimated_salary</th>\n",
       "      <th>churn</th>\n",
       "      <th>city_Ростов Великий</th>\n",
       "      <th>city_Рыбинск</th>\n",
       "      <th>city_Ярославль</th>\n",
       "      <th>gender_Ж</th>\n",
       "      <th>gender_М</th>\n",
       "    </tr>\n",
       "  </thead>\n",
       "  <tbody>\n",
       "    <tr>\n",
       "      <th>0</th>\n",
       "      <td>15677338</td>\n",
       "      <td>619</td>\n",
       "      <td>42</td>\n",
       "      <td>2</td>\n",
       "      <td>NaN</td>\n",
       "      <td>1</td>\n",
       "      <td>True</td>\n",
       "      <td>True</td>\n",
       "      <td>101348.88</td>\n",
       "      <td>True</td>\n",
       "      <td>0</td>\n",
       "      <td>0</td>\n",
       "      <td>1</td>\n",
       "      <td>1</td>\n",
       "      <td>0</td>\n",
       "    </tr>\n",
       "    <tr>\n",
       "      <th>1</th>\n",
       "      <td>15690047</td>\n",
       "      <td>608</td>\n",
       "      <td>41</td>\n",
       "      <td>1</td>\n",
       "      <td>83807.86</td>\n",
       "      <td>1</td>\n",
       "      <td>False</td>\n",
       "      <td>True</td>\n",
       "      <td>112542.58</td>\n",
       "      <td>False</td>\n",
       "      <td>0</td>\n",
       "      <td>1</td>\n",
       "      <td>0</td>\n",
       "      <td>1</td>\n",
       "      <td>0</td>\n",
       "    </tr>\n",
       "    <tr>\n",
       "      <th>2</th>\n",
       "      <td>15662040</td>\n",
       "      <td>502</td>\n",
       "      <td>42</td>\n",
       "      <td>8</td>\n",
       "      <td>159660.80</td>\n",
       "      <td>3</td>\n",
       "      <td>True</td>\n",
       "      <td>False</td>\n",
       "      <td>113931.57</td>\n",
       "      <td>True</td>\n",
       "      <td>0</td>\n",
       "      <td>0</td>\n",
       "      <td>1</td>\n",
       "      <td>1</td>\n",
       "      <td>0</td>\n",
       "    </tr>\n",
       "    <tr>\n",
       "      <th>3</th>\n",
       "      <td>15744090</td>\n",
       "      <td>699</td>\n",
       "      <td>39</td>\n",
       "      <td>1</td>\n",
       "      <td>NaN</td>\n",
       "      <td>2</td>\n",
       "      <td>False</td>\n",
       "      <td>False</td>\n",
       "      <td>93826.63</td>\n",
       "      <td>False</td>\n",
       "      <td>0</td>\n",
       "      <td>0</td>\n",
       "      <td>1</td>\n",
       "      <td>1</td>\n",
       "      <td>0</td>\n",
       "    </tr>\n",
       "    <tr>\n",
       "      <th>4</th>\n",
       "      <td>15780624</td>\n",
       "      <td>850</td>\n",
       "      <td>43</td>\n",
       "      <td>2</td>\n",
       "      <td>125510.82</td>\n",
       "      <td>1</td>\n",
       "      <td>True</td>\n",
       "      <td>True</td>\n",
       "      <td>79084.10</td>\n",
       "      <td>False</td>\n",
       "      <td>0</td>\n",
       "      <td>1</td>\n",
       "      <td>0</td>\n",
       "      <td>1</td>\n",
       "      <td>0</td>\n",
       "    </tr>\n",
       "  </tbody>\n",
       "</table>\n",
       "</div>"
      ],
      "text/plain": [
       "    user_id  score  age  ...  city_Ярославль  gender_Ж  gender_М\n",
       "0  15677338    619   42  ...               1         1         0\n",
       "1  15690047    608   41  ...               0         1         0\n",
       "2  15662040    502   42  ...               1         1         0\n",
       "3  15744090    699   39  ...               1         1         0\n",
       "4  15780624    850   43  ...               0         1         0\n",
       "\n",
       "[5 rows x 15 columns]"
      ]
     },
     "execution_count": 24,
     "metadata": {},
     "output_type": "execute_result"
    }
   ],
   "source": [
    "dff = pd.get_dummies(dff,columns=['city','gender'], drop_first = False)\n",
    "dff.head()"
   ]
  },
  {
   "cell_type": "code",
   "execution_count": 25,
   "metadata": {},
   "outputs": [
    {
     "data": {
      "image/png": "[encoded data removed]",
      "text/plain": [
       "<Figure size 936x432 with 2 Axes>"
      ]
     },
     "metadata": {},
     "output_type": "display_data"
    }
   ],
   "source": [
    "# Построим матрицу корреляции\n",
    "plt.figure(figsize=(13,6))\n",
    "heat = sns.heatmap(dff.corr(), vmin = -1, vmax = 1,annot=True, fmt=\".0%\", cmap='vlag')\n",
    "heat.set_title('Матрица корреляции');\n",
    "plt.show()"
   ]
  },
  {
   "cell_type": "markdown",
   "metadata": {},
   "source": [
    "Сильно коррелириущих признаков не выявлено,есть небольшая зависимость между возрастом и оттоком и городом Ростов."
   ]
  },
  {
   "cell_type": "code",
   "execution_count": 26,
   "metadata": {},
   "outputs": [
    {
     "data": {
      "image/png": "[encoded data removed]",
      "text/plain": [
       "<Figure size 720x360 with 1 Axes>"
      ]
     },
     "metadata": {},
     "output_type": "display_data"
    },
    {
     "data": {
      "image/png": "[encoded data removed]",
      "text/plain": [
       "<Figure size 720x360 with 1 Axes>"
      ]
     },
     "metadata": {},
     "output_type": "display_data"
    },
    {
     "data": {
      "image/png": "[encoded data removed]",
      "text/plain": [
       "<Figure size 720x360 with 1 Axes>"
      ]
     },
     "metadata": {},
     "output_type": "display_data"
    },
    {
     "data": {
      "image/png": "[encoded data removed]",
      "text/plain": [
       "<Figure size 720x360 with 1 Axes>"
      ]
     },
     "metadata": {},
     "output_type": "display_data"
    }
   ],
   "source": [
    "for column in ['city','gender','credit_card','loyalty']:\n",
    "        ax = sns.countplot(data=df, x=column, hue='churn')\n",
    "        plt.title(f'Доля оттока по {column}', fontsize = 16, color = 'black')\n",
    "        plt.show()    "
   ]
  },
  {
   "cell_type": "markdown",
   "metadata": {},
   "source": [
    "Больше всего клиентов уходило в г Ростов. Чуть чаще уходят женщины, а не мужчины. \n",
    "Отношение уходящих с и без кредитной карты почти одинаковое.\n",
    "Лояльные клиенты уходили реже,чем не лояльные.\n"
   ]
  },
  {
   "cell_type": "markdown",
   "metadata": {},
   "source": [
    "### Шаг 4 : Сегментация клиентов в разрезе количества используемых продуктов"
   ]
  },
  {
   "cell_type": "code",
   "execution_count": 27,
   "metadata": {
    "scrolled": true
   },
   "outputs": [
    {
     "data": {
      "image/png": "[encoded data removed]",
      "text/plain": [
       "<Figure size 576x576 with 1 Axes>"
      ]
     },
     "metadata": {},
     "output_type": "display_data"
    }
   ],
   "source": [
    "df_products = df.groupby('products')['products'].count() # посмотрим сколько всего в группах клиентов\n",
    "fig1, ax1 = plt.subplots(figsize=(8, 8))\n",
    "ax1.pie(df_products,labels=df_products.index, autopct='%1.1f%%')\n",
    "ax1.set_title('Клиенты по количеству потребляемых продуктов');"
   ]
  },
  {
   "cell_type": "markdown",
   "metadata": {},
   "source": [
    "Стоит выделить 2 самых больших сегмента и с ними работать,тем более что они почти равны по количеству пользователей."
   ]
  },
  {
   "cell_type": "code",
   "execution_count": 28,
   "metadata": {},
   "outputs": [],
   "source": [
    "df_segment = df.query('products == 1 or products == 2')\n"
   ]
  },
  {
   "cell_type": "code",
   "execution_count": 29,
   "metadata": {},
   "outputs": [
    {
     "data": {
      "text/html": [
       "<div>\n",
       "<style scoped>\n",
       "    .dataframe tbody tr th:only-of-type {\n",
       "        vertical-align: middle;\n",
       "    }\n",
       "\n",
       "    .dataframe tbody tr th {\n",
       "        vertical-align: top;\n",
       "    }\n",
       "\n",
       "    .dataframe thead th {\n",
       "        text-align: right;\n",
       "    }\n",
       "</style>\n",
       "<table border=\"1\" class=\"dataframe\">\n",
       "  <thead>\n",
       "    <tr style=\"text-align: right;\">\n",
       "      <th></th>\n",
       "      <th>user_id</th>\n",
       "      <th>score</th>\n",
       "      <th>age</th>\n",
       "      <th>objects</th>\n",
       "      <th>balance</th>\n",
       "      <th>products</th>\n",
       "      <th>estimated_salary</th>\n",
       "    </tr>\n",
       "  </thead>\n",
       "  <tbody>\n",
       "    <tr>\n",
       "      <th>count</th>\n",
       "      <td>9.270000e+03</td>\n",
       "      <td>9270.000000</td>\n",
       "      <td>9270.000000</td>\n",
       "      <td>9270.000000</td>\n",
       "      <td>5893.000000</td>\n",
       "      <td>9270.000000</td>\n",
       "      <td>9270.000000</td>\n",
       "    </tr>\n",
       "    <tr>\n",
       "      <th>mean</th>\n",
       "      <td>1.573354e+07</td>\n",
       "      <td>650.367853</td>\n",
       "      <td>37.630097</td>\n",
       "      <td>5.017584</td>\n",
       "      <td>119750.728597</td>\n",
       "      <td>1.476699</td>\n",
       "      <td>99944.736345</td>\n",
       "    </tr>\n",
       "    <tr>\n",
       "      <th>std</th>\n",
       "      <td>7.177614e+04</td>\n",
       "      <td>96.732073</td>\n",
       "      <td>8.753481</td>\n",
       "      <td>2.889114</td>\n",
       "      <td>28857.822848</td>\n",
       "      <td>0.499484</td>\n",
       "      <td>57560.121028</td>\n",
       "    </tr>\n",
       "    <tr>\n",
       "      <th>min</th>\n",
       "      <td>1.560844e+07</td>\n",
       "      <td>350.000000</td>\n",
       "      <td>18.000000</td>\n",
       "      <td>0.000000</td>\n",
       "      <td>40105.510000</td>\n",
       "      <td>1.000000</td>\n",
       "      <td>11.580000</td>\n",
       "    </tr>\n",
       "    <tr>\n",
       "      <th>25%</th>\n",
       "      <td>1.567127e+07</td>\n",
       "      <td>583.000000</td>\n",
       "      <td>31.250000</td>\n",
       "      <td>3.000000</td>\n",
       "      <td>100254.760000</td>\n",
       "      <td>1.000000</td>\n",
       "      <td>50599.017500</td>\n",
       "    </tr>\n",
       "    <tr>\n",
       "      <th>50%</th>\n",
       "      <td>1.573372e+07</td>\n",
       "      <td>652.000000</td>\n",
       "      <td>37.000000</td>\n",
       "      <td>5.000000</td>\n",
       "      <td>119787.760000</td>\n",
       "      <td>1.000000</td>\n",
       "      <td>100038.165000</td>\n",
       "    </tr>\n",
       "    <tr>\n",
       "      <th>75%</th>\n",
       "      <td>1.579555e+07</td>\n",
       "      <td>718.000000</td>\n",
       "      <td>43.000000</td>\n",
       "      <td>7.000000</td>\n",
       "      <td>139224.920000</td>\n",
       "      <td>2.000000</td>\n",
       "      <td>149317.997500</td>\n",
       "    </tr>\n",
       "    <tr>\n",
       "      <th>max</th>\n",
       "      <td>1.585843e+07</td>\n",
       "      <td>850.000000</td>\n",
       "      <td>62.000000</td>\n",
       "      <td>10.000000</td>\n",
       "      <td>199689.490000</td>\n",
       "      <td>2.000000</td>\n",
       "      <td>199992.480000</td>\n",
       "    </tr>\n",
       "  </tbody>\n",
       "</table>\n",
       "</div>"
      ],
      "text/plain": [
       "            user_id        score  ...     products  estimated_salary\n",
       "count  9.270000e+03  9270.000000  ...  9270.000000       9270.000000\n",
       "mean   1.573354e+07   650.367853  ...     1.476699      99944.736345\n",
       "std    7.177614e+04    96.732073  ...     0.499484      57560.121028\n",
       "min    1.560844e+07   350.000000  ...     1.000000         11.580000\n",
       "25%    1.567127e+07   583.000000  ...     1.000000      50599.017500\n",
       "50%    1.573372e+07   652.000000  ...     1.000000     100038.165000\n",
       "75%    1.579555e+07   718.000000  ...     2.000000     149317.997500\n",
       "max    1.585843e+07   850.000000  ...     2.000000     199992.480000\n",
       "\n",
       "[8 rows x 7 columns]"
      ]
     },
     "execution_count": 29,
     "metadata": {},
     "output_type": "execute_result"
    }
   ],
   "source": [
    "df_segment.describe()"
   ]
  },
  {
   "cell_type": "code",
   "execution_count": 30,
   "metadata": {
    "scrolled": true
   },
   "outputs": [
    {
     "data": {
      "image/png": "[encoded data removed]",
      "text/plain": [
       "<Figure size 720x360 with 1 Axes>"
      ]
     },
     "metadata": {},
     "output_type": "display_data"
    },
    {
     "data": {
      "image/png": "[encoded data removed]",
      "text/plain": [
       "<Figure size 720x360 with 1 Axes>"
      ]
     },
     "metadata": {},
     "output_type": "display_data"
    },
    {
     "data": {
      "image/png": "[encoded data removed]",
      "text/plain": [
       "<Figure size 720x360 with 1 Axes>"
      ]
     },
     "metadata": {},
     "output_type": "display_data"
    },
    {
     "data": {
      "image/png": "[encoded data removed]",
      "text/plain": [
       "<Figure size 720x360 with 1 Axes>"
      ]
     },
     "metadata": {},
     "output_type": "display_data"
    },
    {
     "data": {
      "image/png": "[encoded data removed]",
      "text/plain": [
       "<Figure size 720x360 with 1 Axes>"
      ]
     },
     "metadata": {},
     "output_type": "display_data"
    }
   ],
   "source": [
    "for column in ['gender','credit_card','loyalty', 'churn','city']:\n",
    "        ax = sns.countplot(data=df_segment, x='products', hue=column);\n",
    "        plt.title(column, fontsize = 16, color = 'black')\n",
    "        plt.show()"
   ]
  },
  {
   "cell_type": "code",
   "execution_count": 31,
   "metadata": {
    "scrolled": true
   },
   "outputs": [
    {
     "data": {
      "text/html": [
       "<div>\n",
       "<style scoped>\n",
       "    .dataframe tbody tr th:only-of-type {\n",
       "        vertical-align: middle;\n",
       "    }\n",
       "\n",
       "    .dataframe tbody tr th {\n",
       "        vertical-align: top;\n",
       "    }\n",
       "\n",
       "    .dataframe thead th {\n",
       "        text-align: right;\n",
       "    }\n",
       "</style>\n",
       "<table border=\"1\" class=\"dataframe\">\n",
       "  <thead>\n",
       "    <tr style=\"text-align: right;\">\n",
       "      <th></th>\n",
       "      <th>products</th>\n",
       "      <th>user_id</th>\n",
       "      <th>churn</th>\n",
       "      <th>percent_churn</th>\n",
       "    </tr>\n",
       "  </thead>\n",
       "  <tbody>\n",
       "    <tr>\n",
       "      <th>0</th>\n",
       "      <td>1</td>\n",
       "      <td>4851</td>\n",
       "      <td>1342</td>\n",
       "      <td>28.0</td>\n",
       "    </tr>\n",
       "    <tr>\n",
       "      <th>1</th>\n",
       "      <td>2</td>\n",
       "      <td>4419</td>\n",
       "      <td>324</td>\n",
       "      <td>7.0</td>\n",
       "    </tr>\n",
       "  </tbody>\n",
       "</table>\n",
       "</div>"
      ],
      "text/plain": [
       "   products  user_id  churn  percent_churn\n",
       "0         1     4851   1342           28.0\n",
       "1         2     4419    324            7.0"
      ]
     },
     "execution_count": 31,
     "metadata": {},
     "output_type": "execute_result"
    }
   ],
   "source": [
    "df_segment_churn = df_segment.groupby('products').agg({'user_id': 'count','churn': 'sum'}).reset_index()\n",
    "df_segment_churn['percent_churn'] = round(df_segment_churn['churn']/df_segment_churn['user_id']*100)\n",
    "df_segment_churn"
   ]
  },
  {
   "cell_type": "code",
   "execution_count": 32,
   "metadata": {},
   "outputs": [
    {
     "data": {
      "image/png": "[encoded data removed]",
      "text/plain": [
       "<Figure size 720x360 with 1 Axes>"
      ]
     },
     "metadata": {},
     "output_type": "display_data"
    },
    {
     "data": {
      "image/png": "[encoded data removed]",
      "text/plain": [
       "<Figure size 720x360 with 1 Axes>"
      ]
     },
     "metadata": {},
     "output_type": "display_data"
    },
    {
     "data": {
      "image/png": "[encoded data removed]",
      "text/plain": [
       "<Figure size 720x360 with 1 Axes>"
      ]
     },
     "metadata": {},
     "output_type": "display_data"
    },
    {
     "data": {
      "image/png": "[encoded data removed]",
      "text/plain": [
       "<Figure size 720x360 with 1 Axes>"
      ]
     },
     "metadata": {},
     "output_type": "display_data"
    },
    {
     "data": {
      "image/png": "[encoded data removed]",
      "text/plain": [
       "<Figure size 720x360 with 1 Axes>"
      ]
     },
     "metadata": {},
     "output_type": "display_data"
    }
   ],
   "source": [
    "for column in ['score','age','balance','estimated_salary', 'objects']:\n",
    "    plt.figure()\n",
    "    sns.boxplot(data=df_segment, y = column, x = 'products')\n",
    "    plt.xlabel('Количество используемых продуктов')\n",
    "    plt.ylabel('')\n",
    "    plt.title(column)\n",
    "    plt.show();"
   ]
  },
  {
   "cell_type": "markdown",
   "metadata": {},
   "source": [
    "#### Итог сегментации : 2 сегмента.\n",
    "\n",
    "* 1 сегмент :\n",
    "\n",
    "- Количество продуктов - 1\n",
    "- Большинство проживает в Ярославле \n",
    "- Большинство мужчин\n",
    "- Средний возраст чуть менее 40 лет\n",
    "- Большинство с кредитной картой\n",
    "- Отношение лояльных и нелояльных почти поровну\n",
    "- Отток 28% \n",
    "\n",
    "\n",
    "* 2 сегмент:\n",
    "\n",
    "- Количество продуктов - 2\n",
    "- Большинство проживает в Ярославле\n",
    "- Большинство мужчин\n",
    "- Средний возраст чуть менее 40 лет\n",
    "- Большинство с кредитной картой\n",
    "- Лояльных клиентов чуть больше\n",
    "- Отток мал и составляет 7%\n",
    "\n",
    "Касательно зарплаты,объектов недвижимости и баланса сегменты почти одинаковы.\n",
    "\n",
    "\n",
    "\n",
    "\n",
    "\n"
   ]
  },
  {
   "cell_type": "markdown",
   "metadata": {},
   "source": [
    "### Шаг 5: Статистическая проверка гипотез"
   ]
  },
  {
   "cell_type": "markdown",
   "metadata": {},
   "source": [
    "#### Гипотеза N 1 "
   ]
  },
  {
   "cell_type": "markdown",
   "metadata": {},
   "source": [
    "Проверим гипотезу различия возраста между теми клиентами, которые пользуются двумя продуктами банка, и теми, которые пользуются одним."
   ]
  },
  {
   "cell_type": "markdown",
   "metadata": {},
   "source": [
    "* Н-0: возраст клиентов, пользующихся одним продуктом банка равен возрасту клиентов, пользующихся двумя продуктами\n",
    "* Н-А: возраст клиентов, пользующихся одним продуктом банка не равен возрасту клиентов, пользующихся двумя продуктами"
   ]
  },
  {
   "cell_type": "code",
   "execution_count": 33,
   "metadata": {},
   "outputs": [
    {
     "name": "stdout",
     "output_type": "stream",
     "text": [
      "Клиенты с 1 продуктом: 4851\n",
      "Клиенты с 2 продуктами: 4419\n"
     ]
    }
   ],
   "source": [
    "gr_1 = df[(df['products']==1)]['age']\n",
    "gr_2 = df[(df['products']==2)]['age']\n",
    "print('Клиенты с 1 продуктом:',len(gr_1))\n",
    "print('Клиенты с 2 продуктами:',len(gr_2))"
   ]
  },
  {
   "cell_type": "code",
   "execution_count": 34,
   "metadata": {},
   "outputs": [
    {
     "name": "stdout",
     "output_type": "stream",
     "text": [
      "1.6172135774937404e-25\n",
      "Отвергаем нулевую гипотезу\n"
     ]
    }
   ],
   "source": [
    "results = st.ttest_ind(gr_1, gr_2, equal_var=False)\n",
    "\n",
    "alpha = 0.05\n",
    "\n",
    "print(results.pvalue) \n",
    "if results.pvalue < alpha:\n",
    "    print(\"Отвергаем нулевую гипотезу\")\n",
    "else:\n",
    "    print(\"Не получилось отвергнуть нулевую гипотезу\")"
   ]
  },
  {
   "cell_type": "markdown",
   "metadata": {},
   "source": [
    "Отвергаем нулевую гипотезу, возраст клиентов с 1 продуктом не равен возрасту клиентов с 2."
   ]
  },
  {
   "cell_type": "markdown",
   "metadata": {},
   "source": [
    "### Гипотеза N 2"
   ]
  },
  {
   "cell_type": "markdown",
   "metadata": {},
   "source": [
    "Проверим гипотезу о различии дохода между клиентами, которые пользуются двумя продуктами банка, и теми, которые пользуются одним\n"
   ]
  },
  {
   "cell_type": "markdown",
   "metadata": {},
   "source": [
    "* Н-0: средний доход клиентов, пользующихся одним продуктом банка равен среднему доходу клиентов, пользующихся двумя продуктами\n",
    "* Н-А: средний доход клиентов, пользующихся одним продуктом банка не равен среднему доходу клиентов, пользующихся двумя продуктами"
   ]
  },
  {
   "cell_type": "code",
   "execution_count": 39,
   "metadata": {},
   "outputs": [
    {
     "name": "stdout",
     "output_type": "stream",
     "text": [
      "Клиенты с 1 продуктом: 4851\n",
      "Клиенты с 2 продуктами: 4419\n"
     ]
    }
   ],
   "source": [
    "gr_1 = df[(df['products']==1)]['estimated_salary']\n",
    "gr_2 = df[(df['products']==2)]['estimated_salary']\n",
    "print('Клиенты с 1 продуктом:',len(gr_1))\n",
    "print('Клиенты с 2 продуктами:',len(gr_2))"
   ]
  },
  {
   "cell_type": "code",
   "execution_count": 40,
   "metadata": {
    "scrolled": true
   },
   "outputs": [
    {
     "name": "stdout",
     "output_type": "stream",
     "text": [
      "0.47677914848674097\n",
      "Не получилось отвергнуть нулевую гипотезу\n"
     ]
    }
   ],
   "source": [
    "results = st.ttest_ind(gr_1, gr_2, equal_var=False)\n",
    "\n",
    "alpha = 0.05\n",
    "\n",
    "print(results.pvalue) \n",
    "if results.pvalue < alpha:\n",
    "    print(\"Отвергаем нулевую гипотезу\")\n",
    "else:\n",
    "    print(\"Не получилось отвергнуть нулевую гипотезу\")"
   ]
  },
  {
   "cell_type": "markdown",
   "metadata": {},
   "source": [
    "Разницы в доходах у клиентов с одним и двумя продуктами не наблюдается."
   ]
  },
  {
   "cell_type": "markdown",
   "metadata": {},
   "source": [
    "### Шаг 6: Выводы и рекомендации"
   ]
  },
  {
   "cell_type": "markdown",
   "metadata": {},
   "source": [
    "#### Общие выводы:\n",
    "* Большинстсво клиентов живет в Ярославле(что не удивительно,ведь он больше),по полу чуть больше мужчин. \n",
    "* Также видим что 70 % клиентов являются обладателями кредитных карт. По лояльности клиенты разбиты почти пополам. К оттоку склонны 20,2 % от всех клиентов.\n",
    "* У большинства клиентов от 600-700 кредитный рейтинг. По балансу большинство клиентов имеют на счетах от 100 000 до 140 000. По зарплате почти равное количество клиентов по всем количественным отметкам. По возрасту клиенты в большинстве своем от 25 до 45 лет. По объектам в собственности меньше всего клиентов с 1 и больше всего с 10. По продуктам большинство клиентов с 1,далее 2,больше 2 продуктов имеет меньшинство клиентов."
   ]
  },
  {
   "cell_type": "markdown",
   "metadata": {},
   "source": [
    "#### Итоги сегментации:\n",
    "\n",
    "* 1 сегмент :\n",
    "\n",
    "- Количество продуктов - 1\n",
    "- Большинство проживает в Ярославле \n",
    "- Большинство мужчин\n",
    "- Средний возраст чуть менее 40 лет\n",
    "- Большинство с кредитной картой\n",
    "- Отношение лояльных и нелояльных почти поровну\n",
    "- Отток 28% \n",
    "\n",
    "\n",
    "* 2 сегмент:\n",
    "\n",
    "- Количество продуктов - 2\n",
    "- Большинство проживает в Ярославле\n",
    "- Большинство мужчин\n",
    "- Средний возраст чуть менее 40 лет\n",
    "- Большинство с кредитной картой\n",
    "- Лояльных клиентов чуть больше\n",
    "- Отток мал и составляет 7%\n",
    "\n",
    "Касательно зарплаты,объектов недвижимости и баланса сегменты почти одинаковы."
   ]
  },
  {
   "cell_type": "markdown",
   "metadata": {},
   "source": [
    "#### Гипотезы:\n",
    "* Возраст клиентов с 1 продуктом не равен возрасту клиентов с 2.\n",
    "* Разницы в доходах у клиентов с одним и двумя продуктами не наблюдается."
   ]
  },
  {
   "cell_type": "markdown",
   "metadata": {},
   "source": [
    "#### Рекомендации для продуктового менеджера:\n",
    "* 1 сегмент:\n",
    "Необходимо сформировать предложение для оформления доп.продукта(т.к. во 2 сегменте меньший отток),это могут быть доп.сервисы к кредитным картам или другие продукты.Увеличить лояльность пользователей. В зависимости от продукта предложить выгодные условию,например повышенный кешбек, увеличенные лимиты на транзакции.\n",
    "\n",
    "* 2 сегмент:\n",
    "Самый молодой сегмент.Меньше всего отток,поэтому рекомендуем развивать сервисные составляющие уже оформленных продуктов и повышать лояльность.Например,предложить выпустить КК карту с беспроцентный периодом и повышенным лимитом.\n",
    "\n"
   ]
  },
  {
   "cell_type": "markdown",
   "metadata": {},
   "source": [
    "### Дашборд : https://public.tableau.com/app/profile/nikolay.shilyaev/viz/_16883109220910/sheet2?publish=yes"
   ]
  }
 ],
 "metadata": {
  "ExecuteTimeLog": [
   {
    "duration": 402,
    "start_time": "2023-06-09T17:23:32.385Z"
   },
   {
    "duration": 1452,
    "start_time": "2023-06-09T17:23:34.991Z"
   },
   {
    "duration": 60,
    "start_time": "2023-06-09T17:25:09.608Z"
   },
   {
    "duration": 13,
    "start_time": "2023-06-09T17:25:22.175Z"
   },
   {
    "duration": 29,
    "start_time": "2023-06-09T17:25:58.742Z"
   },
   {
    "duration": 10,
    "start_time": "2023-06-09T17:29:05.152Z"
   },
   {
    "duration": 10,
    "start_time": "2023-06-09T17:29:55.617Z"
   },
   {
    "duration": 10,
    "start_time": "2023-06-09T17:30:41.426Z"
   },
   {
    "duration": 7,
    "start_time": "2023-06-09T17:33:43.434Z"
   },
   {
    "duration": 5,
    "start_time": "2023-06-09T17:37:29.514Z"
   },
   {
    "duration": 51,
    "start_time": "2023-06-09T17:43:57.585Z"
   },
   {
    "duration": 48,
    "start_time": "2023-06-09T17:44:16.682Z"
   },
   {
    "duration": 125,
    "start_time": "2023-06-09T17:45:11.734Z"
   },
   {
    "duration": 46,
    "start_time": "2023-06-09T17:46:32.818Z"
   },
   {
    "duration": 4,
    "start_time": "2023-06-09T17:48:11.594Z"
   },
   {
    "duration": 15,
    "start_time": "2023-06-09T17:48:31.744Z"
   },
   {
    "duration": 1821,
    "start_time": "2023-06-09T17:51:05.901Z"
   },
   {
    "duration": 1290,
    "start_time": "2023-06-09T17:51:12.827Z"
   },
   {
    "duration": 207,
    "start_time": "2023-06-09T17:51:14.119Z"
   },
   {
    "duration": 15,
    "start_time": "2023-06-09T17:51:14.328Z"
   },
   {
    "duration": 51,
    "start_time": "2023-06-09T17:51:14.346Z"
   },
   {
    "duration": 20,
    "start_time": "2023-06-09T17:51:14.400Z"
   },
   {
    "duration": 73,
    "start_time": "2023-06-09T17:51:14.423Z"
   },
   {
    "duration": 25,
    "start_time": "2023-06-09T17:51:14.498Z"
   },
   {
    "duration": 24,
    "start_time": "2023-06-09T17:51:14.525Z"
   },
   {
    "duration": 50,
    "start_time": "2023-06-09T17:54:53.885Z"
   },
   {
    "duration": 1572,
    "start_time": "2023-06-19T17:18:34.674Z"
   },
   {
    "duration": 98,
    "start_time": "2023-06-19T17:18:36.249Z"
   },
   {
    "duration": 21,
    "start_time": "2023-06-19T17:18:36.349Z"
   },
   {
    "duration": 30,
    "start_time": "2023-06-19T17:18:36.375Z"
   },
   {
    "duration": 23,
    "start_time": "2023-06-19T17:18:36.407Z"
   },
   {
    "duration": 12,
    "start_time": "2023-06-19T17:18:36.431Z"
   },
   {
    "duration": 38,
    "start_time": "2023-06-19T17:18:36.445Z"
   },
   {
    "duration": 44,
    "start_time": "2023-06-19T17:18:36.487Z"
   },
   {
    "duration": 2897,
    "start_time": "2023-06-19T17:18:36.533Z"
   },
   {
    "duration": 1506,
    "start_time": "2023-06-19T17:19:59.496Z"
   },
   {
    "duration": 71,
    "start_time": "2023-06-19T17:20:01.007Z"
   },
   {
    "duration": 29,
    "start_time": "2023-06-19T17:20:01.080Z"
   },
   {
    "duration": 115,
    "start_time": "2023-06-19T17:20:01.111Z"
   },
   {
    "duration": 73,
    "start_time": "2023-06-19T17:20:01.229Z"
   },
   {
    "duration": 78,
    "start_time": "2023-06-19T17:20:01.304Z"
   },
   {
    "duration": 109,
    "start_time": "2023-06-19T17:20:01.390Z"
   },
   {
    "duration": 105,
    "start_time": "2023-06-19T17:20:01.504Z"
   },
   {
    "duration": 497867,
    "start_time": "2023-06-19T17:20:01.611Z"
   },
   {
    "duration": 6,
    "start_time": "2023-06-19T17:36:00.299Z"
   },
   {
    "duration": 116,
    "start_time": "2023-06-19T17:36:17.989Z"
   },
   {
    "duration": 14,
    "start_time": "2023-06-19T17:36:26.646Z"
   },
   {
    "duration": 11,
    "start_time": "2023-06-19T17:37:03.974Z"
   },
   {
    "duration": 13,
    "start_time": "2023-06-19T17:42:42.506Z"
   },
   {
    "duration": 22,
    "start_time": "2023-06-19T17:43:11.420Z"
   },
   {
    "duration": 5,
    "start_time": "2023-06-19T17:47:15.915Z"
   },
   {
    "duration": 18,
    "start_time": "2023-06-19T18:24:54.896Z"
   },
   {
    "duration": 212,
    "start_time": "2023-06-19T18:25:13.224Z"
   },
   {
    "duration": 20,
    "start_time": "2023-06-19T18:27:16.822Z"
   },
   {
    "duration": 189,
    "start_time": "2023-06-19T18:28:52.304Z"
   },
   {
    "duration": 154,
    "start_time": "2023-06-19T18:29:14.262Z"
   },
   {
    "duration": 140,
    "start_time": "2023-06-19T18:30:10.152Z"
   },
   {
    "duration": 209,
    "start_time": "2023-06-19T18:31:08.156Z"
   },
   {
    "duration": 15,
    "start_time": "2023-06-19T18:36:20.495Z"
   },
   {
    "duration": 19,
    "start_time": "2023-06-19T18:36:33.816Z"
   },
   {
    "duration": 12,
    "start_time": "2023-06-19T18:39:57.238Z"
   },
   {
    "duration": 12,
    "start_time": "2023-06-19T18:40:35.677Z"
   },
   {
    "duration": 11,
    "start_time": "2023-06-19T18:44:04.626Z"
   },
   {
    "duration": 9,
    "start_time": "2023-06-19T18:44:19.564Z"
   },
   {
    "duration": 10,
    "start_time": "2023-06-19T18:44:28.062Z"
   },
   {
    "duration": 9,
    "start_time": "2023-06-19T18:49:59.333Z"
   },
   {
    "duration": 69,
    "start_time": "2023-06-19T18:50:51.292Z"
   },
   {
    "duration": 12,
    "start_time": "2023-06-19T18:52:40.546Z"
   },
   {
    "duration": 11,
    "start_time": "2023-06-19T18:52:58.325Z"
   },
   {
    "duration": 15,
    "start_time": "2023-06-19T18:53:33.346Z"
   },
   {
    "duration": 60,
    "start_time": "2023-06-19T18:54:20.994Z"
   },
   {
    "duration": 17,
    "start_time": "2023-06-19T18:55:00.892Z"
   },
   {
    "duration": 9,
    "start_time": "2023-06-19T18:55:15.415Z"
   },
   {
    "duration": 1275,
    "start_time": "2023-06-19T18:55:24.855Z"
   },
   {
    "duration": 64,
    "start_time": "2023-06-19T18:55:26.132Z"
   },
   {
    "duration": 13,
    "start_time": "2023-06-19T18:55:26.198Z"
   },
   {
    "duration": 54,
    "start_time": "2023-06-19T18:55:26.213Z"
   },
   {
    "duration": 12,
    "start_time": "2023-06-19T18:55:26.270Z"
   },
   {
    "duration": 27,
    "start_time": "2023-06-19T18:55:26.286Z"
   },
   {
    "duration": 33,
    "start_time": "2023-06-19T18:55:26.315Z"
   },
   {
    "duration": 53,
    "start_time": "2023-06-19T18:55:26.351Z"
   },
   {
    "duration": 4,
    "start_time": "2023-06-19T18:55:26.407Z"
   },
   {
    "duration": 25,
    "start_time": "2023-06-19T18:55:26.413Z"
   },
   {
    "duration": 207,
    "start_time": "2023-06-19T18:55:26.441Z"
   },
   {
    "duration": 182,
    "start_time": "2023-06-19T18:55:26.650Z"
   },
   {
    "duration": 194,
    "start_time": "2023-06-19T18:55:26.834Z"
   },
   {
    "duration": 13,
    "start_time": "2023-06-19T18:55:27.031Z"
   },
   {
    "duration": 13,
    "start_time": "2023-06-19T18:55:27.057Z"
   },
   {
    "duration": 50,
    "start_time": "2023-06-19T18:55:27.072Z"
   },
   {
    "duration": 203,
    "start_time": "2023-06-19T19:10:17.658Z"
   },
   {
    "duration": 56,
    "start_time": "2023-06-19T19:10:54.154Z"
   },
   {
    "duration": 41,
    "start_time": "2023-06-19T19:11:48.976Z"
   },
   {
    "duration": 51,
    "start_time": "2023-06-19T19:12:09.915Z"
   },
   {
    "duration": 17,
    "start_time": "2023-06-19T19:23:02.213Z"
   },
   {
    "duration": 174,
    "start_time": "2023-06-19T19:23:16.850Z"
   },
   {
    "duration": 11,
    "start_time": "2023-06-19T19:23:24.651Z"
   },
   {
    "duration": 338,
    "start_time": "2023-06-19T19:23:31.324Z"
   },
   {
    "duration": 1833,
    "start_time": "2023-06-19T19:24:37.394Z"
   },
   {
    "duration": 2067,
    "start_time": "2023-06-19T19:24:59.390Z"
   },
   {
    "duration": 1671,
    "start_time": "2023-06-19T19:34:17.490Z"
   },
   {
    "duration": 172,
    "start_time": "2023-06-19T19:37:40.592Z"
   },
   {
    "duration": 33,
    "start_time": "2023-06-19T19:38:02.494Z"
   },
   {
    "duration": 1455,
    "start_time": "2023-06-19T19:38:52.236Z"
   },
   {
    "duration": 73,
    "start_time": "2023-06-19T19:38:53.694Z"
   },
   {
    "duration": 20,
    "start_time": "2023-06-19T19:38:53.770Z"
   },
   {
    "duration": 41,
    "start_time": "2023-06-19T19:38:53.792Z"
   },
   {
    "duration": 16,
    "start_time": "2023-06-19T19:38:53.858Z"
   },
   {
    "duration": 9,
    "start_time": "2023-06-19T19:38:53.876Z"
   },
   {
    "duration": 23,
    "start_time": "2023-06-19T19:38:53.887Z"
   },
   {
    "duration": 123,
    "start_time": "2023-06-19T19:38:53.913Z"
   },
   {
    "duration": 5,
    "start_time": "2023-06-19T19:38:54.039Z"
   },
   {
    "duration": 28,
    "start_time": "2023-06-19T19:38:54.047Z"
   },
   {
    "duration": 251,
    "start_time": "2023-06-19T19:38:54.078Z"
   },
   {
    "duration": 158,
    "start_time": "2023-06-19T19:38:54.331Z"
   },
   {
    "duration": 177,
    "start_time": "2023-06-19T19:38:54.492Z"
   },
   {
    "duration": 12,
    "start_time": "2023-06-19T19:38:54.673Z"
   },
   {
    "duration": 10,
    "start_time": "2023-06-19T19:38:54.687Z"
   },
   {
    "duration": 73,
    "start_time": "2023-06-19T19:38:54.699Z"
   },
   {
    "duration": 41,
    "start_time": "2023-06-19T19:38:54.774Z"
   },
   {
    "duration": 1508,
    "start_time": "2023-06-19T19:38:54.817Z"
   },
   {
    "duration": 164,
    "start_time": "2023-06-19T19:38:56.327Z"
   },
   {
    "duration": 1586,
    "start_time": "2023-06-19T19:42:33.352Z"
   },
   {
    "duration": 53,
    "start_time": "2023-06-19T19:42:46.554Z"
   },
   {
    "duration": 10,
    "start_time": "2023-06-19T19:43:57.580Z"
   },
   {
    "duration": 159,
    "start_time": "2023-06-19T19:44:11.140Z"
   },
   {
    "duration": 8,
    "start_time": "2023-06-19T19:44:19.676Z"
   },
   {
    "duration": 5,
    "start_time": "2023-06-19T19:47:29.303Z"
   },
   {
    "duration": 5,
    "start_time": "2023-06-19T19:47:33.844Z"
   },
   {
    "duration": 9,
    "start_time": "2023-06-19T19:47:45.698Z"
   },
   {
    "duration": 9,
    "start_time": "2023-06-19T19:47:54.069Z"
   },
   {
    "duration": 7,
    "start_time": "2023-06-19T19:49:51.344Z"
   },
   {
    "duration": 6,
    "start_time": "2023-06-19T19:51:45.760Z"
   },
   {
    "duration": 133038,
    "start_time": "2023-06-19T19:54:04.865Z"
   },
   {
    "duration": 17,
    "start_time": "2023-06-19T19:56:42.704Z"
   },
   {
    "duration": 13,
    "start_time": "2023-06-19T19:57:15.591Z"
   },
   {
    "duration": 15,
    "start_time": "2023-06-19T19:57:51.491Z"
   },
   {
    "duration": 1010,
    "start_time": "2023-06-19T20:00:02.387Z"
   },
   {
    "duration": 51,
    "start_time": "2023-06-19T20:00:39.134Z"
   },
   {
    "duration": 68,
    "start_time": "2023-06-22T16:35:31.016Z"
   },
   {
    "duration": 1628,
    "start_time": "2023-06-22T16:35:39.393Z"
   },
   {
    "duration": 85,
    "start_time": "2023-06-22T16:35:41.025Z"
   },
   {
    "duration": 19,
    "start_time": "2023-06-22T16:35:41.112Z"
   },
   {
    "duration": 49,
    "start_time": "2023-06-22T16:35:41.133Z"
   },
   {
    "duration": 25,
    "start_time": "2023-06-22T16:35:41.186Z"
   },
   {
    "duration": 15,
    "start_time": "2023-06-22T16:35:41.212Z"
   },
   {
    "duration": 20,
    "start_time": "2023-06-22T16:35:41.229Z"
   },
   {
    "duration": 79,
    "start_time": "2023-06-22T16:35:41.251Z"
   },
   {
    "duration": 5,
    "start_time": "2023-06-22T16:35:41.331Z"
   },
   {
    "duration": 58,
    "start_time": "2023-06-22T16:35:41.338Z"
   },
   {
    "duration": 206,
    "start_time": "2023-06-22T16:35:41.398Z"
   },
   {
    "duration": 173,
    "start_time": "2023-06-22T16:35:41.606Z"
   },
   {
    "duration": 163,
    "start_time": "2023-06-22T16:35:41.780Z"
   },
   {
    "duration": 32,
    "start_time": "2023-06-22T16:35:41.945Z"
   },
   {
    "duration": 116,
    "start_time": "2023-06-22T16:35:41.980Z"
   },
   {
    "duration": 82,
    "start_time": "2023-06-22T16:35:42.099Z"
   },
   {
    "duration": 41,
    "start_time": "2023-06-22T16:35:42.182Z"
   },
   {
    "duration": 1790,
    "start_time": "2023-06-22T16:35:42.225Z"
   },
   {
    "duration": 7,
    "start_time": "2023-06-22T16:35:44.017Z"
   },
   {
    "duration": 22,
    "start_time": "2023-06-22T16:35:44.025Z"
   },
   {
    "duration": 67,
    "start_time": "2023-06-22T16:35:44.048Z"
   },
   {
    "duration": 34,
    "start_time": "2023-06-22T16:35:44.117Z"
   },
   {
    "duration": 87,
    "start_time": "2023-06-22T16:35:44.153Z"
   },
   {
    "duration": 245,
    "start_time": "2023-06-22T16:38:55.925Z"
   },
   {
    "duration": 123,
    "start_time": "2023-06-22T16:41:22.187Z"
   },
   {
    "duration": 200,
    "start_time": "2023-06-22T16:41:33.535Z"
   },
   {
    "duration": 113,
    "start_time": "2023-06-22T16:43:00.729Z"
   },
   {
    "duration": 22,
    "start_time": "2023-06-22T16:57:24.183Z"
   },
   {
    "duration": 163,
    "start_time": "2023-06-22T16:57:32.534Z"
   },
   {
    "duration": 20,
    "start_time": "2023-06-22T16:57:50.981Z"
   },
   {
    "duration": 126,
    "start_time": "2023-06-22T17:03:13.927Z"
   },
   {
    "duration": 1375,
    "start_time": "2023-06-22T17:03:55.182Z"
   },
   {
    "duration": 146,
    "start_time": "2023-06-22T17:03:56.566Z"
   },
   {
    "duration": 14,
    "start_time": "2023-06-22T17:03:56.714Z"
   },
   {
    "duration": 51,
    "start_time": "2023-06-22T17:03:56.730Z"
   },
   {
    "duration": 37,
    "start_time": "2023-06-22T17:03:56.783Z"
   },
   {
    "duration": 49,
    "start_time": "2023-06-22T17:03:56.821Z"
   },
   {
    "duration": 54,
    "start_time": "2023-06-22T17:03:56.872Z"
   },
   {
    "duration": 72,
    "start_time": "2023-06-22T17:03:56.928Z"
   },
   {
    "duration": 20,
    "start_time": "2023-06-22T17:03:57.001Z"
   },
   {
    "duration": 49,
    "start_time": "2023-06-22T17:03:57.024Z"
   },
   {
    "duration": 226,
    "start_time": "2023-06-22T17:03:57.075Z"
   },
   {
    "duration": 194,
    "start_time": "2023-06-22T17:03:57.303Z"
   },
   {
    "duration": 224,
    "start_time": "2023-06-22T17:03:57.505Z"
   },
   {
    "duration": 11,
    "start_time": "2023-06-22T17:03:57.730Z"
   },
   {
    "duration": 83,
    "start_time": "2023-06-22T17:03:57.742Z"
   },
   {
    "duration": 82,
    "start_time": "2023-06-22T17:03:57.827Z"
   },
   {
    "duration": 55,
    "start_time": "2023-06-22T17:03:57.911Z"
   },
   {
    "duration": 1654,
    "start_time": "2023-06-22T17:03:57.967Z"
   },
   {
    "duration": 6,
    "start_time": "2023-06-22T17:03:59.623Z"
   },
   {
    "duration": 91,
    "start_time": "2023-06-22T17:03:59.631Z"
   },
   {
    "duration": 77,
    "start_time": "2023-06-22T17:03:59.724Z"
   },
   {
    "duration": 164,
    "start_time": "2023-06-22T17:03:59.803Z"
   },
   {
    "duration": 151,
    "start_time": "2023-06-22T17:03:59.968Z"
   },
   {
    "duration": 361,
    "start_time": "2023-06-22T17:04:00.120Z"
   },
   {
    "duration": 552,
    "start_time": "2023-06-22T17:04:26.947Z"
   },
   {
    "duration": 454,
    "start_time": "2023-06-22T17:10:34.132Z"
   },
   {
    "duration": 2917,
    "start_time": "2023-06-22T17:14:51.535Z"
   },
   {
    "duration": 190,
    "start_time": "2023-06-22T17:15:20.895Z"
   },
   {
    "duration": 217,
    "start_time": "2023-06-22T17:15:38.202Z"
   },
   {
    "duration": 208,
    "start_time": "2023-06-22T17:15:54.277Z"
   },
   {
    "duration": 507,
    "start_time": "2023-06-22T17:16:04.071Z"
   },
   {
    "duration": 9,
    "start_time": "2023-06-22T17:16:23.604Z"
   },
   {
    "duration": 727,
    "start_time": "2023-06-22T17:16:30.082Z"
   },
   {
    "duration": 606,
    "start_time": "2023-06-22T17:17:41.503Z"
   },
   {
    "duration": 636,
    "start_time": "2023-06-22T17:18:00.088Z"
   },
   {
    "duration": 637,
    "start_time": "2023-06-22T17:19:13.024Z"
   },
   {
    "duration": 762,
    "start_time": "2023-06-22T17:21:11.503Z"
   },
   {
    "duration": 1359,
    "start_time": "2023-06-22T17:31:23.779Z"
   },
   {
    "duration": 30,
    "start_time": "2023-06-22T17:43:10.133Z"
   },
   {
    "duration": 8,
    "start_time": "2023-06-22T17:51:27.090Z"
   },
   {
    "duration": 25,
    "start_time": "2023-06-22T17:51:29.342Z"
   },
   {
    "duration": 7,
    "start_time": "2023-06-22T17:52:22.498Z"
   },
   {
    "duration": 15,
    "start_time": "2023-06-22T17:53:12.054Z"
   },
   {
    "duration": 15,
    "start_time": "2023-06-22T17:53:33.710Z"
   },
   {
    "duration": 1324,
    "start_time": "2023-06-22T17:54:01.560Z"
   },
   {
    "duration": 123,
    "start_time": "2023-06-22T17:54:02.885Z"
   },
   {
    "duration": 102,
    "start_time": "2023-06-22T17:54:03.009Z"
   },
   {
    "duration": 40,
    "start_time": "2023-06-22T17:54:03.113Z"
   },
   {
    "duration": 65,
    "start_time": "2023-06-22T17:54:03.154Z"
   },
   {
    "duration": 51,
    "start_time": "2023-06-22T17:54:03.221Z"
   },
   {
    "duration": 33,
    "start_time": "2023-06-22T17:54:03.274Z"
   },
   {
    "duration": 87,
    "start_time": "2023-06-22T17:54:03.309Z"
   },
   {
    "duration": 70,
    "start_time": "2023-06-22T17:54:03.398Z"
   },
   {
    "duration": 40,
    "start_time": "2023-06-22T17:54:03.471Z"
   },
   {
    "duration": 174,
    "start_time": "2023-06-22T17:54:03.513Z"
   },
   {
    "duration": 143,
    "start_time": "2023-06-22T17:54:03.689Z"
   },
   {
    "duration": 157,
    "start_time": "2023-06-22T17:54:03.834Z"
   },
   {
    "duration": 11,
    "start_time": "2023-06-22T17:54:03.993Z"
   },
   {
    "duration": 16,
    "start_time": "2023-06-22T17:54:04.006Z"
   },
   {
    "duration": 54,
    "start_time": "2023-06-22T17:54:04.024Z"
   },
   {
    "duration": 39,
    "start_time": "2023-06-22T17:54:04.080Z"
   },
   {
    "duration": 1572,
    "start_time": "2023-06-22T17:54:04.120Z"
   },
   {
    "duration": 7,
    "start_time": "2023-06-22T17:54:05.694Z"
   },
   {
    "duration": 17,
    "start_time": "2023-06-22T17:54:05.702Z"
   },
   {
    "duration": 31,
    "start_time": "2023-06-22T17:54:05.720Z"
   },
   {
    "duration": 34,
    "start_time": "2023-06-22T17:54:05.753Z"
   },
   {
    "duration": 43,
    "start_time": "2023-06-22T17:54:05.789Z"
   },
   {
    "duration": 511,
    "start_time": "2023-06-22T17:54:05.834Z"
   },
   {
    "duration": 1248,
    "start_time": "2023-06-22T17:54:06.353Z"
   },
   {
    "duration": 7,
    "start_time": "2023-06-22T17:54:07.604Z"
   },
   {
    "duration": 41,
    "start_time": "2023-06-22T17:54:07.613Z"
   },
   {
    "duration": 30,
    "start_time": "2023-06-22T17:54:07.658Z"
   },
   {
    "duration": 1144,
    "start_time": "2023-06-22T17:55:00.840Z"
   },
   {
    "duration": 1232,
    "start_time": "2023-06-22T17:56:07.040Z"
   },
   {
    "duration": 1158,
    "start_time": "2023-06-22T17:56:56.916Z"
   },
   {
    "duration": 1149,
    "start_time": "2023-06-22T17:57:13.431Z"
   },
   {
    "duration": 1236,
    "start_time": "2023-06-22T18:03:24.004Z"
   },
   {
    "duration": 205,
    "start_time": "2023-06-22T18:14:31.978Z"
   },
   {
    "duration": 1318,
    "start_time": "2023-06-22T18:14:50.801Z"
   },
   {
    "duration": 76,
    "start_time": "2023-06-22T18:14:52.121Z"
   },
   {
    "duration": 16,
    "start_time": "2023-06-22T18:14:52.200Z"
   },
   {
    "duration": 42,
    "start_time": "2023-06-22T18:14:52.219Z"
   },
   {
    "duration": 15,
    "start_time": "2023-06-22T18:14:52.263Z"
   },
   {
    "duration": 8,
    "start_time": "2023-06-22T18:14:52.280Z"
   },
   {
    "duration": 28,
    "start_time": "2023-06-22T18:14:52.290Z"
   },
   {
    "duration": 65,
    "start_time": "2023-06-22T18:14:52.320Z"
   },
   {
    "duration": 7,
    "start_time": "2023-06-22T18:14:52.390Z"
   },
   {
    "duration": 45,
    "start_time": "2023-06-22T18:14:52.399Z"
   },
   {
    "duration": 256,
    "start_time": "2023-06-22T18:14:52.447Z"
   },
   {
    "duration": 167,
    "start_time": "2023-06-22T18:14:52.705Z"
   },
   {
    "duration": 172,
    "start_time": "2023-06-22T18:14:52.873Z"
   },
   {
    "duration": 15,
    "start_time": "2023-06-22T18:14:53.048Z"
   },
   {
    "duration": 31,
    "start_time": "2023-06-22T18:14:53.065Z"
   },
   {
    "duration": 65,
    "start_time": "2023-06-22T18:14:53.098Z"
   },
   {
    "duration": 45,
    "start_time": "2023-06-22T18:14:53.165Z"
   },
   {
    "duration": 1535,
    "start_time": "2023-06-22T18:14:53.215Z"
   },
   {
    "duration": 7,
    "start_time": "2023-06-22T18:14:54.754Z"
   },
   {
    "duration": 26,
    "start_time": "2023-06-22T18:14:54.763Z"
   },
   {
    "duration": 13,
    "start_time": "2023-06-22T18:14:54.792Z"
   },
   {
    "duration": 27,
    "start_time": "2023-06-22T18:14:54.807Z"
   },
   {
    "duration": 44,
    "start_time": "2023-06-22T18:14:54.837Z"
   },
   {
    "duration": 499,
    "start_time": "2023-06-22T18:14:54.883Z"
   },
   {
    "duration": 1253,
    "start_time": "2023-06-22T18:14:55.384Z"
   },
   {
    "duration": 15,
    "start_time": "2023-06-22T18:14:56.639Z"
   },
   {
    "duration": 42,
    "start_time": "2023-06-22T18:14:56.657Z"
   },
   {
    "duration": 32,
    "start_time": "2023-06-22T18:14:56.702Z"
   },
   {
    "duration": 1227,
    "start_time": "2023-06-22T18:14:56.737Z"
   },
   {
    "duration": 330,
    "start_time": "2023-06-22T18:14:57.967Z"
   },
   {
    "duration": 14,
    "start_time": "2023-06-22T18:16:10.862Z"
   },
   {
    "duration": 13,
    "start_time": "2023-06-22T18:17:28.100Z"
   },
   {
    "duration": 1443,
    "start_time": "2023-06-22T18:18:42.850Z"
   },
   {
    "duration": 1432,
    "start_time": "2023-06-22T18:21:27.009Z"
   },
   {
    "duration": 2892,
    "start_time": "2023-06-22T18:22:26.102Z"
   },
   {
    "duration": 1634,
    "start_time": "2023-06-22T18:27:23.369Z"
   },
   {
    "duration": 16,
    "start_time": "2023-06-22T18:32:20.065Z"
   },
   {
    "duration": 201,
    "start_time": "2023-06-22T18:34:50.419Z"
   },
   {
    "duration": 787,
    "start_time": "2023-06-22T18:35:10.934Z"
   },
   {
    "duration": 1382,
    "start_time": "2023-06-22T18:54:37.040Z"
   },
   {
    "duration": 213,
    "start_time": "2023-06-22T18:54:38.425Z"
   },
   {
    "duration": 26,
    "start_time": "2023-06-22T18:54:38.640Z"
   },
   {
    "duration": 36,
    "start_time": "2023-06-22T18:54:38.668Z"
   },
   {
    "duration": 12,
    "start_time": "2023-06-22T18:54:38.707Z"
   },
   {
    "duration": 15,
    "start_time": "2023-06-22T18:54:38.720Z"
   },
   {
    "duration": 50,
    "start_time": "2023-06-22T18:54:38.736Z"
   },
   {
    "duration": 52,
    "start_time": "2023-06-22T18:54:38.788Z"
   },
   {
    "duration": 5,
    "start_time": "2023-06-22T18:54:38.842Z"
   },
   {
    "duration": 53,
    "start_time": "2023-06-22T18:54:38.848Z"
   },
   {
    "duration": 202,
    "start_time": "2023-06-22T18:54:38.903Z"
   },
   {
    "duration": 181,
    "start_time": "2023-06-22T18:54:39.107Z"
   },
   {
    "duration": 187,
    "start_time": "2023-06-22T18:54:39.289Z"
   },
   {
    "duration": 13,
    "start_time": "2023-06-22T18:54:39.480Z"
   },
   {
    "duration": 11,
    "start_time": "2023-06-22T18:54:39.495Z"
   },
   {
    "duration": 101,
    "start_time": "2023-06-22T18:54:39.509Z"
   },
   {
    "duration": 60,
    "start_time": "2023-06-22T18:54:39.612Z"
   },
   {
    "duration": 1615,
    "start_time": "2023-06-22T18:54:39.678Z"
   },
   {
    "duration": 6,
    "start_time": "2023-06-22T18:54:41.295Z"
   },
   {
    "duration": 12,
    "start_time": "2023-06-22T18:54:41.302Z"
   },
   {
    "duration": 9,
    "start_time": "2023-06-22T18:54:41.316Z"
   },
   {
    "duration": 45,
    "start_time": "2023-06-22T18:54:41.327Z"
   },
   {
    "duration": 37,
    "start_time": "2023-06-22T18:54:41.374Z"
   },
   {
    "duration": 496,
    "start_time": "2023-06-22T18:54:41.412Z"
   },
   {
    "duration": 1382,
    "start_time": "2023-06-22T18:54:41.909Z"
   },
   {
    "duration": 7,
    "start_time": "2023-06-22T18:54:43.293Z"
   },
   {
    "duration": 79,
    "start_time": "2023-06-22T18:54:43.302Z"
   },
   {
    "duration": 34,
    "start_time": "2023-06-22T18:54:43.383Z"
   },
   {
    "duration": 1251,
    "start_time": "2023-06-22T18:54:43.419Z"
   },
   {
    "duration": 1613,
    "start_time": "2023-06-22T18:54:44.672Z"
   },
   {
    "duration": 853,
    "start_time": "2023-06-22T18:54:46.287Z"
   },
   {
    "duration": 24,
    "start_time": "2023-06-22T18:54:47.142Z"
   },
   {
    "duration": 888,
    "start_time": "2023-06-22T18:56:32.748Z"
   },
   {
    "duration": 1466,
    "start_time": "2023-06-22T18:58:40.629Z"
   },
   {
    "duration": 104,
    "start_time": "2023-06-22T18:58:42.097Z"
   },
   {
    "duration": 21,
    "start_time": "2023-06-22T18:58:42.204Z"
   },
   {
    "duration": 58,
    "start_time": "2023-06-22T18:58:42.227Z"
   },
   {
    "duration": 11,
    "start_time": "2023-06-22T18:58:42.288Z"
   },
   {
    "duration": 11,
    "start_time": "2023-06-22T18:58:42.300Z"
   },
   {
    "duration": 31,
    "start_time": "2023-06-22T18:58:42.313Z"
   },
   {
    "duration": 66,
    "start_time": "2023-06-22T18:58:42.346Z"
   },
   {
    "duration": 6,
    "start_time": "2023-06-22T18:58:42.416Z"
   },
   {
    "duration": 36,
    "start_time": "2023-06-22T18:58:42.424Z"
   },
   {
    "duration": 288,
    "start_time": "2023-06-22T18:58:42.468Z"
   },
   {
    "duration": 177,
    "start_time": "2023-06-22T18:58:42.758Z"
   },
   {
    "duration": 192,
    "start_time": "2023-06-22T18:58:42.936Z"
   },
   {
    "duration": 12,
    "start_time": "2023-06-22T18:58:43.130Z"
   },
   {
    "duration": 40,
    "start_time": "2023-06-22T18:58:43.143Z"
   },
   {
    "duration": 89,
    "start_time": "2023-06-22T18:58:43.186Z"
   },
   {
    "duration": 52,
    "start_time": "2023-06-22T18:58:43.278Z"
   },
   {
    "duration": 1742,
    "start_time": "2023-06-22T18:58:43.332Z"
   },
   {
    "duration": 8,
    "start_time": "2023-06-22T18:58:45.076Z"
   },
   {
    "duration": 49,
    "start_time": "2023-06-22T18:58:45.085Z"
   },
   {
    "duration": 28,
    "start_time": "2023-06-22T18:58:45.136Z"
   },
   {
    "duration": 17,
    "start_time": "2023-06-22T18:58:45.167Z"
   },
   {
    "duration": 47,
    "start_time": "2023-06-22T18:58:45.187Z"
   },
   {
    "duration": 508,
    "start_time": "2023-06-22T18:58:45.236Z"
   },
   {
    "duration": 1369,
    "start_time": "2023-06-22T18:58:45.746Z"
   },
   {
    "duration": 11,
    "start_time": "2023-06-22T18:58:47.118Z"
   },
   {
    "duration": 92,
    "start_time": "2023-06-22T18:58:47.131Z"
   },
   {
    "duration": 43,
    "start_time": "2023-06-22T18:58:47.225Z"
   },
   {
    "duration": 1198,
    "start_time": "2023-06-22T18:58:47.272Z"
   },
   {
    "duration": 1738,
    "start_time": "2023-06-22T18:58:48.472Z"
   },
   {
    "duration": 892,
    "start_time": "2023-06-22T18:58:50.212Z"
   },
   {
    "duration": 3,
    "start_time": "2023-06-22T18:58:51.106Z"
   },
   {
    "duration": 971,
    "start_time": "2023-06-22T18:59:01.208Z"
   },
   {
    "duration": 19,
    "start_time": "2023-06-22T19:03:52.500Z"
   },
   {
    "duration": 15,
    "start_time": "2023-06-22T19:05:32.528Z"
   },
   {
    "duration": 151,
    "start_time": "2023-06-22T19:07:21.897Z"
   },
   {
    "duration": 1329,
    "start_time": "2023-06-22T19:07:47.473Z"
   },
   {
    "duration": 132,
    "start_time": "2023-06-22T19:07:48.804Z"
   },
   {
    "duration": 14,
    "start_time": "2023-06-22T19:07:48.938Z"
   },
   {
    "duration": 67,
    "start_time": "2023-06-22T19:07:48.954Z"
   },
   {
    "duration": 48,
    "start_time": "2023-06-22T19:07:49.024Z"
   },
   {
    "duration": 20,
    "start_time": "2023-06-22T19:07:49.074Z"
   },
   {
    "duration": 32,
    "start_time": "2023-06-22T19:07:49.096Z"
   },
   {
    "duration": 62,
    "start_time": "2023-06-22T19:07:49.130Z"
   },
   {
    "duration": 5,
    "start_time": "2023-06-22T19:07:49.194Z"
   },
   {
    "duration": 42,
    "start_time": "2023-06-22T19:07:49.202Z"
   },
   {
    "duration": 245,
    "start_time": "2023-06-22T19:07:49.246Z"
   },
   {
    "duration": 183,
    "start_time": "2023-06-22T19:07:49.493Z"
   },
   {
    "duration": 190,
    "start_time": "2023-06-22T19:07:49.678Z"
   },
   {
    "duration": 14,
    "start_time": "2023-06-22T19:07:49.874Z"
   },
   {
    "duration": 31,
    "start_time": "2023-06-22T19:07:49.890Z"
   },
   {
    "duration": 74,
    "start_time": "2023-06-22T19:07:49.922Z"
   },
   {
    "duration": 76,
    "start_time": "2023-06-22T19:07:49.998Z"
   },
   {
    "duration": 1688,
    "start_time": "2023-06-22T19:07:50.076Z"
   },
   {
    "duration": 9,
    "start_time": "2023-06-22T19:07:51.767Z"
   },
   {
    "duration": 50,
    "start_time": "2023-06-22T19:07:51.777Z"
   },
   {
    "duration": 33,
    "start_time": "2023-06-22T19:07:51.830Z"
   },
   {
    "duration": 28,
    "start_time": "2023-06-22T19:07:51.871Z"
   },
   {
    "duration": 44,
    "start_time": "2023-06-22T19:07:51.901Z"
   },
   {
    "duration": 548,
    "start_time": "2023-06-22T19:07:51.947Z"
   },
   {
    "duration": 1545,
    "start_time": "2023-06-22T19:07:52.497Z"
   },
   {
    "duration": 23,
    "start_time": "2023-06-22T19:07:54.044Z"
   },
   {
    "duration": 72,
    "start_time": "2023-06-22T19:07:54.074Z"
   },
   {
    "duration": 79,
    "start_time": "2023-06-22T19:07:54.148Z"
   },
   {
    "duration": 1499,
    "start_time": "2023-06-22T19:07:54.229Z"
   },
   {
    "duration": 1747,
    "start_time": "2023-06-22T19:07:55.730Z"
   },
   {
    "duration": 926,
    "start_time": "2023-06-22T19:07:57.480Z"
   },
   {
    "duration": 129,
    "start_time": "2023-06-22T19:07:58.407Z"
   },
   {
    "duration": 20,
    "start_time": "2023-06-22T19:14:38.853Z"
   },
   {
    "duration": 21,
    "start_time": "2023-06-22T19:15:04.051Z"
   },
   {
    "duration": 14,
    "start_time": "2023-06-22T19:16:01.782Z"
   },
   {
    "duration": 1359,
    "start_time": "2023-06-22T19:16:19.983Z"
   },
   {
    "duration": 158,
    "start_time": "2023-06-22T19:16:21.344Z"
   },
   {
    "duration": 17,
    "start_time": "2023-06-22T19:16:21.503Z"
   },
   {
    "duration": 53,
    "start_time": "2023-06-22T19:16:21.522Z"
   },
   {
    "duration": 11,
    "start_time": "2023-06-22T19:16:21.578Z"
   },
   {
    "duration": 9,
    "start_time": "2023-06-22T19:16:21.591Z"
   },
   {
    "duration": 35,
    "start_time": "2023-06-22T19:16:21.602Z"
   },
   {
    "duration": 78,
    "start_time": "2023-06-22T19:16:21.639Z"
   },
   {
    "duration": 5,
    "start_time": "2023-06-22T19:16:21.719Z"
   },
   {
    "duration": 79,
    "start_time": "2023-06-22T19:16:21.726Z"
   },
   {
    "duration": 189,
    "start_time": "2023-06-22T19:16:21.807Z"
   },
   {
    "duration": 151,
    "start_time": "2023-06-22T19:16:21.998Z"
   },
   {
    "duration": 197,
    "start_time": "2023-06-22T19:16:22.151Z"
   },
   {
    "duration": 20,
    "start_time": "2023-06-22T19:16:22.355Z"
   },
   {
    "duration": 52,
    "start_time": "2023-06-22T19:16:22.377Z"
   },
   {
    "duration": 92,
    "start_time": "2023-06-22T19:16:22.431Z"
   },
   {
    "duration": 60,
    "start_time": "2023-06-22T19:16:22.525Z"
   },
   {
    "duration": 1626,
    "start_time": "2023-06-22T19:16:22.587Z"
   },
   {
    "duration": 6,
    "start_time": "2023-06-22T19:16:24.215Z"
   },
   {
    "duration": 26,
    "start_time": "2023-06-22T19:16:24.222Z"
   },
   {
    "duration": 57,
    "start_time": "2023-06-22T19:16:24.250Z"
   },
   {
    "duration": 73,
    "start_time": "2023-06-22T19:16:24.309Z"
   },
   {
    "duration": 86,
    "start_time": "2023-06-22T19:16:24.384Z"
   },
   {
    "duration": 548,
    "start_time": "2023-06-22T19:16:24.472Z"
   },
   {
    "duration": 1280,
    "start_time": "2023-06-22T19:16:25.022Z"
   },
   {
    "duration": 8,
    "start_time": "2023-06-22T19:16:26.304Z"
   },
   {
    "duration": 48,
    "start_time": "2023-06-22T19:16:26.314Z"
   },
   {
    "duration": 37,
    "start_time": "2023-06-22T19:16:26.363Z"
   },
   {
    "duration": 1246,
    "start_time": "2023-06-22T19:16:26.402Z"
   },
   {
    "duration": 1532,
    "start_time": "2023-06-22T19:16:27.650Z"
   },
   {
    "duration": 807,
    "start_time": "2023-06-22T19:16:29.183Z"
   },
   {
    "duration": 120,
    "start_time": "2023-06-22T19:16:29.992Z"
   },
   {
    "duration": 16,
    "start_time": "2023-06-22T19:17:19.415Z"
   },
   {
    "duration": 47,
    "start_time": "2023-06-24T11:25:26.429Z"
   },
   {
    "duration": 1314,
    "start_time": "2023-06-24T11:25:42.716Z"
   },
   {
    "duration": 632,
    "start_time": "2023-06-24T11:25:44.033Z"
   },
   {
    "duration": 12,
    "start_time": "2023-06-24T11:25:44.666Z"
   },
   {
    "duration": 31,
    "start_time": "2023-06-24T11:25:44.679Z"
   },
   {
    "duration": 8,
    "start_time": "2023-06-24T11:25:44.711Z"
   },
   {
    "duration": 11,
    "start_time": "2023-06-24T11:25:44.721Z"
   },
   {
    "duration": 27,
    "start_time": "2023-06-24T11:25:44.734Z"
   },
   {
    "duration": 55,
    "start_time": "2023-06-24T11:25:44.763Z"
   },
   {
    "duration": 4,
    "start_time": "2023-06-24T11:25:44.819Z"
   },
   {
    "duration": 18,
    "start_time": "2023-06-24T11:25:44.825Z"
   },
   {
    "duration": 137,
    "start_time": "2023-06-24T11:25:44.844Z"
   },
   {
    "duration": 143,
    "start_time": "2023-06-24T11:25:44.982Z"
   },
   {
    "duration": 142,
    "start_time": "2023-06-24T11:25:45.126Z"
   },
   {
    "duration": 10,
    "start_time": "2023-06-24T11:25:45.270Z"
   },
   {
    "duration": 17,
    "start_time": "2023-06-24T11:25:45.281Z"
   },
   {
    "duration": 39,
    "start_time": "2023-06-24T11:25:45.300Z"
   },
   {
    "duration": 51,
    "start_time": "2023-06-24T11:25:45.341Z"
   },
   {
    "duration": 1301,
    "start_time": "2023-06-24T11:25:45.393Z"
   },
   {
    "duration": 6,
    "start_time": "2023-06-24T11:25:46.695Z"
   },
   {
    "duration": 7,
    "start_time": "2023-06-24T11:25:46.702Z"
   },
   {
    "duration": 8,
    "start_time": "2023-06-24T11:25:46.710Z"
   },
   {
    "duration": 12,
    "start_time": "2023-06-24T11:25:46.719Z"
   },
   {
    "duration": 50,
    "start_time": "2023-06-24T11:25:46.733Z"
   },
   {
    "duration": 427,
    "start_time": "2023-06-24T11:25:46.784Z"
   },
   {
    "duration": 1067,
    "start_time": "2023-06-24T11:25:47.213Z"
   },
   {
    "duration": 8,
    "start_time": "2023-06-24T11:25:48.282Z"
   },
   {
    "duration": 29,
    "start_time": "2023-06-24T11:25:48.291Z"
   },
   {
    "duration": 25,
    "start_time": "2023-06-24T11:25:48.323Z"
   },
   {
    "duration": 1079,
    "start_time": "2023-06-24T11:25:48.349Z"
   },
   {
    "duration": 1291,
    "start_time": "2023-06-24T11:25:49.429Z"
   },
   {
    "duration": 679,
    "start_time": "2023-06-24T11:25:50.722Z"
   },
   {
    "duration": 113,
    "start_time": "2023-06-24T11:25:51.403Z"
   },
   {
    "duration": 140,
    "start_time": "2023-06-24T12:14:12.800Z"
   },
   {
    "duration": 111,
    "start_time": "2023-06-24T12:22:17.791Z"
   },
   {
    "duration": 94,
    "start_time": "2023-06-24T12:28:09.114Z"
   },
   {
    "duration": 216,
    "start_time": "2023-06-24T12:28:48.704Z"
   },
   {
    "duration": 109,
    "start_time": "2023-06-24T12:29:01.034Z"
   },
   {
    "duration": 169,
    "start_time": "2023-06-24T12:30:00.505Z"
   },
   {
    "duration": 97,
    "start_time": "2023-06-24T12:30:14.346Z"
   },
   {
    "duration": 1027,
    "start_time": "2023-06-24T12:36:52.031Z"
   },
   {
    "duration": 934,
    "start_time": "2023-06-24T12:37:05.580Z"
   },
   {
    "duration": 6,
    "start_time": "2023-06-24T12:37:27.107Z"
   },
   {
    "duration": 14,
    "start_time": "2023-06-24T12:37:42.065Z"
   },
   {
    "duration": 10,
    "start_time": "2023-06-24T12:39:11.124Z"
   },
   {
    "duration": 12,
    "start_time": "2023-06-24T12:39:33.380Z"
   },
   {
    "duration": 11,
    "start_time": "2023-06-24T12:42:26.548Z"
   },
   {
    "duration": 18,
    "start_time": "2023-06-24T12:42:36.958Z"
   },
   {
    "duration": 17,
    "start_time": "2023-06-24T12:42:52.523Z"
   },
   {
    "duration": 28,
    "start_time": "2023-06-24T12:45:01.409Z"
   },
   {
    "duration": 12,
    "start_time": "2023-06-24T12:49:02.301Z"
   },
   {
    "duration": 1194,
    "start_time": "2023-06-24T12:50:54.895Z"
   },
   {
    "duration": 172,
    "start_time": "2023-06-24T12:50:56.091Z"
   },
   {
    "duration": 12,
    "start_time": "2023-06-24T12:50:56.265Z"
   },
   {
    "duration": 25,
    "start_time": "2023-06-24T12:50:56.279Z"
   },
   {
    "duration": 8,
    "start_time": "2023-06-24T12:50:56.306Z"
   },
   {
    "duration": 8,
    "start_time": "2023-06-24T12:50:56.315Z"
   },
   {
    "duration": 12,
    "start_time": "2023-06-24T12:50:56.324Z"
   },
   {
    "duration": 72,
    "start_time": "2023-06-24T12:50:56.337Z"
   },
   {
    "duration": 4,
    "start_time": "2023-06-24T12:50:56.411Z"
   },
   {
    "duration": 13,
    "start_time": "2023-06-24T12:50:56.418Z"
   },
   {
    "duration": 168,
    "start_time": "2023-06-24T12:50:56.433Z"
   },
   {
    "duration": 133,
    "start_time": "2023-06-24T12:50:56.603Z"
   },
   {
    "duration": 151,
    "start_time": "2023-06-24T12:50:56.738Z"
   },
   {
    "duration": 11,
    "start_time": "2023-06-24T12:50:56.891Z"
   },
   {
    "duration": 9,
    "start_time": "2023-06-24T12:50:56.903Z"
   },
   {
    "duration": 59,
    "start_time": "2023-06-24T12:50:56.914Z"
   },
   {
    "duration": 34,
    "start_time": "2023-06-24T12:50:56.975Z"
   },
   {
    "duration": 1300,
    "start_time": "2023-06-24T12:50:57.010Z"
   },
   {
    "duration": 6,
    "start_time": "2023-06-24T12:50:58.311Z"
   },
   {
    "duration": 7,
    "start_time": "2023-06-24T12:50:58.318Z"
   },
   {
    "duration": 10,
    "start_time": "2023-06-24T12:50:58.326Z"
   },
   {
    "duration": 12,
    "start_time": "2023-06-24T12:50:58.337Z"
   },
   {
    "duration": 43,
    "start_time": "2023-06-24T12:50:58.350Z"
   },
   {
    "duration": 425,
    "start_time": "2023-06-24T12:50:58.395Z"
   },
   {
    "duration": 1061,
    "start_time": "2023-06-24T12:50:58.822Z"
   },
   {
    "duration": 8,
    "start_time": "2023-06-24T12:50:59.885Z"
   },
   {
    "duration": 34,
    "start_time": "2023-06-24T12:50:59.895Z"
   },
   {
    "duration": 36,
    "start_time": "2023-06-24T12:50:59.932Z"
   },
   {
    "duration": 1514,
    "start_time": "2023-06-24T12:50:59.970Z"
   },
   {
    "duration": 1242,
    "start_time": "2023-06-24T12:51:01.486Z"
   },
   {
    "duration": 687,
    "start_time": "2023-06-24T12:51:02.729Z"
   },
   {
    "duration": 97,
    "start_time": "2023-06-24T12:51:03.417Z"
   },
   {
    "duration": 107,
    "start_time": "2023-06-24T12:51:03.516Z"
   },
   {
    "duration": 0,
    "start_time": "2023-06-24T12:51:03.624Z"
   },
   {
    "duration": 1205,
    "start_time": "2023-06-24T12:54:26.560Z"
   },
   {
    "duration": 63,
    "start_time": "2023-06-24T12:54:27.767Z"
   },
   {
    "duration": 12,
    "start_time": "2023-06-24T12:54:27.832Z"
   },
   {
    "duration": 23,
    "start_time": "2023-06-24T12:54:27.846Z"
   },
   {
    "duration": 9,
    "start_time": "2023-06-24T12:54:27.871Z"
   },
   {
    "duration": 7,
    "start_time": "2023-06-24T12:54:27.882Z"
   },
   {
    "duration": 11,
    "start_time": "2023-06-24T12:54:27.891Z"
   },
   {
    "duration": 45,
    "start_time": "2023-06-24T12:54:27.903Z"
   },
   {
    "duration": 22,
    "start_time": "2023-06-24T12:54:27.949Z"
   },
   {
    "duration": 28,
    "start_time": "2023-06-24T12:54:27.972Z"
   },
   {
    "duration": 157,
    "start_time": "2023-06-24T12:54:28.002Z"
   },
   {
    "duration": 132,
    "start_time": "2023-06-24T12:54:28.160Z"
   },
   {
    "duration": 146,
    "start_time": "2023-06-24T12:54:28.293Z"
   },
   {
    "duration": 10,
    "start_time": "2023-06-24T12:54:28.442Z"
   },
   {
    "duration": 18,
    "start_time": "2023-06-24T12:54:28.454Z"
   },
   {
    "duration": 40,
    "start_time": "2023-06-24T12:54:28.474Z"
   },
   {
    "duration": 53,
    "start_time": "2023-06-24T12:54:28.516Z"
   },
   {
    "duration": 1307,
    "start_time": "2023-06-24T12:54:28.571Z"
   },
   {
    "duration": 6,
    "start_time": "2023-06-24T12:54:29.880Z"
   },
   {
    "duration": 24,
    "start_time": "2023-06-24T12:54:29.887Z"
   },
   {
    "duration": 9,
    "start_time": "2023-06-24T12:54:29.912Z"
   },
   {
    "duration": 13,
    "start_time": "2023-06-24T12:54:29.922Z"
   },
   {
    "duration": 37,
    "start_time": "2023-06-24T12:54:29.937Z"
   },
   {
    "duration": 506,
    "start_time": "2023-06-24T12:54:29.976Z"
   },
   {
    "duration": 1118,
    "start_time": "2023-06-24T12:54:30.484Z"
   },
   {
    "duration": 9,
    "start_time": "2023-06-24T12:54:31.603Z"
   },
   {
    "duration": 39,
    "start_time": "2023-06-24T12:54:31.613Z"
   },
   {
    "duration": 33,
    "start_time": "2023-06-24T12:54:31.654Z"
   },
   {
    "duration": 1523,
    "start_time": "2023-06-24T12:54:31.689Z"
   },
   {
    "duration": 1474,
    "start_time": "2023-06-24T12:54:33.214Z"
   },
   {
    "duration": 717,
    "start_time": "2023-06-24T12:54:34.690Z"
   },
   {
    "duration": 105,
    "start_time": "2023-06-24T12:54:35.409Z"
   },
   {
    "duration": 107,
    "start_time": "2023-06-24T12:54:35.516Z"
   },
   {
    "duration": 0,
    "start_time": "2023-06-24T12:54:35.624Z"
   },
   {
    "duration": 13,
    "start_time": "2023-06-24T12:55:56.111Z"
   },
   {
    "duration": 18,
    "start_time": "2023-06-24T12:56:49.450Z"
   },
   {
    "duration": 14,
    "start_time": "2023-06-24T13:00:55.000Z"
   },
   {
    "duration": 12,
    "start_time": "2023-06-24T13:01:52.687Z"
   },
   {
    "duration": 16,
    "start_time": "2023-06-24T13:02:24.864Z"
   },
   {
    "duration": 1026,
    "start_time": "2023-06-24T14:53:56.769Z"
   },
   {
    "duration": 13,
    "start_time": "2023-06-24T14:54:12.956Z"
   },
   {
    "duration": 8,
    "start_time": "2023-06-24T14:54:28.241Z"
   },
   {
    "duration": 9,
    "start_time": "2023-06-24T14:55:42.255Z"
   },
   {
    "duration": 1166,
    "start_time": "2023-06-24T14:56:39.675Z"
   },
   {
    "duration": 215,
    "start_time": "2023-06-24T14:56:40.843Z"
   },
   {
    "duration": 14,
    "start_time": "2023-06-24T14:56:41.060Z"
   },
   {
    "duration": 26,
    "start_time": "2023-06-24T14:56:41.076Z"
   },
   {
    "duration": 13,
    "start_time": "2023-06-24T14:56:41.104Z"
   },
   {
    "duration": 6,
    "start_time": "2023-06-24T14:56:41.119Z"
   },
   {
    "duration": 36,
    "start_time": "2023-06-24T14:56:41.127Z"
   },
   {
    "duration": 41,
    "start_time": "2023-06-24T14:56:41.165Z"
   },
   {
    "duration": 4,
    "start_time": "2023-06-24T14:56:41.208Z"
   },
   {
    "duration": 16,
    "start_time": "2023-06-24T14:56:41.213Z"
   },
   {
    "duration": 163,
    "start_time": "2023-06-24T14:56:41.230Z"
   },
   {
    "duration": 122,
    "start_time": "2023-06-24T14:56:41.395Z"
   },
   {
    "duration": 141,
    "start_time": "2023-06-24T14:56:41.519Z"
   },
   {
    "duration": 13,
    "start_time": "2023-06-24T14:56:41.662Z"
   },
   {
    "duration": 11,
    "start_time": "2023-06-24T14:56:41.676Z"
   },
   {
    "duration": 41,
    "start_time": "2023-06-24T14:56:41.689Z"
   },
   {
    "duration": 57,
    "start_time": "2023-06-24T14:56:41.732Z"
   },
   {
    "duration": 1266,
    "start_time": "2023-06-24T14:56:41.791Z"
   },
   {
    "duration": 13,
    "start_time": "2023-06-24T14:56:43.059Z"
   },
   {
    "duration": 28,
    "start_time": "2023-06-24T14:56:43.074Z"
   },
   {
    "duration": 6,
    "start_time": "2023-06-24T14:56:43.104Z"
   },
   {
    "duration": 23,
    "start_time": "2023-06-24T14:56:43.112Z"
   },
   {
    "duration": 56,
    "start_time": "2023-06-24T14:56:43.137Z"
   },
   {
    "duration": 434,
    "start_time": "2023-06-24T14:56:43.195Z"
   },
   {
    "duration": 1079,
    "start_time": "2023-06-24T14:56:43.631Z"
   },
   {
    "duration": 8,
    "start_time": "2023-06-24T14:56:44.712Z"
   },
   {
    "duration": 33,
    "start_time": "2023-06-24T14:56:44.721Z"
   },
   {
    "duration": 37,
    "start_time": "2023-06-24T14:56:44.755Z"
   },
   {
    "duration": 1359,
    "start_time": "2023-06-24T14:56:44.793Z"
   },
   {
    "duration": 1234,
    "start_time": "2023-06-24T14:56:46.154Z"
   },
   {
    "duration": 667,
    "start_time": "2023-06-24T14:56:47.390Z"
   },
   {
    "duration": 97,
    "start_time": "2023-06-24T14:56:48.059Z"
   },
   {
    "duration": 24,
    "start_time": "2023-06-24T14:56:48.158Z"
   },
   {
    "duration": 15,
    "start_time": "2023-06-24T14:56:48.184Z"
   },
   {
    "duration": 7,
    "start_time": "2023-06-24T14:56:48.200Z"
   },
   {
    "duration": 27,
    "start_time": "2023-06-24T14:56:48.208Z"
   },
   {
    "duration": 8,
    "start_time": "2023-06-24T15:03:36.663Z"
   },
   {
    "duration": 5,
    "start_time": "2023-06-24T15:03:48.056Z"
   },
   {
    "duration": 8,
    "start_time": "2023-06-24T15:04:52.020Z"
   },
   {
    "duration": 5,
    "start_time": "2023-06-24T15:05:18.721Z"
   },
   {
    "duration": 6,
    "start_time": "2023-06-24T15:06:48.748Z"
   },
   {
    "duration": 1169,
    "start_time": "2023-06-24T15:08:02.401Z"
   },
   {
    "duration": 73,
    "start_time": "2023-06-24T15:08:03.572Z"
   },
   {
    "duration": 11,
    "start_time": "2023-06-24T15:08:03.647Z"
   },
   {
    "duration": 22,
    "start_time": "2023-06-24T15:08:03.660Z"
   },
   {
    "duration": 11,
    "start_time": "2023-06-24T15:08:03.684Z"
   },
   {
    "duration": 8,
    "start_time": "2023-06-24T15:08:03.697Z"
   },
   {
    "duration": 13,
    "start_time": "2023-06-24T15:08:03.706Z"
   },
   {
    "duration": 62,
    "start_time": "2023-06-24T15:08:03.721Z"
   },
   {
    "duration": 5,
    "start_time": "2023-06-24T15:08:03.784Z"
   },
   {
    "duration": 32,
    "start_time": "2023-06-24T15:08:03.790Z"
   },
   {
    "duration": 147,
    "start_time": "2023-06-24T15:08:03.823Z"
   },
   {
    "duration": 174,
    "start_time": "2023-06-24T15:08:03.972Z"
   },
   {
    "duration": 144,
    "start_time": "2023-06-24T15:08:04.148Z"
   },
   {
    "duration": 9,
    "start_time": "2023-06-24T15:08:04.295Z"
   },
   {
    "duration": 7,
    "start_time": "2023-06-24T15:08:04.306Z"
   },
   {
    "duration": 55,
    "start_time": "2023-06-24T15:08:04.314Z"
   },
   {
    "duration": 34,
    "start_time": "2023-06-24T15:08:04.371Z"
   },
   {
    "duration": 1424,
    "start_time": "2023-06-24T15:08:04.406Z"
   },
   {
    "duration": 6,
    "start_time": "2023-06-24T15:08:05.832Z"
   },
   {
    "duration": 7,
    "start_time": "2023-06-24T15:08:05.840Z"
   },
   {
    "duration": 24,
    "start_time": "2023-06-24T15:08:05.849Z"
   },
   {
    "duration": 15,
    "start_time": "2023-06-24T15:08:05.875Z"
   },
   {
    "duration": 36,
    "start_time": "2023-06-24T15:08:05.892Z"
   },
   {
    "duration": 472,
    "start_time": "2023-06-24T15:08:05.929Z"
   },
   {
    "duration": 1222,
    "start_time": "2023-06-24T15:08:06.403Z"
   },
   {
    "duration": 8,
    "start_time": "2023-06-24T15:08:07.626Z"
   },
   {
    "duration": 37,
    "start_time": "2023-06-24T15:08:07.636Z"
   },
   {
    "duration": 29,
    "start_time": "2023-06-24T15:08:07.675Z"
   },
   {
    "duration": 1506,
    "start_time": "2023-06-24T15:08:07.706Z"
   },
   {
    "duration": 1337,
    "start_time": "2023-06-24T15:08:09.213Z"
   },
   {
    "duration": 678,
    "start_time": "2023-06-24T15:08:10.552Z"
   },
   {
    "duration": 102,
    "start_time": "2023-06-24T15:08:11.231Z"
   },
   {
    "duration": 16,
    "start_time": "2023-06-24T15:08:11.335Z"
   },
   {
    "duration": 28,
    "start_time": "2023-06-24T15:08:11.353Z"
   },
   {
    "duration": 6,
    "start_time": "2023-06-24T15:08:11.382Z"
   },
   {
    "duration": 5,
    "start_time": "2023-06-24T15:08:11.389Z"
   },
   {
    "duration": 9,
    "start_time": "2023-06-24T15:08:11.395Z"
   },
   {
    "duration": 5,
    "start_time": "2023-06-24T15:08:11.405Z"
   },
   {
    "duration": 1237,
    "start_time": "2023-06-24T15:40:30.543Z"
   },
   {
    "duration": 57,
    "start_time": "2023-06-24T15:40:31.784Z"
   },
   {
    "duration": 13,
    "start_time": "2023-06-24T15:40:31.843Z"
   },
   {
    "duration": 51,
    "start_time": "2023-06-24T15:40:31.857Z"
   },
   {
    "duration": 19,
    "start_time": "2023-06-24T15:40:31.910Z"
   },
   {
    "duration": 42,
    "start_time": "2023-06-24T15:40:31.931Z"
   },
   {
    "duration": 34,
    "start_time": "2023-06-24T15:40:31.975Z"
   },
   {
    "duration": 65,
    "start_time": "2023-06-24T15:40:32.010Z"
   },
   {
    "duration": 4,
    "start_time": "2023-06-24T15:40:32.077Z"
   },
   {
    "duration": 33,
    "start_time": "2023-06-24T15:40:32.084Z"
   },
   {
    "duration": 168,
    "start_time": "2023-06-24T15:40:32.119Z"
   },
   {
    "duration": 142,
    "start_time": "2023-06-24T15:40:32.289Z"
   },
   {
    "duration": 146,
    "start_time": "2023-06-24T15:40:32.433Z"
   },
   {
    "duration": 10,
    "start_time": "2023-06-24T15:40:32.581Z"
   },
   {
    "duration": 8,
    "start_time": "2023-06-24T15:40:32.593Z"
   },
   {
    "duration": 41,
    "start_time": "2023-06-24T15:40:32.603Z"
   },
   {
    "duration": 62,
    "start_time": "2023-06-24T15:40:32.645Z"
   },
   {
    "duration": 1546,
    "start_time": "2023-06-24T15:40:32.709Z"
   },
   {
    "duration": 11,
    "start_time": "2023-06-24T15:40:34.257Z"
   },
   {
    "duration": 6,
    "start_time": "2023-06-24T15:40:34.270Z"
   },
   {
    "duration": 6,
    "start_time": "2023-06-24T15:40:34.278Z"
   },
   {
    "duration": 15,
    "start_time": "2023-06-24T15:40:34.285Z"
   },
   {
    "duration": 31,
    "start_time": "2023-06-24T15:40:34.302Z"
   },
   {
    "duration": 458,
    "start_time": "2023-06-24T15:40:34.367Z"
   },
   {
    "duration": 1075,
    "start_time": "2023-06-24T15:40:34.827Z"
   },
   {
    "duration": 8,
    "start_time": "2023-06-24T15:40:35.904Z"
   },
   {
    "duration": 38,
    "start_time": "2023-06-24T15:40:35.913Z"
   },
   {
    "duration": 32,
    "start_time": "2023-06-24T15:40:35.954Z"
   },
   {
    "duration": 1372,
    "start_time": "2023-06-24T15:40:35.987Z"
   },
   {
    "duration": 1184,
    "start_time": "2023-06-24T15:40:37.361Z"
   },
   {
    "duration": 658,
    "start_time": "2023-06-24T15:40:38.547Z"
   },
   {
    "duration": 99,
    "start_time": "2023-06-24T15:40:39.206Z"
   },
   {
    "duration": 16,
    "start_time": "2023-06-24T15:40:39.307Z"
   },
   {
    "duration": 14,
    "start_time": "2023-06-24T15:40:39.325Z"
   },
   {
    "duration": 11,
    "start_time": "2023-06-24T15:40:39.340Z"
   },
   {
    "duration": 5,
    "start_time": "2023-06-24T15:40:39.368Z"
   },
   {
    "duration": 7,
    "start_time": "2023-06-24T15:40:39.375Z"
   },
   {
    "duration": 10,
    "start_time": "2023-06-24T15:40:39.383Z"
   },
   {
    "duration": 117,
    "start_time": "2023-06-25T11:51:06.590Z"
   },
   {
    "duration": 63,
    "start_time": "2023-06-26T17:57:57.816Z"
   },
   {
    "duration": 1590,
    "start_time": "2023-06-26T17:58:05.934Z"
   },
   {
    "duration": 146,
    "start_time": "2023-06-26T17:58:07.526Z"
   },
   {
    "duration": 16,
    "start_time": "2023-06-26T17:58:07.674Z"
   },
   {
    "duration": 31,
    "start_time": "2023-06-26T17:58:07.693Z"
   },
   {
    "duration": 17,
    "start_time": "2023-06-26T17:58:07.726Z"
   },
   {
    "duration": 9,
    "start_time": "2023-06-26T17:58:07.745Z"
   },
   {
    "duration": 21,
    "start_time": "2023-06-26T17:58:07.757Z"
   },
   {
    "duration": 52,
    "start_time": "2023-06-26T17:58:07.808Z"
   },
   {
    "duration": 5,
    "start_time": "2023-06-26T17:58:07.862Z"
   },
   {
    "duration": 44,
    "start_time": "2023-06-26T17:58:07.871Z"
   },
   {
    "duration": 205,
    "start_time": "2023-06-26T17:58:07.918Z"
   },
   {
    "duration": 160,
    "start_time": "2023-06-26T17:58:08.126Z"
   },
   {
    "duration": 194,
    "start_time": "2023-06-26T17:58:08.288Z"
   },
   {
    "duration": 25,
    "start_time": "2023-06-26T17:58:08.485Z"
   },
   {
    "duration": 39,
    "start_time": "2023-06-26T17:58:08.513Z"
   },
   {
    "duration": 62,
    "start_time": "2023-06-26T17:58:08.555Z"
   },
   {
    "duration": 62,
    "start_time": "2023-06-26T17:58:08.619Z"
   },
   {
    "duration": 39,
    "start_time": "2023-06-26T17:58:08.684Z"
   },
   {
    "duration": 2122,
    "start_time": "2023-06-26T17:58:08.726Z"
   },
   {
    "duration": 0,
    "start_time": "2023-06-26T17:58:10.851Z"
   },
   {
    "duration": 0,
    "start_time": "2023-06-26T17:58:10.853Z"
   },
   {
    "duration": 0,
    "start_time": "2023-06-26T17:58:10.854Z"
   },
   {
    "duration": 0,
    "start_time": "2023-06-26T17:58:10.856Z"
   },
   {
    "duration": 0,
    "start_time": "2023-06-26T17:58:10.858Z"
   },
   {
    "duration": 0,
    "start_time": "2023-06-26T17:58:10.860Z"
   },
   {
    "duration": 0,
    "start_time": "2023-06-26T17:58:10.862Z"
   },
   {
    "duration": 0,
    "start_time": "2023-06-26T17:58:10.864Z"
   },
   {
    "duration": 0,
    "start_time": "2023-06-26T17:58:10.866Z"
   },
   {
    "duration": 0,
    "start_time": "2023-06-26T17:58:10.867Z"
   },
   {
    "duration": 0,
    "start_time": "2023-06-26T17:58:10.869Z"
   },
   {
    "duration": 0,
    "start_time": "2023-06-26T17:58:10.871Z"
   },
   {
    "duration": 0,
    "start_time": "2023-06-26T17:58:10.872Z"
   },
   {
    "duration": 0,
    "start_time": "2023-06-26T17:58:10.873Z"
   },
   {
    "duration": 0,
    "start_time": "2023-06-26T17:58:10.875Z"
   },
   {
    "duration": 0,
    "start_time": "2023-06-26T17:58:10.877Z"
   },
   {
    "duration": 19,
    "start_time": "2023-06-26T17:58:28.728Z"
   },
   {
    "duration": 39,
    "start_time": "2023-06-26T18:02:34.056Z"
   },
   {
    "duration": 22,
    "start_time": "2023-06-26T18:03:30.997Z"
   },
   {
    "duration": 2070,
    "start_time": "2023-06-26T18:12:30.080Z"
   },
   {
    "duration": 61,
    "start_time": "2023-06-26T18:12:32.152Z"
   },
   {
    "duration": 24,
    "start_time": "2023-06-26T18:12:32.215Z"
   },
   {
    "duration": 73,
    "start_time": "2023-06-26T18:12:32.243Z"
   },
   {
    "duration": 49,
    "start_time": "2023-06-26T18:12:32.319Z"
   },
   {
    "duration": 26,
    "start_time": "2023-06-26T18:12:32.370Z"
   },
   {
    "duration": 52,
    "start_time": "2023-06-26T18:12:32.398Z"
   },
   {
    "duration": 79,
    "start_time": "2023-06-26T18:12:32.452Z"
   },
   {
    "duration": 5,
    "start_time": "2023-06-26T18:12:32.533Z"
   },
   {
    "duration": 43,
    "start_time": "2023-06-26T18:12:32.542Z"
   },
   {
    "duration": 179,
    "start_time": "2023-06-26T18:12:32.587Z"
   },
   {
    "duration": 158,
    "start_time": "2023-06-26T18:12:32.768Z"
   },
   {
    "duration": 182,
    "start_time": "2023-06-26T18:12:32.928Z"
   },
   {
    "duration": 13,
    "start_time": "2023-06-26T18:12:33.112Z"
   },
   {
    "duration": 14,
    "start_time": "2023-06-26T18:12:33.127Z"
   },
   {
    "duration": 72,
    "start_time": "2023-06-26T18:12:33.143Z"
   },
   {
    "duration": 42,
    "start_time": "2023-06-26T18:12:33.217Z"
   },
   {
    "duration": 15,
    "start_time": "2023-06-26T18:12:33.260Z"
   },
   {
    "duration": 48,
    "start_time": "2023-06-26T18:12:33.276Z"
   },
   {
    "duration": 39,
    "start_time": "2023-06-26T18:12:33.326Z"
   },
   {
    "duration": 452,
    "start_time": "2023-06-26T18:12:33.367Z"
   },
   {
    "duration": 1303,
    "start_time": "2023-06-26T18:12:33.821Z"
   },
   {
    "duration": 9,
    "start_time": "2023-06-26T18:12:35.126Z"
   },
   {
    "duration": 51,
    "start_time": "2023-06-26T18:12:35.137Z"
   },
   {
    "duration": 56,
    "start_time": "2023-06-26T18:12:35.190Z"
   },
   {
    "duration": 1551,
    "start_time": "2023-06-26T18:12:35.248Z"
   },
   {
    "duration": 1554,
    "start_time": "2023-06-26T18:12:36.801Z"
   },
   {
    "duration": 796,
    "start_time": "2023-06-26T18:12:38.360Z"
   },
   {
    "duration": 124,
    "start_time": "2023-06-26T18:12:39.158Z"
   },
   {
    "duration": 33,
    "start_time": "2023-06-26T18:12:39.284Z"
   },
   {
    "duration": 29,
    "start_time": "2023-06-26T18:12:39.319Z"
   },
   {
    "duration": 10,
    "start_time": "2023-06-26T18:12:39.350Z"
   },
   {
    "duration": 55,
    "start_time": "2023-06-26T18:12:39.362Z"
   },
   {
    "duration": 27,
    "start_time": "2023-06-26T18:12:39.419Z"
   },
   {
    "duration": 33,
    "start_time": "2023-06-26T18:12:39.448Z"
   },
   {
    "duration": 4,
    "start_time": "2023-06-26T18:18:44.765Z"
   },
   {
    "duration": 34,
    "start_time": "2023-06-26T18:19:44.939Z"
   },
   {
    "duration": 1009,
    "start_time": "2023-06-26T18:20:38.043Z"
   },
   {
    "duration": 119,
    "start_time": "2023-06-26T18:26:41.427Z"
   },
   {
    "duration": 1360,
    "start_time": "2023-06-26T18:26:50.444Z"
   },
   {
    "duration": 62,
    "start_time": "2023-06-26T18:26:51.807Z"
   },
   {
    "duration": 15,
    "start_time": "2023-06-26T18:26:51.871Z"
   },
   {
    "duration": 31,
    "start_time": "2023-06-26T18:26:51.889Z"
   },
   {
    "duration": 13,
    "start_time": "2023-06-26T18:26:51.923Z"
   },
   {
    "duration": 9,
    "start_time": "2023-06-26T18:26:51.938Z"
   },
   {
    "duration": 20,
    "start_time": "2023-06-26T18:26:51.949Z"
   },
   {
    "duration": 75,
    "start_time": "2023-06-26T18:26:51.972Z"
   },
   {
    "duration": 4,
    "start_time": "2023-06-26T18:26:52.049Z"
   },
   {
    "duration": 25,
    "start_time": "2023-06-26T18:26:52.056Z"
   },
   {
    "duration": 182,
    "start_time": "2023-06-26T18:26:52.083Z"
   },
   {
    "duration": 154,
    "start_time": "2023-06-26T18:26:52.267Z"
   },
   {
    "duration": 171,
    "start_time": "2023-06-26T18:26:52.423Z"
   },
   {
    "duration": 23,
    "start_time": "2023-06-26T18:26:52.595Z"
   },
   {
    "duration": 12,
    "start_time": "2023-06-26T18:26:52.620Z"
   },
   {
    "duration": 53,
    "start_time": "2023-06-26T18:26:52.634Z"
   },
   {
    "duration": 61,
    "start_time": "2023-06-26T18:26:52.689Z"
   },
   {
    "duration": 15,
    "start_time": "2023-06-26T18:26:52.752Z"
   },
   {
    "duration": 41,
    "start_time": "2023-06-26T18:26:52.769Z"
   },
   {
    "duration": 38,
    "start_time": "2023-06-26T18:26:52.813Z"
   },
   {
    "duration": 444,
    "start_time": "2023-06-26T18:26:52.853Z"
   },
   {
    "duration": 1352,
    "start_time": "2023-06-26T18:26:53.299Z"
   },
   {
    "duration": 4,
    "start_time": "2023-06-26T18:26:54.653Z"
   },
   {
    "duration": 51,
    "start_time": "2023-06-26T18:26:54.659Z"
   },
   {
    "duration": 138,
    "start_time": "2023-06-26T18:26:54.712Z"
   },
   {
    "duration": 0,
    "start_time": "2023-06-26T18:26:54.852Z"
   },
   {
    "duration": 0,
    "start_time": "2023-06-26T18:26:54.853Z"
   },
   {
    "duration": 0,
    "start_time": "2023-06-26T18:26:54.855Z"
   },
   {
    "duration": 0,
    "start_time": "2023-06-26T18:26:54.856Z"
   },
   {
    "duration": 0,
    "start_time": "2023-06-26T18:26:54.857Z"
   },
   {
    "duration": 0,
    "start_time": "2023-06-26T18:26:54.859Z"
   },
   {
    "duration": 0,
    "start_time": "2023-06-26T18:26:54.860Z"
   },
   {
    "duration": 0,
    "start_time": "2023-06-26T18:26:54.861Z"
   },
   {
    "duration": 0,
    "start_time": "2023-06-26T18:26:54.862Z"
   },
   {
    "duration": 3,
    "start_time": "2023-06-26T18:28:09.670Z"
   },
   {
    "duration": 36,
    "start_time": "2023-06-26T18:28:24.638Z"
   },
   {
    "duration": 52,
    "start_time": "2023-06-26T18:28:56.725Z"
   },
   {
    "duration": 1696,
    "start_time": "2023-06-26T18:29:31.470Z"
   },
   {
    "duration": 518,
    "start_time": "2023-06-26T18:44:45.608Z"
   },
   {
    "duration": 346,
    "start_time": "2023-06-26T18:45:22.136Z"
   },
   {
    "duration": 1138,
    "start_time": "2023-06-26T18:45:41.332Z"
   },
   {
    "duration": 1358,
    "start_time": "2023-06-26T18:54:25.314Z"
   },
   {
    "duration": 83,
    "start_time": "2023-06-26T18:54:26.675Z"
   },
   {
    "duration": 13,
    "start_time": "2023-06-26T18:54:26.760Z"
   },
   {
    "duration": 47,
    "start_time": "2023-06-26T18:54:26.775Z"
   },
   {
    "duration": 26,
    "start_time": "2023-06-26T18:54:26.825Z"
   },
   {
    "duration": 12,
    "start_time": "2023-06-26T18:54:26.852Z"
   },
   {
    "duration": 16,
    "start_time": "2023-06-26T18:54:26.866Z"
   },
   {
    "duration": 66,
    "start_time": "2023-06-26T18:54:26.884Z"
   },
   {
    "duration": 5,
    "start_time": "2023-06-26T18:54:26.952Z"
   },
   {
    "duration": 36,
    "start_time": "2023-06-26T18:54:26.959Z"
   },
   {
    "duration": 177,
    "start_time": "2023-06-26T18:54:26.997Z"
   },
   {
    "duration": 150,
    "start_time": "2023-06-26T18:54:27.175Z"
   },
   {
    "duration": 170,
    "start_time": "2023-06-26T18:54:27.327Z"
   },
   {
    "duration": 17,
    "start_time": "2023-06-26T18:54:27.500Z"
   },
   {
    "duration": 149,
    "start_time": "2023-06-26T18:54:27.519Z"
   },
   {
    "duration": 211,
    "start_time": "2023-06-26T18:54:27.670Z"
   },
   {
    "duration": 79,
    "start_time": "2023-06-26T18:54:27.883Z"
   },
   {
    "duration": 14,
    "start_time": "2023-06-26T18:54:27.964Z"
   },
   {
    "duration": 34,
    "start_time": "2023-06-26T18:54:27.979Z"
   },
   {
    "duration": 65,
    "start_time": "2023-06-26T18:54:28.015Z"
   },
   {
    "duration": 422,
    "start_time": "2023-06-26T18:54:28.082Z"
   },
   {
    "duration": 1290,
    "start_time": "2023-06-26T18:54:28.509Z"
   },
   {
    "duration": 7,
    "start_time": "2023-06-26T18:54:29.802Z"
   },
   {
    "duration": 40,
    "start_time": "2023-06-26T18:54:29.811Z"
   },
   {
    "duration": 1682,
    "start_time": "2023-06-26T18:54:29.853Z"
   },
   {
    "duration": 1299,
    "start_time": "2023-06-26T18:54:31.536Z"
   },
   {
    "duration": 1396,
    "start_time": "2023-06-26T18:54:32.836Z"
   },
   {
    "duration": 826,
    "start_time": "2023-06-26T18:54:34.235Z"
   },
   {
    "duration": 247,
    "start_time": "2023-06-26T18:54:35.064Z"
   },
   {
    "duration": 120,
    "start_time": "2023-06-26T18:54:35.313Z"
   },
   {
    "duration": 0,
    "start_time": "2023-06-26T18:54:35.436Z"
   },
   {
    "duration": 0,
    "start_time": "2023-06-26T18:54:35.437Z"
   },
   {
    "duration": 0,
    "start_time": "2023-06-26T18:54:35.439Z"
   },
   {
    "duration": 0,
    "start_time": "2023-06-26T18:54:35.440Z"
   },
   {
    "duration": 0,
    "start_time": "2023-06-26T18:54:35.442Z"
   },
   {
    "duration": 177,
    "start_time": "2023-06-26T19:14:49.108Z"
   },
   {
    "duration": 1762,
    "start_time": "2023-06-26T19:23:05.506Z"
   },
   {
    "duration": 92,
    "start_time": "2023-06-26T19:25:55.424Z"
   },
   {
    "duration": 1498,
    "start_time": "2023-06-26T19:26:04.097Z"
   },
   {
    "duration": 192,
    "start_time": "2023-06-26T19:39:30.745Z"
   },
   {
    "duration": 189,
    "start_time": "2023-06-26T19:44:35.132Z"
   },
   {
    "duration": 205,
    "start_time": "2023-06-26T19:47:30.135Z"
   },
   {
    "duration": 204,
    "start_time": "2023-06-26T19:49:24.007Z"
   },
   {
    "duration": 1228,
    "start_time": "2023-06-26T19:49:44.602Z"
   },
   {
    "duration": 22,
    "start_time": "2023-06-26T19:50:25.507Z"
   },
   {
    "duration": 1022,
    "start_time": "2023-06-26T20:01:08.870Z"
   },
   {
    "duration": 7147,
    "start_time": "2023-06-26T20:02:13.426Z"
   },
   {
    "duration": 5171,
    "start_time": "2023-06-26T20:03:42.971Z"
   },
   {
    "duration": 5076,
    "start_time": "2023-06-26T20:04:28.462Z"
   },
   {
    "duration": 186,
    "start_time": "2023-06-26T20:05:09.619Z"
   },
   {
    "duration": 205,
    "start_time": "2023-06-26T20:05:19.799Z"
   },
   {
    "duration": 5252,
    "start_time": "2023-06-26T20:05:26.704Z"
   },
   {
    "duration": 5068,
    "start_time": "2023-06-26T20:06:22.037Z"
   },
   {
    "duration": 4895,
    "start_time": "2023-06-26T20:06:41.923Z"
   },
   {
    "duration": 17,
    "start_time": "2023-06-26T20:27:10.095Z"
   },
   {
    "duration": 19,
    "start_time": "2023-06-26T20:28:42.974Z"
   },
   {
    "duration": 20,
    "start_time": "2023-06-26T20:29:52.319Z"
   },
   {
    "duration": 19,
    "start_time": "2023-06-26T20:30:17.700Z"
   },
   {
    "duration": 420,
    "start_time": "2023-06-26T20:30:48.938Z"
   },
   {
    "duration": 830,
    "start_time": "2023-06-26T20:31:12.736Z"
   },
   {
    "duration": 36,
    "start_time": "2023-06-26T20:40:54.836Z"
   },
   {
    "duration": 50,
    "start_time": "2023-06-26T20:50:00.357Z"
   },
   {
    "duration": 22,
    "start_time": "2023-06-26T20:57:28.062Z"
   },
   {
    "duration": 20,
    "start_time": "2023-06-26T20:57:43.907Z"
   },
   {
    "duration": 11,
    "start_time": "2023-06-26T20:58:03.792Z"
   },
   {
    "duration": 200,
    "start_time": "2023-06-26T20:58:12.488Z"
   },
   {
    "duration": 55,
    "start_time": "2023-06-26T20:58:28.351Z"
   },
   {
    "duration": 15,
    "start_time": "2023-06-26T20:58:54.141Z"
   },
   {
    "duration": 63,
    "start_time": "2023-06-26T20:58:56.468Z"
   },
   {
    "duration": 63,
    "start_time": "2023-06-26T20:58:58.867Z"
   },
   {
    "duration": 65,
    "start_time": "2023-06-26T20:59:22.435Z"
   },
   {
    "duration": 19,
    "start_time": "2023-06-26T20:59:43.231Z"
   },
   {
    "duration": 57,
    "start_time": "2023-06-26T20:59:46.428Z"
   },
   {
    "duration": 926,
    "start_time": "2023-06-26T21:00:32.204Z"
   },
   {
    "duration": 914,
    "start_time": "2023-06-26T21:00:55.327Z"
   },
   {
    "duration": 11,
    "start_time": "2023-06-26T21:02:25.250Z"
   },
   {
    "duration": 55,
    "start_time": "2023-06-30T16:07:50.295Z"
   },
   {
    "duration": 1590,
    "start_time": "2023-06-30T16:07:57.021Z"
   },
   {
    "duration": 212,
    "start_time": "2023-06-30T16:07:58.613Z"
   },
   {
    "duration": 13,
    "start_time": "2023-06-30T16:07:58.827Z"
   },
   {
    "duration": 42,
    "start_time": "2023-06-30T16:07:58.842Z"
   },
   {
    "duration": 11,
    "start_time": "2023-06-30T16:07:58.886Z"
   },
   {
    "duration": 25,
    "start_time": "2023-06-30T16:07:58.898Z"
   },
   {
    "duration": 45,
    "start_time": "2023-06-30T16:07:58.925Z"
   },
   {
    "duration": 48,
    "start_time": "2023-06-30T16:07:58.972Z"
   },
   {
    "duration": 5,
    "start_time": "2023-06-30T16:07:59.022Z"
   },
   {
    "duration": 41,
    "start_time": "2023-06-30T16:07:59.030Z"
   },
   {
    "duration": 201,
    "start_time": "2023-06-30T16:07:59.073Z"
   },
   {
    "duration": 145,
    "start_time": "2023-06-30T16:07:59.276Z"
   },
   {
    "duration": 176,
    "start_time": "2023-06-30T16:07:59.423Z"
   },
   {
    "duration": 10,
    "start_time": "2023-06-30T16:07:59.601Z"
   },
   {
    "duration": 11,
    "start_time": "2023-06-30T16:07:59.613Z"
   },
   {
    "duration": 65,
    "start_time": "2023-06-30T16:07:59.625Z"
   },
   {
    "duration": 38,
    "start_time": "2023-06-30T16:07:59.691Z"
   },
   {
    "duration": 36,
    "start_time": "2023-06-30T16:07:59.731Z"
   },
   {
    "duration": 14,
    "start_time": "2023-06-30T16:07:59.769Z"
   },
   {
    "duration": 51,
    "start_time": "2023-06-30T16:07:59.784Z"
   },
   {
    "duration": 436,
    "start_time": "2023-06-30T16:07:59.836Z"
   },
   {
    "duration": 1346,
    "start_time": "2023-06-30T16:08:00.274Z"
   },
   {
    "duration": 4,
    "start_time": "2023-06-30T16:08:01.621Z"
   },
   {
    "duration": 60,
    "start_time": "2023-06-30T16:08:01.626Z"
   },
   {
    "duration": 1812,
    "start_time": "2023-06-30T16:08:01.687Z"
   },
   {
    "duration": 775,
    "start_time": "2023-06-30T16:08:03.501Z"
   },
   {
    "duration": 131,
    "start_time": "2023-06-30T16:08:04.278Z"
   },
   {
    "duration": 17,
    "start_time": "2023-06-30T16:08:04.415Z"
   },
   {
    "duration": 66,
    "start_time": "2023-06-30T16:08:04.435Z"
   },
   {
    "duration": 66,
    "start_time": "2023-06-30T16:08:04.503Z"
   },
   {
    "duration": 51,
    "start_time": "2023-06-30T16:08:04.571Z"
   },
   {
    "duration": 145,
    "start_time": "2023-06-30T16:08:04.624Z"
   },
   {
    "duration": 0,
    "start_time": "2023-06-30T16:08:04.771Z"
   },
   {
    "duration": 0,
    "start_time": "2023-06-30T16:08:04.772Z"
   },
   {
    "duration": 0,
    "start_time": "2023-06-30T16:08:04.773Z"
   },
   {
    "duration": 0,
    "start_time": "2023-06-30T16:08:04.774Z"
   },
   {
    "duration": 0,
    "start_time": "2023-06-30T16:08:04.776Z"
   },
   {
    "duration": 0,
    "start_time": "2023-06-30T16:08:04.777Z"
   },
   {
    "duration": 0,
    "start_time": "2023-06-30T16:08:04.778Z"
   },
   {
    "duration": 0,
    "start_time": "2023-06-30T16:08:04.779Z"
   },
   {
    "duration": 0,
    "start_time": "2023-06-30T16:08:04.780Z"
   },
   {
    "duration": 1296,
    "start_time": "2023-06-30T16:11:19.816Z"
   },
   {
    "duration": 60,
    "start_time": "2023-06-30T16:11:21.114Z"
   },
   {
    "duration": 14,
    "start_time": "2023-06-30T16:11:21.176Z"
   },
   {
    "duration": 57,
    "start_time": "2023-06-30T16:11:21.194Z"
   },
   {
    "duration": 19,
    "start_time": "2023-06-30T16:11:21.253Z"
   },
   {
    "duration": 17,
    "start_time": "2023-06-30T16:11:21.274Z"
   },
   {
    "duration": 27,
    "start_time": "2023-06-30T16:11:21.293Z"
   },
   {
    "duration": 62,
    "start_time": "2023-06-30T16:11:21.322Z"
   },
   {
    "duration": 4,
    "start_time": "2023-06-30T16:11:21.386Z"
   },
   {
    "duration": 36,
    "start_time": "2023-06-30T16:11:21.393Z"
   },
   {
    "duration": 168,
    "start_time": "2023-06-30T16:11:21.431Z"
   },
   {
    "duration": 146,
    "start_time": "2023-06-30T16:11:21.601Z"
   },
   {
    "duration": 165,
    "start_time": "2023-06-30T16:11:21.749Z"
   },
   {
    "duration": 12,
    "start_time": "2023-06-30T16:11:21.916Z"
   },
   {
    "duration": 27,
    "start_time": "2023-06-30T16:11:21.930Z"
   },
   {
    "duration": 45,
    "start_time": "2023-06-30T16:11:21.959Z"
   },
   {
    "duration": 55,
    "start_time": "2023-06-30T16:11:22.006Z"
   },
   {
    "duration": 12,
    "start_time": "2023-06-30T16:11:22.063Z"
   },
   {
    "duration": 15,
    "start_time": "2023-06-30T16:11:22.078Z"
   },
   {
    "duration": 60,
    "start_time": "2023-06-30T16:11:22.095Z"
   },
   {
    "duration": 452,
    "start_time": "2023-06-30T16:11:22.156Z"
   },
   {
    "duration": 1283,
    "start_time": "2023-06-30T16:11:22.610Z"
   },
   {
    "duration": 4,
    "start_time": "2023-06-30T16:11:23.894Z"
   },
   {
    "duration": 31,
    "start_time": "2023-06-30T16:11:23.899Z"
   },
   {
    "duration": 1664,
    "start_time": "2023-06-30T16:11:23.931Z"
   },
   {
    "duration": 737,
    "start_time": "2023-06-30T16:11:25.596Z"
   },
   {
    "duration": 137,
    "start_time": "2023-06-30T16:11:26.335Z"
   },
   {
    "duration": 13,
    "start_time": "2023-06-30T16:11:26.476Z"
   },
   {
    "duration": 72,
    "start_time": "2023-06-30T16:11:26.491Z"
   },
   {
    "duration": 50,
    "start_time": "2023-06-30T16:11:26.565Z"
   },
   {
    "duration": 78,
    "start_time": "2023-06-30T16:11:26.617Z"
   },
   {
    "duration": 2,
    "start_time": "2023-06-30T16:11:26.697Z"
   },
   {
    "duration": 122,
    "start_time": "2023-06-30T16:11:26.701Z"
   },
   {
    "duration": 0,
    "start_time": "2023-06-30T16:11:26.824Z"
   },
   {
    "duration": 0,
    "start_time": "2023-06-30T16:11:26.826Z"
   },
   {
    "duration": 0,
    "start_time": "2023-06-30T16:11:26.827Z"
   },
   {
    "duration": 0,
    "start_time": "2023-06-30T16:11:26.828Z"
   },
   {
    "duration": 0,
    "start_time": "2023-06-30T16:11:26.829Z"
   },
   {
    "duration": 0,
    "start_time": "2023-06-30T16:11:26.831Z"
   },
   {
    "duration": 0,
    "start_time": "2023-06-30T16:11:26.831Z"
   },
   {
    "duration": 0,
    "start_time": "2023-06-30T16:11:26.832Z"
   },
   {
    "duration": 1,
    "start_time": "2023-06-30T16:11:26.833Z"
   },
   {
    "duration": 790,
    "start_time": "2023-06-30T16:22:55.215Z"
   },
   {
    "duration": 16,
    "start_time": "2023-06-30T16:25:36.319Z"
   },
   {
    "duration": 197685,
    "start_time": "2023-06-30T16:25:52.021Z"
   },
   {
    "duration": 1530,
    "start_time": "2023-06-30T16:32:18.491Z"
   },
   {
    "duration": 1412,
    "start_time": "2023-06-30T16:36:31.268Z"
   },
   {
    "duration": 92,
    "start_time": "2023-06-30T16:36:32.684Z"
   },
   {
    "duration": 15,
    "start_time": "2023-06-30T16:36:32.778Z"
   },
   {
    "duration": 26,
    "start_time": "2023-06-30T16:36:32.795Z"
   },
   {
    "duration": 33,
    "start_time": "2023-06-30T16:36:32.823Z"
   },
   {
    "duration": 10,
    "start_time": "2023-06-30T16:36:32.858Z"
   },
   {
    "duration": 17,
    "start_time": "2023-06-30T16:36:32.870Z"
   },
   {
    "duration": 78,
    "start_time": "2023-06-30T16:36:32.890Z"
   },
   {
    "duration": 4,
    "start_time": "2023-06-30T16:36:32.970Z"
   },
   {
    "duration": 16,
    "start_time": "2023-06-30T16:36:32.977Z"
   },
   {
    "duration": 206,
    "start_time": "2023-06-30T16:36:32.995Z"
   },
   {
    "duration": 151,
    "start_time": "2023-06-30T16:36:33.203Z"
   },
   {
    "duration": 173,
    "start_time": "2023-06-30T16:36:33.355Z"
   },
   {
    "duration": 13,
    "start_time": "2023-06-30T16:36:33.530Z"
   },
   {
    "duration": 11,
    "start_time": "2023-06-30T16:36:33.555Z"
   },
   {
    "duration": 47,
    "start_time": "2023-06-30T16:36:33.568Z"
   },
   {
    "duration": 82,
    "start_time": "2023-06-30T16:36:33.617Z"
   },
   {
    "duration": 16,
    "start_time": "2023-06-30T16:36:33.702Z"
   },
   {
    "duration": 36,
    "start_time": "2023-06-30T16:36:33.720Z"
   },
   {
    "duration": 56,
    "start_time": "2023-06-30T16:36:33.758Z"
   },
   {
    "duration": 420,
    "start_time": "2023-06-30T16:36:33.816Z"
   },
   {
    "duration": 1287,
    "start_time": "2023-06-30T16:36:34.238Z"
   },
   {
    "duration": 4,
    "start_time": "2023-06-30T16:36:35.527Z"
   },
   {
    "duration": 48,
    "start_time": "2023-06-30T16:36:35.532Z"
   },
   {
    "duration": 1789,
    "start_time": "2023-06-30T16:36:35.582Z"
   },
   {
    "duration": 841,
    "start_time": "2023-06-30T16:36:37.373Z"
   },
   {
    "duration": 127,
    "start_time": "2023-06-30T16:36:38.217Z"
   },
   {
    "duration": 12,
    "start_time": "2023-06-30T16:36:38.348Z"
   },
   {
    "duration": 56,
    "start_time": "2023-06-30T16:36:38.362Z"
   },
   {
    "duration": 138,
    "start_time": "2023-06-30T16:36:38.420Z"
   },
   {
    "duration": 0,
    "start_time": "2023-06-30T16:36:38.560Z"
   },
   {
    "duration": 0,
    "start_time": "2023-06-30T16:36:38.562Z"
   },
   {
    "duration": 0,
    "start_time": "2023-06-30T16:36:38.563Z"
   },
   {
    "duration": 0,
    "start_time": "2023-06-30T16:36:38.565Z"
   },
   {
    "duration": 0,
    "start_time": "2023-06-30T16:36:38.567Z"
   },
   {
    "duration": 0,
    "start_time": "2023-06-30T16:36:38.568Z"
   },
   {
    "duration": 0,
    "start_time": "2023-06-30T16:36:38.570Z"
   },
   {
    "duration": 0,
    "start_time": "2023-06-30T16:36:38.571Z"
   },
   {
    "duration": 16,
    "start_time": "2023-06-30T16:38:31.204Z"
   },
   {
    "duration": 7,
    "start_time": "2023-06-30T16:38:53.203Z"
   },
   {
    "duration": 39,
    "start_time": "2023-06-30T16:38:55.129Z"
   },
   {
    "duration": 171,
    "start_time": "2023-06-30T16:39:57.826Z"
   },
   {
    "duration": 665,
    "start_time": "2023-06-30T16:40:08.232Z"
   },
   {
    "duration": 13,
    "start_time": "2023-06-30T16:45:13.171Z"
   },
   {
    "duration": 701,
    "start_time": "2023-06-30T16:47:21.143Z"
   },
   {
    "duration": 16,
    "start_time": "2023-06-30T16:49:49.142Z"
   },
   {
    "duration": 14,
    "start_time": "2023-06-30T16:49:58.633Z"
   },
   {
    "duration": 15,
    "start_time": "2023-06-30T16:50:08.987Z"
   },
   {
    "duration": 1107,
    "start_time": "2023-06-30T16:50:25.042Z"
   },
   {
    "duration": 18,
    "start_time": "2023-06-30T16:50:33.472Z"
   },
   {
    "duration": 1009,
    "start_time": "2023-06-30T16:52:47.129Z"
   },
   {
    "duration": 741,
    "start_time": "2023-06-30T16:55:36.852Z"
   },
   {
    "duration": 678,
    "start_time": "2023-06-30T17:01:47.203Z"
   },
   {
    "duration": 10,
    "start_time": "2023-06-30T17:02:17.017Z"
   },
   {
    "duration": 749,
    "start_time": "2023-06-30T17:02:34.748Z"
   },
   {
    "duration": 653,
    "start_time": "2023-06-30T17:03:10.194Z"
   },
   {
    "duration": 817,
    "start_time": "2023-06-30T17:08:18.348Z"
   },
   {
    "duration": 15,
    "start_time": "2023-06-30T17:28:04.003Z"
   },
   {
    "duration": 10,
    "start_time": "2023-06-30T17:28:16.211Z"
   },
   {
    "duration": 11,
    "start_time": "2023-06-30T17:28:22.311Z"
   },
   {
    "duration": 21,
    "start_time": "2023-06-30T17:29:03.936Z"
   },
   {
    "duration": 11,
    "start_time": "2023-06-30T17:29:55.173Z"
   },
   {
    "duration": 6,
    "start_time": "2023-06-30T17:29:57.218Z"
   },
   {
    "duration": 850,
    "start_time": "2023-06-30T18:06:17.446Z"
   },
   {
    "duration": 1350,
    "start_time": "2023-06-30T18:06:39.021Z"
   },
   {
    "duration": 60,
    "start_time": "2023-06-30T18:06:40.373Z"
   },
   {
    "duration": 14,
    "start_time": "2023-06-30T18:06:40.435Z"
   },
   {
    "duration": 33,
    "start_time": "2023-06-30T18:06:40.450Z"
   },
   {
    "duration": 11,
    "start_time": "2023-06-30T18:06:40.485Z"
   },
   {
    "duration": 7,
    "start_time": "2023-06-30T18:06:40.498Z"
   },
   {
    "duration": 14,
    "start_time": "2023-06-30T18:06:40.507Z"
   },
   {
    "duration": 52,
    "start_time": "2023-06-30T18:06:40.555Z"
   },
   {
    "duration": 4,
    "start_time": "2023-06-30T18:06:40.609Z"
   },
   {
    "duration": 13,
    "start_time": "2023-06-30T18:06:40.616Z"
   },
   {
    "duration": 189,
    "start_time": "2023-06-30T18:06:40.654Z"
   },
   {
    "duration": 166,
    "start_time": "2023-06-30T18:06:40.844Z"
   },
   {
    "duration": 179,
    "start_time": "2023-06-30T18:06:41.012Z"
   },
   {
    "duration": 11,
    "start_time": "2023-06-30T18:06:41.192Z"
   },
   {
    "duration": 9,
    "start_time": "2023-06-30T18:06:41.205Z"
   },
   {
    "duration": 73,
    "start_time": "2023-06-30T18:06:41.216Z"
   },
   {
    "duration": 39,
    "start_time": "2023-06-30T18:06:41.290Z"
   },
   {
    "duration": 25,
    "start_time": "2023-06-30T18:06:41.331Z"
   },
   {
    "duration": 18,
    "start_time": "2023-06-30T18:06:41.359Z"
   },
   {
    "duration": 31,
    "start_time": "2023-06-30T18:06:41.379Z"
   },
   {
    "duration": 461,
    "start_time": "2023-06-30T18:06:41.412Z"
   },
   {
    "duration": 1322,
    "start_time": "2023-06-30T18:06:41.875Z"
   },
   {
    "duration": 3,
    "start_time": "2023-06-30T18:06:43.199Z"
   },
   {
    "duration": 41,
    "start_time": "2023-06-30T18:06:43.204Z"
   },
   {
    "duration": 1742,
    "start_time": "2023-06-30T18:06:43.253Z"
   },
   {
    "duration": 866,
    "start_time": "2023-06-30T18:06:44.997Z"
   },
   {
    "duration": 127,
    "start_time": "2023-06-30T18:06:45.866Z"
   },
   {
    "duration": 7,
    "start_time": "2023-06-30T18:06:45.996Z"
   },
   {
    "duration": 40,
    "start_time": "2023-06-30T18:06:46.004Z"
   },
   {
    "duration": 906,
    "start_time": "2023-06-30T18:06:46.045Z"
   },
   {
    "duration": 22,
    "start_time": "2023-06-30T18:06:46.954Z"
   },
   {
    "duration": 823,
    "start_time": "2023-06-30T18:06:46.978Z"
   },
   {
    "duration": 8,
    "start_time": "2023-06-30T18:06:47.803Z"
   },
   {
    "duration": 6,
    "start_time": "2023-06-30T18:06:47.813Z"
   },
   {
    "duration": 36,
    "start_time": "2023-06-30T18:06:47.820Z"
   },
   {
    "duration": 12,
    "start_time": "2023-06-30T18:06:47.858Z"
   },
   {
    "duration": 1188,
    "start_time": "2023-06-30T18:13:19.135Z"
   },
   {
    "duration": 7,
    "start_time": "2023-06-30T18:13:28.790Z"
   },
   {
    "duration": 7,
    "start_time": "2023-06-30T18:13:48.547Z"
   },
   {
    "duration": 6,
    "start_time": "2023-06-30T18:14:28.749Z"
   },
   {
    "duration": 79,
    "start_time": "2023-06-30T18:15:28.572Z"
   },
   {
    "duration": 76,
    "start_time": "2023-06-30T18:15:53.928Z"
   }
  ],
  "kernelspec": {
   "display_name": "Python 3 (ipykernel)",
   "language": "python",
   "name": "python3"
  },
  "language_info": {
   "codemirror_mode": {
    "name": "ipython",
    "version": 3
   },
   "file_extension": ".py",
   "mimetype": "text/x-python",
   "name": "python",
   "nbconvert_exporter": "python",
   "pygments_lexer": "ipython3",
   "version": "3.9.13"
  },
  "toc": {
   "base_numbering": 1,
   "nav_menu": {},
   "number_sections": true,
   "sideBar": true,
   "skip_h1_title": true,
   "title_cell": "Table of Contents",
   "title_sidebar": "Contents",
   "toc_cell": false,
   "toc_position": {},
   "toc_section_display": true,
   "toc_window_display": true
  }
 },
 "nbformat": 4,
 "nbformat_minor": 2
}
